{
 "cells": [
  {
   "cell_type": "code",
   "execution_count": 0,
   "metadata": {
    "application/vnd.databricks.v1+cell": {
     "cellMetadata": {
      "byteLimit": 2048000,
      "rowLimit": 10000
     },
     "inputWidgets": {},
     "nuid": "de7bfca6-4c97-45f5-a100-7d76f7b774b0",
     "showTitle": false,
     "tableResultSettingsMap": {},
     "title": ""
    }
   },
   "outputs": [],
   "source": [
    "# 01_bronze_patients_autoloader.ipynb\n",
    "# Ingest CSV patient files into a Bronze Delta table with CDF enabled.\n",
    "\n",
    "from pyspark.sql import SparkSession\n",
    "from pyspark.sql.types import StructType, StructField, StringType, DateType\n",
    "\n",
    "# Paths and table names\n",
    "DB               = \"kardia_bronze\"\n",
    "TABLE            = f\"{DB}.bronze_patients\"\n",
    "RAW_PATH         = \"dbfs:/kardia/raw/patients/\"\n",
    "TABLE_PATH       = \"dbfs:/kardia/bronze/bronze_patients\"\n",
    "SCHEMA_LOC       = \"dbfs:/kardia/_schemas/patients\"\n",
    "CHKPT_LOC        = \"dbfs:/kardia/_checkpoints/bronze_patients\"\n",
    "BAD_PATH         = \"dbfs:/kardia/_quarantine/raw/bad_patients\"\n",
    "\n",
    "# Minimize shuffle overhead for small test datasets\n",
    "spark.conf.set(\"spark.sql.shuffle.partitions\", \"1\")"
   ]
  },
  {
   "cell_type": "code",
   "execution_count": 0,
   "metadata": {
    "application/vnd.databricks.v1+cell": {
     "cellMetadata": {
      "byteLimit": 2048000,
      "rowLimit": 10000
     },
     "inputWidgets": {},
     "nuid": "0d1951cc-5983-44d1-b18d-7e0fd7a43e55",
     "showTitle": false,
     "tableResultSettingsMap": {},
     "title": ""
    }
   },
   "outputs": [],
   "source": [
    "# Define a strict schema to avoid schema inference costs\n",
    "patients_schema = StructType([\n",
    "    StructField(\"ID\",         StringType(), True),\n",
    "    StructField(\"BIRTHDATE\",  DateType(),   True),\n",
    "    StructField(\"DEATHDATE\",  DateType(),   True),\n",
    "    StructField(\"SSN\",        StringType(), True),\n",
    "    StructField(\"DRIVERS\",    StringType(), True),\n",
    "    StructField(\"PASSPORT\",   StringType(), True),\n",
    "    StructField(\"PREFIX\",     StringType(), True),\n",
    "    StructField(\"FIRST\",      StringType(), True),\n",
    "    StructField(\"LAST\",       StringType(), True),\n",
    "    StructField(\"MARITAL\",    StringType(), True),\n",
    "    StructField(\"RACE\",       StringType(), True),\n",
    "    StructField(\"ETHNICITY\",  StringType(), True),\n",
    "    StructField(\"GENDER\",     StringType(), True),\n",
    "    StructField(\"BIRTHPLACE\", StringType(), True),\n",
    "    StructField(\"ADDRESS\",    StringType(), True)\n",
    "])"
   ]
  },
  {
   "cell_type": "code",
   "execution_count": 0,
   "metadata": {
    "application/vnd.databricks.v1+cell": {
     "cellMetadata": {
      "byteLimit": 2048000,
      "rowLimit": 10000
     },
     "inputWidgets": {},
     "nuid": "188ad7b1-3de8-4a3c-b532-af3f40759c25",
     "showTitle": false,
     "tableResultSettingsMap": {},
     "title": ""
    }
   },
   "outputs": [],
   "source": [
    "# 1. Ensure the Bronze DB and table exist\n",
    "spark.sql(f\"CREATE DATABASE IF NOT EXISTS {DB}\")\n",
    "\n",
    "spark.sql(f\"\"\"\n",
    "CREATE TABLE IF NOT EXISTS {TABLE}\n",
    "USING DELTA\n",
    "TBLPROPERTIES (delta.enableChangeDataFeed = true)\n",
    "LOCATION '{TABLE_PATH}'\n",
    "\"\"\")"
   ]
  },
  {
   "cell_type": "code",
   "execution_count": 0,
   "metadata": {
    "application/vnd.databricks.v1+cell": {
     "cellMetadata": {
      "byteLimit": 2048000,
      "rowLimit": 10000
     },
     "inputWidgets": {},
     "nuid": "b305fab3-7381-4dcb-87c5-00361ee3d88e",
     "showTitle": false,
     "tableResultSettingsMap": {},
     "title": ""
    }
   },
   "outputs": [],
   "source": [
    "# 2. Auto-loader stream\n",
    "stream = (\n",
    "    spark.readStream\n",
    "         .format(\"cloudFiles\")\n",
    "         .option(\"cloudFiles.format\", \"csv\")\n",
    "         .option(\"header\", True)\n",
    "         .option(\"cloudFiles.includeExistingFiles\", \"true\")\n",
    "         .option(\"cloudFiles.schemaLocation\", SCHEMA_LOC)\n",
    "         .option(\"badRecordsPath\", BAD_PATH)\n",
    "         .option(\"rescuedDataColumn\", \"_rest\")\n",
    "         .schema(patients_schema)\n",
    "         .load(RAW_PATH)\n",
    "         .writeStream\n",
    "         .format(\"delta\")\n",
    "         .option(\"checkpointLocation\", CHKPT_LOC)\n",
    "         .option(\"mergeSchema\", \"true\")\n",
    "         .outputMode(\"append\")\n",
    "         .trigger(availableNow=True)\n",
    "         .start(TABLE_PATH)\n",
    ")\n",
    "\n",
    "stream.awaitTermination()\n",
    "print(f\"Bronze ingest complete: {RAW_PATH} → {TABLE_PATH}\")"
   ]
  },
  {
   "cell_type": "code",
   "execution_count": 0,
   "metadata": {
    "application/vnd.databricks.v1+cell": {
     "cellMetadata": {
      "byteLimit": 2048000,
      "rowLimit": 10000
     },
     "inputWidgets": {},
     "nuid": "e8bd85cc-349b-47a5-97a6-b9823b04cdf5",
     "showTitle": false,
     "tableResultSettingsMap": {},
     "title": ""
    }
   },
   "outputs": [],
   "source": [
    "# 3. Verify Bronze table contents and ingestion history\n",
    "df = spark.read.format(\"delta\").load(TABLE_PATH)\n",
    "print(f\"Row count: {df.count()}\")\n",
    "display(df.limit(5))\n",
    "\n",
    "# Show Delta Lake history to verify CDF and ingest details\n",
    "print(\"Recent Delta history:\")\n",
    "history = spark.sql(f\"\"\"\n",
    "    DESCRIBE HISTORY delta.`{TABLE_PATH}`\n",
    "\"\"\").select(\"version\", \"timestamp\", \"operation\", \"operationParameters\")\n",
    "display(history.limit(5))"
   ]
  }
 ],
 "metadata": {
  "application/vnd.databricks.v1+notebook": {
   "computePreferences": null,
   "dashboards": [],
   "environmentMetadata": {
    "base_environment": "",
    "environment_version": "2"
   },
   "inputWidgetPreferences": null,
   "language": "python",
   "notebookMetadata": {
    "mostRecentlyExecutedCommandWithImplicitDF": {
     "commandId": 5838238807148329,
     "dataframes": [
      "_sqldf"
     ]
    },
    "pythonIndentUnit": 4
   },
   "notebookName": "01_bronze_patients_autoloader",
   "widgets": {}
  },
  "language_info": {
   "name": "python"
  }
 },
 "nbformat": 4,
 "nbformat_minor": 0
}

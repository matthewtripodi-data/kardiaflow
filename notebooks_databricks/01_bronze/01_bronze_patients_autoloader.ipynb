{
 "cells": [
  {
   "cell_type": "code",
   "execution_count": 0,
   "metadata": {
    "application/vnd.databricks.v1+cell": {
     "cellMetadata": {
      "byteLimit": 2048000,
      "rowLimit": 10000
     },
     "inputWidgets": {},
     "nuid": "de7bfca6-4c97-45f5-a100-7d76f7b774b0",
     "showTitle": false,
     "tableResultSettingsMap": {},
     "title": ""
    }
   },
   "outputs": [],
   "source": [
    "# 01_bronze_patients_autoloader.ipynb\n",
    "# Streams CSV files from /raw/patients/ into a Bronze Delta table with CDF enabled.\n",
    "\n",
    "from pyspark.sql import SparkSession, functions as F\n",
    "from pyspark.sql.types import *\n",
    "\n",
    "# Path config\n",
    "RAW_PATH    = \"dbfs:/kardia/raw/patients/\"\n",
    "BRONZE_PATH = \"dbfs:/kardia/bronze/bronze_patients\"\n",
    "CHKPT_LOC   = \"dbfs:/kardia/_checkpoints/bronze_patients\"\n",
    "SCHEMA_LOC  = \"dbfs:/kardia/_schemas/patients\"\n",
    "BAD_PATH     = \"dbfs:/kardia/_quarantine/raw/bad_patients\""
   ]
  },
  {
   "cell_type": "code",
   "execution_count": 0,
   "metadata": {
    "application/vnd.databricks.v1+cell": {
     "cellMetadata": {
      "byteLimit": 2048000,
      "rowLimit": 10000
     },
     "inputWidgets": {},
     "nuid": "0d1951cc-5983-44d1-b18d-7e0fd7a43e55",
     "showTitle": false,
     "tableResultSettingsMap": {},
     "title": ""
    }
   },
   "outputs": [],
   "source": [
    "# Explicit schema\n",
    "patients_schema = StructType([\n",
    "    StructField(\"ID\",          StringType(), True),\n",
    "    StructField(\"BIRTHDATE\",   DateType(),   True),\n",
    "    StructField(\"DEATHDATE\",   DateType(),   True),\n",
    "    StructField(\"SSN\",         StringType(), True),\n",
    "    StructField(\"DRIVERS\",     StringType(), True),\n",
    "    StructField(\"PASSPORT\",    StringType(), True),\n",
    "    StructField(\"PREFIX\",      StringType(), True),\n",
    "    StructField(\"FIRST\",       StringType(), True),\n",
    "    StructField(\"LAST\",        StringType(), True),\n",
    "    StructField(\"MARITAL\",     StringType(), True),\n",
    "    StructField(\"RACE\",        StringType(), True),\n",
    "    StructField(\"ETHNICITY\",   StringType(), True),\n",
    "    StructField(\"GENDER\",      StringType(), True),\n",
    "    StructField(\"BIRTHPLACE\",  StringType(), True),\n",
    "    StructField(\"ADDRESS\",     StringType(), True)\n",
    "])"
   ]
  },
  {
   "cell_type": "code",
   "execution_count": 0,
   "metadata": {
    "application/vnd.databricks.v1+cell": {
     "cellMetadata": {
      "byteLimit": 2048000,
      "rowLimit": 10000
     },
     "inputWidgets": {},
     "nuid": "6e26635f-32f5-4af8-a62a-c35ed02643d4",
     "showTitle": false,
     "tableResultSettingsMap": {},
     "title": ""
    }
   },
   "outputs": [],
   "source": [
    "# Initialize a Spark session with minimal shuffle partitions\n",
    "spark = (\n",
    "    SparkSession.builder\n",
    "        .appName(\"bronze_patients_autoloader\")\n",
    "        .config(\"spark.sql.shuffle.partitions\", \"1\")                 # dev-friendly\n",
    "        .config(\"spark.sql.extensions\", \"io.delta.sql.DeltaSparkSessionExtension\")\n",
    "        .config(\"spark.sql.catalog.spark_catalog\", \"org.apache.spark.sql.delta.catalog.DeltaCatalog\")\n",
    "        .getOrCreate()\n",
    ")\n",
    "spark.sparkContext.setLogLevel(\"ERROR\")"
   ]
  },
  {
   "cell_type": "code",
   "execution_count": 0,
   "metadata": {
    "application/vnd.databricks.v1+cell": {
     "cellMetadata": {
      "byteLimit": 2048000,
      "rowLimit": 10000
     },
     "inputWidgets": {},
     "nuid": "b305fab3-7381-4dcb-87c5-00361ee3d88e",
     "showTitle": false,
     "tableResultSettingsMap": {},
     "title": ""
    }
   },
   "outputs": [],
   "source": [
    "# 0. Ensure the bronze DB exists\n",
    "spark.sql(\"CREATE DATABASE IF NOT EXISTS kardia_bronze\")\n",
    "\n",
    "# 1. Create Bronze table with CDF ON\n",
    "spark.sql(f\"\"\"\n",
    "CREATE TABLE IF NOT EXISTS kardia_bronze.bronze_patients\n",
    "USING DELTA\n",
    "TBLPROPERTIES (delta.enableChangeDataFeed = true)\n",
    "LOCATION '{BRONZE_PATH}'\n",
    "\"\"\")\n",
    "\n",
    "(stream := spark.readStream\n",
    "    .format(\"cloudFiles\")\n",
    "    .option(\"cloudFiles.format\",  \"csv\")\n",
    "    .option(\"cloudFiles.includeExistingFiles\", \"true\")\n",
    "    .option(\"header\",            True)\n",
    "    .option(\"cloudFiles.schemaLocation\", SCHEMA_LOC)\n",
    "    .option(\"badRecordsPath\",    BAD_PATH)\n",
    "    .option(\"rescuedDataColumn\", \"_rest\")\n",
    "    .schema(patients_schema)\n",
    "    .load(RAW_PATH)\n",
    "    .writeStream\n",
    "    .format(\"delta\")\n",
    "    .option(\"checkpointLocation\", CHKPT_LOC)\n",
    "    .option(\"mergeSchema\", \"true\")\n",
    "    .outputMode(\"append\")\n",
    "    .trigger(availableNow=True)\n",
    "    .start(BRONZE_PATH))\n",
    "stream.awaitTermination()\n",
    "\n",
    "print(\"Bronze ingest complete\")"
   ]
  },
  {
   "cell_type": "code",
   "execution_count": 0,
   "metadata": {
    "application/vnd.databricks.v1+cell": {
     "cellMetadata": {
      "byteLimit": 2048000,
      "rowLimit": 10000
     },
     "inputWidgets": {},
     "nuid": "e8bd85cc-349b-47a5-97a6-b9823b04cdf5",
     "showTitle": false,
     "tableResultSettingsMap": {},
     "title": ""
    }
   },
   "outputs": [],
   "source": [
    "\n",
    "print(f\"Verifying Bronze Delta Table at: {BRONZE_PATH}\\n\")\n",
    "\n",
    "bronze_df = spark.read.format(\"delta\").load(BRONZE_PATH)\n",
    "print(f\"Bronze row count: {bronze_df.count()}\")\n",
    "display(bronze_df.limit(5))\n",
    "\n",
    "print(\"\\nSchema:\")\n",
    "bronze_df.printSchema()\n",
    "\n",
    "print(\"\\nRecent Delta history:\")\n",
    "display(\n",
    "    spark.sql(f\"\"\"\n",
    "        DESCRIBE HISTORY delta.`{BRONZE_PATH}`\n",
    "    \"\"\").select(\"version\",\"timestamp\",\"operation\",\"operationParameters\").limit(5)\n",
    ")"
   ]
  },
  {
   "cell_type": "code",
   "execution_count": 0,
   "metadata": {
    "application/vnd.databricks.v1+cell": {
     "cellMetadata": {
      "byteLimit": 2048000,
      "rowLimit": 10000
     },
     "inputWidgets": {},
     "nuid": "c694cb2c-bd6d-42d2-82bc-eec028a8b933",
     "showTitle": false,
     "tableResultSettingsMap": {},
     "title": ""
    }
   },
   "outputs": [],
   "source": [
    "# Register database (safe, idempotent)\n",
    "spark.sql(\"CREATE DATABASE IF NOT EXISTS kardia_bronze\")\n",
    "\n",
    "# Register the physical Delta table path as a table in metastore\n",
    "spark.sql(f\"\"\"\n",
    "CREATE TABLE IF NOT EXISTS kardia_bronze.bronze_patients\n",
    "USING DELTA\n",
    "LOCATION '{BRONZE_PATH}'\n",
    "\"\"\")\n",
    "\n",
    "# Exit cleanly if running in a job\n",
    "dbutils.notebook.exit(\"bronze_patients_ingest_success\")\n"
   ]
  },
  {
   "cell_type": "code",
   "execution_count": 0,
   "metadata": {
    "application/vnd.databricks.v1+cell": {
     "cellMetadata": {
      "byteLimit": 2048000,
      "rowLimit": 10000
     },
     "inputWidgets": {},
     "nuid": "f94b2c2a-b1e7-451f-b919-469206d6aa2f",
     "showTitle": false,
     "tableResultSettingsMap": {},
     "title": ""
    }
   },
   "outputs": [],
   "source": [
    "### Bronze ingest complete  \n",
    "### Proceed to `make_cdf_view` to build Change Data Feed temp view."
   ]
  },
  {
   "cell_type": "code",
   "execution_count": 0,
   "metadata": {
    "application/vnd.databricks.v1+cell": {
     "cellMetadata": {
      "byteLimit": 2048000,
      "implicitDf": true,
      "rowLimit": 10000
     },
     "inputWidgets": {},
     "nuid": "d8823674-4aa7-4fbe-804f-6653f1cb1d6d",
     "showTitle": false,
     "tableResultSettingsMap": {},
     "title": ""
    }
   },
   "outputs": [],
   "source": [
    "%sql\n",
    "SELECT * FROM kardia_bronze.bronze_patients"
   ]
  }
 ],
 "metadata": {
  "application/vnd.databricks.v1+notebook": {
   "computePreferences": null,
   "dashboards": [],
   "environmentMetadata": {
    "base_environment": "",
    "environment_version": "2"
   },
   "inputWidgetPreferences": null,
   "language": "python",
   "notebookMetadata": {
    "mostRecentlyExecutedCommandWithImplicitDF": {
     "commandId": 5838238807148329,
     "dataframes": [
      "_sqldf"
     ]
    },
    "pythonIndentUnit": 4
   },
   "notebookName": "01_bronze_patients_autoloader",
   "widgets": {}
  },
  "language_info": {
   "name": "python"
  }
 },
 "nbformat": 4,
 "nbformat_minor": 0
}

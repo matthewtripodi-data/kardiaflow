{
 "cells": [
  {
   "cell_type": "code",
   "execution_count": 0,
   "metadata": {
    "application/vnd.databricks.v1+cell": {
     "cellMetadata": {
      "byteLimit": 2048000,
      "rowLimit": 10000
     },
     "inputWidgets": {},
     "nuid": "626445ad-138f-470e-92cf-b9bae6712751",
     "showTitle": false,
     "tableResultSettingsMap": {},
     "title": ""
    }
   },
   "outputs": [],
   "source": [
    "# 01_bronze_stream_encounters_autoloader.ipynb\n",
    "# -------------------------------------------------------\n",
    "# Streams CSV files from /raw/encounters/ into a Bronze Delta table with CDF enabled.\n",
    "\n",
    "from pyspark.sql import SparkSession\n",
    "from pyspark.sql.types import *\n",
    "\n",
    "# Path config\n",
    "RAW_PATH     = \"dbfs:/kardia/raw/encounters/\"\n",
    "BRONZE_PATH  = \"dbfs:/kardia/bronze/bronze_encounters\"\n",
    "CHKPT_LOC    = \"dbfs:/kardia/_checkpoints/bronze_encounters\"\n",
    "SCHEMA_LOC   = \"dbfs:/kardia/_schemas/encounters\""
   ]
  },
  {
   "cell_type": "code",
   "execution_count": 0,
   "metadata": {
    "application/vnd.databricks.v1+cell": {
     "cellMetadata": {
      "byteLimit": 2048000,
      "rowLimit": 10000
     },
     "inputWidgets": {},
     "nuid": "2edc6102-2540-4c88-bafb-007206e65ad8",
     "showTitle": false,
     "tableResultSettingsMap": {},
     "title": ""
    }
   },
   "outputs": [],
   "source": [
    "# Explicit schema\n",
    "encounters_schema = StructType([\n",
    "    StructField(\"ID\",                 StringType(),   True),\n",
    "    StructField(\"DATE\",               TimestampType(),True),\n",
    "    StructField(\"PATIENT\",            StringType(),   True),\n",
    "    StructField(\"CODE\",               StringType(),   True),\n",
    "    StructField(\"DESCRIPTION\",        StringType(),   True),\n",
    "    StructField(\"REASONCODE\",         StringType(),   True),\n",
    "    StructField(\"REASONDESCRIPTION\",  StringType(),   True)\n",
    "])"
   ]
  },
  {
   "cell_type": "code",
   "execution_count": 0,
   "metadata": {
    "application/vnd.databricks.v1+cell": {
     "cellMetadata": {
      "byteLimit": 2048000,
      "rowLimit": 10000
     },
     "inputWidgets": {},
     "nuid": "ca407677-646a-4be8-8914-ee62e795ab48",
     "showTitle": false,
     "tableResultSettingsMap": {},
     "title": ""
    }
   },
   "outputs": [],
   "source": [
    "# Spark session\n",
    "spark = (SparkSession.builder\n",
    "         .appName(\"bronze_encounters_autoloader\")\n",
    "         .config(\"spark.sql.shuffle.partitions\", \"1\")   # cost-safe dev\n",
    "         .getOrCreate())"
   ]
  },
  {
   "cell_type": "code",
   "execution_count": 0,
   "metadata": {
    "application/vnd.databricks.v1+cell": {
     "cellMetadata": {
      "byteLimit": 2048000,
      "rowLimit": 10000
     },
     "inputWidgets": {},
     "nuid": "d3770b79-8405-4dd9-be44-a9b4c8d2b4a6",
     "showTitle": false,
     "tableResultSettingsMap": {},
     "title": ""
    }
   },
   "outputs": [],
   "source": [
    "# 1. Create table with CDF ON before starting the stream\n",
    "spark.sql(f\"\"\"\n",
    "CREATE TABLE IF NOT EXISTS kardia_bronze.bronze_encounters\n",
    "USING DELTA\n",
    "TBLPROPERTIES (delta.enableChangeDataFeed = true)\n",
    "LOCATION '{BRONZE_PATH}'\n",
    "\"\"\")"
   ]
  },
  {
   "cell_type": "code",
   "execution_count": 0,
   "metadata": {
    "application/vnd.databricks.v1+cell": {
     "cellMetadata": {
      "byteLimit": 2048000,
      "rowLimit": 10000
     },
     "inputWidgets": {},
     "nuid": "747e0497-cf49-4e6a-8667-9d960e97a0ce",
     "showTitle": false,
     "tableResultSettingsMap": {},
     "title": ""
    }
   },
   "outputs": [],
   "source": [
    "# 2. Start Auto Loader stream ──\n",
    "(enc_stream := spark.readStream.format(\"cloudFiles\")\n",
    "     .option(\"cloudFiles.format\",  \"csv\")\n",
    "     .option(\"header\",             True)\n",
    "     .option(\"cloudFiles.schemaLocation\", SCHEMA_LOC)\n",
    "     .schema(encounters_schema)\n",
    "     .load(RAW_PATH)\n",
    "     .writeStream\n",
    "     .format(\"delta\")\n",
    "     .option(\"checkpointLocation\", CHKPT_LOC)\n",
    "     .option(\"mergeSchema\", \"true\")\n",
    "     .outputMode(\"append\")\n",
    "     .trigger(availableNow=True)\n",
    "     .start(BRONZE_PATH))\n",
    "enc_stream.awaitTermination()"
   ]
  },
  {
   "cell_type": "code",
   "execution_count": 0,
   "metadata": {
    "application/vnd.databricks.v1+cell": {
     "cellMetadata": {
      "byteLimit": 2048000,
      "rowLimit": 10000
     },
     "inputWidgets": {},
     "nuid": "bc5375c2-9103-41b9-8c70-bce279c9b151",
     "showTitle": false,
     "tableResultSettingsMap": {},
     "title": ""
    }
   },
   "outputs": [],
   "source": [
    "# 3. Stream finished — confirm results\n",
    "print(f\"\\nBronze stream completed: {RAW_PATH} → {BRONZE_PATH}\")\n",
    "\n",
    "bronze_df = spark.read.format(\"delta\").load(BRONZE_PATH)\n",
    "print(f\"Row count: {bronze_df.count()}\")\n",
    "print(\"\\nSchema:\")\n",
    "bronze_df.printSchema()\n",
    "\n",
    "print(\"\\nRecent Delta History:\")\n",
    "display(\n",
    "    spark.sql(f\"\"\"\n",
    "      DESCRIBE HISTORY delta.`{BRONZE_PATH}`\n",
    "    \"\"\").select(\"version\", \"timestamp\", \"operation\", \"operationParameters\")\n",
    ")\n"
   ]
  }
 ],
 "metadata": {
  "application/vnd.databricks.v1+notebook": {
   "computePreferences": null,
   "dashboards": [],
   "environmentMetadata": {
    "base_environment": "",
    "environment_version": "2"
   },
   "inputWidgetPreferences": null,
   "language": "python",
   "notebookMetadata": {
    "pythonIndentUnit": 4
   },
   "notebookName": "01_bronze_encounters_autoloader",
   "widgets": {}
  },
  "language_info": {
   "name": "python"
  }
 },
 "nbformat": 4,
 "nbformat_minor": 0
}

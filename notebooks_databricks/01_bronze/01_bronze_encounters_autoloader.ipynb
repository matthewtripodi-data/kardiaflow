{
 "cells": [
  {
   "cell_type": "code",
   "execution_count": 0,
   "metadata": {
    "application/vnd.databricks.v1+cell": {
     "cellMetadata": {
      "byteLimit": 2048000,
      "rowLimit": 10000
     },
     "inputWidgets": {},
     "nuid": "626445ad-138f-470e-92cf-b9bae6712751",
     "showTitle": false,
     "tableResultSettingsMap": {},
     "title": ""
    }
   },
   "outputs": [],
   "source": [
    "# 01_bronze_stream_encounters_autoloader.ipynb\n",
    "# Ingest CSV encounter files into a Bronze Delta table with Change Data Feed enabled.\n",
    "\n",
    "from pyspark.sql.types import *\n",
    "\n",
    "# Paths and table names\n",
    "BRONZE_DB = \"kardia_bronze\"\n",
    "BRONZE_ENCOUNTERS_TABLE = f\"{BRONZE_DB}.bronze_encounters\"\n",
    "RAW_PATH = \"dbfs:/kardia/raw/encounters/\"\n",
    "BRONZE_PATH = \"dbfs:/kardia/bronze/bronze_encounters\"\n",
    "SCHEMA_PATH = \"dbfs:/kardia/_schemas/encounters\"\n",
    "CHECKPOINT_PATH = \"dbfs:/kardia/_checkpoints/bronze_encounters\"\n",
    "BAD_PATH = \"dbfs:/kardia/_quarantine/raw/bad_encounters\"\n",
    "\n",
    "# Minimize shuffle overhead for small test datasets\n",
    "spark.conf.set(\"spark.sql.shuffle.partitions\", \"1\")"
   ]
  },
  {
   "cell_type": "code",
   "execution_count": 0,
   "metadata": {
    "application/vnd.databricks.v1+cell": {
     "cellMetadata": {
      "byteLimit": 2048000,
      "rowLimit": 10000
     },
     "inputWidgets": {},
     "nuid": "2edc6102-2540-4c88-bafb-007206e65ad8",
     "showTitle": false,
     "tableResultSettingsMap": {},
     "title": ""
    }
   },
   "outputs": [],
   "source": [
    "# Explicit schema defines data contract and improves performance\n",
    "encounters_schema = StructType(\n",
    "    [\n",
    "        StructField(\"ID\", StringType(), False),\n",
    "        StructField(\"DATE\", DateType(), True),\n",
    "        StructField(\"PATIENT\", StringType(), False),\n",
    "        StructField(\"CODE\", StringType(), True),\n",
    "        StructField(\"DESCRIPTION\", StringType(), True),\n",
    "        StructField(\"REASONCODE\", StringType(), True),\n",
    "        StructField(\"REASONDESCRIPTION\", StringType(), True)\n",
    "    ]\n",
    ")"
   ]
  },
  {
   "cell_type": "code",
   "execution_count": 0,
   "metadata": {
    "application/vnd.databricks.v1+cell": {
     "cellMetadata": {
      "byteLimit": 2048000,
      "rowLimit": 10000
     },
     "inputWidgets": {},
     "nuid": "d3770b79-8405-4dd9-be44-a9b4c8d2b4a6",
     "showTitle": false,
     "tableResultSettingsMap": {},
     "title": ""
    }
   },
   "outputs": [],
   "source": [
    "# 1. Make sure the Bronze DB and table exists\n",
    "spark.sql(f\"CREATE DATABASE IF NOT EXISTS {BRONZE_DB}\")\n",
    "\n",
    "spark.sql(\n",
    "    f\"\"\"\n",
    "    CREATE TABLE IF NOT EXISTS {BRONZE_ENCOUNTERS_TABLE}\n",
    "    USING DELTA\n",
    "    COMMENT 'Bronze table for batch Auto Loader ingest of encounter records.'\n",
    "    LOCATION '{BRONZE_PATH}'\n",
    "    TBLPROPERTIES ('delta.enableChangeDataFeed' = 'true')\n",
    "    \"\"\"\n",
    ")"
   ]
  },
  {
   "cell_type": "code",
   "execution_count": 0,
   "metadata": {
    "application/vnd.databricks.v1+cell": {
     "cellMetadata": {
      "byteLimit": 2048000,
      "rowLimit": 10000
     },
     "inputWidgets": {},
     "nuid": "747e0497-cf49-4e6a-8667-9d960e97a0ce",
     "showTitle": false,
     "tableResultSettingsMap": {},
     "title": ""
    }
   },
   "outputs": [],
   "source": [
    "# 2. Start Auto Loader stream\n",
    "stream = (\n",
    "    spark.readStream\n",
    "        .format(\"cloudFiles\")\n",
    "        .option(\"cloudFiles.format\", \"csv\")\n",
    "        .option(\"cloudFiles.includeExistingFiles\", \"true\")\n",
    "        .option(\"cloudFiles.schemaLocation\", SCHEMA_PATH)\n",
    "        .option(\"header\", \"true\")\n",
    "        .option(\"badRecordsPath\", BAD_PATH)\n",
    "        .option(\"rescuedDataColumn\", \"_rest\")\n",
    "        .schema(encounters_schema)\n",
    "        .load(RAW_PATH)\n",
    "\n",
    "        .writeStream\n",
    "        .format(\"delta\")\n",
    "        .option(\"mergeSchema\", \"true\")\n",
    "        .option(\"checkpointLocation\", CHECKPOINT_PATH)\n",
    "        .outputMode(\"append\")\n",
    "        .trigger(availableNow=True)\n",
    "        .start(BRONZE_PATH)\n",
    ")\n",
    "\n",
    "stream.awaitTermination()\n",
    "print(f\"Bronze ingest complete: from {RAW_PATH} to {BRONZE_PATH}\")"
   ]
  },
  {
   "cell_type": "code",
   "execution_count": 0,
   "metadata": {
    "application/vnd.databricks.v1+cell": {
     "cellMetadata": {
      "byteLimit": 2048000,
      "rowLimit": 10000
     },
     "inputWidgets": {},
     "nuid": "bc5375c2-9103-41b9-8c70-bce279c9b151",
     "showTitle": false,
     "tableResultSettingsMap": {},
     "title": ""
    }
   },
   "outputs": [],
   "source": [
    "# 3. Stream finished - confirm results\n",
    "print(f\"Loaded data from {RAW_PATH} to {BRONZE_PATH}\")\n",
    "\n",
    "df = spark.read.format(\"delta\").load(BRONZE_PATH)\n",
    "print(f\"Row count: {df.count()}\")\n",
    "display(df.limit(5))\n",
    "\n",
    "# Show Delta Lake history to verify CDF and ingest details\n",
    "history_df = spark.sql(\n",
    "    f\"\"\"\n",
    "    DESCRIBE HISTORY delta.`{BRONZE_PATH}`\n",
    "    \"\"\"\n",
    ").select(\"version\", \"timestamp\", \"operation\", \"operationParameters\")\n",
    "\n",
    "display(history_df.limit(5))"
   ]
  }
 ],
 "metadata": {
  "application/vnd.databricks.v1+notebook": {
   "computePreferences": null,
   "dashboards": [],
   "environmentMetadata": {
    "base_environment": "",
    "environment_version": "2"
   },
   "inputWidgetPreferences": null,
   "language": "python",
   "notebookMetadata": {
    "mostRecentlyExecutedCommandWithImplicitDF": {
     "commandId": 6336542656291775,
     "dataframes": [
      "_sqldf"
     ]
    },
    "pythonIndentUnit": 4
   },
   "notebookName": "01_bronze_encounters_autoloader",
   "widgets": {}
  },
  "language_info": {
   "name": "python"
  }
 },
 "nbformat": 4,
 "nbformat_minor": 0
}

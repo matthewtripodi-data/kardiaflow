{
 "cells": [
  {
   "cell_type": "code",
   "execution_count": 0,
   "metadata": {
    "application/vnd.databricks.v1+cell": {
     "cellMetadata": {
      "byteLimit": 2048000,
      "rowLimit": 10000
     },
     "inputWidgets": {},
     "nuid": "626445ad-138f-470e-92cf-b9bae6712751",
     "showTitle": false,
     "tableResultSettingsMap": {},
     "title": ""
    }
   },
   "outputs": [],
   "source": [
    "# 01_bronze_stream_encounters_autoloader.ipynb\n",
    "# Ingest CSV encounter files into a Bronze Delta table with Change Data Feed enabled.\n",
    "\n",
    "from pyspark.sql import SparkSession\n",
    "from pyspark.sql.types import *\n",
    "\n",
    "# Paths and table names\n",
    "DB              = \"kardia_bronze\"\n",
    "TABLE           = f\"{DB}.bronze_encounters\"\n",
    "RAW_PATH        = \"dbfs:/kardia/raw/encounters/\"\n",
    "TABLE_PATH      = \"dbfs:/kardia/bronze/bronze_encounters\"\n",
    "SCHEMA_LOC      = \"dbfs:/kardia/_schemas/encounters\"\n",
    "CHKPT_LOC       = \"dbfs:/kardia/_checkpoints/bronze_encounters\"\n",
    "\n",
    "# Minimize shuffle overhead for small test datasets\n",
    "spark.conf.set(\"spark.sql.shuffle.partitions\", \"1\")"
   ]
  },
  {
   "cell_type": "code",
   "execution_count": 0,
   "metadata": {
    "application/vnd.databricks.v1+cell": {
     "cellMetadata": {
      "byteLimit": 2048000,
      "rowLimit": 10000
     },
     "inputWidgets": {},
     "nuid": "2edc6102-2540-4c88-bafb-007206e65ad8",
     "showTitle": false,
     "tableResultSettingsMap": {},
     "title": ""
    }
   },
   "outputs": [],
   "source": [
    "# Define a strict schema to avoid schema inference costs\n",
    "encounters_schema = StructType([\n",
    "    StructField(\"ID\",                StringType(),    True),\n",
    "    StructField(\"DATE\",              TimestampType(), True),\n",
    "    StructField(\"PATIENT\",           StringType(),    True),\n",
    "    StructField(\"CODE\",              StringType(),    True),\n",
    "    StructField(\"DESCRIPTION\",       StringType(),    True),\n",
    "    StructField(\"REASONCODE\",        StringType(),    True),\n",
    "    StructField(\"REASONDESCRIPTION\", StringType(),    True)\n",
    "])"
   ]
  },
  {
   "cell_type": "code",
   "execution_count": 0,
   "metadata": {
    "application/vnd.databricks.v1+cell": {
     "cellMetadata": {
      "byteLimit": 2048000,
      "rowLimit": 10000
     },
     "inputWidgets": {},
     "nuid": "d3770b79-8405-4dd9-be44-a9b4c8d2b4a6",
     "showTitle": false,
     "tableResultSettingsMap": {},
     "title": ""
    }
   },
   "outputs": [],
   "source": [
    "# 1. Make sure the Bronze DB and table exists\n",
    "spark.sql(f\"CREATE DATABASE IF NOT EXISTS {DB}\")\n",
    "\n",
    "spark.sql(f\"\"\"\n",
    "CREATE TABLE IF NOT EXISTS {TABLE}\n",
    "USING DELTA\n",
    "TBLPROPERTIES (delta.enableChangeDataFeed = true)\n",
    "LOCATION '{TABLE_PATH}'\n",
    "\"\"\")"
   ]
  },
  {
   "cell_type": "code",
   "execution_count": 0,
   "metadata": {
    "application/vnd.databricks.v1+cell": {
     "cellMetadata": {
      "byteLimit": 2048000,
      "rowLimit": 10000
     },
     "inputWidgets": {},
     "nuid": "747e0497-cf49-4e6a-8667-9d960e97a0ce",
     "showTitle": false,
     "tableResultSettingsMap": {},
     "title": ""
    }
   },
   "outputs": [],
   "source": [
    "# 2. Start Auto Loader stream\n",
    "stream = (\n",
    "    spark.readStream\n",
    "         .format(\"cloudFiles\")\n",
    "         .option(\"cloudFiles.format\", \"csv\")\n",
    "         .option(\"header\", True)\n",
    "         .option(\"cloudFiles.schemaLocation\", SCHEMA_LOC)\n",
    "         .schema(encounters_schema)\n",
    "         .load(RAW_PATH)\n",
    "         .writeStream\n",
    "         .format(\"delta\")\n",
    "         .option(\"checkpointLocation\", CHKPT_LOC)\n",
    "         .option(\"mergeSchema\", \"true\")\n",
    "         .outputMode(\"append\")\n",
    "         .trigger(availableNow=True)\n",
    "         .start(TABLE_PATH)\n",
    ")\n",
    "\n",
    "stream.awaitTermination()"
   ]
  },
  {
   "cell_type": "code",
   "execution_count": 0,
   "metadata": {
    "application/vnd.databricks.v1+cell": {
     "cellMetadata": {
      "byteLimit": 2048000,
      "rowLimit": 10000
     },
     "inputWidgets": {},
     "nuid": "bc5375c2-9103-41b9-8c70-bce279c9b151",
     "showTitle": false,
     "tableResultSettingsMap": {},
     "title": ""
    }
   },
   "outputs": [],
   "source": [
    "# 3. Stream finished - confirm results\n",
    "print(f\"Loaded data from {RAW_PATH} to {TABLE_PATH}\")\n",
    "\n",
    "df = spark.read.format(\"delta\").load(TABLE_PATH)\n",
    "print(f\"Row count: {df.count()}\")\n",
    "display(df.limit(5))\n",
    "\n",
    "# Show Delta Lake history to verify CDF and ingest details\n",
    "history_df = spark.sql(f\"\"\"\n",
    "    DESCRIBE HISTORY delta.`{TABLE_PATH}`\n",
    "\"\"\").select(\"version\", \"timestamp\", \"operation\", \"operationParameters\")\n",
    "display(history_df.limit(5))"
   ]
  }
 ],
 "metadata": {
  "application/vnd.databricks.v1+notebook": {
   "computePreferences": null,
   "dashboards": [],
   "environmentMetadata": {
    "base_environment": "",
    "environment_version": "2"
   },
   "inputWidgetPreferences": null,
   "language": "python",
   "notebookMetadata": {
    "mostRecentlyExecutedCommandWithImplicitDF": {
     "commandId": 6336542656291775,
     "dataframes": [
      "_sqldf"
     ]
    },
    "pythonIndentUnit": 4
   },
   "notebookName": "01_bronze_encounters_autoloader",
   "widgets": {}
  },
  "language_info": {
   "name": "python"
  }
 },
 "nbformat": 4,
 "nbformat_minor": 0
}

{
 "cells": [
  {
   "cell_type": "code",
   "execution_count": 0,
   "metadata": {
    "application/vnd.databricks.v1+cell": {
     "cellMetadata": {
      "byteLimit": 2048000,
      "rowLimit": 10000
     },
     "inputWidgets": {},
     "nuid": "de7bfca6-4c97-45f5-a100-7d76f7b774b0",
     "showTitle": false,
     "tableResultSettingsMap": {},
     "title": ""
    }
   },
   "outputs": [],
   "source": [
    "# Bronze Ingest: Patients -> Bronze Delta Table  \n",
    "# Reads `patients_10.csv` into a Delta Lake Bronze table with Change Data Feed enabled.\n",
    "\n",
    "from pyspark.sql import SparkSession"
   ]
  },
  {
   "cell_type": "code",
   "execution_count": 0,
   "metadata": {
    "application/vnd.databricks.v1+cell": {
     "cellMetadata": {
      "byteLimit": 2048000,
      "rowLimit": 10000
     },
     "inputWidgets": {},
     "nuid": "ab70e487-f157-4eb6-a1fe-974762c95363",
     "showTitle": false,
     "tableResultSettingsMap": {},
     "title": ""
    }
   },
   "outputs": [],
   "source": [
    "# Path config\n",
    "RAW_PATH = \"dbfs:/FileStore/shared_uploads/matthew.databrickslab2@outlook.com/patients_10.csv\"\n",
    "BRONZE_PATH = \"/mnt/kardia/bronze/bronze_patients\""
   ]
  },
  {
   "cell_type": "code",
   "execution_count": 0,
   "metadata": {
    "application/vnd.databricks.v1+cell": {
     "cellMetadata": {
      "byteLimit": 2048000,
      "rowLimit": 10000
     },
     "inputWidgets": {},
     "nuid": "6e26635f-32f5-4af8-a62a-c35ed02643d4",
     "showTitle": false,
     "tableResultSettingsMap": {},
     "title": ""
    }
   },
   "outputs": [],
   "source": [
    "# Initialize a Spark session with minimal shuffle partitions\n",
    "spark = (\n",
    "    SparkSession.builder\n",
    "    .appName(\"bronze_patients\")\n",
    "    .config(\"spark.sql.shuffle.partitions\", \"1\")\n",
    "    .config(\"spark.sql.extensions\", \"io.delta.sql.DeltaSparkSessionExtension\")\n",
    "    .config(\"spark.sql.catalog.spark_catalog\", \"org.apache.spark.sql.delta.catalog.DeltaCatalog\")\n",
    "    .getOrCreate()\n",
    ")\n",
    "spark.sparkContext.setLogLevel(\"ERROR\")"
   ]
  },
  {
   "cell_type": "code",
   "execution_count": 0,
   "metadata": {
    "application/vnd.databricks.v1+cell": {
     "cellMetadata": {
      "byteLimit": 2048000,
      "rowLimit": 10000
     },
     "inputWidgets": {},
     "nuid": "b305fab3-7381-4dcb-87c5-00361ee3d88e",
     "showTitle": false,
     "tableResultSettingsMap": {},
     "title": ""
    }
   },
   "outputs": [],
   "source": [
    "# Read raw CSV (no schema inference → all STRING columns)\n",
    "df = (\n",
    "    spark.read\n",
    "         .option(\"header\", True)\n",
    "         .option(\"inferSchema\", False)\n",
    "         .csv(RAW_PATH)\n",
    ")\n",
    "row_cnt = df.count()\n",
    "print(f\"Read {row_cnt} rows from {RAW_PATH}\")"
   ]
  },
  {
   "cell_type": "code",
   "execution_count": 0,
   "metadata": {
    "application/vnd.databricks.v1+cell": {
     "cellMetadata": {
      "byteLimit": 2048000,
      "rowLimit": 10000
     },
     "inputWidgets": {},
     "nuid": "f91b866b-2525-44e5-8784-b2f47a8ae19e",
     "showTitle": false,
     "tableResultSettingsMap": {},
     "title": ""
    }
   },
   "outputs": [],
   "source": [
    "# Write to Bronze Delta with Change Data Feed enabled\n",
    "(\n",
    "    df.write\n",
    "      .format(\"delta\")\n",
    "      .mode(\"overwrite\")\n",
    "      .option(\"delta.enableChangeDataFeed\", \"true\")\n",
    "      .save(BRONZE_PATH)\n",
    ")\n",
    "print(f\"▶ Wrote Bronze Delta table to {BRONZE_PATH}\")"
   ]
  },
  {
   "cell_type": "code",
   "execution_count": 0,
   "metadata": {
    "application/vnd.databricks.v1+cell": {
     "cellMetadata": {
      "byteLimit": 2048000,
      "rowLimit": 10000
     },
     "inputWidgets": {},
     "nuid": "85f257e4-1820-4f9c-93bf-660b859fc18f",
     "showTitle": false,
     "tableResultSettingsMap": {},
     "title": ""
    }
   },
   "outputs": [],
   "source": [
    "# Preview the new Bronze table\n",
    "df_bronze = spark.read.format(\"delta\").load(BRONZE_PATH)\n",
    "print(\"Columns:\", df_bronze.columns)\n",
    "display(df_bronze.limit(3))"
   ]
  },
  {
   "cell_type": "code",
   "execution_count": 0,
   "metadata": {
    "application/vnd.databricks.v1+cell": {
     "cellMetadata": {
      "byteLimit": 2048000,
      "rowLimit": 10000
     },
     "inputWidgets": {},
     "nuid": "e8bd85cc-349b-47a5-97a6-b9823b04cdf5",
     "showTitle": false,
     "tableResultSettingsMap": {},
     "title": ""
    }
   },
   "outputs": [],
   "source": [
    "print(f\"Verifying Bronze Delta Table at: {BRONZE_PATH}\\n\")\n",
    "\n",
    "# 1. Schema\n",
    "print(\"Schema:\")\n",
    "df_bronze.printSchema()\n",
    "print()\n",
    "\n",
    "# 2. Underlying files\n",
    "print(\"Underlying files in Delta folder:\")\n",
    "display(dbutils.fs.ls(BRONZE_PATH))\n",
    "\n",
    "# 3. Recent Delta history\n",
    "print(\"Recent Delta history:\")\n",
    "display(\n",
    "    spark.sql(f\"DESCRIBE HISTORY delta.`{BRONZE_PATH}`\")\n",
    "         .select(\"version\", \"timestamp\", \"operation\", \"userName\")\n",
    "         .limit(5)\n",
    ")"
   ]
  },
  {
   "cell_type": "code",
   "execution_count": 0,
   "metadata": {
    "application/vnd.databricks.v1+cell": {
     "cellMetadata": {},
     "inputWidgets": {},
     "nuid": "f94b2c2a-b1e7-451f-b919-469206d6aa2f",
     "showTitle": false,
     "tableResultSettingsMap": {},
     "title": ""
    }
   },
   "outputs": [],
   "source": [
    "### Bronze ingest complete  \n",
    "### Proceed to `make_cdf_view` to build Change Data Feed temp view."
   ]
  }
 ],
 "metadata": {
  "application/vnd.databricks.v1+notebook": {
   "computePreferences": null,
   "dashboards": [],
   "environmentMetadata": {
    "base_environment": "",
    "environment_version": "2"
   },
   "inputWidgetPreferences": null,
   "language": "python",
   "notebookMetadata": {
    "pythonIndentUnit": 4
   },
   "notebookName": "01_bronze_ingest_patients_to_delta_cdf",
   "widgets": {
    "env": {
     "currentValue": "prod",
     "nuid": "86605c4f-48fd-4f93-b3a1-c368152264ca",
     "typedWidgetInfo": {
      "autoCreated": false,
      "defaultValue": "prod",
      "label": null,
      "name": "env",
      "options": {
       "widgetDisplayType": "Text",
       "validationRegex": null
      },
      "parameterDataType": "String"
     },
     "widgetInfo": {
      "widgetType": "text",
      "defaultValue": "prod",
      "label": null,
      "name": "env",
      "options": {
       "widgetType": "text",
       "autoCreated": null,
       "validationRegex": null
      }
     }
    }
   }
  },
  "language_info": {
   "name": "python"
  }
 },
 "nbformat": 4,
 "nbformat_minor": 0
}

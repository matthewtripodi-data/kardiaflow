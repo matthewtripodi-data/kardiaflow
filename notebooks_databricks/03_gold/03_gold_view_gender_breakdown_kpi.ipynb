{
 "cells": [
  {
   "cell_type": "code",
   "execution_count": 0,
   "metadata": {
    "application/vnd.databricks.v1+cell": {
     "cellMetadata": {
      "byteLimit": 2048000,
      "rowLimit": 10000
     },
     "inputWidgets": {},
     "nuid": "d0d17d15-93c9-47ef-9571-9c85432bc3ce",
     "showTitle": false,
     "tableResultSettingsMap": {},
     "title": ""
    }
   },
   "outputs": [],
   "source": [
    "# 03_gold_view_gender_breakdown_kpi\n",
    "# Gold KPI – patient count by gender\n",
    "# Source: kardia_silver.silver_patients\n",
    "# Output: kardia_gold.gold_gender_breakdown + vw_gender_breakdown\n",
    "# Excludes null gender; materialized for performance\n",
    "\n",
    "from pyspark.sql import SparkSession, functions as F\n",
    "\n",
    "# Paths and table names\n",
    "GOLD_DB     = \"kardia_gold\"\n",
    "SILVER_TBL  = \"kardia_silver.silver_patients\"\n",
    "GOLD_TBL    = f\"{GOLD_DB}.gold_gender_breakdown\"\n",
    "GOLD_VIEW   = \"vw_gender_breakdown\"\n",
    "\n",
    "# Minimize shuffle overhead for small test datasets\n",
    "spark.conf.set(\"spark.sql.shuffle.partitions\", \"1\")"
   ]
  },
  {
   "cell_type": "code",
   "execution_count": 0,
   "metadata": {
    "application/vnd.databricks.v1+cell": {
     "cellMetadata": {
      "byteLimit": 2048000,
      "rowLimit": 10000
     },
     "inputWidgets": {},
     "nuid": "9414d359-0310-4d3e-95b6-f4f541969692",
     "showTitle": false,
     "tableResultSettingsMap": {},
     "title": ""
    }
   },
   "outputs": [],
   "source": [
    "# Create Gold schema if missing\n",
    "spark.sql(f\"CREATE DATABASE IF NOT EXISTS {GOLD_DB}\")\n",
    "\n",
    "# Read from Silver and filter bad values early\n",
    "df = (\n",
    "    spark.table(SILVER_TBL)\n",
    "         .filter(F.col(\"GENDER\").isNotNull())\n",
    "         .groupBy(\"GENDER\")\n",
    "         .agg(F.count(\"*\").alias(\"cnt\"))\n",
    ")\n",
    "\n",
    "valid_df = (\n",
    "    df.filter(F.col(\"cnt\") > 0)\n",
    ")"
   ]
  },
  {
   "cell_type": "code",
   "execution_count": 0,
   "metadata": {
    "application/vnd.databricks.v1+cell": {
     "cellMetadata": {
      "byteLimit": 2048000,
      "rowLimit": 10000
     },
     "inputWidgets": {},
     "nuid": "a7eec1cf-3a1e-488b-98b9-5f923e10f91b",
     "showTitle": false,
     "tableResultSettingsMap": {},
     "title": ""
    }
   },
   "outputs": [],
   "source": [
    "# Write to Delta as a materialized Gold table\n",
    "(\n",
    "    valid_df.write\n",
    "        .format(\"delta\")\n",
    "        .mode(\"overwrite\")\n",
    "        .option(\"overwriteSchema\", \"true\")\n",
    "        .saveAsTable(GOLD_TBL)\n",
    ")\n",
    "\n",
    "# Create a view for BI tools or quick querying\n",
    "spark.sql(f\"\"\"\n",
    "CREATE OR REPLACE VIEW {GOLD_VIEW} AS\n",
    "SELECT * FROM {GOLD_TBL}\n",
    "\"\"\")"
   ]
  },
  {
   "cell_type": "code",
   "execution_count": 0,
   "metadata": {
    "application/vnd.databricks.v1+cell": {
     "cellMetadata": {
      "byteLimit": 2048000,
      "rowLimit": 10000
     },
     "inputWidgets": {},
     "nuid": "5964938d-6f9c-468c-b96d-f6cc5a362af9",
     "showTitle": false,
     "tableResultSettingsMap": {},
     "title": ""
    }
   },
   "outputs": [],
   "source": [
    "# Quick sanity check\n",
    "spark.sql(f\"REFRESH TABLE {GOLD_TBL}\")\n",
    "print(\"vw_gender_breakdown preview:\")\n",
    "display(spark.sql(f\"SELECT * FROM {GOLD_VIEW}\"))"
   ]
  }
 ],
 "metadata": {
  "application/vnd.databricks.v1+notebook": {
   "computePreferences": null,
   "dashboards": [],
   "environmentMetadata": {
    "base_environment": "",
    "environment_version": "2"
   },
   "inputWidgetPreferences": null,
   "language": "python",
   "notebookMetadata": {
    "pythonIndentUnit": 4
   },
   "notebookName": "03_gold_view_gender_breakdown_kpi",
   "widgets": {}
  },
  "language_info": {
   "name": "python"
  }
 },
 "nbformat": 4,
 "nbformat_minor": 0
}

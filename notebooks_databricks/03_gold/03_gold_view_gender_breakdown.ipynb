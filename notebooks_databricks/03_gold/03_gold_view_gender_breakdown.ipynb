{
 "cells": [
  {
   "cell_type": "code",
   "execution_count": 0,
   "metadata": {
    "application/vnd.databricks.v1+cell": {
     "cellMetadata": {
      "byteLimit": 2048000,
      "rowLimit": 10000
     },
     "inputWidgets": {},
     "nuid": "d0d17d15-93c9-47ef-9571-9c85432bc3ce",
     "showTitle": false,
     "tableResultSettingsMap": {},
     "title": ""
    }
   },
   "outputs": [],
   "source": [
    "# 03_gold_view_gender_breakdown\n",
    "# GOAL:   Patient count by gender\n",
    "# SOURCE: kardia_silver.silver_patients\n",
    "# OUTPUT: vw_gender_breakdown (view)\n",
    "\n",
    "# NOTE\n",
    "# In this demo, we use a view to calculate patient counts by gender.\n",
    "# For a small cardinality dimension like GENDER, a view is sufficient.\n",
    "# In Production, we might materialize this view or use a Streaming Table\n",
    "# if the source volume grows significantly.\n",
    "\n",
    "from pyspark.sql import SparkSession, functions as F\n",
    "\n",
    "# Table paths\n",
    "GOLD_DB = \"kardia_gold\"\n",
    "SILVER_PATIENTS = \"kardia_silver.silver_patients\"\n",
    "VIEW_GENDER_BREAKDOWN = \"vw_gender_breakdown\""
   ]
  },
  {
   "cell_type": "code",
   "execution_count": 0,
   "metadata": {
    "application/vnd.databricks.v1+cell": {
     "cellMetadata": {
      "byteLimit": 2048000,
      "rowLimit": 10000
     },
     "inputWidgets": {},
     "nuid": "9414d359-0310-4d3e-95b6-f4f541969692",
     "showTitle": false,
     "tableResultSettingsMap": {},
     "title": ""
    }
   },
   "outputs": [],
   "source": [
    "# Ensure the Gold database exists\n",
    "spark.sql(f\"CREATE DATABASE IF NOT EXISTS {GOLD_DB}\")\n",
    "\n",
    "# 1. Create or replace the view\n",
    "spark.sql(\n",
    "    f\"\"\"\n",
    "    CREATE OR REPLACE VIEW {VIEW_GENDER_BREAKDOWN} AS\n",
    "    SELECT\n",
    "        GENDER,\n",
    "        COUNT(*) AS patient_cnt\n",
    "    FROM {SILVER_PATIENTS}\n",
    "    WHERE GENDER IS NOT NULL\n",
    "    GROUP BY GENDER\n",
    "    \"\"\"\n",
    ")"
   ]
  },
  {
   "cell_type": "code",
   "execution_count": 0,
   "metadata": {
    "application/vnd.databricks.v1+cell": {
     "cellMetadata": {
      "byteLimit": 2048000,
      "rowLimit": 10000
     },
     "inputWidgets": {},
     "nuid": "a7eec1cf-3a1e-488b-98b9-5f923e10f91b",
     "showTitle": false,
     "tableResultSettingsMap": {},
     "title": ""
    }
   },
   "outputs": [],
   "source": [
    "# 2. Refresh & preview\n",
    "spark.sql(f\"REFRESH TABLE {VIEW_GENDER_BREAKDOWN}\")\n",
    "display(spark.sql(f\"SELECT * FROM {VIEW_GENDER_BREAKDOWN} ORDER BY patient_cnt DESC\"))"
   ]
  }
 ],
 "metadata": {
  "application/vnd.databricks.v1+notebook": {
   "computePreferences": null,
   "dashboards": [],
   "environmentMetadata": {
    "base_environment": "",
    "environment_version": "2"
   },
   "inputWidgetPreferences": null,
   "language": "python",
   "notebookMetadata": {
    "mostRecentlyExecutedCommandWithImplicitDF": {
     "commandId": 7755667534954255,
     "dataframes": [
      "_sqldf"
     ]
    },
    "pythonIndentUnit": 4
   },
   "notebookName": "03_gold_view_gender_breakdown",
   "widgets": {}
  },
  "language_info": {
   "name": "python"
  }
 },
 "nbformat": 4,
 "nbformat_minor": 0
}

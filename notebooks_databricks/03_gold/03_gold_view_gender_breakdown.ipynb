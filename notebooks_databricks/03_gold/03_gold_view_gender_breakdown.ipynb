{
 "cells": [
  {
   "metadata": {},
   "cell_type": "code",
   "outputs": [],
   "execution_count": null,
   "source": [
    "# 03_gold_gender_breakdown\n",
    "# GOAL:   Patient count by gender\n",
    "# SOURCE: kardia_silver.silver_patients\n",
    "# OUTPUT: kardia_gold.gold_gender_breakdown (table)\n",
    "# TRIGGER: Single batch job that computes the latest gender counts\n",
    "#          and MERGEs them into the Gold table (Type-1 overwrite).\n",
    "\n",
    "from pyspark.sql import functions as F\n",
    "from delta.tables import DeltaTable\n",
    "\n",
    "# Table paths\n",
    "GOLD_DB                  = \"kardia_gold\"\n",
    "SILVER_PATIENT           = \"kardia_silver.silver_patients\"\n",
    "GOLD_GENDER_BREAKDOWN    = f\"{GOLD_DB}.gold_gender_breakdown\""
   ]
  },
  {
   "metadata": {},
   "cell_type": "code",
   "outputs": [],
   "execution_count": null,
   "source": [
    "# 1. Ensure the Gold database and output table exist.\n",
    "spark.sql(f\"CREATE DATABASE IF NOT EXISTS {GOLD_DB}\")\n",
    "\n",
    "spark.sql(\n",
    "    f\"\"\"\n",
    "    CREATE TABLE IF NOT EXISTS {GOLD_GENDER_BREAKDOWN} (\n",
    "      GENDER      STRING,\n",
    "      patient_cnt BIGINT\n",
    "    ) USING DELTA\n",
    "    \"\"\"\n",
    ")"
   ]
  },
  {
   "metadata": {},
   "cell_type": "code",
   "outputs": [],
   "execution_count": null,
   "source": [
    "# 2. Compute current gender counts (exclude null values).\n",
    "gender_counts = (\n",
    "    spark.table(SILVER_PATIENT)\n",
    "         .filter(\"GENDER IS NOT NULL\")\n",
    "         .groupBy(\"GENDER\")\n",
    "         .agg(F.count(\"*\").alias(\"patient_cnt\"))\n",
    ")"
   ]
  },
  {
   "metadata": {},
   "cell_type": "code",
   "outputs": [],
   "execution_count": null,
   "source": [
    "# 3. Upsert counts into the Gold table.\n",
    "(DeltaTable.forName(spark, GOLD_GENDER_BREAKDOWN)\n",
    "           .alias(\"target\")\n",
    "           .merge(gender_counts.alias(\"source\"), \"target.GENDER = source.GENDER\")\n",
    "           .whenMatchedUpdateAll()\n",
    "           .whenNotMatchedInsertAll()\n",
    "           .execute())"
   ]
  },
  {
   "cell_type": "code",
   "execution_count": 0,
   "metadata": {
    "application/vnd.databricks.v1+cell": {
     "cellMetadata": {
      "byteLimit": 2048000,
      "rowLimit": 10000
     },
     "inputWidgets": {},
     "nuid": "f47fe354-7c58-4bc2-8409-dbf34b5fdb3b",
     "showTitle": false,
     "tableResultSettingsMap": {},
     "title": ""
    }
   },
   "outputs": [],
   "source": [
    "# 4. Preview results.\n",
    "spark.sql(f\"REFRESH TABLE {GOLD_GENDER_BREAKDOWN}\")\n",
    "display(\n",
    "    spark.sql(f\"SELECT * FROM {GOLD_GENDER_BREAKDOWN} ORDER BY patient_cnt DESC\")\n",
    ")"
   ]
  }
 ],
 "metadata": {
  "application/vnd.databricks.v1+notebook": {
   "computePreferences": null,
   "dashboards": [],
   "environmentMetadata": {
    "base_environment": "",
    "environment_version": "2"
   },
   "inputWidgetPreferences": null,
   "language": "python",
   "notebookMetadata": {
    "mostRecentlyExecutedCommandWithImplicitDF": {
     "commandId": 7755667534954255,
     "dataframes": [
      "_sqldf"
     ]
    },
    "pythonIndentUnit": 4
   },
   "notebookName": "03_gold_view_gender_breakdown",
   "widgets": {}
  },
  "language_info": {
   "name": "python"
  }
 },
 "nbformat": 4,
 "nbformat_minor": 0
}

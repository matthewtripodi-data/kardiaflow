{
 "cells": [
  {
   "cell_type": "code",
   "execution_count": 0,
   "metadata": {
    "application/vnd.databricks.v1+cell": {
     "cellMetadata": {
      "byteLimit": 2048000,
      "rowLimit": 10000
     },
     "inputWidgets": {},
     "nuid": "c42a514d-ae35-4a23-9cdc-194a31ee119c",
     "showTitle": false,
     "tableResultSettingsMap": {},
     "title": ""
    }
   },
   "outputs": [],
   "source": [
    "# 03_gold_view_encounters_by_month\n",
    "# ----------------------------------------------\n",
    "# Gold KPI – monthly encounter volume & claim cost\n",
    "# Sources: kardia_silver.silver_patient_encounters  (append-only)\n",
    "\n",
    "from pyspark.sql import SparkSession, functions as F"
   ]
  },
  {
   "cell_type": "code",
   "execution_count": 0,
   "metadata": {
    "application/vnd.databricks.v1+cell": {
     "cellMetadata": {
      "byteLimit": 2048000,
      "rowLimit": 10000
     },
     "inputWidgets": {},
     "nuid": "faea2c64-9f2e-4951-8ba3-6413e7abb0d1",
     "showTitle": false,
     "tableResultSettingsMap": {},
     "title": ""
    }
   },
   "outputs": [],
   "source": [
    "spark = (SparkSession.builder\n",
    "         .appName(\"gold_encounters_by_month\")\n",
    "         .config(\"spark.sql.shuffle.partitions\", \"1\")\n",
    "         .config(\"spark.sql.extensions\",\"io.delta.sql.DeltaSparkSessionExtension\")\n",
    "         .config(\"spark.sql.catalog.spark_catalog\",\"org.apache.spark.sql.delta.catalog.DeltaCatalog\")\n",
    "         .getOrCreate())\n",
    "spark.sparkContext.setLogLevel(\"ERROR\")"
   ]
  },
  {
   "cell_type": "code",
   "execution_count": 0,
   "metadata": {
    "application/vnd.databricks.v1+cell": {
     "cellMetadata": {
      "byteLimit": 2048000,
      "rowLimit": 10000
     },
     "inputWidgets": {},
     "nuid": "09a468fd-f116-451e-be7e-f4eb176cc3ee",
     "showTitle": false,
     "tableResultSettingsMap": {},
     "title": ""
    }
   },
   "outputs": [],
   "source": [
    "# 1️. Register (or refresh) the view\n",
    "spark.sql(\"\"\"\n",
    "CREATE OR REPLACE TEMP VIEW vw_encounters_by_month AS\n",
    "SELECT\n",
    "  date_format(START,'yyyy-MM') AS month,\n",
    "  COUNT(*)                     AS encounters_n,\n",
    "  SUM(TOTAL_CLAIM_COST)        AS claim_cost\n",
    "FROM kardia_silver.silver_patient_encounters\n",
    "GROUP BY month\n",
    "ORDER BY month\n",
    "\"\"\")"
   ]
  },
  {
   "cell_type": "code",
   "execution_count": 0,
   "metadata": {
    "application/vnd.databricks.v1+cell": {
     "cellMetadata": {
      "byteLimit": 2048000,
      "rowLimit": 10000
     },
     "inputWidgets": {},
     "nuid": "710650e6-5f5e-4276-9e67-e256ce3582a0",
     "showTitle": false,
     "tableResultSettingsMap": {},
     "title": ""
    }
   },
   "outputs": [],
   "source": [
    "# 2️. Quick preview (5 most-recent months)\n",
    "print(\"vw_encounters_by_month preview:\")\n",
    "display(\n",
    "    spark.table(\"vw_encounters_by_month\")\n",
    "         .orderBy(F.col(\"month\").desc())\n",
    "         .limit(5)\n",
    ")"
   ]
  }
 ],
 "metadata": {
  "application/vnd.databricks.v1+notebook": {
   "computePreferences": null,
   "dashboards": [],
   "environmentMetadata": {
    "base_environment": "",
    "environment_version": "2"
   },
   "inputWidgetPreferences": null,
   "language": "python",
   "notebookMetadata": {
    "pythonIndentUnit": 4
   },
   "notebookName": "03_gold_view_encounters_by_month",
   "widgets": {}
  },
  "language_info": {
   "name": "python"
  }
 },
 "nbformat": 4,
 "nbformat_minor": 0
}

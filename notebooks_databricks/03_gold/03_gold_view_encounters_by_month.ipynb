{
 "cells": [
  {
   "cell_type": "code",
   "execution_count": 0,
   "metadata": {
    "application/vnd.databricks.v1+cell": {
     "cellMetadata": {
      "byteLimit": 2048000,
      "rowLimit": 10000
     },
     "inputWidgets": {},
     "nuid": "c42a514d-ae35-4a23-9cdc-194a31ee119c",
     "showTitle": false,
     "tableResultSettingsMap": {},
     "title": ""
    }
   },
   "outputs": [],
   "source": [
    "# 03_gold_view_encounters_by_month\n",
    "# Gold KPI – monthly encounter volume and claim cost\n",
    "# Source: kardia_silver.silver_patient_encounters (append-only)\n",
    "# Output: kardia_gold.gold_encounters_by_month + vw_encounters_by_month\n",
    "# Filters out negative claim costs; materialized for performance\n",
    "\n",
    "from pyspark.sql import SparkSession, functions as F\n",
    "\n",
    "# Paths and table names\n",
    "GOLD_DB = \"kardia_gold\"\n",
    "SILVER_ENCOUNTERS_TABLE = \"kardia_silver.silver_patient_encounters\"\n",
    "GOLD_ENCOUNTERS_TABLE = f\"{GOLD_DB}.gold_encounters_by_month\"\n",
    "GOLD_ENCOUNTERS_VIEW = \"vw_encounters_by_month\"\n",
    "\n",
    "# Minimize shuffle overhead for small test datasets\n",
    "spark.conf.set(\"spark.sql.shuffle.partitions\", \"1\")"
   ]
  },
  {
   "cell_type": "code",
   "execution_count": 0,
   "metadata": {
    "application/vnd.databricks.v1+cell": {
     "cellMetadata": {
      "byteLimit": 2048000,
      "rowLimit": 10000
     },
     "inputWidgets": {},
     "nuid": "09a468fd-f116-451e-be7e-f4eb176cc3ee",
     "showTitle": false,
     "tableResultSettingsMap": {},
     "title": ""
    }
   },
   "outputs": [],
   "source": [
    "# Ensure Gold schema exists\n",
    "spark.sql(f\"CREATE DATABASE IF NOT EXISTS {GOLD_DB}\")\n",
    "\n",
    "# Load Silver encounters and build monthly aggregates\n",
    "df = (\n",
    "    spark.table(SILVER_ENCOUNTERS_TABLE)\n",
    "        .withColumn(\"month\", F.date_format(\"START_TS\", \"yyyy-MM\"))\n",
    "        .groupBy(\"month\", \"GENDER\", \"BIRTH_YEAR\")\n",
    "        .agg(\n",
    "            F.count(\"*\").alias(\"encounters_n\"),\n",
    "            F.sum(\"TOTAL_CLAIM_COST\").alias(\"claim_cost\")\n",
    "        )\n",
    "        .filter(F.col(\"claim_cost\") >= 0)  # soft expectation: no negative costs\n",
    ")"
   ]
  },
  {
   "cell_type": "code",
   "execution_count": 0,
   "metadata": {
    "application/vnd.databricks.v1+cell": {
     "cellMetadata": {
      "byteLimit": 2048000,
      "rowLimit": 10000
     },
     "inputWidgets": {},
     "nuid": "21ed38da-a62c-490e-8e7e-3652662d04bf",
     "showTitle": false,
     "tableResultSettingsMap": {},
     "title": ""
    }
   },
   "outputs": [],
   "source": [
    "# Write the Gold table\n",
    "(\n",
    "    df.write\n",
    "      .format(\"delta\")\n",
    "      .mode(\"overwrite\")\n",
    "      .option(\"overwriteSchema\", \"true\")\n",
    "      .saveAsTable(GOLD_ENCOUNTERS_TABLE)\n",
    ")\n",
    "\n",
    "# Register a view on top for querying/BI\n",
    "spark.sql(\n",
    "  f\"\"\"\n",
    "  CREATE OR REPLACE VIEW {GOLD_ENCOUNTERS_VIEW} AS\n",
    "  SELECT * FROM {GOLD_ENCOUNTERS_TABLE}\n",
    "  \"\"\"\n",
    ")"
   ]
  },
  {
   "cell_type": "code",
   "execution_count": 0,
   "metadata": {
    "application/vnd.databricks.v1+cell": {
     "cellMetadata": {
      "byteLimit": 2048000,
      "rowLimit": 10000
     },
     "inputWidgets": {},
     "nuid": "710650e6-5f5e-4276-9e67-e256ce3582a0",
     "showTitle": false,
     "tableResultSettingsMap": {},
     "title": ""
    }
   },
   "outputs": [],
   "source": [
    "# Refresh and preview\n",
    "spark.sql(f\"REFRESH TABLE {GOLD_ENCOUNTERS_TABLE}\")\n",
    "print(\"vw_encounters_by_month preview:\")\n",
    "display(spark.sql(f\"SELECT * FROM {GOLD_ENCOUNTERS_VIEW} ORDER BY month DESC, GENDER LIMIT 20\"))"
   ]
  }
 ],
 "metadata": {
  "application/vnd.databricks.v1+notebook": {
   "computePreferences": null,
   "dashboards": [],
   "environmentMetadata": {
    "base_environment": "",
    "environment_version": "2"
   },
   "inputWidgetPreferences": null,
   "language": "python",
   "notebookMetadata": {
    "mostRecentlyExecutedCommandWithImplicitDF": {
     "commandId": 5838238807148427,
     "dataframes": [
      "_sqldf"
     ]
    },
    "pythonIndentUnit": 4
   },
   "notebookName": "03_gold_view_encounters_by_month",
   "widgets": {}
  },
  "language_info": {
   "name": "python"
  }
 },
 "nbformat": 4,
 "nbformat_minor": 0
}

{
 "cells": [
  {
   "cell_type": "code",
   "execution_count": 0,
   "metadata": {
    "application/vnd.databricks.v1+cell": {
     "cellMetadata": {
      "byteLimit": 2048000,
      "rowLimit": 10000
     },
     "inputWidgets": {},
     "nuid": "c42a514d-ae35-4a23-9cdc-194a31ee119c",
     "showTitle": false,
     "tableResultSettingsMap": {},
     "title": ""
    }
   },
   "outputs": [],
   "source": [
    "# 03_gold_view_encounters_by_month\n",
    "# GOAL:   Monthly encounter volume\n",
    "# SOURCE: kardia_silver.silver_encounters_demographics\n",
    "# OUTPUT: vw_gold_encounters_by_month (view)\n",
    "\n",
    "# NOTE\n",
    "# In this demo, we use a view to calculate the monthly encounter volume.\n",
    "# In Production, we would write to Silver incrementally and convert this view to\n",
    "# a Materialized View or Streaming Table so only new rows are processed each day\n",
    "\n",
    "from pyspark.sql import functions as F\n",
    "\n",
    "# Table paths\n",
    "GOLD_DB = \"kardia_gold\"\n",
    "VIEW_GOLD = \"vw_gold_encounters_by_month\"\n",
    "\n",
    "QA_ENC_MISSING_PT = f\"{GOLD_DB}.gold_encounters_missing_patient\"\n",
    "QA_PAT_NO_ENC = f\"{GOLD_DB}.gold_patients_no_encounter\"\n",
    "\n",
    "SILVER = \"kardia_silver.silver_encounters_demographics\""
   ]
  },
  {
   "cell_type": "code",
   "execution_count": 0,
   "metadata": {
    "application/vnd.databricks.v1+cell": {
     "cellMetadata": {
      "byteLimit": 2048000,
      "rowLimit": 10000
     },
     "inputWidgets": {},
     "nuid": "09a468fd-f116-451e-be7e-f4eb176cc3ee",
     "showTitle": false,
     "tableResultSettingsMap": {},
     "title": ""
    }
   },
   "outputs": [],
   "source": [
    "# Ensure Gold DB exists\n",
    "spark.sql(f\"CREATE DATABASE IF NOT EXISTS {GOLD_DB}\")\n",
    "\n",
    "# 1. Create a view summarizing monthly encounter volume, excluding rows with missing demographics\n",
    "spark.sql(\n",
    "    f\"\"\"\n",
    "    CREATE OR REPLACE VIEW {VIEW_GOLD} AS\n",
    "    SELECT date_format(START_TS,'yyyy-MM') AS month,\n",
    "           COUNT(*)                        AS encounters_n\n",
    "    FROM   {SILVER}\n",
    "    WHERE  GENDER IS NOT NULL\n",
    "      AND  BIRTH_YEAR IS NOT NULL\n",
    "    GROUP  BY date_format(START_TS,'yyyy-MM')\n",
    "    \"\"\"\n",
    ")"
   ]
  },
  {
   "cell_type": "code",
   "execution_count": 0,
   "metadata": {
    "application/vnd.databricks.v1+cell": {
     "cellMetadata": {
      "byteLimit": 2048000,
      "rowLimit": 10000
     },
     "inputWidgets": {},
     "nuid": "42e52b7e-5fee-46c3-9251-72be1014200d",
     "showTitle": false,
     "tableResultSettingsMap": {},
     "title": ""
    }
   },
   "outputs": [],
   "source": [
    "# 2. Build a DataFrame enriched with month field\n",
    "encounters_with_month = (\n",
    "    spark.table(SILVER)\n",
    "         .withColumn(\"month\", F.date_format(\"START_TS\", \"yyyy-MM\"))\n",
    ")\n",
    "\n",
    "# 2a. Write QA table: monthly count of encounters missing GENDER or BIRTH_YEAR\n",
    "(encounters_with_month\n",
    "    .filter(\"GENDER IS NULL OR BIRTH_YEAR IS NULL\")\n",
    "    .groupBy(\"month\")\n",
    "    .agg(F.count(\"*\").alias(\"unmatched_encounters\"))\n",
    "\n",
    "    # Overwrite the Delta table and update its schema if new columns are introduced or types change\n",
    "    .write\n",
    "    .format(\"delta\")\n",
    "    .mode(\"overwrite\")\n",
    "    .option(\"overwriteSchema\",\"true\")\n",
    "    .saveAsTable(QA_ENC_MISSING_PT))"
   ]
  },
  {
   "cell_type": "code",
   "execution_count": 0,
   "metadata": {
    "application/vnd.databricks.v1+cell": {
     "cellMetadata": {
      "byteLimit": 2048000,
      "rowLimit": 10000
     },
     "inputWidgets": {},
     "nuid": "21ed38da-a62c-490e-8e7e-3652662d04bf",
     "showTitle": false,
     "tableResultSettingsMap": {},
     "title": ""
    }
   },
   "outputs": [],
   "source": [
    "# 2b. Write QA table: patients who have no encounter records\n",
    "patients_df = spark.table(\"kardia_silver.silver_patients\")\n",
    "\n",
    "# Left anti-join says: give me rows on the left with no match on the right\n",
    "patients_no_enc = (\n",
    "    patients_df.alias(\"p\")\n",
    "        .join( encounters_with_month.select(\"PatientID\").distinct().alias(\"e\"),\n",
    "                F.col(\"p.ID\") == F.col(\"e.PatientID\"),\n",
    "               \"left_anti\")\n",
    "        .select(\"p.ID\",\"p.GENDER\",\"p.BIRTH_YEAR\")\n",
    "        .withColumn(\"as_of_date\", F.current_date())\n",
    ")\n",
    "\n",
    "(patients_no_enc.write\n",
    "    .format(\"delta\")\n",
    "    .mode(\"overwrite\")\n",
    "    .option(\"overwriteSchema\",\"true\")\n",
    "    .saveAsTable(QA_PAT_NO_ENC))"
   ]
  },
  {
   "cell_type": "code",
   "execution_count": 0,
   "metadata": {
    "application/vnd.databricks.v1+cell": {
     "cellMetadata": {
      "byteLimit": 2048000,
      "rowLimit": 10000
     },
     "inputWidgets": {},
     "nuid": "710650e6-5f5e-4276-9e67-e256ce3582a0",
     "showTitle": false,
     "tableResultSettingsMap": {},
     "title": ""
    }
   },
   "outputs": [],
   "source": [
    "# 3. Refresh and preview all Gold-layer tables\n",
    "for tbl in [VIEW_GOLD, QA_ENC_MISSING_PT, QA_PAT_NO_ENC]:\n",
    "    spark.sql(f\"REFRESH TABLE {tbl}\")\n",
    "\n",
    "display(spark.sql(f\"SELECT * FROM {VIEW_GOLD}        ORDER BY month DESC LIMIT 20\"))\n",
    "display(spark.sql(f\"SELECT * FROM {QA_ENC_MISSING_PT} ORDER BY month DESC LIMIT 20\"))\n",
    "display(spark.sql(f\"SELECT * FROM {QA_PAT_NO_ENC}     ORDER BY as_of_date DESC LIMIT 20\"))"
   ]
  }
 ],
 "metadata": {
  "application/vnd.databricks.v1+notebook": {
   "computePreferences": null,
   "dashboards": [],
   "environmentMetadata": {
    "base_environment": "",
    "environment_version": "2"
   },
   "inputWidgetPreferences": null,
   "language": "python",
   "notebookMetadata": {
    "mostRecentlyExecutedCommandWithImplicitDF": {
     "commandId": 5515449300637104,
     "dataframes": [
      "_sqldf"
     ]
    },
    "pythonIndentUnit": 4
   },
   "notebookName": "03_gold_view_encounters_by_month",
   "widgets": {}
  },
  "language_info": {
   "name": "python"
  }
 },
 "nbformat": 4,
 "nbformat_minor": 0
}

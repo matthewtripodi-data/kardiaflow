{
 "cells": [
  {
   "metadata": {},
   "cell_type": "code",
   "outputs": [],
   "execution_count": null,
   "source": [
    "# 03_gold_encounters_by_month.ipynb\n",
    "# GOAL:   Aggregate monthly encounter volume into Gold and refresh QA views.\n",
    "# SOURCE: kardia_silver.silver_encounters_demographics\n",
    "# OUTPUT: kardia_gold.gold_encounters_by_month (Delta table)\n",
    "# TRIGGER: Streaming incremental-batch job with `outputMode(\"complete\")`\n",
    "#          that fully replaces the output on each run.\n",
    "\n",
    "# Additional QA tables:\n",
    "# - gold_qa_enc_missing_dem: monthly count of incomplete records\n",
    "# - gold_qa_pt_missing_enc: patients with no linked encounters\n",
    "\n",
    "from pyspark.sql import functions as F, Window\n",
    "from delta.tables import DeltaTable\n",
    "\n",
    "# Table paths\n",
    "GOLD_DB         = \"kardia_gold\"\n",
    "SILVER_DEM      = \"kardia_silver.silver_encounters_demographics\"\n",
    "\n",
    "GOLD_ENC_BY_MONTH       = f\"{GOLD_DB}.gold_encounters_by_month\"\n",
    "GOLD_QA_ENC_MISSING_DEM = f\"{GOLD_DB}.gold_encounters_missing_patient\"\n",
    "GOLD_QA_PT_MISSING_ENC  = f\"{GOLD_DB}.gold_patients_no_encounter\"\n",
    "\n",
    "CHECKPOINT_PATH = \"dbfs:/kardia/_checkpoints/gold_encounters_by_month\""
   ]
  },
  {
   "metadata": {},
   "cell_type": "code",
   "outputs": [],
   "execution_count": null,
   "source": [
    "# 1. Ensure database and (empty) Gold table exist\n",
    "spark.sql(f\"CREATE DATABASE IF NOT EXISTS {GOLD_DB}\")\n",
    "\n",
    "spark.sql(\n",
    "    f\"\"\"\n",
    "    CREATE TABLE IF NOT EXISTS {GOLD_ENC_BY_MONTH} (\n",
    "        month         STRING,\n",
    "        encounters_n  BIGINT\n",
    "    ) USING DELTA\n",
    "    \"\"\"\n",
    ")"
   ]
  },
  {
   "metadata": {},
   "cell_type": "code",
   "outputs": [],
   "execution_count": null,
   "source": [
    "# 2. Aggregate monthly encounter counts into Gold.\n",
    "#   - Prune partitions using START_DATE (last 2 years only)\n",
    "#   - Filter out incomplete records (missing gender or birth year)\n",
    "#   - Group by month and count valid encounters\n",
    "agg_stream = (\n",
    "    spark.readStream\n",
    "         .table(SILVER_DEM)\n",
    "         .filter(F.col(\"START_DATE\") >= F.date_sub(F.current_date(), 730))\n",
    "         .filter(\"GENDER IS NOT NULL AND BIRTH_YEAR IS NOT NULL\")\n",
    "         .groupBy(F.date_format(\"START_TS\", \"yyyy-MM\").alias(\"month\"))\n",
    "         .agg(F.count(\"*\").alias(\"encounters_n\"))\n",
    ")\n",
    "\n",
    "# Write results to Gold.\n",
    "(agg_stream.writeStream\n",
    "           .outputMode(\"complete\")\n",
    "           .option(\"checkpointLocation\", CHECKPOINT_PATH)\n",
    "           .trigger(availableNow=True)\n",
    "           .table(GOLD_ENC_BY_MONTH)\n",
    "           .awaitTermination())\n",
    "\n",
    "# NOTE:\n",
    "# - outputMode(\"complete\") replaces the full table each run.\n",
    "# - Filtering on START_DATE enables static partition pruning.\n",
    "#   Spark skips entire partition folders (i.e., START_DATE=2013-01-01).\n",
    "#   The 2-year window updates daily since current_date() is evaluated at job start."
   ]
  },
  {
   "cell_type": "code",
   "execution_count": 0,
   "metadata": {
    "application/vnd.databricks.v1+cell": {
     "cellMetadata": {
      "byteLimit": 2048000,
      "rowLimit": 10000
     },
     "inputWidgets": {},
     "nuid": "21ed38da-a62c-490e-8e7e-3652662d04bf",
     "showTitle": false,
     "tableResultSettingsMap": {},
     "title": ""
    }
   },
   "outputs": [],
   "source": [
    "# 3. Refresh QA tables. (Rebuilt on each run)\n",
    "\n",
    "# 3a. Count encounters missing GENDER or BIRTH_YEAR by month\n",
    "(spark.table(SILVER_DEM)\n",
    "      .withColumn(\"month\", F.date_format(\"START_TS\", \"yyyy-MM\"))\n",
    "      .filter(\"GENDER IS NULL OR BIRTH_YEAR IS NULL\")\n",
    "      .groupBy(\"month\")\n",
    "      .agg(F.count(\"*\").alias(\"unmatched_encounters\"))\n",
    "      .write\n",
    "      .mode(\"overwrite\")\n",
    "      .format(\"delta\")\n",
    "      .option(\"overwriteSchema\", \"true\")\n",
    "      .saveAsTable(GOLD_QA_ENC_MISSING_DEM))\n",
    "\n",
    "# 3b. Identify patients with no matching encounter records\n",
    "patients_df   = spark.table(\"kardia_silver.silver_patients\")\n",
    "encounter_ids = spark.table(SILVER_DEM).select(\"PatientID\").distinct()\n",
    "\n",
    "(patients_df.alias(\"p\")\n",
    "            .join(\n",
    "                encounter_ids.alias(\"e\"),\n",
    "                F.col(\"p.ID\") == F.col(\"e.PatientID\"),\n",
    "                \"left_anti\"\n",
    "            )\n",
    "            .select(\"p.ID\", \"p.GENDER\", \"p.BIRTH_YEAR\")\n",
    "            .withColumn(\"as_of_date\", F.current_date())\n",
    "            .write\n",
    "            .mode(\"overwrite\")\n",
    "            .format(\"delta\")\n",
    "            .option(\"overwriteSchema\", \"true\")\n",
    "            .saveAsTable(GOLD_QA_PT_MISSING_ENC))"
   ]
  },
  {
   "metadata": {},
   "cell_type": "code",
   "outputs": [],
   "execution_count": null,
   "source": [
    "# 4. Preview sample rows from each Gold and QA table.\n",
    "for tbl in [GOLD_ENC_BY_MONTH, GOLD_QA_ENC_MISSING_DEM, GOLD_QA_PT_MISSING_ENC]:\n",
    "    spark.sql(f\"REFRESH TABLE {tbl}\")\n",
    "    display(spark.sql(f\"SELECT * FROM {tbl} LIMIT 10\"))\n",
    "\n",
    "# NOTE: In production, a foreachBatch and MERGE pattern could be used instead\n",
    "# of `outputMode(\"complete\")` to incrementally update only changed months."
   ]
  }
 ],
 "metadata": {
  "application/vnd.databricks.v1+notebook": {
   "computePreferences": null,
   "dashboards": [],
   "environmentMetadata": {
    "base_environment": "",
    "environment_version": "2"
   },
   "inputWidgetPreferences": null,
   "language": "python",
   "notebookMetadata": {
    "mostRecentlyExecutedCommandWithImplicitDF": {
     "commandId": 5515449300637104,
     "dataframes": [
      "_sqldf"
     ]
    },
    "pythonIndentUnit": 4
   },
   "notebookName": "03_gold_view_encounters_by_month",
   "widgets": {}
  },
  "language_info": {
   "name": "python"
  }
 },
 "nbformat": 4,
 "nbformat_minor": 0
}

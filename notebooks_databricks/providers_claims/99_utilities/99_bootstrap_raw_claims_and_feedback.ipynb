{
 "cells": [
  {
   "cell_type": "code",
   "execution_count": 0,
   "metadata": {
    "application/vnd.databricks.v1+cell": {
     "cellMetadata": {
      "byteLimit": 2048000,
      "rowLimit": 10000
     },
     "inputWidgets": {},
     "nuid": "c7588e88-c465-45f8-bf3e-dd2062fac2f9",
     "showTitle": false,
     "tableResultSettingsMap": {},
     "title": ""
    }
   },
   "outputs": [],
   "source": [
    "# 99_bootstrap_raw_claims_and_feedback.ipynb\n",
    "# Perform one-time setup for Claims and Feedback data.\n",
    "# Creates the raw input folders and moves in the initial test files.\n",
    "\n",
    "# 1. Manually upload the test files to DBFS:\n",
    "#    - claims_part_1.parquet  → dbfs:/FileStore/tables/\n",
    "#    - feedback_part_1.jsonl  → dbfs:/FileStore/tables/\n",
    "\n",
    "UPLOADS_DIR            = \"dbfs:/FileStore/tables/\"\n",
    "RAW_CLAIMS_DIR         = \"dbfs:/kardia/raw/claims/\"\n",
    "RAW_FEEDBACK_DIR       = \"dbfs:/kardia/raw/feedback/\"\n",
    "\n",
    "INITIAL_CLAIMS_FILE    = \"claims_part_1.parquet\"\n",
    "INITIAL_FEEDBACK_FILE  = \"feedback_part_1.jsonl\"\n",
    "\n",
    "# Step 1 – Create raw folders if needed\n",
    "dbutils.fs.mkdirs(RAW_CLAIMS_DIR)\n",
    "dbutils.fs.mkdirs(RAW_FEEDBACK_DIR)\n",
    "\n",
    "# Helper to bootstrap a file\n",
    "def bootstrap_file(src_dir, raw_dir, filename):\n",
    "    src = src_dir + filename\n",
    "    dst = raw_dir + filename\n",
    "\n",
    "    existing   = [f.name for f in dbutils.fs.ls(raw_dir)]\n",
    "    uploads    = [f.name for f in dbutils.fs.ls(src_dir)]\n",
    "    already    = filename in existing\n",
    "    available  = filename in uploads\n",
    "\n",
    "    if already:\n",
    "        print(f\"Skipped (already exists): {dst}\")\n",
    "    elif not available:\n",
    "        print(f\"Skipped (not found in uploads): {src}\")\n",
    "    else:\n",
    "        try:\n",
    "            dbutils.fs.cp(src, dst)\n",
    "            print(f\"Bootstrapped: {filename} → {dst}\")\n",
    "        except Exception as e:\n",
    "            print(f\"Failed to copy {filename}: {e}\")\n",
    "\n",
    "# Step 2 – Bootstrap claims file\n",
    "bootstrap_file(UPLOADS_DIR, RAW_CLAIMS_DIR, INITIAL_CLAIMS_FILE)\n",
    "\n",
    "# Step 3 – Bootstrap feedback file\n",
    "bootstrap_file(UPLOADS_DIR, RAW_FEEDBACK_DIR, INITIAL_FEEDBACK_FILE)"
   ]
  }
 ],
 "metadata": {
  "application/vnd.databricks.v1+notebook": {
   "computePreferences": null,
   "dashboards": [],
   "environmentMetadata": null,
   "inputWidgetPreferences": null,
   "language": "python",
   "notebookMetadata": {
    "pythonIndentUnit": 4
   },
   "notebookName": "99_bootstrap_raw_claims_and_feedback",
   "widgets": {}
  },
  "language_info": {
   "name": "python"
  }
 },
 "nbformat": 4,
 "nbformat_minor": 0
}

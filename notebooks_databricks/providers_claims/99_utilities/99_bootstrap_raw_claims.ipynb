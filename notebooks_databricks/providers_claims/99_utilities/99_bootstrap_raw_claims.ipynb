{
 "cells": [
  {
   "cell_type": "code",
   "execution_count": 0,
   "metadata": {
    "application/vnd.databricks.v1+cell": {
     "cellMetadata": {
      "byteLimit": 2048000,
      "rowLimit": 10000
     },
     "inputWidgets": {},
     "nuid": "c7588e88-c465-45f8-bf3e-dd2062fac2f9",
     "showTitle": false,
     "tableResultSettingsMap": {},
     "title": ""
    }
   },
   "outputs": [],
   "source": [
    "# 99_bootstrap_raw_claims.ipynb\n",
    "# Perform one-time setup for Claims data.\n",
    "# Creates the raw input folder and moves in the initial test file.\n",
    "\n",
    "# 1. Manually upload the test file `claims_part_1.avro` to DBFS.\n",
    "\n",
    "UPLOADS_DIR = \"dbfs:/FileStore/tables/\"\n",
    "RAW_CLAIMS_DIR = \"dbfs:/kardia/raw/claims/\"\n",
    "INITIAL_TEST_FILE = \"claims_part_1.avro\"\n",
    "\n",
    "src = UPLOADS_DIR + INITIAL_TEST_FILE\n",
    "dst = RAW_CLAIMS_DIR + INITIAL_TEST_FILE\n",
    "\n",
    "# Step 1 – Create raw folder if needed\n",
    "dbutils.fs.mkdirs(RAW_CLAIMS_DIR)\n",
    "\n",
    "# Step 2 – Check if file exists in destination already\n",
    "existing = [f.name for f in dbutils.fs.ls(RAW_CLAIMS_DIR)]\n",
    "already_exists = INITIAL_TEST_FILE in existing\n",
    "\n",
    "# Step 3 – Check if file exists in uploads directory\n",
    "uploads = [f.name for f in dbutils.fs.ls(UPLOADS_DIR)]\n",
    "available_to_copy = INITIAL_TEST_FILE in uploads\n",
    "\n",
    "# Step 4 – Conditionally copy file\n",
    "if already_exists:\n",
    "    print(f\"Skipped (already exists): {dst}\")\n",
    "elif not available_to_copy:\n",
    "    print(f\"Skipped (not found in uploads): {src}\")\n",
    "else:\n",
    "    try:\n",
    "        dbutils.fs.cp(src, dst)\n",
    "        print(f\"Bootstrapped: {INITIAL_TEST_FILE} copied to {dst}\")\n",
    "    except Exception as e:\n",
    "        print(f\"Failed to copy: {e}\")"
   ]
  }
 ],
 "metadata": {
  "application/vnd.databricks.v1+notebook": {
   "computePreferences": null,
   "dashboards": [],
   "environmentMetadata": null,
   "inputWidgetPreferences": null,
   "language": "python",
   "notebookMetadata": {
    "pythonIndentUnit": 4
   },
   "notebookName": "99_bootstrap_raw_claims",
   "widgets": {}
  },
  "language_info": {
   "name": "python"
  }
 },
 "nbformat": 4,
 "nbformat_minor": 0
}

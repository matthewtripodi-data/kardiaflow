{
 "cells": [
  {
   "cell_type": "code",
   "execution_count": 0,
   "metadata": {
    "application/vnd.databricks.v1+cell": {
     "cellMetadata": {},
     "inputWidgets": {},
     "nuid": "c3368557-209d-448f-8500-faff17f1c50b",
     "showTitle": false,
     "tableResultSettingsMap": {},
     "title": ""
    }
   },
   "outputs": [],
   "source": [
    "# 99_move_new_feedback_files_to_raw.ipynb\n",
    "# Move newly uploaded Feedback test files into the raw folder for Auto Loader.\n",
    "# Matches any file that begins with 'feedback_part_' and ends in '.jsonl'.\n",
    "# Files already present in the destination folder will be skipped.\n",
    "\n",
    "UPLOADS_DIR       = \"dbfs:/FileStore/tables/\"\n",
    "RAW_FEEDBACK_DIR  = \"dbfs:/kardia/raw/feedback/\"\n",
    "\n",
    "def _exists(dir_path: str, fname: str) -> bool:\n",
    "    \"\"\"Check if a file with the given name already exists in the destination directory.\"\"\"\n",
    "    return fname in [obj.name for obj in dbutils.fs.ls(dir_path)]\n",
    "\n",
    "# Iterate over uploaded files and move matching JSONL feedback parts\n",
    "for obj in dbutils.fs.ls(UPLOADS_DIR):\n",
    "    name = obj.name\n",
    "    if not (name.startswith(\"feedback_part_\") and name.endswith(\".jsonl\")):\n",
    "        continue  # skip non‑feedback files\n",
    "\n",
    "    if _exists(RAW_FEEDBACK_DIR, name):\n",
    "        print(f\"Skipped (already exists): {name}\")\n",
    "    else:\n",
    "        src = obj.path\n",
    "        dst = RAW_FEEDBACK_DIR + name\n",
    "        try:\n",
    "            dbutils.fs.cp(src, dst)\n",
    "            print(f\"Moved: {name} to {dst}\")\n",
    "        except Exception as e:\n",
    "            print(f\"Failed to move {name}: {e}\")"
   ]
  }
 ],
 "metadata": {
  "application/vnd.databricks.v1+notebook": {
   "computePreferences": null,
   "dashboards": [],
   "environmentMetadata": {
    "base_environment": "",
    "environment_version": "2"
   },
   "inputWidgetPreferences": null,
   "language": "python",
   "notebookMetadata": {
    "pythonIndentUnit": 4
   },
   "notebookName": "99_move_new_feedback_to_raw",
   "widgets": {}
  },
  "language_info": {
   "name": "python"
  }
 },
 "nbformat": 4,
 "nbformat_minor": 0
}

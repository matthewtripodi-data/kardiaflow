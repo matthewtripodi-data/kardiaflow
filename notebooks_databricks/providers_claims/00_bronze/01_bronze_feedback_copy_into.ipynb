{
 "cells": [
  {
   "cell_type": "code",
   "execution_count": 0,
   "metadata": {
    "application/vnd.databricks.v1+cell": {
     "cellMetadata": {
      "byteLimit": 2048000,
      "rowLimit": 10000
     },
     "inputWidgets": {},
     "nuid": "2d614158-1333-4b94-a244-a813b3a226f9",
     "showTitle": false,
     "tableResultSettingsMap": {},
     "title": ""
    }
   },
   "outputs": [],
   "source": [
    "# 01_bronze_feedback_autoloader.ipynb  \n",
    "# SOURCE:  JSON‑lines feedback files in ADLS at abfss://raw@kardiaadlsdemo.dfs.core.windows.net/feedback/  \n",
    "# OUTPUT: `kardia_bronze.bronze_feedback` with Change Data Feed enabled  \n",
    "# TRIGGER: Incremental batch; append to Delta table with schema evolution enabled  \n",
    "\n",
    "# NOTE: Using Auto Loader for JSONL; schema evolves automatically via schemaLocation.\n",
    "\n",
    "import pyspark.sql.functions as F\n",
    "from pyspark.sql.types import (\n",
    "    StructType, StructField, StringType, IntegerType,\n",
    "    ArrayType, MapType\n",
    ")\n",
    "\n",
    "# SAS auth via secret\n",
    "ADLS_ACCOUNT = \"kardiaadlsdemo\"\n",
    "SUFFIX       = \"core.windows.net\"\n",
    "sas_token    = dbutils.secrets.get(\"kardia\",\"adls_raw_sas\").lstrip('?')\n",
    "\n",
    "# Table & path configs\n",
    "BRONZE_DB             = \"kardia_bronze\"\n",
    "BRONZE_FEEDBACK_TABLE = f\"{BRONZE_DB}.bronze_feedback\"\n",
    "\n",
    "RAW_PATH        = f\"abfss://raw@{ADLS_ACCOUNT}.dfs.{SUFFIX}/feedback/\"\n",
    "BRONZE_PATH     = \"dbfs:/kardia/bronze/bronze_feedback\"\n",
    "SCHEMA_PATH     = \"dbfs:/kardia/_schemas/bronze_feedback\"\n",
    "CHECKPOINT_PATH = \"dbfs:/kardia/_checkpoints/bronze_feedback\"\n",
    "BAD_PATH        = \"dbfs:/kardia/_quarantine/raw/bad_feedback\""
   ]
  },
  {
   "cell_type": "code",
   "execution_count": 0,
   "metadata": {
    "application/vnd.databricks.v1+cell": {
     "cellMetadata": {
      "byteLimit": 2048000,
      "rowLimit": 10000
     },
     "inputWidgets": {},
     "nuid": "06b00c98-84c0-47db-891c-bbb8271d144e",
     "showTitle": false,
     "tableResultSettingsMap": {},
     "title": ""
    }
   },
   "outputs": [],
   "source": [
    "# mount auth configs\n",
    "spark.conf.set(f\"fs.azure.account.auth.type.{ADLS_ACCOUNT}.dfs.{SUFFIX}\", \"SAS\")\n",
    "spark.conf.set(\n",
    "    f\"fs.azure.sas.token.provider.type.{ADLS_ACCOUNT}.dfs.{SUFFIX}\",\n",
    "    \"org.apache.hadoop.fs.azurebfs.sas.FixedSASTokenProvider\"\n",
    ")\n",
    "spark.conf.set(\n",
    "    f\"fs.azure.sas.fixed.token.{ADLS_ACCOUNT}.dfs.{SUFFIX}\",\n",
    "    sas_token\n",
    ")"
   ]
  },
  {
   "cell_type": "code",
   "execution_count": 0,
   "metadata": {
    "application/vnd.databricks.v1+cell": {
     "cellMetadata": {
      "byteLimit": 2048000,
      "implicitDf": true,
      "rowLimit": 10000
     },
     "inputWidgets": {},
     "nuid": "98374570-c52d-45ab-abb4-8bba09a205d0",
     "showTitle": false,
     "tableResultSettingsMap": {},
     "title": ""
    }
   },
   "outputs": [],
   "source": [
    "# 2. Define explicit JSON schema for performance & type safety.\n",
    "feedback_schema = StructType([\n",
    "    StructField(\"feedback_id\",        StringType(), True),\n",
    "    StructField(\"provider_id\",        StringType(), True),\n",
    "    StructField(\"timestamp\",          StringType(), True),\n",
    "    StructField(\"visit_id\",           StringType(), True),\n",
    "    StructField(\"satisfaction_score\", IntegerType(), True),\n",
    "    StructField(\"comments\",           StringType(), True),\n",
    "    StructField(\"source\",             StringType(), True),\n",
    "    StructField(\"tags\",               ArrayType(StringType()), True),\n",
    "    StructField(\"metadata\",           MapType(StringType(), StringType()), True),\n",
    "])"
   ]
  },
  {
   "cell_type": "code",
   "execution_count": 0,
   "metadata": {
    "application/vnd.databricks.v1+cell": {
     "cellMetadata": {
      "byteLimit": 2048000,
      "rowLimit": 10000
     },
     "inputWidgets": {},
     "nuid": "e8c70107-3a47-4370-8544-61951271be67",
     "showTitle": false,
     "tableResultSettingsMap": {},
     "title": ""
    }
   },
   "outputs": [],
   "source": [
    "# 3. Ensure Bronze DB and table exist.\n",
    "spark.sql(f\"CREATE DATABASE IF NOT EXISTS {BRONZE_DB}\")\n",
    "spark.sql(f\"\"\"\n",
    "  CREATE TABLE IF NOT EXISTS {BRONZE_FEEDBACK_TABLE} (\n",
    "    feedback_id        STRING,\n",
    "    provider_id        STRING,\n",
    "    timestamp          STRING,\n",
    "    visit_id           STRING,\n",
    "    satisfaction_score INT,\n",
    "    comments           STRING,\n",
    "    source             STRING,\n",
    "    tags               ARRAY<STRING>,\n",
    "    metadata           MAP<STRING,STRING>,\n",
    "    _ingest_ts         TIMESTAMP,\n",
    "    _source_file       STRING,\n",
    "    _batch_id          STRING\n",
    "  )\n",
    "  USING DELTA\n",
    "  LOCATION '{BRONZE_PATH}'\n",
    "  TBLPROPERTIES ('delta.enableChangeDataFeed'='true')\n",
    "\"\"\")"
   ]
  },
  {
   "cell_type": "code",
   "execution_count": 0,
   "metadata": {
    "application/vnd.databricks.v1+cell": {
     "cellMetadata": {
      "byteLimit": 2048000,
      "rowLimit": 10000
     },
     "inputWidgets": {},
     "nuid": "8efecbe3-b7a2-4bab-a34e-716df374e3a4",
     "showTitle": false,
     "tableResultSettingsMap": {},
     "title": ""
    }
   },
   "outputs": [],
   "source": [
    "# 4. Define incremental Auto-loader stream for JSONL files.\n",
    "stream = (\n",
    "    spark.readStream\n",
    "         .format(\"cloudFiles\")\n",
    "         .option(\"cloudFiles.format\", \"json\")\n",
    "         .option(\"cloudFiles.schemaLocation\", SCHEMA_PATH)\n",
    "         .option(\"cloudFiles.includeExistingFiles\", \"true\")\n",
    "         .option(\"badRecordsPath\", BAD_PATH)\n",
    "         .schema(feedback_schema)\n",
    "         .load(RAW_PATH)\n",
    "\n",
    "         # Add audit columns\n",
    "         .withColumn(\"_ingest_ts\",  F.current_timestamp())\n",
    "         .withColumn(\"_source_file\", F.input_file_name())\n",
    "         .withColumn(\"_batch_id\",    F.lit(spark.conf.get(\"spark.databricks.job.runId\",\"manual\")))\n",
    "         \n",
    "         .writeStream\n",
    "         .option(\"checkpointLocation\", CHECKPOINT_PATH)\n",
    "         .option(\"mergeSchema\", \"true\")\n",
    "         .trigger(availableNow=True)\n",
    "         .toTable(BRONZE_FEEDBACK_TABLE)\n",
    ")\n",
    "stream.awaitTermination()\n",
    "print(f\"Bronze ingest complete: from {RAW_PATH} to {BRONZE_FEEDBACK_TABLE}\")"
   ]
  },
  {
   "cell_type": "code",
   "execution_count": 0,
   "metadata": {
    "application/vnd.databricks.v1+cell": {
     "cellMetadata": {
      "byteLimit": 2048000,
      "rowLimit": 10000
     },
     "inputWidgets": {},
     "nuid": "90ffa34e-9070-4f25-b4cb-f28df3fed62f",
     "showTitle": false,
     "tableResultSettingsMap": {},
     "title": ""
    }
   },
   "outputs": [],
   "source": [
    "# 5. Stream finished – Verify Bronze table and ingestion history.\n",
    "df = spark.table(BRONZE_FEEDBACK_TABLE)\n",
    "print(f\"Rows in Bronze Feedback: {df.count()}\")\n",
    "display(df.orderBy(F.col(\"_ingest_ts\").desc()).limit(5))\n",
    "\n",
    "history_df = spark.sql(f\"DESCRIBE HISTORY delta.`{BRONZE_PATH}`\") \\\n",
    "                  .select(\"version\",\"timestamp\",\"operation\")\n",
    "display(history_df.limit(5))"
   ]
  }
 ],
 "metadata": {
  "application/vnd.databricks.v1+notebook": {
   "computePreferences": null,
   "dashboards": [],
   "environmentMetadata": {
    "base_environment": "",
    "environment_version": "2"
   },
   "inputWidgetPreferences": null,
   "language": "python",
   "notebookMetadata": {
    "mostRecentlyExecutedCommandWithImplicitDF": {
     "commandId": -1,
     "dataframes": [
      "_sqldf"
     ]
    },
    "pythonIndentUnit": 4
   },
   "notebookName": "01_bronze_feedback_copy_into",
   "widgets": {}
  },
  "language_info": {
   "name": "python"
  }
 },
 "nbformat": 4,
 "nbformat_minor": 0
}

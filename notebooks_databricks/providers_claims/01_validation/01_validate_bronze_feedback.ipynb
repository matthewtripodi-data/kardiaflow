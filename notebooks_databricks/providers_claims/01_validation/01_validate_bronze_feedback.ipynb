{
 "cells": [
  {
   "cell_type": "code",
   "execution_count": 0,
   "metadata": {
    "application/vnd.databricks.v1+cell": {
     "cellMetadata": {
      "byteLimit": 2048000,
      "rowLimit": 10000
     },
     "inputWidgets": {},
     "nuid": "f1705681-735a-4793-bac1-5e6d702cf03a",
     "showTitle": false,
     "tableResultSettingsMap": {},
     "title": ""
    }
   },
   "outputs": [],
   "source": [
    "# 01_validate_bronze_feedback.ipynb\n",
    "# SOURCE: Bronze Feedback table\n",
    "# OUTPUT: N/A\n",
    "\n",
    "from pyspark.sql import functions as F\n",
    "\n",
    "BRONZE_PATH           = \"dbfs:/kardia/bronze/bronze_feedback\"\n",
    "BRONZE_FEEDBACK_TBL   = \"bronze_feedback\"\n",
    "\n",
    "feedback_df = spark.read.format(\"delta\").load(BRONZE_PATH)"
   ]
  },
  {
   "cell_type": "code",
   "execution_count": 0,
   "metadata": {
    "application/vnd.databricks.v1+cell": {
     "cellMetadata": {
      "byteLimit": 2048000,
      "rowLimit": 10000
     },
     "inputWidgets": {},
     "nuid": "63f3faee-e5c7-4d0d-8723-55a954cae867",
     "showTitle": false,
     "tableResultSettingsMap": {},
     "title": ""
    }
   },
   "outputs": [],
   "source": [
    "# 1. Compute basic stats\n",
    "stats_row = feedback_df.agg(\n",
    "    F.count(\"*\").alias(\"row_count\"),\n",
    "    F.countDistinct(\"feedback_id\").alias(\"distinct_ids\"),\n",
    "    F.sum(F.when(F.col(\"feedback_id\").isNull(), 1).otherwise(0)).alias(\"null_ids\"),\n",
    "    F.sum(F.when(F.col(\"satisfaction_score\").isNull(), 1).otherwise(0)).alias(\"null_scores\")\n",
    ").first()\n",
    "\n",
    "validation_passed = True\n",
    "error_messages    = []"
   ]
  },
  {
   "cell_type": "code",
   "execution_count": 0,
   "metadata": {
    "application/vnd.databricks.v1+cell": {
     "cellMetadata": {
      "byteLimit": 2048000,
      "rowLimit": 10000
     },
     "inputWidgets": {},
     "nuid": "ff4285a4-37f3-4d70-9df2-975808fcfde8",
     "showTitle": false,
     "tableResultSettingsMap": {},
     "title": ""
    }
   },
   "outputs": [],
   "source": [
    "# 2. Assertions to catch critical data quality issues\n",
    "if stats_row.null_ids != 0:\n",
    "    validation_passed = False\n",
    "    error_messages.append(f\"{stats_row.null_ids} null feedback_id(s)\")\n",
    "if stats_row.distinct_ids != stats_row.row_count:\n",
    "    validation_passed = False\n",
    "    error_messages.append(\"Duplicate feedback_id(s) found\")\n",
    "if stats_row.null_scores != 0:\n",
    "    validation_passed = False\n",
    "    error_messages.append(f\"{stats_row.null_scores} null satisfaction_score(s)\")\n",
    "\n",
    "print(\"Validation stats:\", stats_row.asDict())\n",
    "if validation_passed:\n",
    "    print(\"Bronze Feedback validation passed\")\n",
    "else:\n",
    "    print(\"Bronze Feedback validation failed:\", \"; \".join(error_messages))"
   ]
  },
  {
   "cell_type": "code",
   "execution_count": 0,
   "metadata": {
    "application/vnd.databricks.v1+cell": {
     "cellMetadata": {
      "byteLimit": 2048000,
      "rowLimit": 10000
     },
     "inputWidgets": {},
     "nuid": "5b240af9-b16e-4932-8518-fb34e3d56f76",
     "showTitle": false,
     "tableResultSettingsMap": {},
     "title": ""
    }
   },
   "outputs": [],
   "source": [
    "# 3. Append validation summary\n",
    "validation_summary_df = (\n",
    "    spark.createDataFrame([stats_row.asDict()])\n",
    "         .withColumn(\"table_name\", F.lit(BRONZE_FEEDBACK_TBL))\n",
    "         .withColumn(\"passed\",      F.lit(validation_passed))\n",
    "         .withColumn(\"errors\",      F.lit(\", \".join(error_messages)))\n",
    "         .withColumn(\"_run_ts\",     F.current_timestamp())\n",
    ")\n",
    "\n",
    "(validation_summary_df.write\n",
    "    .mode(\"append\")\n",
    "    .option(\"mergeSchema\", \"true\")\n",
    "    .saveAsTable(\"kardia_validation.bronze_feedback_summary\")\n",
    ")\n",
    "\n",
    "# Show latest summary entries\n",
    "display(\n",
    "    spark.sql(\n",
    "        \"SELECT * FROM kardia_validation.bronze_feedback_summary ORDER BY _run_ts DESC LIMIT 5\"\n",
    "    )\n",
    ")"
   ]
  }
 ],
 "metadata": {
  "application/vnd.databricks.v1+notebook": {
   "computePreferences": null,
   "dashboards": [],
   "environmentMetadata": {
    "base_environment": "",
    "environment_version": "2"
   },
   "inputWidgetPreferences": null,
   "language": "python",
   "notebookMetadata": {
    "pythonIndentUnit": 4
   },
   "notebookName": "01_validate_bronze_feedback",
   "widgets": {}
  },
  "language_info": {
   "name": "python"
  }
 },
 "nbformat": 4,
 "nbformat_minor": 0
}

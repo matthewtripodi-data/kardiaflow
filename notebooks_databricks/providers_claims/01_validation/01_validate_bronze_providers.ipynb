{
 "cells": [
  {
   "cell_type": "code",
   "execution_count": 0,
   "metadata": {
    "application/vnd.databricks.v1+cell": {
     "cellMetadata": {
      "byteLimit": 2048000,
      "rowLimit": 10000
     },
     "inputWidgets": {},
     "nuid": "706612bf-e17c-4af5-9dfb-810704feab29",
     "showTitle": false,
     "tableResultSettingsMap": {},
     "title": ""
    }
   },
   "outputs": [],
   "source": [
    "# 01_validate_bronze_providers.ipynb\n",
    "# SOURCE: Bronze Providers table\n",
    "# OUTPUT: N/A\n",
    "\n",
    "from pyspark.sql import functions as F\n",
    "\n",
    "BRONZE_PATH = \"dbfs:/kardia/bronze/bronze_providers\"\n",
    "BRONZE_PROVIDERS_TBL = \"bronze_providers\"\n",
    "\n",
    "providers_df = spark.read.format(\"delta\").load(BRONZE_PATH)"
   ]
  },
  {
   "cell_type": "code",
   "execution_count": 0,
   "metadata": {
    "application/vnd.databricks.v1+cell": {
     "cellMetadata": {
      "byteLimit": 2048000,
      "rowLimit": 10000
     },
     "inputWidgets": {},
     "nuid": "b215270f-0ebf-4e98-86a0-90ea2d223d94",
     "showTitle": false,
     "tableResultSettingsMap": {},
     "title": ""
    }
   },
   "outputs": [],
   "source": [
    "# 1. Check for NULLs and uniqueness after Bronze ingestion.\n",
    "stats_row = providers_df.agg(\n",
    "    F.count(\"*\").alias(\"row_count\"),\n",
    "    F.countDistinct(\"ProviderID\").alias(\"distinct_ids\"),\n",
    "    F.sum(F.when(F.col(\"ProviderID\").isNull(), 1).otherwise(0)).alias(\"null_ids\"),\n",
    "    F.sum(F.when(F.col(\"ProviderSpecialty\").isNull(), 1).otherwise(0)).alias(\"null_specialty\"),\n",
    "    F.sum(F.when(F.col(\"ProviderLocation\").isNull(), 1).otherwise(0)).alias(\"null_location\")\n",
    ").first()\n",
    "\n",
    "# Track validation result\n",
    "validation_passed = True\n",
    "error_messages = []"
   ]
  },
  {
   "cell_type": "code",
   "execution_count": 0,
   "metadata": {
    "application/vnd.databricks.v1+cell": {
     "cellMetadata": {
      "byteLimit": 2048000,
      "rowLimit": 10000
     },
     "inputWidgets": {},
     "nuid": "eecbf8bc-9d99-46b7-a753-a9736a580678",
     "showTitle": false,
     "tableResultSettingsMap": {},
     "title": ""
    }
   },
   "outputs": [],
   "source": [
    "# 2. Run assertions to catch critical data quality issues\n",
    "if stats_row.null_ids != 0:\n",
    "    validation_passed = False\n",
    "    error_messages.append(f\"{stats_row.null_ids} null ProviderID(s)\")\n",
    "if stats_row.distinct_ids != stats_row.row_count:\n",
    "    validation_passed = False\n",
    "    error_messages.append(\"Duplicate ProviderID(s) found\")\n",
    "\n",
    "# Optional printout (still exits on failure unless wrapped in try)\n",
    "print(\"Validation stats:\", stats_row.asDict())\n",
    "if validation_passed:\n",
    "    print(\"Bronze Providers validation passed\")\n",
    "else:\n",
    "    print(\"Bronze Providers validation failed:\", \"; \".join(error_messages))"
   ]
  },
  {
   "cell_type": "code",
   "execution_count": 0,
   "metadata": {
    "application/vnd.databricks.v1+cell": {
     "cellMetadata": {
      "byteLimit": 2048000,
      "rowLimit": 10000
     },
     "inputWidgets": {},
     "nuid": "a9ed1be0-4844-482e-89f4-031f5312d6b4",
     "showTitle": false,
     "tableResultSettingsMap": {},
     "title": ""
    }
   },
   "outputs": [],
   "source": [
    "# 3. Append one-row summary to track record count (data quality check)\n",
    "validation_summary_df = (\n",
    "    spark.createDataFrame([stats_row.asDict()])\n",
    "    .withColumn(\"table_name\", F.lit(BRONZE_PROVIDERS_TBL))\n",
    "    .withColumn(\"passed\", F.lit(validation_passed))\n",
    "    .withColumn(\"errors\", F.lit(\", \".join(error_messages)))\n",
    "    .withColumn(\"_run_ts\", F.current_timestamp())\n",
    ")\n",
    "\n",
    "(validation_summary_df.write\n",
    "                      .mode(\"append\")\n",
    "                      .option(\"mergeSchema\", \"true\")\n",
    "                      .saveAsTable(\"kardia_validation.bronze_providers_summary\"))\n",
    "\n",
    "# Show latest summary entries for verification\n",
    "display(spark.sql(\"SELECT * FROM kardia_validation.bronze_providers_summary ORDER BY _run_ts DESC LIMIT 5\"))"
   ]
  }
 ],
 "metadata": {
  "application/vnd.databricks.v1+notebook": {
   "computePreferences": null,
   "dashboards": [],
   "environmentMetadata": {
    "base_environment": "",
    "environment_version": "2"
   },
   "inputWidgetPreferences": null,
   "language": "python",
   "notebookMetadata": {
    "pythonIndentUnit": 4
   },
   "notebookName": "01_validate_bronze_providers",
   "widgets": {}
  },
  "language_info": {
   "name": "python"
  }
 },
 "nbformat": 4,
 "nbformat_minor": 0
}

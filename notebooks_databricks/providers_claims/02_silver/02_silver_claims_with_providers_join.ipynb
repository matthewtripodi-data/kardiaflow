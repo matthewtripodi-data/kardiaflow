{
 "cells": [
  {
   "cell_type": "code",
   "execution_count": 0,
   "metadata": {
    "application/vnd.databricks.v1+cell": {
     "cellMetadata": {
      "byteLimit": 2048000,
      "implicitDf": true,
      "rowLimit": 10000
     },
     "inputWidgets": {},
     "nuid": "5732618a-c36b-464d-b862-66ce81f8f669",
     "showTitle": false,
     "tableResultSettingsMap": {},
     "title": ""
    }
   },
   "outputs": [],
   "source": [
    "%sql\n",
    "/* 03_silver_claims_enriched_join.ipynb\n",
    "\n",
    "SOURCE: Snapshot join of current claims and current provider attributes.\n",
    "OUTPUT: kardia_silver.silver_claims_enriched (for Gold KPIs)\n",
    "\n",
    "PATTERN: LEFT JOIN from claims to SCD-2 providers, keeping only the current provider row.\n",
    "TRIGGER: CTAS; rerun after any update to claims or providers.\n",
    "\n",
    "NOTE:\n",
    "- LEFT JOIN preserves all claims\n",
    "- is_current = true ensures only the current row is used\n",
    "*/\n",
    "\n",
    "-- 1. Ensure database exists\n",
    "CREATE DATABASE IF NOT EXISTS kardia_silver;\n",
    "\n",
    "-- 2. Join claims to current provider attributes (no CTE – inline subquery)\n",
    "CREATE OR REPLACE TABLE kardia_silver.silver_claims_enriched AS\n",
    "WITH current_providers AS (\n",
    "    SELECT provider_id, provider_specialty, provider_location\n",
    "    FROM kardia_silver.silver_providers\n",
    "    WHERE is_current = true\n",
    ")\n",
    "SELECT\n",
    "    c.claim_id,\n",
    "    c.patient_id,\n",
    "    c.provider_id,\n",
    "    c.claim_amount,\n",
    "    c.claim_date,\n",
    "    c.diagnosis_code,\n",
    "    c.procedure_code,\n",
    "    c.claim_status,\n",
    "    c.claim_type,\n",
    "    c.claim_submission_method,\n",
    "    c._ingest_ts,\n",
    "    p.provider_specialty,\n",
    "    p.provider_location\n",
    "FROM kardia_silver.silver_claims c\n",
    "LEFT JOIN current_providers p\n",
    "ON c.provider_id = p.provider_id;"
   ]
  }
 ],
 "metadata": {
  "application/vnd.databricks.v1+notebook": {
   "computePreferences": null,
   "dashboards": [],
   "environmentMetadata": {
    "base_environment": "",
    "environment_version": "2"
   },
   "inputWidgetPreferences": null,
   "language": "python",
   "notebookMetadata": {
    "mostRecentlyExecutedCommandWithImplicitDF": {
     "commandId": 7169852190736268,
     "dataframes": [
      "_sqldf"
     ]
    },
    "pythonIndentUnit": 4
   },
   "notebookName": "02_silver_claims_with_providers_join",
   "widgets": {}
  },
  "language_info": {
   "name": "python"
  }
 },
 "nbformat": 4,
 "nbformat_minor": 0
}

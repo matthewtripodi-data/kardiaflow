{
 "cells": [
  {
   "cell_type": "code",
   "execution_count": 0,
   "metadata": {
    "application/vnd.databricks.v1+cell": {
     "cellMetadata": {
      "byteLimit": 2048000,
      "rowLimit": 10000
     },
     "inputWidgets": {},
     "nuid": "524416a9-7d56-455b-bb5a-59363f4cde6b",
     "showTitle": false,
     "tableResultSettingsMap": {},
     "title": ""
    }
   },
   "outputs": [],
   "source": [
    "# 99_reset_kardia_environment.ipynb\n",
    "# Wipe all databases and DBFS folders to start clean.\n",
    "\n",
    "# 1. Stop any active Streaming queries.\n",
    "for stream in spark.streams.active:\n",
    "    print(f\"Stopping stream: {stream.id}\")\n",
    "    stream.stop()\n",
    "    stream.awaitTermination(30)\n",
    "\n",
    "# 2. Drop all Databricks databases.\n",
    "for db in spark.catalog.listDatabases():\n",
    "    if db.name.startswith(\"kardia_\"):\n",
    "        print(f\"Dropping database: {db.name}\")\n",
    "        spark.sql(f\"DROP DATABASE {db.name} CASCADE\")\n",
    "\n",
    "# 3. Delete the entire DBFS folder tree.\n",
    "storage_root = \"dbfs:/kardia/\"\n",
    "dbutils.fs.rm(storage_root, recurse=True)\n",
    "print(f\"Deleted: {storage_root}\")\n",
    "\n",
    "print(\"Kardia environment reset complete.\")"
   ]
  }
 ],
 "metadata": {
  "application/vnd.databricks.v1+notebook": {
   "computePreferences": null,
   "dashboards": [],
   "environmentMetadata": null,
   "inputWidgetPreferences": null,
   "language": "python",
   "notebookMetadata": {
    "pythonIndentUnit": 4
   },
   "notebookName": "33_reset_kardia_environment",
   "widgets": {}
  },
  "language_info": {
   "name": "python"
  }
 },
 "nbformat": 4,
 "nbformat_minor": 0
}

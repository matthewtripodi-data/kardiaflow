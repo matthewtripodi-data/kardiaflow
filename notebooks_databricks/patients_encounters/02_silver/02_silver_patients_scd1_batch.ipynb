{
 "cells": [
  {
   "cell_type": "code",
   "execution_count": 0,
   "metadata": {
    "application/vnd.databricks.v1+cell": {
     "cellMetadata": {
      "byteLimit": 2048000,
      "rowLimit": 10000
     },
     "inputWidgets": {},
     "nuid": "04ee6be9-aa8a-4f71-9c4c-fe806381b81d",
     "showTitle": false,
     "tableResultSettingsMap": {},
     "title": ""
    }
   },
   "outputs": [],
   "source": [
    "# 02_silver_patients_scd1_batch.py\n",
    "# SOURCE: kardia_bronze.bronze_patients (Delta CDF)\n",
    "# OUTPUT: `kardia_silver.silver_patients`, updated incrementally.\n",
    "# PATTERN: Read Change Data Feed from Bronze, mask PHI columns, derive `BIRTH_YEAR` from `BIRTHDATE`.\n",
    "# TRIGGER: Incremental batch job\n",
    "\n",
    "from pyspark.sql import functions as F, Window\n",
    "from delta.tables import DeltaTable\n",
    "\n",
    "SILVER_DB = \"kardia_silver\"\n",
    "BRONZE_PATIENTS_TBL = \"kardia_bronze.bronze_patients\"\n",
    "SILVER_PATIENTS_TBL = \"kardia_silver.silver_patients\"\n",
    "CHECKPOINT_PATH = \"dbfs:/kardia/_checkpoints/silver_patients\"\n",
    "\n",
    "# CDF event types for upserts; only process new inserts and updated records\n",
    "CHANGE_TYPES = (\"insert\", \"update_postimage\")\n",
    "\n",
    "PHI_COLS_MASK = [\"DEATHDATE\",\"SSN\",\"DRIVERS\",\"PASSPORT\",\"FIRST\",\"LAST\",\"BIRTHPLACE\"]"
   ]
  },
  {
   "cell_type": "code",
   "execution_count": 0,
   "metadata": {
    "application/vnd.databricks.v1+cell": {
     "cellMetadata": {
      "byteLimit": 2048000,
      "implicitDf": true,
      "rowLimit": 10000
     },
     "inputWidgets": {},
     "nuid": "8ceac8f3-eb38-484a-9c2b-fea93828f68c",
     "showTitle": false,
     "tableResultSettingsMap": {},
     "title": ""
    }
   },
   "outputs": [],
   "source": [
    "# 1. Ensure the Silver DB and Silver Patients table exist\n",
    "spark.sql(f\"CREATE DATABASE IF NOT EXISTS {SILVER_DB}\")\n",
    "\n",
    "spark.sql(\n",
    "    f\"\"\"\n",
    "    CREATE TABLE IF NOT EXISTS {SILVER_PATIENTS_TBL} (\n",
    "        ID           STRING,\n",
    "        BIRTH_YEAR   INT,\n",
    "        DEATHDATE    STRING,\n",
    "        FIRST        STRING,\n",
    "        LAST         STRING,\n",
    "        SSN          STRING,\n",
    "        DRIVERS      STRING,\n",
    "        PASSPORT     STRING,\n",
    "        BIRTHPLACE   STRING,\n",
    "        MARITAL      STRING,\n",
    "        RACE         STRING,\n",
    "        ETHNICITY    STRING,\n",
    "        GENDER       STRING,\n",
    "        CONSTRAINT id_nn CHECK (ID IS NOT NULL),\n",
    "        CONSTRAINT gender_ck CHECK (GENDER IN ('M','F'))\n",
    "        ) USING DELTA\n",
    "        \"\"\"\n",
    ")"
   ]
  },
  {
   "cell_type": "code",
   "execution_count": 0,
   "metadata": {
    "application/vnd.databricks.v1+cell": {
     "cellMetadata": {
      "byteLimit": 2048000,
      "rowLimit": 10000
     },
     "inputWidgets": {},
     "nuid": "593477bb-2fe1-418c-a7c3-1fa3bd4ca689",
     "showTitle": false,
     "tableResultSettingsMap": {},
     "title": ""
    }
   },
   "outputs": [],
   "source": [
    "# 2. Merge the latest version of each patient record into the Silver Patients table.\n",
    "#    `batch_df` is a static DF containing the latest new and updated rows from Bronze CDF.\n",
    "#    Use the `_commit_version` column from CDF to identify the most recent change per ID.\n",
    "def upsert_to_silver_patients(batch_df, _):\n",
    "    w_latest = Window.partitionBy(\"ID\").orderBy(F.col(\"_commit_version\").desc())\n",
    "\n",
    "    latest = (\n",
    "        batch_df\n",
    "        .filter(F.col(\"_change_type\").isin(*CHANGE_TYPES))\n",
    "        .withColumn(\"rn\", F.row_number().over(w_latest))\n",
    "        .filter(\"rn = 1\")\n",
    "        .withColumn(\"BIRTH_YEAR\", F.year(\"BIRTHDATE\"))\n",
    "        .select(\n",
    "            \"ID\",\n",
    "            \"BIRTH_YEAR\",\n",
    "            *[F.lit(None).cast(\"string\").alias(c) for c in PHI_COLS_MASK],\n",
    "            \"MARITAL\",\"RACE\",\"ETHNICITY\",\"GENDER\"\n",
    "        )\n",
    "    )\n",
    "\n",
    "    (DeltaTable.forName(spark, SILVER_PATIENTS_TBL)\n",
    "               .alias(\"t\")\n",
    "               .merge(latest.alias(\"s\"), \"t.ID = s.ID\")\n",
    "               .whenMatchedUpdateAll()\n",
    "               .whenNotMatchedInsertAll()\n",
    "               .execute())\n"
   ]
  },
  {
   "cell_type": "code",
   "execution_count": 0,
   "metadata": {
    "application/vnd.databricks.v1+cell": {
     "cellMetadata": {
      "byteLimit": 2048000,
      "rowLimit": 10000
     },
     "inputWidgets": {},
     "nuid": "fada235f-9746-441d-ae9f-14b551702766",
     "showTitle": false,
     "tableResultSettingsMap": {},
     "title": ""
    }
   },
   "outputs": [],
   "source": [
    "# 3. Incremental batch run\n",
    "(spark.readStream\n",
    "      .format(\"delta\")\n",
    "      .option(\"readChangeFeed\", \"true\")\n",
    "      .table(BRONZE_PATIENTS_TBL)\n",
    "\n",
    "      .writeStream\n",
    "      .foreachBatch(upsert_to_silver_patients)\n",
    "      .option(\"checkpointLocation\", CHECKPOINT_PATH)\n",
    "      .trigger(availableNow=True)\n",
    "      .start()\n",
    "      .awaitTermination())"
   ]
  },
  {
   "cell_type": "code",
   "execution_count": 0,
   "metadata": {
    "application/vnd.databricks.v1+cell": {
     "cellMetadata": {
      "byteLimit": 2048000,
      "rowLimit": 10000
     },
     "inputWidgets": {},
     "nuid": "f86f61b1-4569-4b5f-94a2-d617c8cc6e47",
     "showTitle": false,
     "tableResultSettingsMap": {},
     "title": ""
    }
   },
   "outputs": [],
   "source": [
    "# 4. Print final row count and checkpoint location\n",
    "print(f\"Silver patients row count: {spark.table(SILVER_PATIENTS_TBL).count()}\")\n",
    "print(f\"Checkpoint: {CHECKPOINT_PATH}\")\n",
    "\n",
    "# NOTE: A Delta Lake merge is not a join in the relational sense.\n",
    "# It is a mutation command where the source table drives the operation.\n",
    "#\n",
    "# Delta CDF emits all changes since the last checkpoint.\n",
    "# This may include multiple versions of the same ID across different commits.\n",
    "# We deduplicate using row_number() to keep only the latest version per patient ID."
   ]
  }
 ],
 "metadata": {
  "application/vnd.databricks.v1+notebook": {
   "computePreferences": null,
   "dashboards": [],
   "environmentMetadata": {
    "base_environment": "",
    "environment_version": "2"
   },
   "inputWidgetPreferences": null,
   "language": "python",
   "notebookMetadata": {
    "mostRecentlyExecutedCommandWithImplicitDF": {
     "commandId": 7755667534954233,
     "dataframes": [
      "_sqldf"
     ]
    },
    "pythonIndentUnit": 4
   },
   "notebookName": "02_silver_patients_transform",
   "widgets": {}
  },
  "language_info": {
   "name": "python"
  }
 },
 "nbformat": 4,
 "nbformat_minor": 0
}

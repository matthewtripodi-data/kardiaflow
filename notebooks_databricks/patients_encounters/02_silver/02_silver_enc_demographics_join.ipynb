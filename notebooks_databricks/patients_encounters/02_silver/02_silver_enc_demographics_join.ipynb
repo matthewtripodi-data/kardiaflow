{
 "cells": [
  {
   "metadata": {},
   "cell_type": "code",
   "outputs": [],
   "execution_count": null,
   "source": [
    "%sql\n",
    "/* 03_silver_enc_demographics_join.ipynb\n",
    "SOURCE: kardia_silver.silver_encounters + kardia_silver.silver_patients\n",
    "OUTPUT: kardia_silver.silver_encounters_demographics\n",
    "PATTERN: Snapshot left join to attach demographic details to each encounter\n",
    "NOTE: GENDER and BIRTH_YEAR are already cleaned and validated upstream.\n",
    "      This join runs on a small single-node cluster where broadcast is unnecessary;\n",
    "      however, on larger clusters, BROADCAST(p) would avoid shuffle overhead.\n",
    "TRIGGER: CTAS; rerun after each encounter load or on a fixed schedule */\n",
    "\n",
    "-- 1. Ensure database exists\n",
    "CREATE DATABASE IF NOT EXISTS kardia_silver;\n",
    "\n",
    "-- 2. Create a snapshot table that attaches patient demographics to each encounter\n",
    "CREATE OR REPLACE TABLE kardia_silver.silver_encounters_demographics AS\n",
    "SELECT  e.EncounterID,\n",
    "        e.PatientID,\n",
    "        e.START_TS,\n",
    "        e.CODE,\n",
    "        e.DESCRIPTION,\n",
    "        e.REASONCODE,\n",
    "        e.REASONDESCRIPTION,\n",
    "        p.GENDER,\n",
    "        p.BIRTH_YEAR\n",
    "FROM    kardia_silver.silver_encounters e\n",
    "LEFT JOIN kardia_silver.silver_patients  p\n",
    "       ON e.PatientID = p.ID;"
   ]
  }
 ],
 "metadata": {
  "application/vnd.databricks.v1+notebook": {
   "computePreferences": null,
   "dashboards": [],
   "environmentMetadata": {
    "base_environment": "",
    "environment_version": "2"
   },
   "inputWidgetPreferences": null,
   "language": "python",
   "notebookMetadata": {
    "pythonIndentUnit": 4
   },
   "notebookName": "02_silver_enc_demographics_join",
   "widgets": {}
  },
  "language_info": {
   "name": "python"
  }
 },
 "nbformat": 4,
 "nbformat_minor": 0
}

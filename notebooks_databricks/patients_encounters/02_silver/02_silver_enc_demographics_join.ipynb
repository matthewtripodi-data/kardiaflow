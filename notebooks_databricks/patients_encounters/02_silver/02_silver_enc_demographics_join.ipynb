{
 "cells": [
  {
   "cell_type": "code",
   "execution_count": 0,
   "metadata": {
    "application/vnd.databricks.v1+cell": {
     "cellMetadata": {
      "byteLimit": 2048000,
      "rowLimit": 10000
     },
     "inputWidgets": {},
     "nuid": "c2cb4c1e-6841-4a27-b1f6-7b821b8650bd",
     "showTitle": false,
     "tableResultSettingsMap": {},
     "title": ""
    }
   },
   "outputs": [],
   "source": [
    "%sql\n",
    "/* 03_silver_enc_demographics_join.ipynb\n",
    "SOURCE:  Snapshot join of Silver encounters and Silver patients for demographic enrichment.\n",
    "OUTPUT: `kardia_silver.silver_encounters_demographics`, refreshed as a batch table.\n",
    "PATTERN: Snapshot left join\n",
    "TRIGGER: CTAS; rerun after each encounter load or on schedule */\n",
    "\n",
    "-- 1. Ensure database exists\n",
    "CREATE DATABASE IF NOT EXISTS kardia_silver;\n",
    "\n",
    "-- 2. Create hourly metrics summarizing claim volume per ingestion hour\n",
    "CREATE OR REPLACE TABLE kardia_silver.silver_encounters_demographics AS\n",
    "    WITH patients_clean AS (\n",
    "        SELECT ID,\n",
    "               CASE WHEN GENDER IN ('M','F') THEN GENDER END AS GENDER,\n",
    "               CASE WHEN BIRTH_YEAR BETWEEN 1900 AND YEAR(CURRENT_DATE()) THEN BIRTH_YEAR END AS BIRTH_YEAR\n",
    "        FROM kardia_silver.silver_patients\n",
    "    )\n",
    "    SELECT e.EncounterID,\n",
    "           e.PatientID,\n",
    "           e.START_TS,\n",
    "           e.CODE,\n",
    "           e.DESCRIPTION,\n",
    "           e.REASONCODE,\n",
    "           e.REASONDESCRIPTION,\n",
    "           p.GENDER,\n",
    "           p.BIRTH_YEAR\n",
    "    FROM kardia_silver.silver_encounters AS e\n",
    "    LEFT JOIN patients_clean AS p\n",
    "        ON e.PatientID = p.ID;"
   ]
  }
 ],
 "metadata": {
  "application/vnd.databricks.v1+notebook": {
   "computePreferences": null,
   "dashboards": [],
   "environmentMetadata": {
    "base_environment": "",
    "environment_version": "2"
   },
   "inputWidgetPreferences": null,
   "language": "python",
   "notebookMetadata": {
    "pythonIndentUnit": 4
   },
   "notebookName": "02_silver_enc_demographics_join",
   "widgets": {}
  },
  "language_info": {
   "name": "python"
  }
 },
 "nbformat": 4,
 "nbformat_minor": 0
}

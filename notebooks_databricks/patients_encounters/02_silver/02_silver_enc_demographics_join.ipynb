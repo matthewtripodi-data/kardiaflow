{
 "cells": [
  {
   "cell_type": "code",
   "execution_count": 0,
   "metadata": {
    "application/vnd.databricks.v1+cell": {
     "cellMetadata": {
      "byteLimit": 2048000,
      "rowLimit": 10000
     },
     "inputWidgets": {},
     "nuid": "c2cb4c1e-6841-4a27-b1f6-7b821b8650bd",
     "showTitle": false,
     "tableResultSettingsMap": {},
     "title": ""
    }
   },
   "outputs": [],
   "source": [
    "# 03_silver_enc_demographics_join.ipynb\n",
    "# SOURCE:  Joins streaming Silver encounters with static Silver patients for enrichment.\n",
    "# OUTPUT:  `kardia_silver.silver_encounters_demographics`, written as an incremental batch.\n",
    "# PATTERN: Stream–static left join (keeps all encounters even when the patient is missing).\n",
    "# TRIGGER: Simple batch CTAS; rerun after each encounter load or on schedule\n",
    "\n",
    "spark.sql(\"CREATE DATABASE IF NOT EXISTS kardia_silver\")\n",
    "\n",
    "spark.sql(\"\"\"\n",
    "CREATE OR REPLACE TABLE kardia_silver.silver_encounters_demographics AS\n",
    "SELECT  e.EncounterID,\n",
    "        e.PatientID,\n",
    "        e.START_TS,\n",
    "        e.CODE,\n",
    "        e.DESCRIPTION,\n",
    "        e.REASONCODE,\n",
    "        e.REASONDESCRIPTION,\n",
    "        p.GENDER,\n",
    "        p.BIRTH_YEAR\n",
    "FROM    kardia_silver.silver_encounters e\n",
    "LEFT    JOIN kardia_silver.silver_patients p\n",
    "        ON  e.PatientID = p.ID\n",
    "\"\"\")\n",
    "\n",
    "print(f\"Row count: {spark.table('kardia_silver.silver_encounters_demographics').count()}\")\n",
    "\n",
    "spark.sql(\"\"\"ANALYZE TABLE kardia_silver.silver_encounters_demographics COMPUTE STATISTICS;\"\"\")"
   ]
  }
 ],
 "metadata": {
  "application/vnd.databricks.v1+notebook": {
   "computePreferences": null,
   "dashboards": [],
   "environmentMetadata": {
    "base_environment": "",
    "environment_version": "2"
   },
   "inputWidgetPreferences": null,
   "language": "python",
   "notebookMetadata": {
    "pythonIndentUnit": 4
   },
   "notebookName": "02_silver_enc_demographics_join",
   "widgets": {}
  },
  "language_info": {
   "name": "python"
  }
 },
 "nbformat": 4,
 "nbformat_minor": 0
}

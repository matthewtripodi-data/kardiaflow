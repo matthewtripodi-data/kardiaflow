{
 "cells": [
  {
   "cell_type": "code",
   "execution_count": 0,
   "metadata": {
    "application/vnd.databricks.v1+cell": {
     "cellMetadata": {
      "byteLimit": 2048000,
      "rowLimit": 10000
     },
     "inputWidgets": {},
     "nuid": "2284c3f9-11eb-4fae-8f5c-b366141ba286",
     "showTitle": false,
     "tableResultSettingsMap": {},
     "title": ""
    }
   },
   "outputs": [],
   "source": [
    "# 02_silver_encounters_scd1_batch.ipynb\n",
    "# SOURCE: kardia_bronze.bronze_encounters (Delta CDF)\n",
    "# OUTPUT: kardia_silver.silver_encounters (SCD-1 upserts)\n",
    "# PATTERN: Read Change Data Feed from Bronze, derive `START_TS`, and upsert via MERGE by EncounterID.\n",
    "# TRIGGER: Incremental batch job\n",
    "\n",
    "from pyspark.sql import functions as F\n",
    "from delta.tables import DeltaTable\n",
    "\n",
    "SILVER_DB = \"kardia_silver\"\n",
    "BRONZE_ENCOUNTERS_TBL = \"kardia_bronze.bronze_encounters\"\n",
    "SILVER_ENCOUNTERS_TBL = f\"{SILVER_DB}.silver_encounters\"\n",
    "CHECKPOINT_PATH = \"dbfs:/kardia/_checkpoints/silver_encounters\"\n",
    "\n",
    "# CDF event types we care about: insert and update_postimage only\n",
    "CHANGE_TYPES = (\"insert\", \"update_postimage\")"
   ]
  },
  {
   "cell_type": "code",
   "execution_count": 0,
   "metadata": {
    "application/vnd.databricks.v1+cell": {
     "cellMetadata": {
      "byteLimit": 2048000,
      "rowLimit": 10000
     },
     "inputWidgets": {},
     "nuid": "4ca2697b-a5ee-47e4-ac4f-8c5f12623348",
     "showTitle": false,
     "tableResultSettingsMap": {},
     "title": ""
    }
   },
   "outputs": [],
   "source": [
    "# 1. Ensure the Silver DB and Silver Encounters table exist.\n",
    "spark.sql(f\"CREATE DATABASE IF NOT EXISTS {SILVER_DB}\")\n",
    "\n",
    "spark.sql(\n",
    "    f\"\"\"\n",
    "    CREATE TABLE IF NOT EXISTS {SILVER_ENCOUNTERS_TBL} (\n",
    "        encounter_id        STRING  NOT NULL,\n",
    "        patient_id          STRING  NOT NULL,\n",
    "        start_ts            TIMESTAMP,\n",
    "        code                STRING,\n",
    "        description         STRING,\n",
    "        reason_code         STRING,\n",
    "        reason_description  STRING\n",
    "    ) USING DELTA\n",
    "    \"\"\"\n",
    ")"
   ]
  },
  {
   "cell_type": "code",
   "execution_count": 0,
   "metadata": {
    "application/vnd.databricks.v1+cell": {
     "cellMetadata": {
      "byteLimit": 2048000,
      "rowLimit": 10000
     },
     "inputWidgets": {},
     "nuid": "c03289a4-7467-421d-b13e-d27cc3ff16b5",
     "showTitle": false,
     "tableResultSettingsMap": {},
     "title": ""
    }
   },
   "outputs": [],
   "source": [
    "# 2. Define the upsert logic.\n",
    "#    For each batch, update or insert records by encounter_id from Delta CDF.\n",
    "#    `batch_df` is a static DF containing the latest new and updated rows from Bronze CDF.\n",
    "def upsert_to_silver_encounters(batch_df, _):\n",
    "    (DeltaTable.forName(spark, SILVER_ENCOUNTERS_TBL)\n",
    "               .alias(\"t\")\n",
    "               .merge(batch_df.alias(\"s\"), \"t.encounter_id = s.encounter_id\")\n",
    "               .whenMatchedUpdateAll()\n",
    "               .whenNotMatchedInsertAll()\n",
    "               .execute())"
   ]
  },
  {
   "cell_type": "code",
   "execution_count": 0,
   "metadata": {
    "application/vnd.databricks.v1+cell": {
     "cellMetadata": {
      "byteLimit": 2048000,
      "rowLimit": 10000
     },
     "inputWidgets": {},
     "nuid": "e7171933-7a52-47cf-aeed-5ecf93f07954",
     "showTitle": false,
     "tableResultSettingsMap": {},
     "title": ""
    }
   },
   "outputs": [],
   "source": [
    "# 3a. Read new changes from the Bronze Encounters table.\n",
    "bronze_cdf = (\n",
    "    spark.readStream\n",
    "         .format(\"delta\")\n",
    "         .option(\"readChangeFeed\", \"true\")\n",
    "         .table(BRONZE_ENCOUNTERS_TBL)\n",
    "         .filter(F.col(\"_change_type\").isin(*CHANGE_TYPES))\n",
    ")"
   ]
  },
  {
   "cell_type": "code",
   "execution_count": 0,
   "metadata": {
    "application/vnd.databricks.v1+cell": {
     "cellMetadata": {
      "byteLimit": 2048000,
      "rowLimit": 10000
     },
     "inputWidgets": {},
     "nuid": "1c1f93c3-7629-4045-a283-36b42f28cb44",
     "showTitle": false,
     "tableResultSettingsMap": {},
     "title": ""
    }
   },
   "outputs": [],
   "source": [
    "# 3b.  Enrich & rename columns to the Silver schema\n",
    "silver_ready = (\n",
    "    bronze_cdf\n",
    "        .filter(F.col(\"_change_type\").isin(*CHANGE_TYPES))\n",
    "        .select(\n",
    "            F.col(\"ID\").alias(\"encounter_id\"),\n",
    "            F.col(\"PATIENT\").alias(\"patient_id\"),\n",
    "            F.col(\"DATE\").cast(\"timestamp\").alias(\"start_ts\"),\n",
    "            F.col(\"CODE\").alias(\"code\"),\n",
    "            F.col(\"DESCRIPTION\").alias(\"description\"),\n",
    "            F.col(\"REASONCODE\").alias(\"reason_code\"),\n",
    "            F.col(\"REASONDESCRIPTION\").alias(\"reason_description\")\n",
    "        )\n",
    ")"
   ]
  },
  {
   "cell_type": "code",
   "execution_count": 0,
   "metadata": {
    "application/vnd.databricks.v1+cell": {
     "cellMetadata": {
      "byteLimit": 2048000,
      "rowLimit": 10000
     },
     "inputWidgets": {},
     "nuid": "41eb38a3-1d08-4b5d-8410-229280786432",
     "showTitle": false,
     "tableResultSettingsMap": {},
     "title": ""
    }
   },
   "outputs": [],
   "source": [
    "# 4. Run incremental batch\n",
    "(silver_ready.writeStream\n",
    "        .foreachBatch(upsert_to_silver_encounters)\n",
    "        .option(\"checkpointLocation\", CHECKPOINT_PATH)\n",
    "        .trigger(availableNow=True)\n",
    "        .start()\n",
    "        .awaitTermination())\n",
    "\n",
    "print(\"Silver Encounters incremental batch complete.\")"
   ]
  }
 ],
 "metadata": {
  "application/vnd.databricks.v1+notebook": {
   "computePreferences": null,
   "dashboards": [],
   "environmentMetadata": {
    "base_environment": "",
    "environment_version": "2"
   },
   "inputWidgetPreferences": null,
   "language": "python",
   "notebookMetadata": {
    "mostRecentlyExecutedCommandWithImplicitDF": {
     "commandId": 4880559092059857,
     "dataframes": [
      "_sqldf"
     ]
    },
    "pythonIndentUnit": 4
   },
   "notebookName": "02_silver_encounters_scd1_batch",
   "widgets": {}
  },
  "language_info": {
   "name": "python"
  }
 },
 "nbformat": 4,
 "nbformat_minor": 0
}

{
 "cells": [
  {
   "metadata": {},
   "cell_type": "code",
   "outputs": [],
   "execution_count": null,
   "source": [
    "%sql\n",
    "/* 02_silver_encounters_with_patients_join.ipynb\n",
    "SOURCE: kardia_silver.silver_encounters + kardia_silver.silver_patients\n",
    "OUTPUT: kardia_silver.silver_encounters_with_patients\n",
    "PATTERN: Snapshot left join to attach demographic details to each encounter\n",
    "NOTE: GENDER and BIRTH_YEAR are already cleaned and validated upstream.\n",
    "      This join runs on a small single-node cluster where broadcast is unnecessary;\n",
    "      however, on larger clusters, BROADCAST(p) would avoid shuffle overhead.\n",
    "TRIGGER: CTAS; rerun after each encounter load or on a fixed schedule */\n",
    "\n",
    "-- 1. Ensure database exists\n",
    "CREATE DATABASE IF NOT EXISTS kardia_silver;\n",
    "\n",
    "-- 2. Create a snapshot table that attaches patient demographics to each encounter\n",
    "CREATE OR REPLACE TABLE kardia_silver.silver_encounters_with_patients AS\n",
    "SELECT  e.EncounterID        AS encounter_id,\n",
    "        e.PatientID          AS patient_id,\n",
    "        e.START_TS           AS start_ts,\n",
    "        e.CODE               AS code,\n",
    "        e.DESCRIPTION        AS description,\n",
    "        e.REASONCODE         AS reason_code,\n",
    "        e.REASONDESCRIPTION  AS reason_description,\n",
    "        p.GENDER             AS gender,\n",
    "        p.BIRTH_YEAR         AS birth_year\n",
    "FROM    kardia_silver.silver_encounters e\n",
    "LEFT JOIN kardia_silver.silver_patients  p\n",
    "       ON e.PatientID = p.ID;"
   ]
  }
 ],
 "metadata": {
  "application/vnd.databricks.v1+notebook": {
   "computePreferences": null,
   "dashboards": [],
   "environmentMetadata": {
    "base_environment": "",
    "environment_version": "2"
   },
   "inputWidgetPreferences": null,
   "language": "python",
   "notebookMetadata": {
    "pythonIndentUnit": 4
   },
   "notebookName": "02_silver_enc_demographics_join",
   "widgets": {}
  },
  "language_info": {
   "name": "python"
  }
 },
 "nbformat": 4,
 "nbformat_minor": 0
}

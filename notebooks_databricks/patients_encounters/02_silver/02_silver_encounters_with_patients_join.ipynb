{
 "cells": [
  {
   "cell_type": "code",
   "execution_count": 0,
   "metadata": {
    "application/vnd.databricks.v1+cell": {
     "cellMetadata": {
      "byteLimit": 2048000,
      "implicitDf": true,
      "rowLimit": 10000
     },
     "inputWidgets": {},
     "nuid": "a16ea821-d869-4a10-9cf9-061186553e86",
     "showTitle": false,
     "tableResultSettingsMap": {},
     "title": ""
    }
   },
   "outputs": [],
   "source": [
    "%sql\n",
    "/* 02_silver_encounters_with_patients_join.ipynb\n",
    "SOURCE: kardia_silver.silver_encounters + kardia_silver.silver_patients\n",
    "OUTPUT: kardia_silver.silver_encounters_with_patients\n",
    "PATTERN: Snapshot left join to attach demographic details to each encounter\n",
    "NOTE: GENDER and BIRTH_YEAR are already cleaned and validated upstream.\n",
    "      This join runs on a small single-node cluster where broadcast is unnecessary;\n",
    "      however, on larger clusters, BROADCAST(p) would avoid shuffle overhead.\n",
    "TRIGGER: CTAS; rerun after each encounter load or on a fixed schedule */\n",
    "\n",
    "-- 1. Ensure database exists\n",
    "CREATE DATABASE IF NOT EXISTS kardia_silver;\n",
    "\n",
    "-- 2. Create a snapshot table that attaches patient demographics to each encounter\n",
    "CREATE OR REPLACE TABLE kardia_silver.silver_encounters_with_patients AS\n",
    "SELECT e.encounter_id,\n",
    "       e.patient_id,\n",
    "       e.start_ts,\n",
    "       e.code,\n",
    "       e.description,\n",
    "       e.reason_code,\n",
    "       e.reason_description,\n",
    "       p.gender,\n",
    "       p.birth_year\n",
    "FROM   kardia_silver.silver_encounters e\n",
    "LEFT JOIN kardia_silver.silver_patients  p\n",
    "       ON e.patient_id = p.id\n",
    "WHERE p.gender IN ('M','F');"
   ]
  }
 ],
 "metadata": {
  "application/vnd.databricks.v1+notebook": {
   "computePreferences": null,
   "dashboards": [],
   "environmentMetadata": {
    "base_environment": "",
    "environment_version": "2"
   },
   "inputWidgetPreferences": null,
   "language": "python",
   "notebookMetadata": {
    "mostRecentlyExecutedCommandWithImplicitDF": {
     "commandId": 4880559092059786,
     "dataframes": [
      "_sqldf"
     ]
    },
    "pythonIndentUnit": 4
   },
   "notebookName": "02_silver_encounters_with_patients_join",
   "widgets": {}
  },
  "language_info": {
   "name": "python"
  }
 },
 "nbformat": 4,
 "nbformat_minor": 0
}

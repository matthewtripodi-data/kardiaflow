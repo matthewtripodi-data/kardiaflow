{
 "cells": [
  {
   "metadata": {},
   "cell_type": "code",
   "outputs": [],
   "execution_count": null,
   "source": [
    "# 02_silver_encounters_transform.ipynb\n",
    "# SOURCE: Stream encounter records from Bronze (with Delta CDF) into Silver.\n",
    "# OUTPUT: `kardia_silver.silver_encounters`, updated incrementally.\n",
    "# TRIGGER: Continuously read incremental inserts and updates from Bronze Encounters table.\n",
    "# TABLE STORAGE:  Partitions by ENCOUNTER_MONTH\n",
    "\n",
    "from pyspark.sql import functions as F\n",
    "from delta.tables import DeltaTable\n",
    "\n",
    "# Table paths\n",
    "SILVER_DB       = \"kardia_silver\"\n",
    "BRONZE_TABLE    = \"kardia_bronze.bronze_encounters\"\n",
    "SILVER_TABLE    = f\"{SILVER_DB}.silver_encounters\"\n",
    "CHECKPOINT_PATH = \"dbfs:/kardia/_checkpoints/silver_encounters\"\n",
    "CHANGE_TYPES    = [\"insert\", \"update_postimage\"]"
   ]
  },
  {
   "metadata": {},
   "cell_type": "code",
   "outputs": [],
   "execution_count": null,
   "source": [
    "# 1. Ensure the Silver DB and Silver Encounters table exist.\n",
    "spark.sql(f\"CREATE DATABASE IF NOT EXISTS {SILVER_DB}\")\n",
    "\n",
    "spark.sql(\n",
    "    f\"\"\"\n",
    "    CREATE TABLE IF NOT EXISTS {SILVER_TABLE} (\n",
    "      EncounterID        STRING,\n",
    "      PatientID          STRING,\n",
    "      START_TS           TIMESTAMP,\n",
    "      ENCOUNTER_MONTH    STRING,\n",
    "      CODE               STRING,\n",
    "      DESCRIPTION        STRING,\n",
    "      REASONCODE         STRING,\n",
    "      REASONDESCRIPTION  STRING\n",
    "    ) USING DELTA\n",
    "    PARTITIONED BY (ENCOUNTER_MONTH)\n",
    "    \"\"\"\n",
    ")"
   ]
  },
  {
   "metadata": {},
   "cell_type": "code",
   "outputs": [],
   "execution_count": null,
   "source": [
    "# 2. Define the upsert logic.\n",
    "#    For each batch, update or insert records by EncounterID from Delta CDF.\n",
    "#    `batch_df` is a static DF containing the latest new and updated rows from Bronze CDF.\n",
    "def upsert_to_silver(batch_df, _):\n",
    "    if batch_df.isEmpty():\n",
    "        return\n",
    "\n",
    "    (DeltaTable.forName(spark, SILVER_TABLE)\n",
    "               .alias(\"target\")\n",
    "               .merge(batch_df.alias(\"source\"), \"target.EncounterID = source.EncounterID\")\n",
    "               .whenMatchedUpdateAll()\n",
    "               .whenNotMatchedInsertAll()\n",
    "               .execute())"
   ]
  },
  {
   "cell_type": "code",
   "execution_count": 0,
   "metadata": {
    "application/vnd.databricks.v1+cell": {
     "cellMetadata": {
      "byteLimit": 2048000,
      "rowLimit": 10000
     },
     "inputWidgets": {},
     "nuid": "e7171933-7a52-47cf-aeed-5ecf93f07954",
     "showTitle": false,
     "tableResultSettingsMap": {},
     "title": ""
    }
   },
   "outputs": [],
   "source": [
    "# 3a. Read new changes from the Bronze Encounters table.\n",
    "bronze_cdf = (\n",
    "    spark.readStream\n",
    "         .format(\"delta\")\n",
    "         .option(\"readChangeFeed\", \"true\")\n",
    "         .table(BRONZE_TABLE)\n",
    "         .filter(F.col(\"_change_type\").isin(*CHANGE_TYPES))\n",
    ")"
   ]
  },
  {
   "metadata": {},
   "cell_type": "code",
   "outputs": [],
   "execution_count": null,
   "source": [
    "# 3b. Enrich to eight-column Silver schema.\n",
    "silver_ready = (\n",
    "    bronze_cdf\n",
    "        .withColumnRenamed(\"ID\",      \"EncounterID\")\n",
    "        .withColumnRenamed(\"PATIENT\", \"PatientID\")\n",
    "        .withColumnRenamed(\"DATE\",    \"EVENT_DATE_STR\")\n",
    "\n",
    "        # Parse the raw date string into two formats:\n",
    "        # - EVENT_DATE (DateType)    - Useful for analytics\n",
    "        # - ENCOUNTER_MONTH (String) - Serves as a stable partition key\n",
    "        # - EVENT_TS (TimestampType) - If source starts sending real datetimes (future-proof)\n",
    "        .withColumn(\"EVENT_DATE\",      F.to_date(\"EVENT_DATE_STR\",      \"yyyy-MM-dd\"))\n",
    "        .withColumn(\"ENCOUNTER_MONTH\", F.date_format(\"EVENT_DATE\",      \"yyyy-MM\"))\n",
    "        .withColumn(\"EVENT_TS\",        F.to_timestamp(\"EVENT_DATE_STR\", \"yyyy-MM-dd\"))\n",
    "\n",
    "        # Select final schema (exclude staging columns)\n",
    "        .selectExpr(\n",
    "            \"EncounterID\",\n",
    "            \"PatientID\",\n",
    "            \"EVENT_TS as START_TS\",\n",
    "            \"ENCOUNTER_MONTH\",\n",
    "            \"CODE\",\n",
    "            \"DESCRIPTION\",\n",
    "            \"REASONCODE\",\n",
    "            \"REASONDESCRIPTION\"\n",
    "        )\n",
    ")\n",
    "# NOTE: Timestamp is parsed as midnight in session time zone (UTC by default)"
   ]
  },
  {
   "metadata": {},
   "cell_type": "code",
   "outputs": [],
   "execution_count": null,
   "source": [
    "# 3c. Write to Silver table using foreachBatch + MERGE for upserts\n",
    "#     Process available data every 30 seconds\n",
    "query = (\n",
    "    silver_ready.writeStream\n",
    "                .foreachBatch(upsert_to_silver)\n",
    "                .option(\"checkpointLocation\", CHECKPOINT_PATH)\n",
    "                .trigger(processingTime=\"30 seconds\")\n",
    "                .start()\n",
    ")\n",
    "\n",
    "# Confirm the stream has started.\n",
    "print(\"Silver Encounters stream started.\")\n",
    "print(query.status)\n",
    "\n",
    "# NOTE: No deduplication needed. Each EncounterID appears at most once per micro-batch since encounters are rarely updated."
   ]
  }
 ],
 "metadata": {
  "application/vnd.databricks.v1+notebook": {
   "computePreferences": null,
   "dashboards": [],
   "environmentMetadata": {
    "base_environment": "",
    "environment_version": "2"
   },
   "inputWidgetPreferences": null,
   "language": "python",
   "notebookMetadata": {
    "mostRecentlyExecutedCommandWithImplicitDF": {
     "commandId": 8863411695073921,
     "dataframes": [
      "_sqldf"
     ]
    },
    "pythonIndentUnit": 4
   },
   "notebookName": "02_silver_encounters_transform",
   "widgets": {}
  },
  "language_info": {
   "name": "python"
  }
 },
 "nbformat": 4,
 "nbformat_minor": 0
}

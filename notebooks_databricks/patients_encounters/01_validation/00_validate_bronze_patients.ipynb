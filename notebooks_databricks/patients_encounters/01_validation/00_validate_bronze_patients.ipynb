{
 "cells": [
  {
   "cell_type": "code",
   "execution_count": 0,
   "metadata": {
    "application/vnd.databricks.v1+cell": {
     "cellMetadata": {
      "byteLimit": 2048000,
      "rowLimit": 10000
     },
     "inputWidgets": {},
     "nuid": "83185d9b-893d-4229-a73e-2d91382b83d1",
     "showTitle": false,
     "tableResultSettingsMap": {},
     "title": ""
    }
   },
   "outputs": [],
   "source": [
    "# 00_validate_bronze_patients.ipynb\n",
    "# SOURCE: Bronze Patients table\n",
    "# OUTPUT: N/A\n",
    "\n",
    "from pyspark.sql import functions as F\n",
    "\n",
    "BRONZE_PATH = \"dbfs:/kardia/bronze/bronze_patients\"\n",
    "df = spark.read.format(\"delta\").load(BRONZE_PATH)"
   ]
  },
  {
   "cell_type": "code",
   "execution_count": 0,
   "metadata": {
    "application/vnd.databricks.v1+cell": {
     "cellMetadata": {
      "byteLimit": 2048000,
      "rowLimit": 10000
     },
     "inputWidgets": {},
     "nuid": "b1cf73f1-9812-4a2f-8edb-fea928844868",
     "showTitle": false,
     "tableResultSettingsMap": {},
     "title": ""
    }
   },
   "outputs": [],
   "source": [
    "# Check for NULLs and uniqueness after Bronze ingestion.\n",
    "stats = df.agg(\n",
    "    F.count(\"*\").alias(\"row_count\"),\n",
    "    F.countDistinct(\"ID\").alias(\"distinct_ids\"),\n",
    "    F.sum(F.when(F.col(\"ID\").isNull(), 1).otherwise(0)).alias(\"null_id_count\"),\n",
    "    F.sum(F.when(~F.col(\"GENDER\").isin(\"M\",\"F\"),1).otherwise(0)).alias(\"invalid_gender_count\")\n",
    ").first()\n",
    "print(\"Validation stats:\", stats.asDict())\n",
    "\n",
    "assert stats.null_id_count == 0, f\"{stats.null_id_count} null ID(s) found\"\n",
    "assert stats.invalid_gender_count == 0, f\"{stats.invalid_gender_count} invalid GENDER values\"\n",
    "assert stats.distinct_ids == stats.row_count, \"Duplicate Patient ID(s) detected\"\n",
    "\n",
    "print(\"Bronze Patients validation passed\")"
   ]
  }
 ],
 "metadata": {
  "application/vnd.databricks.v1+notebook": {
   "computePreferences": null,
   "dashboards": [],
   "environmentMetadata": {
    "base_environment": "",
    "environment_version": "2"
   },
   "inputWidgetPreferences": null,
   "language": "python",
   "notebookMetadata": {
    "pythonIndentUnit": 4
   },
   "notebookName": "00_validate_bronze_patients",
   "widgets": {}
  },
  "language_info": {
   "name": "python"
  }
 },
 "nbformat": 4,
 "nbformat_minor": 0
}

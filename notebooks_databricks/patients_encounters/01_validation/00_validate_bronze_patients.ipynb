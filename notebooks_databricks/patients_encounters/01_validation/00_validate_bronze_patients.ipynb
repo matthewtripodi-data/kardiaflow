{
 "cells": [
  {
   "cell_type": "code",
   "execution_count": 0,
   "metadata": {
    "application/vnd.databricks.v1+cell": {
     "cellMetadata": {
      "byteLimit": 2048000,
      "rowLimit": 10000
     },
     "inputWidgets": {},
     "nuid": "83185d9b-893d-4229-a73e-2d91382b83d1",
     "showTitle": false,
     "tableResultSettingsMap": {},
     "title": ""
    }
   },
   "outputs": [],
   "source": [
    "# 00_validate_bronze_patients.ipynb\n",
    "# SOURCE: Bronze Patients table\n",
    "# OUTPUT: N/A\n",
    "\n",
    "from pyspark.sql import functions as F\n",
    "\n",
    "BRONZE_PATH = \"dbfs:/kardia/bronze/bronze_patients\"\n",
    "BRONZE_PATIENTS_TBL = \"bronze_patients\"\n",
    "\n",
    "patients_df = spark.read.format(\"delta\").load(BRONZE_PATH)"
   ]
  },
  {
   "cell_type": "code",
   "execution_count": 0,
   "metadata": {
    "application/vnd.databricks.v1+cell": {
     "cellMetadata": {
      "byteLimit": 2048000,
      "rowLimit": 10000
     },
     "inputWidgets": {},
     "nuid": "b1cf73f1-9812-4a2f-8edb-fea928844868",
     "showTitle": false,
     "tableResultSettingsMap": {},
     "title": ""
    }
   },
   "outputs": [],
   "source": [
    "# 1. Check for NULLs and uniqueness after Bronze ingestion.\n",
    "stats_row = patients_df.agg(\n",
    "    F.count(\"*\").alias(\"row_count\"),\n",
    "    F.countDistinct(\"ID\").alias(\"distinct_ids\"),\n",
    "    F.sum(F.when(F.col(\"ID\").isNull(), 1).otherwise(0)).alias(\"null_id_count\"),\n",
    "    F.sum(F.when(~F.col(\"GENDER\").isin(\"M\",\"F\"), 1).otherwise(0)).alias(\"invalid_gender_count\")\n",
    ").first()\n",
    "\n",
    "print(\"Validation stats:\", stats_row.asDict())"
   ]
  },
  {
   "metadata": {},
   "cell_type": "code",
   "outputs": [],
   "execution_count": null,
   "source": [
    "# 2. Run assertions to catch critical data quality issues\n",
    "assert stats_row.null_id_count == 0, f\"{stats_row.null_id_count} null ID(s) found\"\n",
    "assert stats_row.invalid_gender_count == 0, f\"{stats_row.invalid_gender_count} invalid GENDER values\"\n",
    "assert stats_row.distinct_ids == stats_row.row_count, \"Duplicate Patient ID(s) detected\"\n",
    "print(\"Bronze Patients validation passed\")"
   ]
  },
  {
   "metadata": {},
   "cell_type": "code",
   "outputs": [],
   "execution_count": null,
   "source": [
    "# 3. Append one-row summary to track record count (data quality check)\n",
    "spark.sql(\"CREATE DATABASE IF NOT EXISTS kardia_meta\")\n",
    "\n",
    "validation_summary_df = (spark.createDataFrame([stats_row.asDict()])\n",
    "                              .withColumn(\"table_name\", F.lit(BRONZE_PATIENTS_TBL))\n",
    "                              .withColumn(\"_run_ts\", F.current_timestamp()))\n",
    "\n",
    "(validation_summary_df\n",
    "        .write.mode(\"append\")\n",
    "        .saveAsTable(\"kardia_meta.bronze_qc\"))"
   ]
  }
 ],
 "metadata": {
  "application/vnd.databricks.v1+notebook": {
   "computePreferences": null,
   "dashboards": [],
   "environmentMetadata": {
    "base_environment": "",
    "environment_version": "2"
   },
   "inputWidgetPreferences": null,
   "language": "python",
   "notebookMetadata": {
    "pythonIndentUnit": 4
   },
   "notebookName": "00_validate_bronze_patients",
   "widgets": {}
  },
  "language_info": {
   "name": "python"
  }
 },
 "nbformat": 4,
 "nbformat_minor": 0
}

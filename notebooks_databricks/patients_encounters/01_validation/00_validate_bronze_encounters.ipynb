{
 "cells": [
  {
   "cell_type": "code",
   "execution_count": 0,
   "metadata": {
    "application/vnd.databricks.v1+cell": {
     "cellMetadata": {
      "byteLimit": 2048000,
      "rowLimit": 10000
     },
     "inputWidgets": {},
     "nuid": "83185d9b-893d-4229-a73e-2d91382b83d1",
     "showTitle": false,
     "tableResultSettingsMap": {},
     "title": ""
    }
   },
   "outputs": [],
   "source": [
    "# 00_validate_bronze_encounters.ipynb\n",
    "# SOURCE: Bronze Encounters table\n",
    "# OUTPUT: N/A\n",
    "\n",
    "from pyspark.sql import functions as F\n",
    "\n",
    "BRONZE_PATH = \"dbfs:/kardia/bronze/bronze_encounters\"\n",
    "BRONZE_ENCOUNTERS_TBL = \"bronze_encounters\"\n",
    "\n",
    "encounters_df = spark.read.format(\"delta\").load(BRONZE_PATH)"
   ]
  },
  {
   "cell_type": "code",
   "execution_count": 0,
   "metadata": {
    "application/vnd.databricks.v1+cell": {
     "cellMetadata": {
      "byteLimit": 2048000,
      "rowLimit": 10000
     },
     "inputWidgets": {},
     "nuid": "b1cf73f1-9812-4a2f-8edb-fea928844868",
     "showTitle": false,
     "tableResultSettingsMap": {},
     "title": ""
    }
   },
   "outputs": [],
   "source": [
    "# 1. Check for NULLs and uniqueness after Bronze ingestion.\n",
    "stats_row = encounters_df.agg(\n",
    "    F.count(\"*\").alias(\"row_count\"),\n",
    "    F.countDistinct(\"ID\").alias(\"distinct_ids\"),\n",
    "    F.sum(F.when(F.col(\"ID\").isNull(), 1).otherwise(0)).alias(\"null_id_count\"),\n",
    "    F.sum(F.when(F.col(\"PATIENT\").isNull(), 1).otherwise(0)).alias(\"null_patient_count\")\n",
    ").first()\n",
    "\n",
    "print(\"Validation stats:\", stats_row.asDict())"
   ]
  },
  {
   "metadata": {},
   "cell_type": "code",
   "outputs": [],
   "execution_count": null,
   "source": [
    "# 2. Run assertions to catch critical data quality issues\n",
    "assert stats_row.null_id_count == 0, f\"{stats_row.null_id_count} null ID(s) found\"\n",
    "assert stats_row.null_patient_count == 0, f\"{stats_row.null_patient_count} null PATIENT(s) found\"\n",
    "assert stats_row.distinct_ids == stats_row.row_count, \"Duplicate Encounter ID(s) detected\"\n",
    "print(\"Bronze Encounters validation passed\")"
   ]
  },
  {
   "metadata": {},
   "cell_type": "code",
   "outputs": [],
   "execution_count": null,
   "source": [
    "# 3. Append one-row summary to track record count (data quality check)\n",
    "spark.sql(\"CREATE DATABASE IF NOT EXISTS kardia_meta\")\n",
    "\n",
    "validation_summary_df = (spark.createDataFrame([stats_row.asDict()])\n",
    "                              .withColumn(\"table_name\", F.lit(BRONZE_ENCOUNTERS_TBL))\n",
    "                              .withColumn(\"_run_ts\", F.current_timestamp()))\n",
    "\n",
    "(validation_summary_df\n",
    "        .write.mode(\"append\")\n",
    "        .saveAsTable(\"kardia_meta.bronze_qc\"))"
   ]
  }
 ],
 "metadata": {
  "application/vnd.databricks.v1+notebook": {
   "computePreferences": null,
   "dashboards": [],
   "environmentMetadata": {
    "base_environment": "",
    "environment_version": "2"
   },
   "inputWidgetPreferences": null,
   "language": "python",
   "notebookMetadata": {
    "pythonIndentUnit": 4
   },
   "notebookName": "00_validate_bronze_encounters",
   "widgets": {
    "env": {
     "currentValue": "prod",
     "nuid": "54201761-4ed5-4d07-a38e-6be378ff5769",
     "typedWidgetInfo": {
      "autoCreated": false,
      "defaultValue": "prod",
      "label": null,
      "name": "env",
      "options": {
       "widgetDisplayType": "Text",
       "validationRegex": null
      },
      "parameterDataType": "String"
     },
     "widgetInfo": {
      "widgetType": "text",
      "defaultValue": "prod",
      "label": null,
      "name": "env",
      "options": {
       "widgetType": "text",
       "autoCreated": null,
       "validationRegex": null
      }
     }
    }
   }
  },
  "language_info": {
   "name": "python"
  }
 },
 "nbformat": 4,
 "nbformat_minor": 0
}

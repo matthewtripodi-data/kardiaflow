{
 "cells": [
  {
   "cell_type": "code",
   "execution_count": 0,
   "metadata": {
    "application/vnd.databricks.v1+cell": {
     "cellMetadata": {
      "byteLimit": 2048000,
      "rowLimit": 10000
     },
     "inputWidgets": {},
     "nuid": "2df3e1cd-0bb3-4388-8546-d5ccaa504cfd",
     "showTitle": false,
     "tableResultSettingsMap": {},
     "title": ""
    }
   },
   "outputs": [],
   "source": [
    "# 99_utils/99_reset_kardia_environment.ipynb\n",
    "# Wipes all Kardia-related databases and DBFS folders to start clean.\n",
    "\n",
    "import re, time\n",
    "from pyspark.sql import SparkSession\n",
    "\n",
    "spark = SparkSession.builder.getOrCreate()\n",
    "\n",
    "# Stop any running streams\n",
    "for q in spark.streams.active:\n",
    "    print(f\"Stopping stream {q.id}...\")\n",
    "    q.stop()\n",
    "    q.awaitTermination(30)\n",
    "\n",
    "# Drop project databases\n",
    "for db in spark.catalog.listDatabases():\n",
    "    if db.name.startswith(\"kardia_\"):\n",
    "        print(f\"Dropping database: {db.name}\")\n",
    "        spark.sql(f\"DROP DATABASE {db.name} CASCADE\")\n",
    "\n",
    "# Delete all related DBFS folders\n",
    "folders = [\n",
    "    \"dbfs:/kardia/raw/\",\n",
    "    \"dbfs:/kardia/bronze/\",\n",
    "    \"dbfs:/kardia/silver/\",\n",
    "    \"dbfs:/kardia/gold/\",\n",
    "    \"dbfs:/kardia/_schemas/\",\n",
    "    \"dbfs:/kardia/_checkpoints/\",\n",
    "    \"dbfs:/kardia/_quarantine/\",\n",
    "    \"dbfs:/kardia/_state/\"\n",
    "]\n",
    "\n",
    "for path in folders:\n",
    "    try:\n",
    "        dbutils.fs.rm(path, recurse=True)\n",
    "        print(f\"Deleted: {path}\")\n",
    "    except Exception as e:\n",
    "        print(f\"Could not delete {path}: {e}\")\n",
    "\n",
    "print(\"Kardia environment reset complete.\")\n"
   ]
  }
 ],
 "metadata": {
  "application/vnd.databricks.v1+notebook": {
   "computePreferences": null,
   "dashboards": [],
   "environmentMetadata": {
    "base_environment": "",
    "environment_version": "2"
   },
   "inputWidgetPreferences": null,
   "language": "python",
   "notebookMetadata": {
    "pythonIndentUnit": 4
   },
   "notebookName": "999999_reset_kardia_environment",
   "widgets": {}
  },
  "language_info": {
   "name": "python"
  }
 },
 "nbformat": 4,
 "nbformat_minor": 0
}

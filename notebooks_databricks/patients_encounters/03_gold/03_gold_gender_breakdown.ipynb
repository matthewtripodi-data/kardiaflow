{
 "cells": [
  {
   "cell_type": "code",
   "execution_count": 0,
   "metadata": {
    "application/vnd.databricks.v1+cell": {
     "cellMetadata": {
      "byteLimit": 2048000,
      "rowLimit": 10000
     },
     "inputWidgets": {},
     "nuid": "7acaeb0d-6f12-4675-92f4-7df6a44b9fa4",
     "showTitle": false,
     "tableResultSettingsMap": {},
     "title": ""
    }
   },
   "outputs": [],
   "source": [
    "# 03_gold_gender_breakdown\n",
    "# GOAL:   Patient count by gender\n",
    "# SOURCE: kardia_silver.silver_patients\n",
    "# OUTPUT: kardia_gold.gold_gender_breakdown (table)\n",
    "# TRIGGER: Single batch job that computes the latest gender counts\n",
    "#          and MERGEs them into the Gold table (Type-1 overwrite).\n",
    "\n",
    "# 1. Ensure the Gold database exists.\n",
    "spark.sql(\"CREATE DATABASE IF NOT EXISTS kardia_gold\")"
   ]
  },
  {
   "cell_type": "code",
   "execution_count": 0,
   "metadata": {
    "application/vnd.databricks.v1+cell": {
     "cellMetadata": {
      "byteLimit": 2048000,
      "rowLimit": 10000
     },
     "inputWidgets": {},
     "nuid": "90b1bdfe-7c54-435d-b98f-4969df5ef26a",
     "showTitle": false,
     "tableResultSettingsMap": {},
     "title": ""
    }
   },
   "outputs": [],
   "source": [
    "# 1 ▸ Build or refresh Gold table with pure SQL\n",
    "spark.sql(\n",
    "    \"\"\"\n",
    "    CREATE OR REPLACE TEMP VIEW v_gender_counts AS\n",
    "    SELECT GENDER,\n",
    "           COUNT(*) AS patient_cnt\n",
    "    FROM kardia_silver.silver_patients\n",
    "    WHERE GENDER IS NOT NULL\n",
    "    GROUP BY GENDER\n",
    "    \"\"\"\n",
    ")\n",
    "\n",
    "spark.sql(\n",
    "    \"\"\"\n",
    "    CREATE TABLE IF NOT EXISTS kardia_gold.gold_gender_breakdown (\n",
    "    GENDER       STRING,\n",
    "    patient_cnt  BIGINT\n",
    "    ) USING DELTA\n",
    "    \"\"\"\n",
    ")\n",
    "\n",
    "spark.sql(\n",
    "    \"\"\"\n",
    "    MERGE INTO kardia_gold.gold_gender_breakdown AS t\n",
    "    USING v_gender_counts                        AS s\n",
    "    ON    t.GENDER = s.GENDER\n",
    "    WHEN MATCHED THEN UPDATE SET *\n",
    "    WHEN NOT MATCHED THEN INSERT *\n",
    "    \"\"\"\n",
    ")"
   ]
  },
  {
   "cell_type": "code",
   "execution_count": 0,
   "metadata": {
    "application/vnd.databricks.v1+cell": {
     "cellMetadata": {
      "byteLimit": 2048000,
      "rowLimit": 10000
     },
     "inputWidgets": {},
     "nuid": "5fd9c5ec-f81e-482c-9ba3-42b63a8bcfc6",
     "showTitle": false,
     "tableResultSettingsMap": {},
     "title": ""
    }
   },
   "outputs": [],
   "source": [
    "# 2 ▸ Preview\n",
    "display(\n",
    "    spark.sql(\n",
    "        \"\"\"\n",
    "        SELECT GENDER, \n",
    "               patient_cnt\n",
    "        FROM   kardia_gold.gold_gender_breakdown\n",
    "        ORDER  BY patient_cnt DESC\n",
    "        \"\"\"\n",
    "    )\n",
    ")"
   ]
  }
 ],
 "metadata": {
  "application/vnd.databricks.v1+notebook": {
   "computePreferences": null,
   "dashboards": [],
   "environmentMetadata": {
    "base_environment": "",
    "environment_version": "2"
   },
   "inputWidgetPreferences": null,
   "language": "python",
   "notebookMetadata": {
    "mostRecentlyExecutedCommandWithImplicitDF": {
     "commandId": 7755667534954255,
     "dataframes": [
      "_sqldf"
     ]
    },
    "pythonIndentUnit": 4
   },
   "notebookName": "03_gold_gender_breakdown",
   "widgets": {}
  },
  "language_info": {
   "name": "python"
  }
 },
 "nbformat": 4,
 "nbformat_minor": 0
}

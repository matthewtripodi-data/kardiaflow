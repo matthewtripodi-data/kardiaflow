{
 "cells": [
  {
   "cell_type": "code",
   "execution_count": 0,
   "metadata": {
    "application/vnd.databricks.v1+cell": {
     "cellMetadata": {
      "byteLimit": 2048000,
      "rowLimit": 10000
     },
     "inputWidgets": {},
     "nuid": "b5d7047f-8868-4662-a4d0-078824c97c4d",
     "showTitle": false,
     "tableResultSettingsMap": {},
     "title": ""
    }
   },
   "outputs": [],
   "source": [
    "# 03_gold_encounters_by_month.ipynb\n",
    "# GOAL:   Aggregate monthly encounter volume into Gold and refresh QA views.\n",
    "# SOURCE: kardia_silver.silver_encounters_demographics\n",
    "# OUTPUT: kardia_gold.gold_encounters_by_month (Delta table)\n",
    "# TRIGGER: Streaming incremental-batch job with `outputMode(\"complete\")`\n",
    "#          that fully replaces the output on each run.\n",
    "\n",
    "# Additional QA tables:\n",
    "# - gold_qa_enc_missing_dem: monthly count of incomplete records\n",
    "# - gold_qa_pt_missing_enc: patients with no linked encounters\n",
    "\n",
    "from datetime import datetime\n",
    "from dateutil.relativedelta import relativedelta\n",
    "\n",
    "from pyspark.sql import functions as F\n",
    "\n",
    "from delta.tables import DeltaTable\n",
    "\n",
    "# Table paths\n",
    "GOLD_DB         = \"kardia_gold\"\n",
    "SILVER_DEM      = \"kardia_silver.silver_encounters_demographics\"\n",
    "\n",
    "GOLD_ENC_BY_MONTH       = f\"{GOLD_DB}.gold_encounters_by_month\"\n",
    "GOLD_QA_ENC_MISSING_DEM = f\"{GOLD_DB}.gold_encounters_missing_patient\"\n",
    "GOLD_QA_PT_MISSING_ENC  = f\"{GOLD_DB}.gold_patients_no_encounter\"\n",
    "\n",
    "CHECKPOINT_PATH = \"dbfs:/kardia/_checkpoints/gold_encounters_by_month\""
   ]
  },
  {
   "cell_type": "code",
   "execution_count": 0,
   "metadata": {
    "application/vnd.databricks.v1+cell": {
     "cellMetadata": {
      "byteLimit": 2048000,
      "rowLimit": 10000
     },
     "inputWidgets": {},
     "nuid": "532582ea-cca7-47a9-9aa7-b573522245f1",
     "showTitle": false,
     "tableResultSettingsMap": {},
     "title": ""
    }
   },
   "outputs": [],
   "source": [
    "# 1. Ensure database and (empty) Gold table exist\n",
    "spark.sql(f\"CREATE DATABASE IF NOT EXISTS {GOLD_DB}\")\n",
    "\n",
    "spark.sql(\n",
    "    f\"\"\"\n",
    "    CREATE TABLE IF NOT EXISTS {GOLD_ENC_BY_MONTH} (\n",
    "        month         STRING,\n",
    "        encounters_n  BIGINT\n",
    "    ) USING DELTA\n",
    "    \"\"\"\n",
    ")"
   ]
  },
  {
   "cell_type": "code",
   "execution_count": 0,
   "metadata": {
    "application/vnd.databricks.v1+cell": {
     "cellMetadata": {
      "byteLimit": 2048000,
      "rowLimit": 10000
     },
     "inputWidgets": {},
     "nuid": "9cb46426-74c7-4c9a-a8f6-ef48490dc01b",
     "showTitle": false,
     "tableResultSettingsMap": {},
     "title": ""
    }
   },
   "outputs": [],
   "source": [
    "# 2. Aggregate monthly encounter counts into Gold.\n",
    "#   - Silver is partitioned by ENCOUNTER_MONTH.\n",
    "#     We read only the most recent 6 monthly partitions.\n",
    "#   - Group by month and count valid encounters\n",
    "\n",
    "# 6 month rolling window on partition column\n",
    "cutoff_month = (datetime.today() - relativedelta(months=6)).strftime(\"%Y-%m\")\n",
    "\n",
    "agg_stream = (\n",
    "    spark.readStream\n",
    "         .table(SILVER_DEM)\n",
    "         .filter(F.col(\"ENCOUNTER_MONTH\") >= cutoff_month)\n",
    "         .filter(\"GENDER IS NOT NULL AND BIRTH_YEAR IS NOT NULL\")\n",
    "         .groupBy(F.date_format(\"START_TS\", \"yyyy-MM\").alias(\"month\"))\n",
    "         .agg(F.count(\"*\").alias(\"encounters_n\"))\n",
    ")\n",
    "\n",
    "# Write results to Gold.\n",
    "(agg_stream.writeStream\n",
    "           .outputMode(\"complete\")\n",
    "           .option(\"checkpointLocation\", CHECKPOINT_PATH)\n",
    "           .trigger(availableNow=True)\n",
    "           .table(GOLD_ENC_BY_MONTH)\n",
    "           .awaitTermination())\n",
    "\n",
    "# NOTE: Filtering on ENCOUNTER_MONTH enables static partition pruning.\n",
    "#       Spark skips entire monthly partition folders (MONTHLY=2013/05)\n",
    "#       so only ~6 folders are scanned per run."
   ]
  },
  {
   "cell_type": "code",
   "execution_count": 0,
   "metadata": {
    "application/vnd.databricks.v1+cell": {
     "cellMetadata": {
      "byteLimit": 2048000,
      "rowLimit": 10000
     },
     "inputWidgets": {},
     "nuid": "21ed38da-a62c-490e-8e7e-3652662d04bf",
     "showTitle": false,
     "tableResultSettingsMap": {},
     "title": ""
    }
   },
   "outputs": [],
   "source": [
    "# 3. Refresh QA tables. (Rebuilt on each run)\n",
    "\n",
    "# 3a. Count encounters missing GENDER or BIRTH_YEAR by month\n",
    "(spark.table(SILVER_DEM)\n",
    "      .withColumn(\"month\", F.date_format(\"START_TS\", \"yyyy-MM\"))\n",
    "      .filter(\"GENDER IS NULL OR BIRTH_YEAR IS NULL\")\n",
    "      .groupBy(\"month\")\n",
    "      .agg(F.count(\"*\").alias(\"unmatched_encounters\"))\n",
    "      .write\n",
    "      .mode(\"overwrite\")\n",
    "      .format(\"delta\")\n",
    "      .option(\"overwriteSchema\", \"true\")\n",
    "      .saveAsTable(GOLD_QA_ENC_MISSING_DEM))\n",
    "\n",
    "# 3b. Identify patients with no matching encounter records\n",
    "patients_df   = spark.table(\"kardia_silver.silver_patients\")\n",
    "encounter_ids = spark.table(SILVER_DEM).select(\"PatientID\").distinct()\n",
    "\n",
    "(patients_df.alias(\"p\")\n",
    "            .join(\n",
    "                encounter_ids.alias(\"e\"),\n",
    "                F.col(\"p.ID\") == F.col(\"e.PatientID\"),\n",
    "                \"left_anti\"\n",
    "            )\n",
    "            .select(\"p.ID\", \"p.GENDER\", \"p.BIRTH_YEAR\")\n",
    "            .withColumn(\"as_of_date\", F.current_date())\n",
    "            .write\n",
    "            .mode(\"overwrite\")\n",
    "            .format(\"delta\")\n",
    "            .option(\"overwriteSchema\", \"true\")\n",
    "            .saveAsTable(GOLD_QA_PT_MISSING_ENC))"
   ]
  },
  {
   "cell_type": "code",
   "execution_count": 0,
   "metadata": {
    "application/vnd.databricks.v1+cell": {
     "cellMetadata": {
      "byteLimit": 2048000,
      "rowLimit": 10000
     },
     "inputWidgets": {},
     "nuid": "a28d2d15-ee57-438e-947f-9c5f51f4c4e4",
     "showTitle": false,
     "tableResultSettingsMap": {},
     "title": ""
    }
   },
   "outputs": [],
   "source": [
    "# 4. Preview sample rows from each Gold and QA table.\n",
    "for tbl in [GOLD_ENC_BY_MONTH, GOLD_QA_ENC_MISSING_DEM, GOLD_QA_PT_MISSING_ENC]:\n",
    "    spark.sql(f\"REFRESH TABLE {tbl}\")\n",
    "    display(spark.sql(f\"SELECT * FROM {tbl} LIMIT 10\"))\n",
    "\n",
    "# NOTE: In production, a foreachBatch and MERGE pattern could be used instead\n",
    "#       of `outputMode(\"complete\")` to incrementally update only changed months."
   ]
  }
 ],
 "metadata": {
  "application/vnd.databricks.v1+notebook": {
   "computePreferences": null,
   "dashboards": [],
   "environmentMetadata": {
    "base_environment": "",
    "environment_version": "2"
   },
   "inputWidgetPreferences": null,
   "language": "python",
   "notebookMetadata": {
    "mostRecentlyExecutedCommandWithImplicitDF": {
     "commandId": 7190950985674238,
     "dataframes": [
      "_sqldf"
     ]
    },
    "pythonIndentUnit": 4
   },
   "notebookName": "03_gold_encounters_by_month",
   "widgets": {}
  },
  "language_info": {
   "name": "python"
  }
 },
 "nbformat": 4,
 "nbformat_minor": 0
}

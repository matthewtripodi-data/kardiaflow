{
 "cells": [
  {
   "cell_type": "code",
   "execution_count": 0,
   "metadata": {
    "application/vnd.databricks.v1+cell": {
     "cellMetadata": {
      "byteLimit": 2048000,
      "rowLimit": 10000
     },
     "inputWidgets": {},
     "nuid": "b5d7047f-8868-4662-a4d0-078824c97c4d",
     "showTitle": false,
     "tableResultSettingsMap": {},
     "title": ""
    }
   },
   "outputs": [],
   "source": [
    "/* 03_gold_encounters_by_month.ipynb\n",
    "GOAL 1: Monthly encounter volume (Gold fact table)\n",
    "GOAL 2: QA view — encounters with missing demographics\n",
    "GOAL 3: QA view — patients with no encounters\n",
    "\n",
    "SOURCE: kardia_silver.silver_encounters_with_patients\n",
    "OUTPUT: TABLE: kardia_gold.gold_encounters_by_month\n",
    "        VIEW : kardia_gold.gold_enc_missing_demo_vw\n",
    "        VIEW : kardia_gold.gold_patients_no_enc_vw\n",
    "\n",
    "TRIGGER: Full snapshot overwrite each run — fast and simple for small datasets.\n",
    "         Use foreachBatch and MERGE in production to avoid rewriting unchanged data.\n",
    "\n",
    "NOTE: The Gold Encounters by Month table uses Delta Liquid Clustering and Predictive Optimization\n",
    "      to reduce small files and maintain layout efficiency without manual OPTIMIZE or ZORDER. */"
   ]
  },
  {
   "cell_type": "code",
   "metadata": {
    "application/vnd.databricks.v1+cell": {
     "cellMetadata": {
      "byteLimit": 2048000,
      "rowLimit": 10000
     },
     "inputWidgets": {},
     "nuid": "532582ea-cca7-47a9-9aa7-b573522245f1",
     "showTitle": false,
     "tableResultSettingsMap": {},
     "title": ""
    },
    "jupyter": {
     "is_executing": true
    }
   },
   "source": [
    "%sql\n",
    "-- 1. Ensure Gold database exists\n",
    "CREATE DATABASE IF NOT EXISTS kardia_gold;\n",
    "\n",
    "-- 2. Monthly encounter counts  (pure SQL overwrite)\n",
    "       CREATE OR REPLACE TABLE kardia_gold.gold_encounters_by_month AS\n",
    "       SELECT DATE_FORMAT(start_ts, 'yyyy-MM') AS month,\n",
    "              COUNT(*) AS encounters_n\n",
    "       FROM kardia_silver.silver_encounters_with_patients\n",
    "       WHERE gender IS NOT NULL\n",
    "       AND birth_year IS NOT NULL\n",
    "       GROUP BY DATE_FORMAT(start_ts, 'yyyy-MM');\n",
    "\n",
    "-- Enable Predictive Optimization\n",
    "    ALTER TABLE kardia_gold.gold_encounters_by_month\n",
    "    SET TBLPROPERTIES (\n",
    "      'delta.autoOptimize.optimizeWrite' = 'true',\n",
    "      'delta.autoOptimize.autoCompact' = 'true'\n",
    "    );"
   ],
   "outputs": [],
   "execution_count": null
  },
  {
   "cell_type": "code",
   "execution_count": 0,
   "metadata": {
    "application/vnd.databricks.v1+cell": {
     "cellMetadata": {
      "byteLimit": 2048000,
      "rowLimit": 10000
     },
     "inputWidgets": {},
     "nuid": "9cb46426-74c7-4c9a-a8f6-ef48490dc01b",
     "showTitle": false,
     "tableResultSettingsMap": {},
     "title": ""
    }
   },
   "outputs": [],
   "source": [
    "%sql\n",
    "-- 3. QA view – encounters missing demographic fields\n",
    "    CREATE OR REPLACE VIEW kardia_gold.gold_enc_missing_demo_vw AS\n",
    "    SELECT DATE_FORMAT(START_TS, 'yyyy-MM') AS month,\n",
    "           COUNT(*) AS unmatched_encounters\n",
    "    FROM kardia_silver.silver_encounters_with_patients\n",
    "    WHERE gender IS NULL OR birth_year IS NULL\n",
    "    GROUP BY DATE_FORMAT(start_ts, 'yyyy-MM');"
   ]
  },
  {
   "cell_type": "code",
   "execution_count": 0,
   "metadata": {
    "application/vnd.databricks.v1+cell": {
     "cellMetadata": {
      "byteLimit": 2048000,
      "rowLimit": 10000
     },
     "inputWidgets": {},
     "nuid": "21ed38da-a62c-490e-8e7e-3652662d04bf",
     "showTitle": false,
     "tableResultSettingsMap": {},
     "title": ""
    }
   },
   "outputs": [],
   "source": [
    "%sql\n",
    "-- 4. QA view – patients with no encounter records\n",
    "    CREATE OR REPLACE VIEW kardia_gold.gold_patients_no_enc_vw AS\n",
    "    SELECT p.ID,\n",
    "           p.GENDER,\n",
    "           p.BIRTH_YEAR,\n",
    "           current_date() AS as_of_date\n",
    "    FROM kardia_silver.silver_patients AS p\n",
    "    LEFT ANTI JOIN (\n",
    "        SELECT DISTINCT patient_id FROM kardia_silver.silver_encounters_with_patients\n",
    "    ) AS e\n",
    "    ON p.ID = e.patient_id;"
   ]
  },
  {
   "cell_type": "code",
   "execution_count": 0,
   "metadata": {
    "application/vnd.databricks.v1+cell": {
     "cellMetadata": {
      "byteLimit": 2048000,
      "rowLimit": 10000
     },
     "inputWidgets": {},
     "nuid": "a28d2d15-ee57-438e-947f-9c5f51f4c4e4",
     "showTitle": false,
     "tableResultSettingsMap": {},
     "title": ""
    }
   },
   "outputs": [],
   "source": [
    "%sql\n",
    "-- 5. Preview\n",
    "    SELECT *\n",
    "    FROM kardia_gold.gold_encounters_by_month\n",
    "    ORDER BY month DESC\n",
    "    LIMIT 12;\n",
    "\n",
    "    SELECT *\n",
    "    FROM kardia_gold.gold_enc_missing_demo_vw\n",
    "    ORDER BY month DESC\n",
    "    LIMIT 12;\n",
    "\n",
    "    SELECT *\n",
    "    FROM kardia_gold.gold_patients_no_enc_vw\n",
    "    LIMIT 10;\n",
    "\n",
    "/* NOTE:\n",
    "In production, we could keep the Gold fact table incremental by switching\n",
    "to foreachBatch + MERGE (instead of overwrite) or by storing only changed\n",
    "months. For this demo dataset, a full overwrite is simple and fast. */"
   ]
  }
 ],
 "metadata": {
  "application/vnd.databricks.v1+notebook": {
   "computePreferences": null,
   "dashboards": [],
   "environmentMetadata": {
    "base_environment": "",
    "environment_version": "2"
   },
   "inputWidgetPreferences": null,
   "language": "python",
   "notebookMetadata": {
    "mostRecentlyExecutedCommandWithImplicitDF": {
     "commandId": 7190950985674238,
     "dataframes": [
      "_sqldf"
     ]
    },
    "pythonIndentUnit": 4
   },
   "notebookName": "03_gold_encounters_by_month",
   "widgets": {}
  },
  "language_info": {
   "name": "python"
  }
 },
 "nbformat": 4,
 "nbformat_minor": 0
}

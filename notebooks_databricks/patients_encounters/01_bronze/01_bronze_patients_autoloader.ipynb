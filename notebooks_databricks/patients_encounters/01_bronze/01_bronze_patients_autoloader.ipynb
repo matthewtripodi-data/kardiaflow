{
 "cells": [
  {
   "cell_type": "code",
   "execution_count": 0,
   "metadata": {
    "application/vnd.databricks.v1+cell": {
     "cellMetadata": {
      "byteLimit": 2048000,
      "rowLimit": 10000
     },
     "inputWidgets": {},
     "nuid": "88c9d492-d502-46fd-93e2-235684b5f1c4",
     "showTitle": false,
     "tableResultSettingsMap": {},
     "title": ""
    }
   },
   "outputs": [],
   "source": [
    "# 01_bronze_patients_autoloader.ipynb\n",
    "# SOURCE: Ingest raw patient CSVs into Bronze using Auto Loader.\n",
    "# OUTPUT: `kardia_bronze.bronze_patients` with Change Data Feed enabled.\n",
    "# TRIGGER: Incremental batch; append to Delta table with fixed schema.\n",
    "\n",
    "from pyspark.sql.types import StructType, StructField, StringType, DateType\n",
    "\n",
    "# Table paths\n",
    "BRONZE_DB             = \"kardia_bronze\"\n",
    "BRONZE_PATIENTS_TABLE = f\"{BRONZE_DB}.bronze_patients\"\n",
    "\n",
    "RAW_PATH              = \"dbfs:/kardia/raw/patients/\"\n",
    "BRONZE_PATH           = \"dbfs:/kardia/bronze/bronze_patients\"\n",
    "\n",
    "SCHEMA_PATH           = \"dbfs:/kardia/_schemas/bronze_patients\"\n",
    "CHECKPOINT_PATH       = \"dbfs:/kardia/_checkpoints/bronze_patients\"\n",
    "BAD_PATH              = \"dbfs:/kardia/_quarantine/raw/bad_patients\""
   ]
  },
  {
   "cell_type": "code",
   "execution_count": 0,
   "metadata": {
    "application/vnd.databricks.v1+cell": {
     "cellMetadata": {
      "byteLimit": 2048000,
      "rowLimit": 10000
     },
     "inputWidgets": {},
     "nuid": "ad46e0a4-50c2-40b9-83a3-c2f9863ff7fd",
     "showTitle": false,
     "tableResultSettingsMap": {},
     "title": ""
    }
   },
   "outputs": [],
   "source": [
    "# Define explicit schema to enforce structure and improve Auto-loader performance.\n",
    "patients_schema = StructType([\n",
    "    StructField(\"ID\",           StringType(),   False),\n",
    "    StructField(\"BIRTHDATE\",    DateType(),     True),\n",
    "    StructField(\"DEATHDATE\",    DateType(),     True),\n",
    "    StructField(\"SSN\",          StringType(),   True),\n",
    "    StructField(\"DRIVERS\",      StringType(),   True),\n",
    "    StructField(\"PASSPORT\",     StringType(),   True),\n",
    "    StructField(\"PREFIX\",       StringType(),   True),\n",
    "    StructField(\"FIRST\",        StringType(),   True),\n",
    "    StructField(\"LAST\",         StringType(),   True),\n",
    "    StructField(\"MARITAL\",      StringType(),   True),\n",
    "    StructField(\"RACE\",         StringType(),   True),\n",
    "    StructField(\"ETHNICITY\",    StringType(),   True),\n",
    "    StructField(\"GENDER\",       StringType(),   True),\n",
    "    StructField(\"BIRTHPLACE\",   StringType(),   True),\n",
    "    StructField(\"ADDRESS\",      StringType(),   True)\n",
    "])"
   ]
  },
  {
   "cell_type": "code",
   "execution_count": 0,
   "metadata": {
    "application/vnd.databricks.v1+cell": {
     "cellMetadata": {
      "byteLimit": 2048000,
      "rowLimit": 10000
     },
     "inputWidgets": {},
     "nuid": "03450dc3-4c36-4d70-8e84-f56eb2ae68fa",
     "showTitle": false,
     "tableResultSettingsMap": {},
     "title": ""
    }
   },
   "outputs": [],
   "source": [
    "# 1. Ensure the Bronze DB and Bronze Patients table exist.\n",
    "spark.sql(f\"CREATE DATABASE IF NOT EXISTS {BRONZE_DB}\")\n",
    "\n",
    "spark.sql(\n",
    "    f\"\"\"\n",
    "    CREATE TABLE IF NOT EXISTS {BRONZE_PATIENTS_TABLE}\n",
    "    USING DELTA\n",
    "    COMMENT 'Bronze table for batch Auto Loader ingest of patient records.'\n",
    "    LOCATION '{BRONZE_PATH}'\n",
    "    TBLPROPERTIES ('delta.enableChangeDataFeed' = 'true')\n",
    "    \"\"\"\n",
    ")"
   ]
  },
  {
   "cell_type": "code",
   "execution_count": 0,
   "metadata": {
    "application/vnd.databricks.v1+cell": {
     "cellMetadata": {
      "byteLimit": 2048000,
      "rowLimit": 10000
     },
     "inputWidgets": {},
     "nuid": "84b311f9-020a-4836-aa91-aacc42f93367",
     "showTitle": false,
     "tableResultSettingsMap": {},
     "title": ""
    }
   },
   "outputs": [],
   "source": [
    "# 2. Define an incremental batch pipeline using Auto-loader.\n",
    "stream = (\n",
    "    spark.readStream\n",
    "         .format(\"cloudFiles\")\n",
    "         .option(\"cloudFiles.format\", \"csv\")\n",
    "         .option(\"cloudFiles.schemaLocation\", SCHEMA_PATH)\n",
    "         .option(\"cloudFiles.includeExistingFiles\", \"true\")\n",
    "         .option(\"header\", \"true\")\n",
    "         .option(\"badRecordsPath\", BAD_PATH)\n",
    "         .option(\"rescuedDataColumn\", \"_rest\")\n",
    "         .schema(patients_schema)\n",
    "         .load(RAW_PATH)\n",
    "\n",
    "         .writeStream\n",
    "         .format(\"delta\")\n",
    "         .option(\"mergeSchema\", \"true\")\n",
    "         .option(\"checkpointLocation\", CHECKPOINT_PATH)\n",
    "         .outputMode(\"append\")\n",
    "         .trigger(availableNow=True)\n",
    "         .start(BRONZE_PATH)\n",
    ")\n",
    "\n",
    "stream.awaitTermination()\n",
    "print(f\"Bronze ingest complete: from {RAW_PATH} to {BRONZE_PATH}\")"
   ]
  },
  {
   "cell_type": "code",
   "execution_count": 0,
   "metadata": {
    "application/vnd.databricks.v1+cell": {
     "cellMetadata": {
      "byteLimit": 2048000,
      "rowLimit": 10000
     },
     "inputWidgets": {},
     "nuid": "d17bc249-419a-4c29-a45b-30f62966932a",
     "showTitle": false,
     "tableResultSettingsMap": {},
     "title": ""
    }
   },
   "outputs": [],
   "source": [
    "# 3. Stream finished - Verify Bronze table and ingestion history.\n",
    "\n",
    "# Read the Bronze Patients table into a DataFrame.\n",
    "df = spark.read.format(\"delta\").load(BRONZE_PATH)\n",
    "print(f\"Row count: {df.count()}\")\n",
    "display(df.limit(5))\n",
    "\n",
    "# Display Delta Lake history to verify CDF and ingest details.\n",
    "print(\"Recent Delta history:\")\n",
    "history = spark.sql(\n",
    "    f\"\"\"\n",
    "    DESCRIBE HISTORY delta.`{BRONZE_PATH}`\n",
    "    \"\"\"\n",
    ").select(\"version\", \"timestamp\", \"operation\", \"operationParameters\")\n",
    "\n",
    "display(history.limit(5))"
   ]
  }
 ],
 "metadata": {
  "application/vnd.databricks.v1+notebook": {
   "computePreferences": null,
   "dashboards": [],
   "environmentMetadata": {
    "base_environment": "",
    "environment_version": "2"
   },
   "inputWidgetPreferences": null,
   "language": "python",
   "notebookMetadata": {
    "mostRecentlyExecutedCommandWithImplicitDF": {
     "commandId": 5838238807148329,
     "dataframes": [
      "_sqldf"
     ]
    },
    "pythonIndentUnit": 4
   },
   "notebookName": "01_bronze_patients_autoloader",
   "widgets": {}
  },
  "language_info": {
   "name": "python"
  }
 },
 "nbformat": 4,
 "nbformat_minor": 0
}

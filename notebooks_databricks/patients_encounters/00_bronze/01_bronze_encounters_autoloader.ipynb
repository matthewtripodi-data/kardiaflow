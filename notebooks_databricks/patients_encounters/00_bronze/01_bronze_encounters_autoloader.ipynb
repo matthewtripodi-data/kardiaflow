{
 "cells": [
  {
   "cell_type": "code",
   "execution_count": 0,
   "metadata": {
    "application/vnd.databricks.v1+cell": {
     "cellMetadata": {
      "byteLimit": 2048000,
      "rowLimit": 10000
     },
     "inputWidgets": {},
     "nuid": "df76baf4-d638-4d3e-acd5-071e5e265394",
     "showTitle": false,
     "tableResultSettingsMap": {},
     "title": ""
    }
   },
   "outputs": [],
   "source": [
    "# 01_bronze_stream_encounters_autoloader.ipynb\n",
    "# SOURCE: Ingest raw encounter Avro files into the Bronze layer using Auto Loader.\n",
    "# OUTPUT: `kardia_bronze.bronze_encounters` with CDF enabled.\n",
    "# TRIGGER: Incremental batch; append to Delta table with schema evolution enabled.\n",
    "\n",
    "BRONZE_DB               = \"kardia_bronze\"\n",
    "BRONZE_ENC_TABLE        = f\"{BRONZE_DB}.bronze_encounters\"\n",
    "\n",
    "RAW_PATH                = \"dbfs:/kardia/raw/encounters/\"\n",
    "BRONZE_PATH             = \"dbfs:/kardia/bronze/bronze_encounters\"\n",
    "\n",
    "SCHEMA_PATH             = \"dbfs:/kardia/_schemas/bronze_encounters\"\n",
    "CHECKPOINT_PATH         = \"dbfs:/kardia/_checkpoints/bronze_encounters\""
   ]
  },
  {
   "cell_type": "code",
   "execution_count": 0,
   "metadata": {
    "application/vnd.databricks.v1+cell": {
     "cellMetadata": {
      "byteLimit": 2048000,
      "rowLimit": 10000
     },
     "inputWidgets": {},
     "nuid": "58874d02-6a4a-47ca-827b-11273cf93550",
     "showTitle": false,
     "tableResultSettingsMap": {},
     "title": ""
    }
   },
   "outputs": [],
   "source": [
    "# 1. Ensure the Bronze DB and Bronze Encounters table exist.\n",
    "spark.sql(f\"CREATE DATABASE IF NOT EXISTS {BRONZE_DB}\")\n",
    "\n",
    "spark.sql(f\"\"\"\n",
    "CREATE TABLE IF NOT EXISTS {BRONZE_ENC_TABLE}\n",
    "USING DELTA\n",
    "COMMENT 'Bronze Avro ingest of encounter records.'\n",
    "LOCATION '{BRONZE_PATH}'\n",
    "TBLPROPERTIES ('delta.enableChangeDataFeed' = 'true')\n",
    "\"\"\")"
   ]
  },
  {
   "cell_type": "code",
   "execution_count": 0,
   "metadata": {
    "application/vnd.databricks.v1+cell": {
     "cellMetadata": {
      "byteLimit": 2048000,
      "rowLimit": 10000
     },
     "inputWidgets": {},
     "nuid": "747e0497-cf49-4e6a-8667-9d960e97a0ce",
     "showTitle": false,
     "tableResultSettingsMap": {},
     "title": ""
    },
    "jupyter": {
     "is_executing": true
    }
   },
   "outputs": [],
   "source": [
    "# 2. Define an incremental batch pipeline using Auto‑loader.\n",
    "stream = (\n",
    "    spark.readStream\n",
    "         .format(\"cloudFiles\")\n",
    "         .option(\"cloudFiles.format\",             \"avro\")\n",
    "         .option(\"cloudFiles.schemaLocation\",     SCHEMA_PATH)\n",
    "         .option(\"cloudFiles.includeExistingFiles\",\"true\")\n",
    "         .load(RAW_PATH)\n",
    "\n",
    "         .writeStream\n",
    "         .option(\"checkpointLocation\", CHECKPOINT_PATH)\n",
    "         .trigger(availableNow=True)\n",
    "         .toTable(BRONZE_ENC_TABLE)\n",
    ")\n",
    "stream.awaitTermination()"
   ]
  },
  {
   "cell_type": "code",
   "execution_count": 0,
   "metadata": {
    "application/vnd.databricks.v1+cell": {
     "cellMetadata": {
      "byteLimit": 2048000,
      "rowLimit": 10000
     },
     "inputWidgets": {},
     "nuid": "bc5375c2-9103-41b9-8c70-bce279c9b151",
     "showTitle": false,
     "tableResultSettingsMap": {},
     "title": ""
    }
   },
   "outputs": [],
   "source": [
    "# 3. Stream finished - Verify Bronze table and ingestion history.\n",
    "print(f\"Loaded data from {RAW_PATH} to {BRONZE_PATH}\")\n",
    "\n",
    "# Read the Bronze Encounters table into a DataFrame.\n",
    "df = spark.read.format(\"delta\").load(BRONZE_PATH)\n",
    "print(f\"Row count: {df.count()}\")\n",
    "display(df.limit(5))\n",
    "\n",
    "# Display Delta Lake history to verify CDF and ingest details.\n",
    "history_df = spark.sql(\n",
    "    f\"\"\" DESCRIBE HISTORY delta.`{BRONZE_PATH}` \"\"\"\n",
    ").select(\"version\", \"timestamp\", \"operation\", \"operationParameters\")\n",
    "\n",
    "display(history_df.limit(5))"
   ]
  }
 ],
 "metadata": {
  "application/vnd.databricks.v1+notebook": {
   "computePreferences": null,
   "dashboards": [],
   "environmentMetadata": {
    "base_environment": "",
    "environment_version": "2"
   },
   "inputWidgetPreferences": null,
   "language": "python",
   "notebookMetadata": {
    "mostRecentlyExecutedCommandWithImplicitDF": {
     "commandId": 6336542656291775,
     "dataframes": [
      "_sqldf"
     ]
    },
    "pythonIndentUnit": 4
   },
   "notebookName": "01_bronze_encounters_autoloader",
   "widgets": {}
  },
  "language_info": {
   "name": "python"
  }
 },
 "nbformat": 4,
 "nbformat_minor": 0
}

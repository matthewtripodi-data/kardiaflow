{
 "cells": [
  {
   "cell_type": "code",
   "execution_count": 0,
   "metadata": {
    "application/vnd.databricks.v1+cell": {
     "cellMetadata": {
      "byteLimit": 2048000,
      "rowLimit": 10000
     },
     "inputWidgets": {},
     "nuid": "df76baf4-d638-4d3e-acd5-071e5e265394",
     "showTitle": false,
     "tableResultSettingsMap": {},
     "title": ""
    }
   },
   "outputs": [],
   "source": [
    "# 01_bronze_stream_encounters_autoloader.ipynb\n",
    "# SOURCE: Ingest raw encounter CSVs into the Bronze layer using Auto Loader.\n",
    "# OUTPUT: `kardia_bronze.bronze_encounters` with Change Data Feed enabled.\n",
    "# TRIGGER: Incremental batch; append to Delta table with schema evolution enabled.\n",
    "\n",
    "from pyspark.sql.types import StructType, StructField, StringType, DateType\n",
    "\n",
    "# Table paths\n",
    "BRONZE_DB               = \"kardia_bronze\"\n",
    "BRONZE_ENCOUNTERS_TABLE = f\"{BRONZE_DB}.bronze_encounters\"\n",
    "\n",
    "RAW_PATH                = \"dbfs:/kardia/raw/encounters/\"\n",
    "BRONZE_PATH             = \"dbfs:/kardia/bronze/bronze_encounters\"\n",
    "\n",
    "CHECKPOINT_PATH         = \"dbfs:/kardia/_checkpoints/bronze_encounters\""
   ]
  },
  {
   "cell_type": "code",
   "execution_count": 0,
   "metadata": {
    "application/vnd.databricks.v1+cell": {
     "cellMetadata": {
      "byteLimit": 2048000,
      "rowLimit": 10000
     },
     "inputWidgets": {},
     "nuid": "e2d981a5-0899-4659-98f2-3693d8a6f2ef",
     "showTitle": false,
     "tableResultSettingsMap": {},
     "title": ""
    }
   },
   "outputs": [],
   "source": [
    "# Define explicit schema to enforce structure and improve Auto-loader performance.\n",
    "encounters_schema = StructType([\n",
    "        StructField(\"ID\",                  StringType(),   False),\n",
    "        StructField(\"DATE\",                DateType(),     True),\n",
    "        StructField(\"PATIENT\",             StringType(),   False),\n",
    "        StructField(\"CODE\",                StringType(),   True),\n",
    "        StructField(\"DESCRIPTION\",         StringType(),   True),\n",
    "        StructField(\"REASONCODE\",          StringType(),   True),\n",
    "        StructField(\"REASONDESCRIPTION\",   StringType(),   True)\n",
    "])"
   ]
  },
  {
   "cell_type": "code",
   "execution_count": 0,
   "metadata": {
    "application/vnd.databricks.v1+cell": {
     "cellMetadata": {
      "byteLimit": 2048000,
      "rowLimit": 10000
     },
     "inputWidgets": {},
     "nuid": "58874d02-6a4a-47ca-827b-11273cf93550",
     "showTitle": false,
     "tableResultSettingsMap": {},
     "title": ""
    }
   },
   "outputs": [],
   "source": [
    "# 1. Ensure the Bronze DB and Bronze Encounters table exist.\n",
    "spark.sql(f\"CREATE DATABASE IF NOT EXISTS {BRONZE_DB}\")\n",
    "\n",
    "spark.sql(\n",
    "    f\"\"\"\n",
    "    CREATE TABLE IF NOT EXISTS {BRONZE_ENCOUNTERS_TABLE}\n",
    "    USING DELTA\n",
    "    COMMENT 'Bronze table for batch Auto Loader ingest of encounter records.'\n",
    "    LOCATION '{BRONZE_PATH}'\n",
    "    TBLPROPERTIES ('delta.enableChangeDataFeed' = 'true')\n",
    "    \"\"\"\n",
    ")"
   ]
  },
  {
   "cell_type": "code",
   "metadata": {
    "application/vnd.databricks.v1+cell": {
     "cellMetadata": {
      "byteLimit": 2048000,
      "rowLimit": 10000
     },
     "inputWidgets": {},
     "nuid": "747e0497-cf49-4e6a-8667-9d960e97a0ce",
     "showTitle": false,
     "tableResultSettingsMap": {},
     "title": ""
    },
    "jupyter": {
     "is_executing": true
    }
   },
   "source": [
    "# 2. Define an incremental batch pipeline using Auto‑loader.\n",
    "#    Auto‑loader discovers new files in cloud storage and writes to a Delta table.\n",
    "\n",
    "def _ingest_excel(batch_df, _):\n",
    "    \"\"\"For each batch of discovered .xlsx files, convert them to a Spark DF\n",
    "       using spark‑excel and append to the Bronze Delta table.\"\"\"\n",
    "\n",
    "    # toLocalIterator() streams rows one by one from the executor to the driver\n",
    "    excel_paths = [r.path for r in batch_df.select(\"path\").toLocalIterator()]\n",
    "    if not excel_paths:\n",
    "        return\n",
    "\n",
    "    df = (spark.read\n",
    "               .format(\"com.crealytics.spark.excel\")\n",
    "               .option(\"header\", \"true\")\n",
    "               .option(\"inferSchema\", \"true\")\n",
    "               .load(excel_paths)\n",
    "               .selectExpr(\n",
    "                   \"ID\",\n",
    "                   \"to_date(DATE) as DATE\",\n",
    "                   \"PATIENT\",\n",
    "                   \"CODE\",\n",
    "                   \"DESCRIPTION\",\n",
    "                   \"REASONCODE\",\n",
    "                   \"REASONDESCRIPTION\",\n",
    "                   \"*\"\n",
    "            ))\n",
    "\n",
    "    (df.write\n",
    "       .format(\"delta\")\n",
    "       .mode(\"append\")\n",
    "       .option(\"mergeSchema\", \"true\")\n",
    "       .save(BRONZE_PATH)\n",
    "    )\n",
    "\n",
    "# NOTE:\n",
    "# Databricks does not natively support parsing Excel files. Auto Loader simply watches the folder\n",
    "# for new Excel files, passes each batch to _ingest_excel, where Spark loads the Excel files, infers\n",
    "# extra columns `inferSchema = true`, selects and casts core columns and then keeps any additional\n",
    "# columns from the source.\n",
    "#\n",
    "# The resulting DataFrame is appended to the Bronze table with `mergeSchema = true`, which allows\n",
    "# the schema to evolve forward automatically."
   ],
   "outputs": [],
   "execution_count": null
  },
  {
   "metadata": {},
   "cell_type": "code",
   "outputs": [],
   "execution_count": null,
   "source": [
    "stream = (\n",
    "    spark.readStream\n",
    "         .format(\"cloudFiles\")\n",
    "         .option(\"cloudFiles.format\", \"binaryFile\")\n",
    "         .option(\"pathGlobFilter\", \"*.xlsx\")\n",
    "         .option(\"cloudFiles.includeExistingFiles\", \"true\")\n",
    "         .load(RAW_PATH)\n",
    "\n",
    "         .writeStream\n",
    "         .foreachBatch(_ingest_excel)\n",
    "         .option(\"checkpointLocation\", CHECKPOINT_PATH)\n",
    "         .trigger(availableNow=True)\n",
    "         .start()\n",
    ")\n",
    "\n",
    "stream.awaitTermination()"
   ]
  },
  {
   "cell_type": "code",
   "execution_count": 0,
   "metadata": {
    "application/vnd.databricks.v1+cell": {
     "cellMetadata": {
      "byteLimit": 2048000,
      "rowLimit": 10000
     },
     "inputWidgets": {},
     "nuid": "bc5375c2-9103-41b9-8c70-bce279c9b151",
     "showTitle": false,
     "tableResultSettingsMap": {},
     "title": ""
    }
   },
   "outputs": [],
   "source": [
    "# 3. Stream finished - Verify Bronze table and ingestion history.\n",
    "print(f\"Loaded data from {RAW_PATH} to {BRONZE_PATH}\")\n",
    "\n",
    "# Read the Bronze Encounters table into a DataFrame.\n",
    "df = spark.read.format(\"delta\").load(BRONZE_PATH)\n",
    "print(f\"Row count: {df.count()}\")\n",
    "display(df.limit(5))\n",
    "\n",
    "# Display Delta Lake history to verify CDF and ingest details.\n",
    "history_df = spark.sql(\n",
    "    f\"\"\" DESCRIBE HISTORY delta.`{BRONZE_PATH}` \"\"\"\n",
    ").select(\"version\", \"timestamp\", \"operation\", \"operationParameters\")\n",
    "\n",
    "display(history_df.limit(5))"
   ]
  }
 ],
 "metadata": {
  "application/vnd.databricks.v1+notebook": {
   "computePreferences": null,
   "dashboards": [],
   "environmentMetadata": {
    "base_environment": "",
    "environment_version": "2"
   },
   "inputWidgetPreferences": null,
   "language": "python",
   "notebookMetadata": {
    "mostRecentlyExecutedCommandWithImplicitDF": {
     "commandId": 6336542656291775,
     "dataframes": [
      "_sqldf"
     ]
    },
    "pythonIndentUnit": 4
   },
   "notebookName": "01_bronze_encounters_autoloader",
   "widgets": {}
  },
  "language_info": {
   "name": "python"
  }
 },
 "nbformat": 4,
 "nbformat_minor": 0
}

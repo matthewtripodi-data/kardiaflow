{
 "cells": [
  {
   "cell_type": "code",
   "execution_count": 0,
   "metadata": {
    "application/vnd.databricks.v1+cell": {
     "cellMetadata": {
      "byteLimit": 2048000,
      "rowLimit": 10000
     },
     "inputWidgets": {},
     "nuid": "c7588e88-c465-45f8-bf3e-dd2062fac2f9",
     "showTitle": false,
     "tableResultSettingsMap": {},
     "title": ""
    }
   },
   "outputs": [],
   "source": [
    "# 99_bootstrap_raw_dirs_and_files.ipynb\n",
    "# Create raw input folders and move initial Patients/Encounters test files.\n",
    "# One-time setup for a new Databricks workspace.\n",
    "\n",
    "# Define target raw directories\n",
    "RAW_PATIENTS = \"dbfs:/kardia/raw/patients/\"\n",
    "RAW_ENCOUNTERS = \"dbfs:/kardia/raw/encounters/\"\n",
    "UPLOADS = \"dbfs:/FileStore/tables/\"\n",
    "\n",
    "# 1. Create raw input folders.\n",
    "for path in (RAW_PATIENTS, RAW_ENCOUNTERS):\n",
    "    dbutils.fs.mkdirs(path)\n",
    "\n",
    "# 2️. Upload test files to DBFS using the Databricks UI.\n",
    "\n",
    "# 3️. Move uploaded test files into the raw folders.\n",
    "test_files = [\n",
    "    (\"patients_part_4.csv\", RAW_PATIENTS),\n",
    "    (\"encounters_part_2.avro\", RAW_ENCOUNTERS)\n",
    "]\n",
    "\n",
    "for fname, dst in test_files:\n",
    "    dbutils.fs.cp(f\"{UPLOADS}{fname}\", f\"{dst}{fname}\", recurse=True)\n",
    "    print(f\"Copied: from {fname} to {dst}\")"
   ]
  }
 ],
 "metadata": {
  "application/vnd.databricks.v1+notebook": {
   "computePreferences": null,
   "dashboards": [],
   "environmentMetadata": null,
   "inputWidgetPreferences": null,
   "language": "python",
   "notebookMetadata": {
    "pythonIndentUnit": 4
   },
   "notebookName": "bootstrap_raw_dirs_and_files",
   "widgets": {}
  },
  "language_info": {
   "name": "python"
  }
 },
 "nbformat": 4,
 "nbformat_minor": 0
}

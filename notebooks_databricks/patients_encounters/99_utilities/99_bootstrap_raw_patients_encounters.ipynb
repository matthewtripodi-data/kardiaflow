{
 "cells": [
  {
   "cell_type": "code",
   "execution_count": 0,
   "metadata": {
    "application/vnd.databricks.v1+cell": {
     "cellMetadata": {
      "byteLimit": 2048000,
      "rowLimit": 10000
     },
     "inputWidgets": {},
     "nuid": "c7588e88-c465-45f8-bf3e-dd2062fac2f9",
     "showTitle": false,
     "tableResultSettingsMap": {},
     "title": ""
    }
   },
   "outputs": [],
   "source": [
    "# 99_bootstrap_raw_patients_encounters.ipynb\n",
    "# Perform one-time setup for Patients and Encounters data.\n",
    "# Creates the raw input folders and moves in the initial test files.\n",
    "\n",
    "# 1. Manually upload the test files `patients_part_1.csv` and `encounters_part.avro` to DBFS.\n",
    "\n",
    "UPLOADS_DIR = \"dbfs:/FileStore/tables/\"\n",
    "RAW_PATIENTS_DIR = \"dbfs:/kardia/raw/patients/\"\n",
    "RAW_ENCOUNTERS_DIR = \"dbfs:/kardia/raw/encounters/\"\n",
    "\n",
    "# 2. Create destination folders for raw patient and encounter data\n",
    "for dir_path in (RAW_PATIENTS_DIR, RAW_ENCOUNTERS_DIR):\n",
    "    dbutils.fs.mkdirs(dir_path)\n",
    "\n",
    "# 3. Define seed test files and their target destinations\n",
    "INITIAL_TEST_FILES = [\n",
    "    (\"patients_part_1.csv\", RAW_PATIENTS_DIR),\n",
    "    (\"encounters_part_1.avro\", RAW_ENCOUNTERS_DIR),\n",
    "]\n",
    "\n",
    "# Copy each seed file into its corresponding raw folder\n",
    "for fname, dest_dir in INITIAL_TEST_FILES:\n",
    "    src = UPLOADS_DIR + fname\n",
    "    dst = dest_dir + fname\n",
    "    dbutils.fs.cp(src, dst)\n",
    "    print(f\"Bootstrapped: {fname} to {dst}\")"
   ]
  }
 ],
 "metadata": {
  "application/vnd.databricks.v1+notebook": {
   "computePreferences": null,
   "dashboards": [],
   "environmentMetadata": null,
   "inputWidgetPreferences": null,
   "language": "python",
   "notebookMetadata": {
    "pythonIndentUnit": 4
   },
   "notebookName": "bootstrap_raw_dirs_and_files",
   "widgets": {}
  },
  "language_info": {
   "name": "python"
  }
 },
 "nbformat": 4,
 "nbformat_minor": 0
}

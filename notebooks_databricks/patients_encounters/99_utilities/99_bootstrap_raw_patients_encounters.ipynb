{
 "cells": [
  {
   "cell_type": "code",
   "execution_count": 0,
   "metadata": {
    "application/vnd.databricks.v1+cell": {
     "cellMetadata": {
      "byteLimit": 2048000,
      "rowLimit": 10000
     },
     "inputWidgets": {},
     "nuid": "c7588e88-c465-45f8-bf3e-dd2062fac2f9",
     "showTitle": false,
     "tableResultSettingsMap": {},
     "title": ""
    }
   },
   "outputs": [],
   "source": [
    "# 99_bootstrap_raw_patients_encounters.ipynb\n",
    "# Perform one-time setup for Patients and Encounters data.\n",
    "# Creates the raw input folders and moves in the initial test files.\n",
    "\n",
    "# 1. Manually upload the test files `patients_part_1.csv` and `encounters_part.avro` to DBFS.\n",
    "\n",
    "UPLOADS_DIR = \"dbfs:/FileStore/tables/\"\n",
    "RAW_PATIENTS_DIR = \"dbfs:/kardia/raw/patients/\"\n",
    "RAW_ENCOUNTERS_DIR = \"dbfs:/kardia/raw/encounters/\"\n",
    "\n",
    "# Step 1 – Create destination folders if missing\n",
    "for dir_path in (RAW_PATIENTS_DIR, RAW_ENCOUNTERS_DIR):\n",
    "    dbutils.fs.mkdirs(dir_path)\n",
    "\n",
    "# Step 2 – Define test files and destinations\n",
    "INITIAL_TEST_FILES = [\n",
    "    (\"patients_part_1.csv\", RAW_PATIENTS_DIR),\n",
    "    (\"encounters_part_1.avro\", RAW_ENCOUNTERS_DIR),\n",
    "]\n",
    "\n",
    "# Step 3 – Copy files only if they don't already exist in destination\n",
    "for fname, dest_dir in INITIAL_TEST_FILES:\n",
    "    src_path = UPLOADS_DIR + fname\n",
    "    dst_path = dest_dir + fname\n",
    "\n",
    "    # List existing files in destination folder\n",
    "    existing = [f.name for f in dbutils.fs.ls(dest_dir)]\n",
    "\n",
    "    if fname in existing:\n",
    "        print(f\"Skipped (already exists): {dst_path}\")\n",
    "    else:\n",
    "        try:\n",
    "            dbutils.fs.cp(src_path, dst_path)\n",
    "            print(f\"Bootstrapped: {fname} to {dst_path}\")\n",
    "        except Exception as e:\n",
    "            print(f\"Failed to copy {fname}: {e}\")"
   ]
  }
 ],
 "metadata": {
  "application/vnd.databricks.v1+notebook": {
   "computePreferences": null,
   "dashboards": [],
   "environmentMetadata": null,
   "inputWidgetPreferences": null,
   "language": "python",
   "notebookMetadata": {
    "pythonIndentUnit": 4
   },
   "notebookName": "99_bootstrap_raw_patients_encounters",
   "widgets": {}
  },
  "language_info": {
   "name": "python"
  }
 },
 "nbformat": 4,
 "nbformat_minor": 0
}

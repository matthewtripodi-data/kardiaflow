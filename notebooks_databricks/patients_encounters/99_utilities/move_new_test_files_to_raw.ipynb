{
 "cells": [
  {
   "cell_type": "code",
   "execution_count": 0,
   "metadata": {
    "application/vnd.databricks.v1+cell": {
     "cellMetadata": {
      "byteLimit": 2048000,
      "rowLimit": 10000
     },
     "inputWidgets": {},
     "nuid": "37dfb562-a2f8-4cb9-bfd2-2b2f0747a3e4",
     "showTitle": false,
     "tableResultSettingsMap": {},
     "title": ""
    }
   },
   "outputs": [],
   "source": [
    "# 99_move_new_test_files_to_raw.ipynb\n",
    "# Move manually uploaded Patients/Encounters test files into raw folders for Auto Loader.\n",
    "\n",
    "# Define the target raw directories\n",
    "RAW_PATIENTS   = \"dbfs:/kardia/raw/patients/\"\n",
    "RAW_ENCOUNTERS = \"dbfs:/kardia/raw/encounters/\"\n",
    "\n",
    "# Define the test files and their destinations\n",
    "test_files = {\n",
    "    \"patients.csv\":   RAW_PATIENTS,\n",
    "    \"encounters.csv\": RAW_ENCOUNTERS\n",
    "}\n",
    "\n",
    "# Move each test file from DBFS into the appropriate raw folder\n",
    "for filename, destination_dir in test_files.items():\n",
    "    source_path      = f\"dbfs:/FileStore/tables/{filename}\"\n",
    "    destination_path = f\"{destination_dir}{filename}\"\n",
    "\n",
    "    dbutils.fs.cp(source_path, destination_path, recurse=True)\n",
    "    print(f\"Copied: from {source_path} to {destination_path}\")"
   ]
  }
 ],
 "metadata": {
  "application/vnd.databricks.v1+notebook": {
   "computePreferences": null,
   "dashboards": [],
   "environmentMetadata": null,
   "inputWidgetPreferences": null,
   "language": "python",
   "notebookMetadata": {
    "pythonIndentUnit": 4
   },
   "notebookName": "move_new_test_files_to_raw",
   "widgets": {}
  },
  "language_info": {
   "name": "python"
  }
 },
 "nbformat": 4,
 "nbformat_minor": 0
}

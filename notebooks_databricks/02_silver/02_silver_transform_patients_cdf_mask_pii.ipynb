{
 "cells": [
  {
   "cell_type": "code",
   "execution_count": 0,
   "metadata": {
    "application/vnd.databricks.v1+cell": {
     "cellMetadata": {
      "byteLimit": 2048000,
      "rowLimit": 10000
     },
     "inputWidgets": {},
     "nuid": "50255fa6-9690-4d9e-8ffe-c2b47e0aba97",
     "showTitle": false,
     "tableResultSettingsMap": {},
     "title": ""
    }
   },
   "outputs": [],
   "source": [
    "# Silver Transform: bronze_patients_changes -> silver_patients  \n",
    "# - Keeps only `insert` & `update_postimage`  \n",
    "# - Drops duplicate IDs (last write wins)  \n",
    "# - Masks `FIRST` & `LAST` (sets to NULL)  \n",
    "# - Writes a Delta Silver table for downstream analytics\n",
    "\n",
    "from pyspark.sql import SparkSession, functions as F"
   ]
  },
  {
   "cell_type": "code",
   "execution_count": 0,
   "metadata": {
    "application/vnd.databricks.v1+cell": {
     "cellMetadata": {
      "byteLimit": 2048000,
      "rowLimit": 10000
     },
     "inputWidgets": {},
     "nuid": "5a102af3-ed6b-4643-892f-7e082caf9582",
     "showTitle": false,
     "tableResultSettingsMap": {},
     "title": ""
    }
   },
   "outputs": [],
   "source": [
    "# Path config\n",
    "RAW_PATH = \"dbfs:/FileStore/shared_uploads/matthew.databrickslab2@outlook.com/patients_10.csv\"\n",
    "BRONZE_PATH = \"dbfs:/kardia/bronze/bronze_patients\"\n",
    "SILVER_PATH = \"dbfs:/kardia/silver/silver_patients\""
   ]
  },
  {
   "cell_type": "code",
   "execution_count": 0,
   "metadata": {
    "application/vnd.databricks.v1+cell": {
     "cellMetadata": {
      "byteLimit": 2048000,
      "rowLimit": 10000
     },
     "inputWidgets": {},
     "nuid": "dff1437b-93b1-4dc1-a4ef-f2f14b2ff23d",
     "showTitle": false,
     "tableResultSettingsMap": {},
     "title": ""
    }
   },
   "outputs": [],
   "source": [
    "# Initialize a Spark session with minimal shuffle partitions\n",
    "spark = (\n",
    "    SparkSession.builder\n",
    "      .appName(\"silver_patients\")\n",
    "      .config(\"spark.sql.shuffle.partitions\", \"1\")\n",
    "      .config(\"spark.sql.extensions\", \"io.delta.sql.DeltaSparkSessionExtension\")\n",
    "      .config(\"spark.sql.catalog.spark_catalog\", \"org.apache.spark.sql.delta.catalog.DeltaCatalog\")\n",
    "      .getOrCreate()\n",
    ")\n",
    "spark.sparkContext.setLogLevel(\"ERROR\")"
   ]
  },
  {
   "cell_type": "code",
   "execution_count": 0,
   "metadata": {
    "application/vnd.databricks.v1+cell": {
     "cellMetadata": {
      "byteLimit": 2048000,
      "rowLimit": 10000
     },
     "inputWidgets": {},
     "nuid": "d250235e-9336-495c-ad2e-e60cd21cb9eb",
     "showTitle": false,
     "tableResultSettingsMap": {},
     "title": ""
    }
   },
   "outputs": [],
   "source": [
    "# 1. Remove any previous Silver table\n",
    "dbutils.fs.rm(SILVER_PATH, recurse=True)\n",
    "\n",
    "# 2. Read the Bronze Change-Data feed starting at version 1 \n",
    "# (version 0 is the metadata commit and never has CDF rows)\n",
    "silver_df = (\n",
    "    spark.read\n",
    "         .format(\"delta\")\n",
    "         .option(\"readChangeFeed\", \"true\")\n",
    "         .option(\"startingVersion\", 1)\n",
    "         .load(BRONZE_PATH)\n",
    "    .filter(F.col(\"_change_type\").isin(\"insert\", \"update_postimage\"))\n",
    "    .dropDuplicates([\"ID\"])\n",
    "    .select(\n",
    "        \"ID\",\n",
    "        F.year(\"BIRTHDATE\").cast(\"int\").alias(\"BIRTH_YEAR\"),\n",
    "        F.lit(None).cast(\"string\").alias(\"DEATHDATE\"),\n",
    "        F.lit(None).cast(\"string\").alias(\"FIRST\"),\n",
    "        F.lit(None).cast(\"string\").alias(\"LAST\"),\n",
    "        F.lit(None).cast(\"string\").alias(\"MAIDEN\"),\n",
    "        F.lit(None).cast(\"string\").alias(\"SSN\"),\n",
    "        F.lit(None).cast(\"string\").alias(\"DRIVERS\"),\n",
    "        F.lit(None).cast(\"string\").alias(\"PASSPORT\"),\n",
    "        F.lit(None).cast(\"string\").alias(\"BIRTHPLACE\"),\n",
    "        \"MARITAL\", \"RACE\", \"ETHNICITY\", \"GENDER\"\n",
    "    )\n",
    ")\n",
    "\n",
    "# 3. Overwrite the Silver table\n",
    "(silver_df.write\n",
    "    .format(\"delta\")\n",
    "    .mode(\"overwrite\")\n",
    "    .save(SILVER_PATH)\n",
    ")\n",
    "\n",
    "print(\"Silver transform complete\")\n"
   ]
  },
  {
   "cell_type": "code",
   "execution_count": 0,
   "metadata": {
    "application/vnd.databricks.v1+cell": {
     "cellMetadata": {
      "byteLimit": 2048000,
      "rowLimit": 10000
     },
     "inputWidgets": {},
     "nuid": "11eb42a2-8cb9-4b93-a26e-36dad5f60252",
     "showTitle": false,
     "tableResultSettingsMap": {},
     "title": ""
    }
   },
   "outputs": [],
   "source": [
    "# Quick verification: row count + sample preview\n",
    "df_silver = spark.read.format(\"delta\").load(SILVER_PATH)\n",
    "\n",
    "cnt = df_silver.count()\n",
    "print(f\"Silver table row count: {cnt}\")\n",
    "\n",
    "display(df_silver.limit(5))"
   ]
  },
  {
   "cell_type": "code",
   "execution_count": 0,
   "metadata": {
    "application/vnd.databricks.v1+cell": {
     "cellMetadata": {
      "byteLimit": 2048000,
      "rowLimit": 10000
     },
     "inputWidgets": {},
     "nuid": "4250402b-41b0-46f0-9a96-9c2655b6e28e",
     "showTitle": false,
     "tableResultSettingsMap": {},
     "title": ""
    }
   },
   "outputs": [],
   "source": [
    "## Silver complete  \n",
    "## Proceed to gold view creation `03_gold/create_gold_views`"
   ]
  }
 ],
 "metadata": {
  "application/vnd.databricks.v1+notebook": {
   "computePreferences": null,
   "dashboards": [],
   "environmentMetadata": {
    "base_environment": "",
    "environment_version": "2"
   },
   "inputWidgetPreferences": null,
   "language": "python",
   "notebookMetadata": {
    "pythonIndentUnit": 4
   },
   "notebookName": "02_silver_transform_patients_cdf_mask_pii",
   "widgets": {
    "env": {
     "currentValue": "prod",
     "nuid": "ec8af182-718d-4553-9f2f-08ad37e9603b",
     "typedWidgetInfo": {
      "autoCreated": false,
      "defaultValue": "prod",
      "label": null,
      "name": "env",
      "options": {
       "widgetDisplayType": "Text",
       "validationRegex": null
      },
      "parameterDataType": "String"
     },
     "widgetInfo": {
      "widgetType": "text",
      "defaultValue": "prod",
      "label": null,
      "name": "env",
      "options": {
       "widgetType": "text",
       "autoCreated": false,
       "validationRegex": null
      }
     }
    }
   }
  },
  "language_info": {
   "name": "python"
  }
 },
 "nbformat": 4,
 "nbformat_minor": 0
}

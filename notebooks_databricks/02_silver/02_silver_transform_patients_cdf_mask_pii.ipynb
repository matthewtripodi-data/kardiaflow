{
 "cells": [
  {
   "cell_type": "code",
   "execution_count": 0,
   "metadata": {
    "application/vnd.databricks.v1+cell": {
     "cellMetadata": {
      "byteLimit": 2048000,
      "rowLimit": 10000
     },
     "inputWidgets": {},
     "nuid": "50255fa6-9690-4d9e-8ffe-c2b47e0aba97",
     "showTitle": false,
     "tableResultSettingsMap": {},
     "title": ""
    }
   },
   "outputs": [],
   "source": [
    "# 02_silver_transform_patients_cdf_mask_pii.ipynb\n",
    "# -------------------------------------------------------------------\n",
    "#  Cell-1  = one-time bootstrap\n",
    "#  Cell-2  = incremental – rerun whenever\n",
    "#  PHI columns masked to NULL\n",
    "# -------------------------------------------------------------------\n",
    "\n",
    "from pyspark.sql import functions as F\n",
    "from delta.tables import DeltaTable"
   ]
  },
  {
   "cell_type": "code",
   "execution_count": 0,
   "metadata": {
    "application/vnd.databricks.v1+cell": {
     "cellMetadata": {
      "byteLimit": 2048000,
      "rowLimit": 10000
     },
     "inputWidgets": {},
     "nuid": "2de384e3-5683-40ca-89cd-22d232382cf4",
     "showTitle": false,
     "tableResultSettingsMap": {},
     "title": ""
    }
   },
   "outputs": [],
   "source": [
    "# Cluster-level tweak (run once per cluster)\n",
    "spark.conf.set(\"spark.sql.shuffle.partitions\", \"1\")"
   ]
  },
  {
   "cell_type": "code",
   "execution_count": 0,
   "metadata": {
    "application/vnd.databricks.v1+cell": {
     "cellMetadata": {
      "byteLimit": 2048000,
      "implicitDf": true,
      "rowLimit": 10000
     },
     "inputWidgets": {},
     "nuid": "c2cd8345-76b0-48ed-995c-a5350a1e2d8a",
     "showTitle": false,
     "tableResultSettingsMap": {},
     "title": ""
    }
   },
   "outputs": [],
   "source": [
    "%sql -- One-time FULL snapshot bootstrap\n",
    "CREATE DATABASE IF NOT EXISTS kardia_silver;\n",
    "\n",
    "CREATE OR REPLACE TABLE kardia_silver.silver_patients\n",
    "AS\n",
    "SELECT\n",
    "    ID                                       AS ID,\n",
    "    year(BIRTHDATE)            AS BIRTH_YEAR,\n",
    "    -- PHI masked\n",
    "    CAST(NULL AS STRING)       AS DEATHDATE,\n",
    "    CAST(NULL AS STRING)       AS FIRST,\n",
    "    CAST(NULL AS STRING)       AS LAST,\n",
    "    CAST(NULL AS STRING)       AS MAIDEN,\n",
    "    CAST(NULL AS STRING)       AS SSN,\n",
    "    CAST(NULL AS STRING)       AS DRIVERS,\n",
    "    CAST(NULL AS STRING)       AS PASSPORT,\n",
    "    CAST(NULL AS STRING)       AS BIRTHPLACE,\n",
    "    MARITAL                    AS MARITAL,\n",
    "    RACE                       AS RACE,\n",
    "    ETHNICITY                  AS ETHNICITY,\n",
    "    GENDER                     AS GENDER\n",
    "FROM delta.`dbfs:/kardia/bronze/bronze_patients`;\n",
    "\n"
   ]
  },
  {
   "cell_type": "code",
   "execution_count": 0,
   "metadata": {
    "application/vnd.databricks.v1+cell": {
     "cellMetadata": {
      "byteLimit": 2048000,
      "rowLimit": 10000
     },
     "inputWidgets": {},
     "nuid": "51b6eca4-ae1d-4e59-820c-650738f54a15",
     "showTitle": false,
     "tableResultSettingsMap": {},
     "title": ""
    }
   },
   "outputs": [],
   "source": [
    "# Incremental refresh via Delta CDF (rerun any time)\n",
    "bronze_path = \"dbfs:/kardia/bronze/bronze_patients\"\n",
    "silver_tbl  = \"kardia_silver.silver_patients\"\n",
    "\n",
    "# 1. figure out the latest commit numbers\n",
    "latest_bronze_ver = (\n",
    "    spark.sql(f\"DESCRIBE HISTORY delta.`{bronze_path}`\")\n",
    "         .selectExpr(\"max(version) AS v\").first().v\n",
    ")\n",
    "\n",
    "latest_silver_ver = (\n",
    "    spark.sql(f\"DESCRIBE HISTORY {silver_tbl}\")\n",
    "         .selectExpr(\"max(version) AS v\").first().v\n",
    ")\n",
    "\n",
    "# start right after the last Silver commit, but never beyond Bronze\n",
    "start_ver = min(latest_bronze_ver, latest_silver_ver) + 1\n",
    "\n",
    "if start_ver > latest_bronze_ver:\n",
    "    print(\"Nothing new – Silver already current ✔\")\n",
    "    dbutils.notebook.exit(\"no_new_commits\")\n",
    "\n",
    "# 2. read just that CDF slice\n",
    "cdf_df = (spark.read.format(\"delta\")\n",
    "            .option(\"readChangeFeed\", \"true\")\n",
    "            .option(\"startingVersion\", start_ver)\n",
    "            .load(bronze_path)\n",
    "            .filter(F.col(\"_change_type\").isin(\"insert\", \"update_postimage\"))\n",
    "            .dropDuplicates([\"ID\"]) # SCD-1 last-write-wins\n",
    "            .select(\n",
    "                \"ID\",\n",
    "                F.year(\"BIRTHDATE\").cast(\"int\").alias(\"BIRTH_YEAR\"),\n",
    "                F.lit(None).cast(\"string\").alias(\"DEATHDATE\"),\n",
    "                F.lit(None).cast(\"string\").alias(\"FIRST\"),\n",
    "                F.lit(None).cast(\"string\").alias(\"LAST\"),\n",
    "                F.lit(None).cast(\"string\").alias(\"MAIDEN\"),\n",
    "                F.lit(None).cast(\"string\").alias(\"SSN\"),\n",
    "                F.lit(None).cast(\"string\").alias(\"DRIVERS\"),\n",
    "                F.lit(None).cast(\"string\").alias(\"PASSPORT\"),\n",
    "                F.lit(None).cast(\"string\").alias(\"BIRTHPLACE\"),\n",
    "                \"MARITAL\", \"RACE\", \"ETHNICITY\", \"GENDER\"\n",
    "            ))\n",
    "\n",
    "if cdf_df.isEmpty():\n",
    "    print(\"Nothing new – Silver already current\")\n",
    "else:\n",
    "    DeltaTable.forName(spark, silver_tbl).alias(\"t\") \\\n",
    "        .merge(cdf_df.alias(\"s\"), \"t.ID = s.ID\") \\\n",
    "        .whenMatchedUpdateAll() \\\n",
    "        .whenNotMatchedInsertAll() \\\n",
    "        .execute()\n",
    "\n",
    "    print(\"Silver updated → row count:\",\n",
    "          spark.table(silver_tbl).count())\n"
   ]
  },
  {
   "cell_type": "code",
   "execution_count": 0,
   "metadata": {
    "application/vnd.databricks.v1+cell": {
     "cellMetadata": {
      "byteLimit": 2048000,
      "rowLimit": 10000
     },
     "inputWidgets": {},
     "nuid": "f553d0cd-4d01-4872-9c31-75381ac79ab9",
     "showTitle": false,
     "tableResultSettingsMap": {},
     "title": ""
    }
   },
   "outputs": [],
   "source": [
    "# 5. Persist state and final checks ─────────────────────────────────\n",
    "dbutils.fs.put(STATE_PATH, str(latest_ver), overwrite=True)\n",
    "print(f\"Silver upsert complete (processed through version {latest_ver})\")\n",
    "cnt = spark.read.format(\"delta\").load(SILVER_PATH).count()\n",
    "print(f\"Silver row count: {cnt}\")\n",
    "\n",
    "# Preview final rows\n",
    "display(spark.read.format(\"delta\").load(SILVER_PATH).limit(5))"
   ]
  },
  {
   "cell_type": "code",
   "execution_count": 0,
   "metadata": {
    "application/vnd.databricks.v1+cell": {
     "cellMetadata": {
      "byteLimit": 2048000,
      "rowLimit": 10000
     },
     "inputWidgets": {},
     "nuid": "4250402b-41b0-46f0-9a96-9c2655b6e28e",
     "showTitle": false,
     "tableResultSettingsMap": {},
     "title": ""
    }
   },
   "outputs": [],
   "source": [
    "## Silver complete  \n",
    "## Proceed to gold view creation `03_gold/create_gold_views`"
   ]
  },
  {
   "cell_type": "code",
   "execution_count": 0,
   "metadata": {
    "application/vnd.databricks.v1+cell": {
     "cellMetadata": {
      "byteLimit": 2048000,
      "implicitDf": true,
      "rowLimit": 10000
     },
     "inputWidgets": {},
     "nuid": "6aa60eb2-09cd-4cfe-9db4-8f3f0182a1c7",
     "showTitle": false,
     "tableResultSettingsMap": {},
     "title": ""
    }
   },
   "outputs": [],
   "source": [
    "%sql\n",
    "SELECT * FROM kardia_silver.silver_patients"
   ]
  }
 ],
 "metadata": {
  "application/vnd.databricks.v1+notebook": {
   "computePreferences": null,
   "dashboards": [],
   "environmentMetadata": {
    "base_environment": "",
    "environment_version": "2"
   },
   "inputWidgetPreferences": null,
   "language": "python",
   "notebookMetadata": {
    "mostRecentlyExecutedCommandWithImplicitDF": {
     "commandId": 6336542656291770,
     "dataframes": [
      "_sqldf"
     ]
    },
    "pythonIndentUnit": 4
   },
   "notebookName": "02_silver_transform_patients_cdf_mask_pii",
   "widgets": {
    "env": {
     "currentValue": "prod",
     "nuid": "ec8af182-718d-4553-9f2f-08ad37e9603b",
     "typedWidgetInfo": {
      "autoCreated": false,
      "defaultValue": "prod",
      "label": null,
      "name": "env",
      "options": {
       "widgetDisplayType": "Text",
       "validationRegex": null
      },
      "parameterDataType": "String"
     },
     "widgetInfo": {
      "widgetType": "text",
      "defaultValue": "prod",
      "label": null,
      "name": "env",
      "options": {
       "widgetType": "text",
       "autoCreated": false,
       "validationRegex": null
      }
     }
    }
   }
  },
  "language_info": {
   "name": "python"
  }
 },
 "nbformat": 4,
 "nbformat_minor": 0
}

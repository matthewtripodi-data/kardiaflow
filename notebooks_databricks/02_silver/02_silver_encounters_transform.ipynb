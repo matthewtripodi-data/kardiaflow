{
 "cells": [
  {
   "cell_type": "code",
   "execution_count": 0,
   "metadata": {
    "application/vnd.databricks.v1+cell": {
     "cellMetadata": {
      "byteLimit": 2048000,
      "rowLimit": 10000
     },
     "inputWidgets": {},
     "nuid": "3e198ae6-8d40-4a37-8907-aeab3557c92f",
     "showTitle": false,
     "tableResultSettingsMap": {},
     "title": ""
    }
   },
   "outputs": [],
   "source": [
    "# 02_silver_encounters_transform.ipynb\n",
    "# Stream new rows from Bronze (CDF) into Silver.\n",
    "\n",
    "from pyspark.sql import functions as F\n",
    "from delta.tables import DeltaTable\n",
    "\n",
    "# Table paths\n",
    "SILVER_DB = \"kardia_silver\"\n",
    "BRONZE_ENCOUNTERS_TABLE = \"kardia_bronze.bronze_encounters\"\n",
    "SILVER_ENCOUNTERS_TABLE = f\"{SILVER_DB}.silver_encounters\"\n",
    "CHECKPOINT_PATH = \"dbfs:/kardia/_checkpoints/silver_encounters\""
   ]
  },
  {
   "cell_type": "code",
   "execution_count": 0,
   "metadata": {
    "application/vnd.databricks.v1+cell": {
     "cellMetadata": {
      "byteLimit": 2048000,
      "rowLimit": 10000
     },
     "inputWidgets": {},
     "nuid": "01d727d7-210d-41e4-8fbc-91fce2ce2f75",
     "showTitle": false,
     "tableResultSettingsMap": {},
     "title": ""
    }
   },
   "outputs": [],
   "source": [
    "# Ensure the Silver DB exists\n",
    "spark.sql(f\"CREATE DATABASE IF NOT EXISTS {SILVER_DB}\")"
   ]
  },
  {
   "cell_type": "code",
   "execution_count": 0,
   "metadata": {
    "application/vnd.databricks.v1+cell": {
     "cellMetadata": {
      "byteLimit": 2048000,
      "rowLimit": 10000
     },
     "inputWidgets": {},
     "nuid": "ca75cc5e-8057-49d3-92eb-7ee84ced97a3",
     "showTitle": false,
     "tableResultSettingsMap": {},
     "title": ""
    }
   },
   "outputs": [],
   "source": [
    "# 1. Continuously read from Bronze CDF (SCD Type 1)\n",
    "bronze_cdf = (\n",
    "    spark.readStream\n",
    "        .format(\"delta\")\n",
    "        .option(\"readChangeFeed\", \"true\")\n",
    "        .table(BRONZE_ENCOUNTERS_TABLE)\n",
    "        .filter(F.col(\"_change_type\").isin(\"insert\", \"update_postimage\"))\n",
    ")"
   ]
  },
  {
   "cell_type": "code",
   "execution_count": 0,
   "metadata": {
    "application/vnd.databricks.v1+cell": {
     "cellMetadata": {
      "byteLimit": 2048000,
      "rowLimit": 10000
     },
     "inputWidgets": {},
     "nuid": "9a6935f1-1fc9-4727-8767-8153f633acb1",
     "showTitle": false,
     "tableResultSettingsMap": {},
     "title": ""
    }
   },
   "outputs": [],
   "source": [
    "# 2. Rename and enrich into 8-column Silver schema\n",
    "silver_ready = (\n",
    "    bronze_cdf\n",
    "        .withColumnRenamed(\"ID\", \"EncounterID\")\n",
    "        .withColumnRenamed(\"PATIENT\", \"PatientID\")\n",
    "        .withColumnRenamed(\"DATE\", \"EVENT_DATE_STR\")\n",
    "\n",
    "        # Parse the raw date string into two formats:\n",
    "        # EVENT_DATE (DateType) - Useful for analytics\n",
    "        # EVENT_TS (TimestampType) - Required for watermarking\n",
    "        # Note: Timestamp is parsed as midnight in session time zone (UTC by default)\n",
    "        .withColumn(\"EVENT_DATE\", F.to_date(\"EVENT_DATE_STR\", \"yyyy-MM-dd\"))\n",
    "        .withColumn(\"EVENT_TS\", F.to_timestamp(\"EVENT_DATE_STR\", \"yyyy-MM-dd\"))\n",
    "        .withWatermark(\"EVENT_TS\", \"1 day\")\n",
    "\n",
    "        # START_DATE is copied from EVENT_DATE - Serves as a partition column\n",
    "        .withColumn(\"START_DATE\", F.col(\"EVENT_DATE\"))\n",
    "\n",
    "        # Select final schema (exclude staging columns)\n",
    "        .selectExpr(\n",
    "            \"EncounterID\",\n",
    "            \"PatientID\",\n",
    "            \"EVENT_TS as START_TS\",\n",
    "            \"START_DATE\",\n",
    "            \"CODE\",\n",
    "            \"DESCRIPTION\",\n",
    "            \"REASONCODE\",\n",
    "            \"REASONDESCRIPTION\"\n",
    "        )\n",
    ")"
   ]
  },
  {
   "cell_type": "code",
   "execution_count": 0,
   "metadata": {
    "application/vnd.databricks.v1+cell": {
     "cellMetadata": {
      "byteLimit": 2048000,
      "rowLimit": 10000
     },
     "inputWidgets": {},
     "nuid": "8b040235-85a8-478c-a92d-f5c387a885f7",
     "showTitle": false,
     "tableResultSettingsMap": {},
     "title": ""
    }
   },
   "outputs": [],
   "source": [
    "# 3. Ensure target table exists (empty static DF)\n",
    "(\n",
    "    spark.createDataFrame([], silver_ready.schema)\n",
    "        .write\n",
    "        .format(\"delta\")\n",
    "        .partitionBy(\"START_DATE\")\n",
    "        .mode(\"ignore\")\n",
    "        .saveAsTable(SILVER_ENCOUNTERS_TABLE)\n",
    ")\n",
    "\n",
    "# 4. foreachBatch with DeltaTable API\n",
    "def upsert_to_silver(batch_df, _):\n",
    "    if batch_df.isEmpty():\n",
    "        return\n",
    "\n",
    "    target = DeltaTable.forName(batch_df.sparkSession, SILVER_ENCOUNTERS_TABLE)\n",
    "    (\n",
    "        target.alias(\"t\")\n",
    "           .merge(batch_df.alias(\"s\"), \"t.EncounterID = s.EncounterID\")\n",
    "           .whenMatchedUpdateAll()\n",
    "           .whenNotMatchedInsertAll()\n",
    "           .execute()\n",
    "    )\n",
    "\n",
    "query = (\n",
    "    silver_ready.writeStream\n",
    "                .foreachBatch(upsert_to_silver)\n",
    "                .option(\"checkpointLocation\", CHECKPOINT_PATH)\n",
    "                .trigger(processingTime=\"30 seconds\")\n",
    "                .start()\n",
    ")\n",
    "\n",
    "print(\"Silver-encounters continuous MERGE stream started.\")\n",
    "print(query.status)"
   ]
  },
  {
   "cell_type": "code",
   "execution_count": 0,
   "metadata": {
    "application/vnd.databricks.v1+cell": {
     "cellMetadata": {
      "byteLimit": 2048000,
      "rowLimit": 10000
     },
     "inputWidgets": {},
     "nuid": "6d481927-6ed9-4803-a4e4-a946b9408af4",
     "showTitle": false,
     "tableResultSettingsMap": {},
     "title": ""
    }
   },
   "outputs": [],
   "source": [
    "# query.stop()"
   ]
  }
 ],
 "metadata": {
  "application/vnd.databricks.v1+notebook": {
   "computePreferences": null,
   "dashboards": [],
   "environmentMetadata": {
    "base_environment": "",
    "environment_version": "2"
   },
   "inputWidgetPreferences": null,
   "language": "python",
   "notebookMetadata": {
    "mostRecentlyExecutedCommandWithImplicitDF": {
     "commandId": 8863411695073921,
     "dataframes": [
      "_sqldf"
     ]
    },
    "pythonIndentUnit": 4
   },
   "notebookName": "02_silver_encounters_transform",
   "widgets": {}
  },
  "language_info": {
   "name": "python"
  }
 },
 "nbformat": 4,
 "nbformat_minor": 0
}

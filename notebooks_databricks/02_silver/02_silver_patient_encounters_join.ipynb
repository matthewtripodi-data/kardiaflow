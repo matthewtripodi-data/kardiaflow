{
 "cells": [
  {
   "cell_type": "code",
   "execution_count": 0,
   "metadata": {
    "application/vnd.databricks.v1+cell": {
     "cellMetadata": {
      "byteLimit": 2048000,
      "rowLimit": 10000
     },
     "inputWidgets": {},
     "nuid": "c58efd7c-d677-4cd9-a7a5-bb5a59d2a894",
     "showTitle": false,
     "tableResultSettingsMap": {},
     "title": ""
    }
   },
   "outputs": [],
   "source": [
    "# 03_silver_patient_encounters_join.ipynb\n",
    "# -------------------------------------------------------------\n",
    "# Joins Silver encounters (stream) with Silver patients (static) for enriched fact table.\n",
    "\n",
    "from pyspark.sql import SparkSession, functions as F"
   ]
  },
  {
   "cell_type": "code",
   "execution_count": 0,
   "metadata": {
    "application/vnd.databricks.v1+cell": {
     "cellMetadata": {
      "byteLimit": 2048000,
      "rowLimit": 10000
     },
     "inputWidgets": {},
     "nuid": "02dc2498-17ac-4db7-8181-7c9ca06bebe3",
     "showTitle": false,
     "tableResultSettingsMap": {},
     "title": ""
    }
   },
   "outputs": [],
   "source": [
    "# Spark session\n",
    "spark = (SparkSession.builder\n",
    "         .appName(\"silver_patient_encounters_join\")\n",
    "         .config(\"spark.sql.shuffle.partitions\", \"1\")\n",
    "         .getOrCreate())"
   ]
  },
  {
   "cell_type": "code",
   "execution_count": 0,
   "metadata": {
    "application/vnd.databricks.v1+cell": {
     "cellMetadata": {
      "byteLimit": 2048000,
      "rowLimit": 10000
     },
     "inputWidgets": {},
     "nuid": "cfcc686b-39b9-40fc-849c-72f100c4dbdf",
     "showTitle": false,
     "tableResultSettingsMap": {},
     "title": ""
    }
   },
   "outputs": [],
   "source": [
    "# 1. Load stream and static dimension\n",
    "enc_stream  = (spark.readStream\n",
    "                    .table(\"kardia_silver.silver_encounters\")\n",
    "                    .dropDuplicates([\"EncounterID\"]))\n",
    "\n",
    "patients_df = spark.read.table(\"kardia_silver.silver_patients\")   # static dim"
   ]
  },
  {
   "cell_type": "code",
   "execution_count": 0,
   "metadata": {
    "application/vnd.databricks.v1+cell": {
     "cellMetadata": {
      "byteLimit": 2048000,
      "rowLimit": 10000
     },
     "inputWidgets": {},
     "nuid": "cf3094d3-282a-4b9f-92e0-466b8a0ecca1",
     "showTitle": false,
     "tableResultSettingsMap": {},
     "title": ""
    }
   },
   "outputs": [],
   "source": [
    "# 2. Join and project columns\n",
    "joined = (enc_stream.alias(\"e\")\n",
    "          .join(F.broadcast(patients_df).alias(\"p\"),\n",
    "                F.col(\"e.PatientID\") == F.col(\"p.ID\"),\n",
    "                \"left\")\n",
    "          .select(\n",
    "              \"EncounterID\",\n",
    "              \"PatientID\",\n",
    "              \"START\",\n",
    "              \"STOP\",\n",
    "              \"CODE\",\n",
    "              \"BASE_ENCOUNTER_COST\",\n",
    "              \"TOTAL_CLAIM_COST\",\n",
    "              F.coalesce(\"p.GENDER\",      F.lit(None)).alias(\"GENDER\"),\n",
    "              F.coalesce(\"p.BIRTH_YEAR\",  F.lit(None)).alias(\"BIRTH_YEAR\")\n",
    "          ))"
   ]
  },
  {
   "cell_type": "code",
   "execution_count": 0,
   "metadata": {
    "application/vnd.databricks.v1+cell": {
     "cellMetadata": {
      "byteLimit": 2048000,
      "rowLimit": 10000
     },
     "inputWidgets": {},
     "nuid": "3d8c8943-c272-4bde-a17d-63b70c7aee9f",
     "showTitle": false,
     "tableResultSettingsMap": {},
     "title": ""
    }
   },
   "outputs": [],
   "source": [
    "# 3. Write result to Delta\n",
    "CHKPT = \"dbfs:/kardia/_checkpoints/silver_patient_encounters\"\n",
    "TARGET = \"kardia_silver.silver_patient_encounters\"\n",
    "\n",
    "(joined.writeStream\n",
    "       .format(\"delta\")\n",
    "       .outputMode(\"append\")\n",
    "       .option(\"checkpointLocation\", CHKPT)\n",
    "       .trigger(availableNow=True)\n",
    "       .toTable(TARGET))"
   ]
  }
 ],
 "metadata": {
  "application/vnd.databricks.v1+notebook": {
   "computePreferences": null,
   "dashboards": [],
   "environmentMetadata": {
    "base_environment": "",
    "environment_version": "2"
   },
   "inputWidgetPreferences": null,
   "language": "python",
   "notebookMetadata": {
    "pythonIndentUnit": 4
   },
   "notebookName": "02_silver_patient_encounters_join",
   "widgets": {}
  },
  "language_info": {
   "name": "python"
  }
 },
 "nbformat": 4,
 "nbformat_minor": 0
}

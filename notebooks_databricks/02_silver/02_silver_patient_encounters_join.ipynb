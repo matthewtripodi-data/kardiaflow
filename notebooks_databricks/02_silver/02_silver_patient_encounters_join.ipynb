{
 "cells": [
  {
   "metadata": {},
   "cell_type": "code",
   "outputs": [],
   "execution_count": null,
   "source": [
    "# 03_silver_patient_encounters_join.ipynb\n",
    "# Joins Silver encounters (stream) with Silver patients (static) for enriched fact table.\n",
    "\n",
    "from pyspark.sql import SparkSession, functions as F\n",
    "\n",
    "CHECKPOINT_PATH = \"dbfs:/kardia/_checkpoints/silver_patient_encounters\"\n",
    "SILVER_PATIENTS_ENCOUNTERS = \"kardia_silver.silver_patient_encounters\"\n",
    "\n",
    "# Minimize shuffle overhead for small test datasets\n",
    "spark.conf.set(\"spark.sql.shuffle.partitions\", \"1\")"
   ]
  },
  {
   "metadata": {},
   "cell_type": "code",
   "outputs": [],
   "execution_count": null,
   "source": [
    "# 1. Load stream and static dimension\n",
    "enc_stream = spark.readStream.table(\"kardia_silver.silver_encounters\")\n",
    "patients_df = spark.read.table(\"kardia_silver.silver_patients\")"
   ]
  },
  {
   "cell_type": "code",
   "execution_count": 0,
   "metadata": {
    "application/vnd.databricks.v1+cell": {
     "cellMetadata": {
      "byteLimit": 2048000,
      "rowLimit": 10000
     },
     "inputWidgets": {},
     "nuid": "cf3094d3-282a-4b9f-92e0-466b8a0ecca1",
     "showTitle": false,
     "tableResultSettingsMap": {},
     "title": ""
    }
   },
   "outputs": [],
   "source": [
    "# 2. Join and project columns\n",
    "joined = (\n",
    "    enc_stream.alias(\"e\")\n",
    "        .join(F.broadcast(patients_df).alias(\"p\"),\n",
    "            F.col(\"e.PatientID\") == F.col(\"p.ID\"),\n",
    "            \"left\")\n",
    "        .select(\n",
    "            \"EncounterID\", \"PatientID\",\n",
    "            \"START_TS\", \"STOP\",\n",
    "            \"CODE\", \"BASE_ENCOUNTER_COST\", \"TOTAL_CLAIM_COST\",\n",
    "            F.coalesce(\"p.GENDER\",      F.lit(None)).alias(\"GENDER\"),\n",
    "            F.coalesce(\"p.BIRTH_YEAR\",  F.lit(None)).alias(\"BIRTH_YEAR\")\n",
    "        )\n",
    ")"
   ]
  },
  {
   "metadata": {},
   "cell_type": "code",
   "outputs": [],
   "execution_count": null,
   "source": [
    "# 3. Write result to Delta\n",
    "(joined.writeStream\n",
    "       .format(\"delta\")\n",
    "       .option(\"checkpointLocation\", CHECKPOINT_PATH)\n",
    "       .outputMode(\"append\")\n",
    "       .trigger(availableNow=True)\n",
    "       .toTable(SILVER_PATIENTS_ENCOUNTERS))"
   ]
  }
 ],
 "metadata": {
  "application/vnd.databricks.v1+notebook": {
   "computePreferences": null,
   "dashboards": [],
   "environmentMetadata": {
    "base_environment": "",
    "environment_version": "2"
   },
   "inputWidgetPreferences": null,
   "language": "python",
   "notebookMetadata": {
    "pythonIndentUnit": 4
   },
   "notebookName": "02_silver_patient_encounters_join",
   "widgets": {}
  },
  "language_info": {
   "name": "python"
  }
 },
 "nbformat": 4,
 "nbformat_minor": 0
}

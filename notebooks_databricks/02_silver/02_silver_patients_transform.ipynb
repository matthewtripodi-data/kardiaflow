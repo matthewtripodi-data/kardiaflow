{
 "cells": [
  {
   "cell_type": "code",
   "execution_count": 0,
   "metadata": {
    "application/vnd.databricks.v1+cell": {
     "cellMetadata": {
      "byteLimit": 2048000,
      "rowLimit": 10000
     },
     "inputWidgets": {},
     "nuid": "50255fa6-9690-4d9e-8ffe-c2b47e0aba97",
     "showTitle": false,
     "tableResultSettingsMap": {},
     "title": ""
    }
   },
   "outputs": [],
   "source": [
    "# 02_silver_patients_transform.ipynb\n",
    "# Promote Bronze patient data to Silver, masking PHI columns.\n",
    "\n",
    "from delta.tables import DeltaTable\n",
    "from pyspark.sql import SparkSession, functions as F\n",
    "\n",
    "# Paths and table names\n",
    "BRONZE_PATH = \"dbfs:/kardia/bronze/bronze_patients\"\n",
    "SILVER_DB   = \"kardia_silver\"\n",
    "SILVER_TBL  = f\"{SILVER_DB}.silver_patients\"\n",
    "STATE_PATH  = \"dbfs:/kardia/_state/bronze_to_silver_patients.txt\"\n",
    "\n",
    "# Minimize shuffle overhead for small test datasets\n",
    "spark.conf.set(\"spark.sql.shuffle.partitions\", \"1\")"
   ]
  },
  {
   "cell_type": "code",
   "execution_count": 0,
   "metadata": {
    "application/vnd.databricks.v1+cell": {
     "cellMetadata": {
      "byteLimit": 2048000,
      "implicitDf": true,
      "rowLimit": 10000
     },
     "inputWidgets": {},
     "nuid": "c2cd8345-76b0-48ed-995c-a5350a1e2d8a",
     "showTitle": false,
     "tableResultSettingsMap": {},
     "title": ""
    }
   },
   "outputs": [],
   "source": [
    "%sql\n",
    "-- Create the Silver database and table if they don’t exist\n",
    "CREATE DATABASE IF NOT EXISTS kardia_silver;\n",
    "\n",
    "CREATE TABLE IF NOT EXISTS kardia_silver.silver_patients AS\n",
    "SELECT\n",
    "    ID,\n",
    "    year(BIRTHDATE) AS BIRTH_YEAR,\n",
    "    -- mask PHI columns\n",
    "    CAST(NULL AS STRING) AS DEATHDATE,\n",
    "    CAST(NULL AS STRING) AS FIRST,\n",
    "    CAST(NULL AS STRING) AS LAST,\n",
    "    CAST(NULL AS STRING) AS MAIDEN,\n",
    "    CAST(NULL AS STRING) AS SSN,\n",
    "    CAST(NULL AS STRING) AS DRIVERS,\n",
    "    CAST(NULL AS STRING) AS PASSPORT,\n",
    "    CAST(NULL AS STRING) AS BIRTHPLACE,\n",
    "    MARITAL,\n",
    "    RACE,\n",
    "    ETHNICITY,\n",
    "    GENDER\n",
    "FROM delta.`dbfs:/kardia/bronze/bronze_patients`;\n"
   ]
  },
  {
   "cell_type": "code",
   "execution_count": 0,
   "metadata": {
    "application/vnd.databricks.v1+cell": {
     "cellMetadata": {
      "byteLimit": 2048000,
      "implicitDf": true,
      "rowLimit": 10000
     },
     "inputWidgets": {},
     "nuid": "51b6eca4-ae1d-4e59-820c-650738f54a15",
     "showTitle": false,
     "tableResultSettingsMap": {},
     "title": ""
    }
   },
   "outputs": [],
   "source": [
    "# Read the last processed Bronze version (defaults to -1 on first run)\n",
    "try:\n",
    "    last_processed = int(dbutils.fs.head(STATE_PATH, 1024))\n",
    "except Exception:\n",
    "    last_processed = -1\n",
    "\n",
    "# Current highest Bronze version\n",
    "latest_bronze = spark.sql(\n",
    "    f\"SELECT MAX(version) AS v FROM (DESCRIBE HISTORY delta.`{BRONZE_PATH}`)\"\n",
    ").first().v\n",
    "\n",
    "if last_processed < latest_bronze:\n",
    "    # Load change data from Bronze (new inserts and updates only)\n",
    "    bronze_updates = (\n",
    "        spark.read.format(\"delta\")\n",
    "             .option(\"readChangeFeed\", \"true\")\n",
    "             .option(\"startingVersion\", last_processed + 1)\n",
    "             .load(BRONZE_PATH)\n",
    "             .filter(F.col(\"_change_type\").isin(\"insert\", \"update_postimage\"))\n",
    "             .dropDuplicates([\"ID\"])\n",
    "    )\n",
    "\n",
    "    # Transform: extract birth year and mask PHI\n",
    "    silver_rows = (\n",
    "        bronze_updates\n",
    "            .withColumn(\"BIRTH_YEAR\", F.year(\"BIRTHDATE\"))\n",
    "            .withColumn(\"DEATHDATE\",  F.lit(None).cast(\"string\"))\n",
    "            .withColumn(\"FIRST\",      F.lit(None).cast(\"string\"))\n",
    "            .withColumn(\"LAST\",       F.lit(None).cast(\"string\"))\n",
    "            .withColumn(\"MAIDEN\",     F.lit(None).cast(\"string\"))\n",
    "            .withColumn(\"SSN\",        F.lit(None).cast(\"string\"))\n",
    "            .withColumn(\"DRIVERS\",    F.lit(None).cast(\"string\"))\n",
    "            .withColumn(\"PASSPORT\",   F.lit(None).cast(\"string\"))\n",
    "            .withColumn(\"BIRTHPLACE\", F.lit(None).cast(\"string\"))\n",
    "            .select(\n",
    "                \"ID\", \"BIRTH_YEAR\", \"DEATHDATE\", \"FIRST\", \"LAST\", \"MAIDEN\",\n",
    "                \"SSN\", \"DRIVERS\", \"PASSPORT\", \"BIRTHPLACE\",\n",
    "                \"MARITAL\", \"RACE\", \"ETHNICITY\", \"GENDER\"\n",
    "            )\n",
    "    )\n",
    "\n",
    "    # Merge into Silver (SCD-1)\n",
    "    DeltaTable.forName(spark, SILVER_TBL) \\\n",
    "        .alias(\"t\") \\\n",
    "        .merge(silver_rows.alias(\"s\"), \"t.ID = s.ID\") \\\n",
    "        .whenMatchedUpdateAll() \\\n",
    "        .whenNotMatchedInsertAll() \\\n",
    "        .execute()\n",
    "\n",
    "    print(\"Silver table updated\")\n",
    "else:\n",
    "    print(\"No new commits – Silver already current\")"
   ]
  },
  {
   "cell_type": "code",
   "execution_count": 0,
   "metadata": {
    "application/vnd.databricks.v1+cell": {
     "cellMetadata": {
      "byteLimit": 2048000,
      "implicitDf": true,
      "rowLimit": 10000
     },
     "inputWidgets": {},
     "nuid": "fe76aa2e-f73e-4755-b12a-9b495c0bbef7",
     "showTitle": false,
     "tableResultSettingsMap": {},
     "title": ""
    }
   },
   "outputs": [],
   "source": [
    "# Update the state file to the latest Bronze version\n",
    "dbutils.fs.put(STATE_PATH, str(latest_bronze), overwrite=True)\n",
    "print(f\"Saved latest processed version: {latest_bronze}\")"
   ]
  },
  {
   "cell_type": "code",
   "execution_count": 0,
   "metadata": {
    "application/vnd.databricks.v1+cell": {
     "cellMetadata": {
      "byteLimit": 2048000,
      "rowLimit": 10000
     },
     "inputWidgets": {},
     "nuid": "f553d0cd-4d01-4872-9c31-75381ac79ab9",
     "showTitle": false,
     "tableResultSettingsMap": {},
     "title": ""
    }
   },
   "outputs": [],
   "source": [
    "# Refresh and show summary\n",
    "spark.sql(f\"REFRESH TABLE {SILVER_TBL}\")\n",
    "print(f\"Row count: {spark.table(SILVER_TBL).count()}\")\n",
    "\n",
    "spark.sql(f\"\"\"\n",
    "SELECT version, timestamp, operation\n",
    "FROM   (DESCRIBE HISTORY {SILVER_TBL})\n",
    "ORDER  BY version DESC\n",
    "LIMIT  5\n",
    "\"\"\").show(truncate=False)"
   ]
  }
 ],
 "metadata": {
  "application/vnd.databricks.v1+notebook": {
   "computePreferences": null,
   "dashboards": [],
   "environmentMetadata": {
    "base_environment": "",
    "environment_version": "2"
   },
   "inputWidgetPreferences": null,
   "language": "python",
   "notebookMetadata": {
    "mostRecentlyExecutedCommandWithImplicitDF": {
     "commandId": 5838238807148404,
     "dataframes": [
      "_sqldf"
     ]
    },
    "pythonIndentUnit": 4
   },
   "notebookName": "02_silver_patients_transform",
   "widgets": {}
  },
  "language_info": {
   "name": "python"
  }
 },
 "nbformat": 4,
 "nbformat_minor": 0
}

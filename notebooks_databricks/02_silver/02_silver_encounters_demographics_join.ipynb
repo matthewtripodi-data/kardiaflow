{
 "cells": [
  {
   "cell_type": "code",
   "execution_count": 0,
   "metadata": {
    "application/vnd.databricks.v1+cell": {
     "cellMetadata": {
      "byteLimit": 2048000,
      "rowLimit": 10000
     },
     "inputWidgets": {},
     "nuid": "c5ffa72d-0a1d-405b-8a27-0a14dd2305e2",
     "showTitle": false,
     "tableResultSettingsMap": {},
     "title": ""
    }
   },
   "outputs": [],
   "source": [
    "# 03_silver_encounters_demographics_join.ipynb\n",
    "# Joins Silver encounters (stream) with Silver patients (static) for enriched fact table.\n",
    "# This gives us an encounter-centric fact table that contains two demographic columns,\n",
    "# and a null-vs-not-null flag that Gold layer uses to exclude bad rows and count in QA table.\n",
    "\n",
    "from pyspark.sql import functions as F\n",
    "\n",
    "SILVER_ENCOUNTERS_DEMOGRAPHICS = \"kardia_silver.silver_encounters_demographics\""
   ]
  },
  {
   "cell_type": "code",
   "execution_count": 0,
   "metadata": {
    "application/vnd.databricks.v1+cell": {
     "cellMetadata": {
      "byteLimit": 2048000,
      "rowLimit": 10000
     },
     "inputWidgets": {},
     "nuid": "e4f29e6a-2ce6-4fc9-b66c-efc423f24e39",
     "showTitle": false,
     "tableResultSettingsMap": {},
     "title": ""
    }
   },
   "outputs": [],
   "source": [
    "# 1. Load stream and static dimension\n",
    "enc_df = spark.table(\"kardia_silver.silver_encounters\")\n",
    "pat_df = spark.table(\"kardia_silver.silver_patients\")"
   ]
  },
  {
   "cell_type": "code",
   "execution_count": 0,
   "metadata": {
    "application/vnd.databricks.v1+cell": {
     "cellMetadata": {
      "byteLimit": 2048000,
      "rowLimit": 10000
     },
     "inputWidgets": {},
     "nuid": "cf3094d3-282a-4b9f-92e0-466b8a0ecca1",
     "showTitle": false,
     "tableResultSettingsMap": {},
     "title": ""
    }
   },
   "outputs": [],
   "source": [
    "# 2. Left-join encounters to patients\n",
    "\n",
    "\"\"\"\n",
    "Perform a left-join to retain all encounter records, even if\n",
    "some have no matching patient. In Gold layer, these unmatched\n",
    "rows are tracked for QA purposes.\n",
    "\"\"\"\n",
    "\n",
    "joined = (\n",
    "    enc_df.alias(\"e\")\n",
    "        .join(pat_df.alias(\"p\"),\n",
    "            enc_df.PatientID == F.col(\"p.ID\"),\n",
    "            \"left\")\n",
    "        .select(\n",
    "            \"e.EncounterID\",\n",
    "            \"e.PatientID\",\n",
    "            \"e.START_TS\",\n",
    "            \"e.START_DATE\",\n",
    "            \"e.CODE\",\n",
    "            \"e.DESCRIPTION\",\n",
    "            \"e.REASONCODE\",\n",
    "            \"e.REASONDESCRIPTION\",\n",
    "            \"p.GENDER\",\n",
    "            \"p.BIRTH_YEAR\"\n",
    "        )\n",
    ")"
   ]
  },
  {
   "cell_type": "code",
   "execution_count": 0,
   "metadata": {
    "application/vnd.databricks.v1+cell": {
     "cellMetadata": {
      "byteLimit": 2048000,
      "rowLimit": 10000
     },
     "inputWidgets": {},
     "nuid": "da0f1648-46ea-4059-815a-d723d1d4a558",
     "showTitle": false,
     "tableResultSettingsMap": {},
     "title": ""
    }
   },
   "outputs": [],
   "source": [
    "# 3. Overwrite target table (idempotent)\n",
    "(\n",
    "    joined.write\n",
    "        .format(\"delta\")\n",
    "        .mode(\"overwrite\")\n",
    "        .option(\"overwriteSchema\", \"true\")\n",
    "        .saveAsTable(SILVER_ENCOUNTERS_DEMOGRAPHICS)\n",
    ")\n",
    "\n",
    "print(\"silver_encounters_demographics refreshed.\")"
   ]
  }
 ],
 "metadata": {
  "application/vnd.databricks.v1+notebook": {
   "computePreferences": null,
   "dashboards": [],
   "environmentMetadata": {
    "base_environment": "",
    "environment_version": "2"
   },
   "inputWidgetPreferences": null,
   "language": "python",
   "notebookMetadata": {
    "pythonIndentUnit": 4
   },
   "notebookName": "02_silver_patient_encounters_join",
   "widgets": {}
  },
  "language_info": {
   "name": "python"
  }
 },
 "nbformat": 4,
 "nbformat_minor": 0
}

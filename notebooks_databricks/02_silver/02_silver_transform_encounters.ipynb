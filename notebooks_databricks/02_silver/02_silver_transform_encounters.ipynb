{
 "cells": [
  {
   "cell_type": "code",
   "execution_count": 0,
   "metadata": {
    "application/vnd.databricks.v1+cell": {
     "cellMetadata": {
      "byteLimit": 2048000,
      "rowLimit": 10000
     },
     "inputWidgets": {},
     "nuid": "3e198ae6-8d40-4a37-8907-aeab3557c92f",
     "showTitle": false,
     "tableResultSettingsMap": {},
     "title": ""
    }
   },
   "outputs": [],
   "source": [
    "# 02_silver_transform_encounters.ipynb\n",
    "# Stream new rows from Bronze (CDF) into Silver.\n",
    "\n",
    "from pyspark.sql import SparkSession, functions as F\n",
    "\n",
    "# Paths and table names\n",
    "BRONZE_TBL = \"kardia_bronze.bronze_encounters\"\n",
    "SILVER_DB  = \"kardia_silver\"\n",
    "SILVER_TBL = f\"{SILVER_DB}.silver_encounters\"\n",
    "CHKPT_LOC  = \"dbfs:/kardia/_checkpoints/silver_encounters\"\n",
    "\n",
    "# Minimize shuffle overhead for small test datasets\n",
    "spark.conf.set(\"spark.sql.shuffle.partitions\", \"1\")"
   ]
  },
  {
   "cell_type": "code",
   "execution_count": 0,
   "metadata": {
    "application/vnd.databricks.v1+cell": {
     "cellMetadata": {
      "byteLimit": 2048000,
      "rowLimit": 10000
     },
     "inputWidgets": {},
     "nuid": "01d727d7-210d-41e4-8fbc-91fce2ce2f75",
     "showTitle": false,
     "tableResultSettingsMap": {},
     "title": ""
    }
   },
   "outputs": [],
   "source": [
    "# 1A. Ensure the Silver DB exists\n",
    "spark.sql(f\"CREATE DATABASE IF NOT EXISTS {SILVER_DB}\")"
   ]
  },
  {
   "cell_type": "code",
   "execution_count": 0,
   "metadata": {
    "application/vnd.databricks.v1+cell": {
     "cellMetadata": {
      "byteLimit": 2048000,
      "rowLimit": 10000
     },
     "inputWidgets": {},
     "nuid": "ca75cc5e-8057-49d3-92eb-7ee84ced97a3",
     "showTitle": false,
     "tableResultSettingsMap": {},
     "title": ""
    }
   },
   "outputs": [],
   "source": [
    "# 1B. Read from Bronze CDF (SCD Type 1)\n",
    "bronze_cdf = (\n",
    "    spark.readStream\n",
    "        .format(\"delta\")\n",
    "        .option(\"readChangeFeed\", \"true\")\n",
    "        .table(BRONZE_TBL)\n",
    "        .filter(F.col(\"_change_type\").isin(\"insert\", \"update_postimage\"))\n",
    "        .withWatermark(\"START\", \"1 day\")\n",
    "        .dropDuplicates([\"ID\"])\n",
    ")"
   ]
  },
  {
   "cell_type": "code",
   "execution_count": 0,
   "metadata": {
    "application/vnd.databricks.v1+cell": {
     "cellMetadata": {
      "byteLimit": 2048000,
      "rowLimit": 10000
     },
     "inputWidgets": {},
     "nuid": "9a6935f1-1fc9-4727-8767-8153f633acb1",
     "showTitle": false,
     "tableResultSettingsMap": {},
     "title": ""
    }
   },
   "outputs": [],
   "source": [
    "# 2. Rename and enrich into 10-column Silver schema\n",
    "silver_ready = (\n",
    "    bronze_cdf\n",
    "        # rename to modelling-friendly names that match the join\n",
    "        .withColumnRenamed(\"ID\", \"EncounterID\")\n",
    "        .withColumnRenamed(\"PATIENT\", \"PatientID\")\n",
    "        .withColumnRenamed(\"DATE\", \"START_DATE\")\n",
    "        \n",
    "        # add required but missing cols (null/zero safe defaults)\n",
    "        .withColumn(\"STOP\", F.lit(None).cast(\"timestamp\"))\n",
    "        .withColumn(\"BASE_ENCOUNTER_COST\", F.lit(0.0).cast(\"double\"))\n",
    "        .withColumn(\"TOTAL_CLAIM_COST\", F.lit(0.0).cast(\"double\"))\n",
    "        \n",
    "        # lock the final Silver schema / column order\n",
    "        .select(\n",
    "            \"EncounterID\", \"PatientID\", \"START\", \"STOP\",\n",
    "            \"CODE\", \"DESCRIPTION\",\n",
    "            \"BASE_ENCOUNTER_COST\", \"TOTAL_CLAIM_COST\",\n",
    "            \"REASONCODE\", \"REASONDESCRIPTION\"\n",
    "        )\n",
    ")\n"
   ]
  },
  {
   "cell_type": "code",
   "execution_count": 0,
   "metadata": {
    "application/vnd.databricks.v1+cell": {
     "cellMetadata": {
      "byteLimit": 2048000,
      "rowLimit": 10000
     },
     "inputWidgets": {},
     "nuid": "8b040235-85a8-478c-a92d-f5c387a885f7",
     "showTitle": false,
     "tableResultSettingsMap": {},
     "title": ""
    }
   },
   "outputs": [],
   "source": [
    "# 3️. Write to Silver table (append mode)\n",
    "query = (\n",
    "    silver_ready.writeStream\n",
    "        .format(\"delta\")\n",
    "        .partitionBy(\"START_DATE\")\n",
    "        .option(\"checkpointLocation\", CHKPT_LOC)\n",
    "        .option(\"mergeSchema\",\"true\")\n",
    "        .outputMode(\"append\")\n",
    "        .toTable(SILVER_TBL) # returns a StreamingQuery\n",
    ")\n",
    "print(\"Silver-encounters stream started.\")\n",
    "\n",
    "# Batch Mode\n",
    "# print(f\"Streamed new rows from {BRONZE_TBL} to {SILVER_TBL}\")"
   ]
  },
  {
   "cell_type": "code",
   "execution_count": 0,
   "metadata": {
    "application/vnd.databricks.v1+cell": {
     "cellMetadata": {
      "byteLimit": 2048000,
      "rowLimit": 10000
     },
     "inputWidgets": {},
     "nuid": "798989c5-a8ed-4369-a718-a678916f939b",
     "showTitle": false,
     "tableResultSettingsMap": {},
     "title": ""
    }
   },
   "outputs": [],
   "source": [
    "print(query.status)"
   ]
  },
  {
   "cell_type": "code",
   "execution_count": 0,
   "metadata": {
    "application/vnd.databricks.v1+cell": {
     "cellMetadata": {
      "byteLimit": 2048000,
      "rowLimit": 10000
     },
     "inputWidgets": {},
     "nuid": "6d481927-6ed9-4803-a4e4-a946b9408af4",
     "showTitle": false,
     "tableResultSettingsMap": {},
     "title": ""
    }
   },
   "outputs": [],
   "source": [
    "# query.stop()\n",
    "\n",
    "# for q in spark.streams.active:\n",
    "#     print(f\"Stopping query: {q.name}\")\n",
    "#     q.stop()\n"
   ]
  }
 ],
 "metadata": {
  "application/vnd.databricks.v1+notebook": {
   "computePreferences": null,
   "dashboards": [],
   "environmentMetadata": {
    "base_environment": "",
    "environment_version": "2"
   },
   "inputWidgetPreferences": null,
   "language": "python",
   "notebookMetadata": {
    "mostRecentlyExecutedCommandWithImplicitDF": {
     "commandId": 5838238807148430,
     "dataframes": [
      "_sqldf"
     ]
    },
    "pythonIndentUnit": 4
   },
   "notebookName": "02_silver_transform_encounters",
   "widgets": {}
  },
  "language_info": {
   "name": "python"
  }
 },
 "nbformat": 4,
 "nbformat_minor": 0
}

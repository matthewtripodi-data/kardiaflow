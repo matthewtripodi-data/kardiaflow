{
 "cells": [
  {
   "cell_type": "code",
   "execution_count": 0,
   "metadata": {
    "application/vnd.databricks.v1+cell": {
     "cellMetadata": {
      "byteLimit": 2048000,
      "rowLimit": 10000
     },
     "inputWidgets": {},
     "nuid": "3e198ae6-8d40-4a37-8907-aeab3557c92f",
     "showTitle": false,
     "tableResultSettingsMap": {},
     "title": ""
    }
   },
   "outputs": [],
   "source": [
    "# 02_silver_transform_encounters.ipynb\n",
    "# -------------------------------------------------------\n",
    "# Streams new rows from bronze_encounters into silver_encounters via CDF.\n",
    "\n",
    "from pyspark.sql import SparkSession, functions as F\n",
    "\n",
    "# Path config\n",
    "BRONZE_TBL = \"kardia_bronze.bronze_encounters\"\n",
    "SILVER_TBL = \"kardia_silver.silver_encounters\"\n",
    "CHKPT_LOC  = \"dbfs:/kardia/_checkpoints/silver_encounters\""
   ]
  },
  {
   "cell_type": "code",
   "execution_count": 0,
   "metadata": {
    "application/vnd.databricks.v1+cell": {
     "cellMetadata": {
      "byteLimit": 2048000,
      "rowLimit": 10000
     },
     "inputWidgets": {},
     "nuid": "5b9a9753-ab4a-487f-9d84-8ac359e57498",
     "showTitle": false,
     "tableResultSettingsMap": {},
     "title": ""
    }
   },
   "outputs": [],
   "source": [
    "# Spark session\n",
    "spark = (SparkSession.builder\n",
    "         .appName(\"silver_encounters_stream\")\n",
    "         .config(\"spark.sql.shuffle.partitions\", \"1\")\n",
    "         .getOrCreate())"
   ]
  },
  {
   "cell_type": "code",
   "execution_count": 0,
   "metadata": {
    "application/vnd.databricks.v1+cell": {
     "cellMetadata": {
      "byteLimit": 2048000,
      "rowLimit": 10000
     },
     "inputWidgets": {},
     "nuid": "ca75cc5e-8057-49d3-92eb-7ee84ced97a3",
     "showTitle": false,
     "tableResultSettingsMap": {},
     "title": ""
    }
   },
   "outputs": [],
   "source": [
    "# 1. Read CDF stream from Bronze\n",
    "bronze_cdf = (spark.readStream\n",
    "                 .format(\"delta\")\n",
    "                 .option(\"readChangeFeed\", \"true\")\n",
    "                 .table(BRONZE_TBL)\n",
    "                 .filter(F.col(\"_change_type\").isin(\"insert\", \"update_postimage\"))\n",
    "                 .dropDuplicates([\"ID\"]))"
   ]
  },
  {
   "cell_type": "code",
   "execution_count": 0,
   "metadata": {
    "application/vnd.databricks.v1+cell": {
     "cellMetadata": {
      "byteLimit": 2048000,
      "rowLimit": 10000
     },
     "inputWidgets": {},
     "nuid": "9a6935f1-1fc9-4727-8767-8153f633acb1",
     "showTitle": false,
     "tableResultSettingsMap": {},
     "title": ""
    }
   },
   "outputs": [],
   "source": [
    "# 2. Rename & enrich to 10-column schema\n",
    "silver_ready = (bronze_cdf\n",
    "    # rename to modelling-friendly names that match the join\n",
    "    .withColumnRenamed(\"ID\",      \"EncounterID\")\n",
    "    .withColumnRenamed(\"PATIENT\", \"PatientID\")\n",
    "    .withColumnRenamed(\"DATE\",    \"START\")\n",
    "    # add required but missing cols (null/zero safe defaults)\n",
    "    .withColumn(\"STOP\",                F.lit(None).cast(\"timestamp\"))\n",
    "    .withColumn(\"BASE_ENCOUNTER_COST\", F.lit(0.0).cast(\"double\"))\n",
    "    .withColumn(\"TOTAL_CLAIM_COST\",    F.lit(0.0).cast(\"double\"))\n",
    "    # lock the final Silver schema / column order\n",
    "    .select(\"EncounterID\", \"PatientID\", \"START\", \"STOP\",\n",
    "            \"CODE\", \"DESCRIPTION\",\n",
    "            \"BASE_ENCOUNTER_COST\", \"TOTAL_CLAIM_COST\",\n",
    "            \"REASONCODE\", \"REASONDESCRIPTION\")\n",
    ")"
   ]
  },
  {
   "cell_type": "code",
   "execution_count": 0,
   "metadata": {
    "application/vnd.databricks.v1+cell": {
     "cellMetadata": {
      "byteLimit": 2048000,
      "rowLimit": 10000
     },
     "inputWidgets": {},
     "nuid": "8b040235-85a8-478c-a92d-f5c387a885f7",
     "showTitle": false,
     "tableResultSettingsMap": {},
     "title": ""
    }
   },
   "outputs": [],
   "source": [
    "# 3️. Write to Silver (append-only)\n",
    "(silver_ready.writeStream\n",
    "     .format(\"delta\")\n",
    "     .option(\"checkpointLocation\", CHKPT_LOC)\n",
    "     .outputMode(\"append\")\n",
    "     .trigger(availableNow=True)\n",
    "     .toTable(SILVER_TBL))"
   ]
  }
 ],
 "metadata": {
  "application/vnd.databricks.v1+notebook": {
   "computePreferences": null,
   "dashboards": [],
   "environmentMetadata": {
    "base_environment": "",
    "environment_version": "2"
   },
   "inputWidgetPreferences": null,
   "language": "python",
   "notebookMetadata": {
    "mostRecentlyExecutedCommandWithImplicitDF": {
     "commandId": 6336542656291764,
     "dataframes": [
      "_sqldf"
     ]
    },
    "pythonIndentUnit": 4
   },
   "notebookName": "02_silver_transform_encounters",
   "widgets": {}
  },
  "language_info": {
   "name": "python"
  }
 },
 "nbformat": 4,
 "nbformat_minor": 0
}

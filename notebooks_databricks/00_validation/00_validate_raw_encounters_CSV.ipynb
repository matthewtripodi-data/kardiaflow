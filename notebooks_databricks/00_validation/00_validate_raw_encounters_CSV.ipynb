{
 "cells": [
  {
   "cell_type": "code",
   "execution_count": 0,
   "metadata": {
    "application/vnd.databricks.v1+cell": {
     "cellMetadata": {
      "byteLimit": 2048000,
      "rowLimit": 10000
     },
     "inputWidgets": {},
     "nuid": "83185d9b-893d-4229-a73e-2d91382b83d1",
     "showTitle": false,
     "tableResultSettingsMap": {},
     "title": ""
    }
   },
   "outputs": [],
   "source": [
    "# 00_validate_raw_encounters_CSV.ipynb\n",
    "# Quick validation for Encounters CSV (10 rows)\n",
    "\n",
    "from pyspark.sql import functions as F\n",
    "\n",
    "RAW_PATH = \"dbfs:/kardia/raw/encounters/encounters_10.csv\""
   ]
  },
  {
   "cell_type": "code",
   "execution_count": 0,
   "metadata": {
    "application/vnd.databricks.v1+cell": {
     "cellMetadata": {
      "byteLimit": 2048000,
      "rowLimit": 10000
     },
     "inputWidgets": {},
     "nuid": "b1cf73f1-9812-4a2f-8edb-fea928844868",
     "showTitle": false,
     "tableResultSettingsMap": {},
     "title": ""
    }
   },
   "outputs": [],
   "source": [
    "# Load CSV (no schema inference - Spark treats all columns as strings)\n",
    "df = (\n",
    "    spark.read\n",
    "        .format(\"csv\")\n",
    "        .option(\"header\", \"true\")\n",
    "        .option(\"inferSchema\", \"false\")\n",
    "        .load(RAW_PATH)\n",
    ")\n",
    "\n",
    "display(df)"
   ]
  },
  {
   "cell_type": "code",
   "execution_count": 0,
   "metadata": {
    "application/vnd.databricks.v1+cell": {
     "cellMetadata": {
      "byteLimit": 2048000,
      "rowLimit": 10000
     },
     "inputWidgets": {},
     "nuid": "d84eff8a-87e0-4aa1-b268-a77e3e7ea636",
     "showTitle": false,
     "tableResultSettingsMap": {},
     "title": ""
    }
   },
   "outputs": [],
   "source": [
    "# Validate row count, ID nulls, uniqueness, and PATIENT nulls before Bronze ingestion\n",
    "expected_rows = 10\n",
    "\n",
    "stats = df.agg(\n",
    "    F.count(\"*\").alias(\"row_count\"),\n",
    "    F.countDistinct(\"ID\").alias(\"distinct_ids\"),\n",
    "    F.expr(\"sum(ID IS NULL)\").alias(\"id_null_count\"),\n",
    "    F.expr(\"sum(PATIENT IS NULL)\").alias(\"patient_null_count\")\n",
    ").first()\n",
    "\n",
    "try:\n",
    "    assert stats.total == expected_rows, f\"Expected {expected_rows} rows, got {stats.total}\"\n",
    "    assert stats.null_ids == 0, \"Found NULLs in ID column\"\n",
    "    assert stats.distinct_ids == stats.total, \"Duplicate Encounter IDs\"\n",
    "    assert stats.null_patients == 0, \"Found NULLs in PATIENT column\"\n",
    "    print(\"Validation passed:\", stats.asDict())\n",
    "except AssertionError as e:\n",
    "    print(\"Validation failed:\", e)\n",
    "    raise\n"
   ]
  }
 ],
 "metadata": {
  "application/vnd.databricks.v1+notebook": {
   "computePreferences": null,
   "dashboards": [],
   "environmentMetadata": {
    "base_environment": "",
    "environment_version": "2"
   },
   "inputWidgetPreferences": null,
   "language": "python",
   "notebookMetadata": {
    "pythonIndentUnit": 4
   },
   "notebookName": "00_validate_raw_encounters_CSV",
   "widgets": {
    "env": {
     "currentValue": "prod",
     "nuid": "54201761-4ed5-4d07-a38e-6be378ff5769",
     "typedWidgetInfo": {
      "autoCreated": false,
      "defaultValue": "prod",
      "label": null,
      "name": "env",
      "options": {
       "widgetDisplayType": "Text",
       "validationRegex": null
      },
      "parameterDataType": "String"
     },
     "widgetInfo": {
      "widgetType": "text",
      "defaultValue": "prod",
      "label": null,
      "name": "env",
      "options": {
       "widgetType": "text",
       "autoCreated": null,
       "validationRegex": null
      }
     }
    }
   }
  },
  "language_info": {
   "name": "python"
  }
 },
 "nbformat": 4,
 "nbformat_minor": 0
}

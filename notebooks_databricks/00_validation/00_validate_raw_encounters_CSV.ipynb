{
 "cells": [
  {
   "cell_type": "code",
   "execution_count": 0,
   "metadata": {
    "application/vnd.databricks.v1+cell": {
     "cellMetadata": {
      "byteLimit": 2048000,
      "rowLimit": 10000
     },
     "inputWidgets": {},
     "nuid": "83185d9b-893d-4229-a73e-2d91382b83d1",
     "showTitle": false,
     "tableResultSettingsMap": {},
     "title": ""
    }
   },
   "outputs": [],
   "source": [
    "# 00_validate_raw_encounters_CSV.ipynb\n",
    "# -------------------------------------------------------\n",
    "# Cheap 10-row smoke-test for the encounters CSV file\n",
    "# confirms file is present, IDs are unique / non-null\n",
    "\n",
    "from pyspark.sql import SparkSession, functions as F\n",
    "\n",
    "# Path config\n",
    "RAW_PATH = \"dbfs:/kardia/raw/encounters/encounters_10.csv\""
   ]
  },
  {
   "cell_type": "code",
   "execution_count": 0,
   "metadata": {
    "application/vnd.databricks.v1+cell": {
     "cellMetadata": {
      "byteLimit": 2048000,
      "rowLimit": 10000
     },
     "inputWidgets": {},
     "nuid": "30822a9e-e827-42e3-90d6-aa7407dbae84",
     "showTitle": false,
     "tableResultSettingsMap": {},
     "title": ""
    }
   },
   "outputs": [],
   "source": [
    "# Spark session\n",
    "spark = (SparkSession.builder\n",
    "           .appName(\"kardia_val_encounters_10\")\n",
    "           .config(\"spark.sql.shuffle.partitions\", \"1\")\n",
    "           .getOrCreate())\n",
    "spark.sparkContext.setLogLevel(\"ERROR\")"
   ]
  },
  {
   "cell_type": "code",
   "execution_count": 0,
   "metadata": {
    "application/vnd.databricks.v1+cell": {
     "cellMetadata": {
      "byteLimit": 2048000,
      "rowLimit": 10000
     },
     "inputWidgets": {},
     "nuid": "b1cf73f1-9812-4a2f-8edb-fea928844868",
     "showTitle": false,
     "tableResultSettingsMap": {},
     "title": ""
    }
   },
   "outputs": [],
   "source": [
    "# Read 10 rows, avoid schema inference\n",
    "df = (spark.read\n",
    "            .option(\"header\", True)\n",
    "            .option(\"inferSchema\", False)\n",
    "            .csv(RAW_PATH)\n",
    "            .cache())\n",
    "\n",
    "display(df)"
   ]
  },
  {
   "cell_type": "code",
   "execution_count": 0,
   "metadata": {
    "application/vnd.databricks.v1+cell": {
     "cellMetadata": {
      "byteLimit": 2048000,
      "rowLimit": 10000
     },
     "inputWidgets": {},
     "nuid": "d84eff8a-87e0-4aa1-b268-a77e3e7ea636",
     "showTitle": false,
     "tableResultSettingsMap": {},
     "title": ""
    }
   },
   "outputs": [],
   "source": [
    "# Aggregate key metrics in one pass and retrieve the results\n",
    "metrics = (df.agg(\n",
    "              F.count(F.lit(1)).alias(\"row_cnt\"),\n",
    "              F.sum(F.col(\"ID\").isNull().cast(\"int\")).alias(\"null_id_n\"),\n",
    "              F.countDistinct(\"ID\").alias(\"distinct_id_n\"),\n",
    "              F.sum(F.col(\"PATIENT\").isNull().cast(\"int\")).alias(\"null_patient_n\")\n",
    "          ).first())\n",
    "\n",
    "# Extract metrics into Python variables\n",
    "row_cnt        = metrics.row_cnt\n",
    "null_id_n      = metrics.null_id_n\n",
    "distinct_id_n  = metrics.distinct_id_n\n",
    "null_patient_n = metrics.null_patient_n"
   ]
  },
  {
   "cell_type": "code",
   "execution_count": 0,
   "metadata": {
    "application/vnd.databricks.v1+cell": {
     "cellMetadata": {
      "byteLimit": 2048000,
      "rowLimit": 10000
     },
     "inputWidgets": {},
     "nuid": "ceaa950c-d2ee-4674-9985-3831bb0d8c27",
     "showTitle": false,
     "tableResultSettingsMap": {},
     "title": ""
    }
   },
   "outputs": [],
   "source": [
    "# Enforce data quality rules\n",
    "assert row_cnt == 10,                f\"Expected 10 rows, found {row_cnt}\"\n",
    "assert null_id_n == 0,               \"ID column contains NULLs\"\n",
    "assert distinct_id_n == row_cnt,     \"Duplicate Encounter IDs detected\"\n",
    "assert null_patient_n == 0,          \"PATIENT column contains NULLs\"\n",
    "\n",
    "print(\"All encounter-file validation checks passed.\")"
   ]
  },
  {
   "cell_type": "code",
   "execution_count": 0,
   "metadata": {
    "application/vnd.databricks.v1+cell": {
     "cellMetadata": {
      "byteLimit": 2048000,
      "rowLimit": 10000
     },
     "inputWidgets": {},
     "nuid": "0d3cf461-43bc-4194-91d0-9302b0fedaed",
     "showTitle": false,
     "tableResultSettingsMap": {},
     "title": ""
    }
   },
   "outputs": [],
   "source": [
    "# Proceed to bronze_patients_ingest `01_bronze/bronze_patients`"
   ]
  }
 ],
 "metadata": {
  "application/vnd.databricks.v1+notebook": {
   "computePreferences": null,
   "dashboards": [],
   "environmentMetadata": {
    "base_environment": "",
    "environment_version": "2"
   },
   "inputWidgetPreferences": null,
   "language": "python",
   "notebookMetadata": {
    "pythonIndentUnit": 4
   },
   "notebookName": "00_validate_raw_encounters_CSV",
   "widgets": {
    "env": {
     "currentValue": "prod",
     "nuid": "54201761-4ed5-4d07-a38e-6be378ff5769",
     "typedWidgetInfo": {
      "autoCreated": false,
      "defaultValue": "prod",
      "label": null,
      "name": "env",
      "options": {
       "widgetDisplayType": "Text",
       "validationRegex": null
      },
      "parameterDataType": "String"
     },
     "widgetInfo": {
      "widgetType": "text",
      "defaultValue": "prod",
      "label": null,
      "name": "env",
      "options": {
       "widgetType": "text",
       "autoCreated": null,
       "validationRegex": null
      }
     }
    }
   }
  },
  "language_info": {
   "name": "python"
  }
 },
 "nbformat": 4,
 "nbformat_minor": 0
}

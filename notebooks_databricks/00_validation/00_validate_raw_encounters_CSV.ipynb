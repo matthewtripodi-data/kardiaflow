{
 "cells": [
  {
   "cell_type": "code",
   "execution_count": 0,
   "metadata": {
    "application/vnd.databricks.v1+cell": {
     "cellMetadata": {
      "byteLimit": 2048000,
      "rowLimit": 10000
     },
     "inputWidgets": {},
     "nuid": "83185d9b-893d-4229-a73e-2d91382b83d1",
     "showTitle": false,
     "tableResultSettingsMap": {},
     "title": ""
    }
   },
   "outputs": [],
   "source": [
    "# 00_validate_raw_encounters_CSV.ipynb\n",
    "# Quick validation for Encounters CSV (10 rows)\n",
    "\n",
    "from pyspark.sql import SparkSession, functions as F\n",
    "\n",
    "RAW_PATH = \"dbfs:/kardia/raw/encounters/encounters_10.csv\"\n",
    "\n",
    "# Minimize shuffle overhead for small test datasets\n",
    "spark.conf.set(\"spark.sql.shuffle.partitions\", \"1\")"
   ]
  },
  {
   "cell_type": "code",
   "execution_count": 0,
   "metadata": {
    "application/vnd.databricks.v1+cell": {
     "cellMetadata": {
      "byteLimit": 2048000,
      "rowLimit": 10000
     },
     "inputWidgets": {},
     "nuid": "b1cf73f1-9812-4a2f-8edb-fea928844868",
     "showTitle": false,
     "tableResultSettingsMap": {},
     "title": ""
    }
   },
   "outputs": [],
   "source": [
    "# Load CSV (no schema inference - Spark treats all columns as strings)\n",
    "df = (\n",
    "    spark.read\n",
    "        .option(\"header\", True)\n",
    "        .option(\"inferSchema\", False)\n",
    "        .csv(RAW_PATH)\n",
    "        .cache()\n",
    ")\n",
    "\n",
    "display(df)"
   ]
  },
  {
   "cell_type": "code",
   "execution_count": 0,
   "metadata": {
    "application/vnd.databricks.v1+cell": {
     "cellMetadata": {
      "byteLimit": 2048000,
      "rowLimit": 10000
     },
     "inputWidgets": {},
     "nuid": "d84eff8a-87e0-4aa1-b268-a77e3e7ea636",
     "showTitle": false,
     "tableResultSettingsMap": {},
     "title": ""
    }
   },
   "outputs": [],
   "source": [
    "# Calculate basic metrics\n",
    "summary = df.agg(\n",
    "    F.count(\"*\").alias(\"total\"),\n",
    "    F.countDistinct(\"ID\").alias(\"distinct_ids\"),\n",
    "    F.sum(F.col(\"ID\").isNull().cast(\"int\")).alias(\"null_ids\"),\n",
    "    F.sum(F.col(\"PATIENT\").isNull().cast(\"int\")).alias(\"null_patients\")\n",
    ").first()\n",
    "\n",
    "# Extract to Python\n",
    "total = summary.total\n",
    "distinct_ids = summary.distinct_ids\n",
    "null_ids = summary.null_ids\n",
    "null_patients = summary.null_patients"
   ]
  },
  {
   "cell_type": "code",
   "execution_count": 0,
   "metadata": {
    "application/vnd.databricks.v1+cell": {
     "cellMetadata": {
      "byteLimit": 2048000,
      "rowLimit": 10000
     },
     "inputWidgets": {},
     "nuid": "ceaa950c-d2ee-4674-9985-3831bb0d8c27",
     "showTitle": false,
     "tableResultSettingsMap": {},
     "title": ""
    }
   },
   "outputs": [],
   "source": [
    "# Assertions\n",
    "assert total == 10, f\"Expected 10 rows, got {total}\"\n",
    "assert null_ids == 0, \"Found NULLs in ID column\"\n",
    "assert distinct_ids == total, \"Duplicate Encounter IDs\"\n",
    "assert null_patients == 0, \"Found NULLs in PATIENT column\"\n",
    "\n",
    "print(\"Encounter CSV validation passed.\")"
   ]
  }
 ],
 "metadata": {
  "application/vnd.databricks.v1+notebook": {
   "computePreferences": null,
   "dashboards": [],
   "environmentMetadata": {
    "base_environment": "",
    "environment_version": "2"
   },
   "inputWidgetPreferences": null,
   "language": "python",
   "notebookMetadata": {
    "pythonIndentUnit": 4
   },
   "notebookName": "00_validate_raw_encounters_CSV",
   "widgets": {
    "env": {
     "currentValue": "prod",
     "nuid": "54201761-4ed5-4d07-a38e-6be378ff5769",
     "typedWidgetInfo": {
      "autoCreated": false,
      "defaultValue": "prod",
      "label": null,
      "name": "env",
      "options": {
       "widgetDisplayType": "Text",
       "validationRegex": null
      },
      "parameterDataType": "String"
     },
     "widgetInfo": {
      "widgetType": "text",
      "defaultValue": "prod",
      "label": null,
      "name": "env",
      "options": {
       "widgetType": "text",
       "autoCreated": null,
       "validationRegex": null
      }
     }
    }
   }
  },
  "language_info": {
   "name": "python"
  }
 },
 "nbformat": 4,
 "nbformat_minor": 0
}

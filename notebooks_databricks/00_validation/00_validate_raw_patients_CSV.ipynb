{
 "cells": [
  {
   "cell_type": "code",
   "execution_count": 0,
   "metadata": {
    "application/vnd.databricks.v1+cell": {
     "cellMetadata": {
      "byteLimit": 2048000,
      "rowLimit": 10000
     },
     "inputWidgets": {},
     "nuid": "83185d9b-893d-4229-a73e-2d91382b83d1",
     "showTitle": false,
     "tableResultSettingsMap": {},
     "title": ""
    }
   },
   "outputs": [],
   "source": [
    "# 00_validate_raw_patients_CSV.ipynb\n",
    "# SOURCE: (10 row) Patients CSV file in DBFS\n",
    "# OUTPUT: N/A\n",
    "\n",
    "from pyspark.sql import functions as F\n",
    "\n",
    "RAW_PATH = \"dbfs:/kardia/raw/patients/patients_10.csv\""
   ]
  },
  {
   "cell_type": "code",
   "execution_count": 0,
   "metadata": {
    "application/vnd.databricks.v1+cell": {
     "cellMetadata": {
      "byteLimit": 2048000,
      "rowLimit": 10000
     },
     "inputWidgets": {},
     "nuid": "b1cf73f1-9812-4a2f-8edb-fea928844868",
     "showTitle": false,
     "tableResultSettingsMap": {},
     "title": ""
    }
   },
   "outputs": [],
   "source": [
    "# Load Patients CSV.\n",
    "df = (\n",
    "    spark.read\n",
    "         .format(\"csv\")\n",
    "         .option(\"header\", \"true\")\n",
    "         .option(\"inferSchema\", \"false\")\n",
    "         .load(RAW_PATH)\n",
    ")\n",
    "\n",
    "display(df)\n",
    "\n",
    "# NOTE: Spark will union all CSV files in RAW_PATH folder into a single DataFrame.\n",
    "#       Without schema inference, Spark treats all columns as strings."
   ]
  },
  {
   "cell_type": "code",
   "execution_count": 0,
   "metadata": {
    "application/vnd.databricks.v1+cell": {
     "cellMetadata": {
      "byteLimit": 2048000,
      "rowLimit": 10000
     },
     "inputWidgets": {},
     "nuid": "d84eff8a-87e0-4aa1-b268-a77e3e7ea636",
     "showTitle": false,
     "tableResultSettingsMap": {},
     "title": ""
    }
   },
   "outputs": [],
   "source": [
    "# Check for NULLs and uniqueness before Bronze ingestion.\n",
    "stats = df.agg(\n",
    "    F.expr(\"count(*)\").alias(\"row_count\"),\n",
    "    F.expr(\"count(distinct ID)\").alias(\"distinct_id_count\"),\n",
    "    F.expr(\"sum(CASE WHEN ID IS NULL THEN 1 ELSE 0 END)\").alias(\"id_null_count\"),\n",
    "    F.expr(\"sum(CASE WHEN NOT (GENDER IN ('M', 'F')) THEN 1 ELSE 0 END)\").alias(\"invalid_gender_count\")\n",
    ").first()\n",
    "\n",
    "try:\n",
    "    assert stats.id_null_count        == 0,               \"Found NULLs in ID column\"\n",
    "    assert stats.invalid_gender_count == 0,               \"Invalid values in GENDER column\"\n",
    "    assert stats.distinct_id_count    == stats.row_count, \"Duplicate Patient IDs\"\n",
    "    print(\"Validation passed:\", stats.asDict())\n",
    "except AssertionError as e:\n",
    "    print(\"Validation failed:\", e)\n",
    "    raise e\n"
   ]
  }
 ],
 "metadata": {
  "application/vnd.databricks.v1+notebook": {
   "computePreferences": null,
   "dashboards": [],
   "environmentMetadata": {
    "base_environment": "",
    "environment_version": "2"
   },
   "inputWidgetPreferences": null,
   "language": "python",
   "notebookMetadata": {
    "pythonIndentUnit": 4
   },
   "notebookName": "00_validate_raw_patients_CSV",
   "widgets": {}
  },
  "language_info": {
   "name": "python"
  }
 },
 "nbformat": 4,
 "nbformat_minor": 0
}

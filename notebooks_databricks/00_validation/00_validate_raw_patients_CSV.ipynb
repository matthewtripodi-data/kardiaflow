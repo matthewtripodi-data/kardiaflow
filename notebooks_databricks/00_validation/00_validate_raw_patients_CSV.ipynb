{
 "cells": [
  {
   "cell_type": "code",
   "execution_count": 0,
   "metadata": {
    "application/vnd.databricks.v1+cell": {
     "cellMetadata": {
      "byteLimit": 2048000,
      "rowLimit": 10000
     },
     "inputWidgets": {},
     "nuid": "83185d9b-893d-4229-a73e-2d91382b83d1",
     "showTitle": false,
     "tableResultSettingsMap": {},
     "title": ""
    }
   },
   "outputs": [],
   "source": [
    "# 00_validate_raw_patients_CSV.ipynb\n",
    "# Quick validation for Patients CSV (10 rows)\n",
    "\n",
    "from pyspark.sql import SparkSession, functions as F\n",
    "\n",
    "RAW_PATH = \"dbfs:/kardia/raw/patients/patients_10.csv\"\n",
    "\n",
    "# Minimize shuffle overhead for small test datasets\n",
    "spark.conf.set(\"spark.sql.shuffle.partitions\", \"1\")"
   ]
  },
  {
   "cell_type": "code",
   "execution_count": 0,
   "metadata": {
    "application/vnd.databricks.v1+cell": {
     "cellMetadata": {
      "byteLimit": 2048000,
      "rowLimit": 10000
     },
     "inputWidgets": {},
     "nuid": "b1cf73f1-9812-4a2f-8edb-fea928844868",
     "showTitle": false,
     "tableResultSettingsMap": {},
     "title": ""
    }
   },
   "outputs": [],
   "source": [
    "# Load CSV (no schema inference - Spark treats all columns as strings)\n",
    "df = (\n",
    "    spark.read\n",
    "        .option(\"header\", True)\n",
    "        .option(\"inferSchema\", False)\n",
    "        .csv(RAW_PATH)\n",
    "        .cache()\n",
    ")\n",
    "\n",
    "display(df)"
   ]
  },
  {
   "cell_type": "code",
   "execution_count": 0,
   "metadata": {
    "application/vnd.databricks.v1+cell": {
     "cellMetadata": {
      "byteLimit": 2048000,
      "rowLimit": 10000
     },
     "inputWidgets": {},
     "nuid": "d84eff8a-87e0-4aa1-b268-a77e3e7ea636",
     "showTitle": false,
     "tableResultSettingsMap": {},
     "title": ""
    }
   },
   "outputs": [],
   "source": [
    "# Calculate basic metrics\n",
    "summary = df.agg(\n",
    "    F.count(\"*\").alias(\"total\"),\n",
    "    F.sum(F.col(\"ID\").isNull().cast(\"int\")).alias(\"null_ids\"),\n",
    "    F.sum((~F.col(\"GENDER\").isin(\"M\", \"F\")).cast(\"int\")).alias(\"bad_gender\")\n",
    ").first()\n",
    "\n",
    "total = summary.total\n",
    "null_ids = summary.null_ids\n",
    "bad_gender = summary.bad_gender\n",
    "\n",
    "# Enforce data quality rules\n",
    "assert total == 10, f\"Expected 10 rows, got {total}\"\n",
    "assert null_ids == 0, \"ID column has NULLs\"\n",
    "assert bad_gender == 0, \"GENDER column has invalid values\"\n",
    "\n",
    "print(\"Patient CSV validation passed.\")\n"
   ]
  }
 ],
 "metadata": {
  "application/vnd.databricks.v1+notebook": {
   "computePreferences": null,
   "dashboards": [],
   "environmentMetadata": {
    "base_environment": "",
    "environment_version": "2"
   },
   "inputWidgetPreferences": null,
   "language": "python",
   "notebookMetadata": {
    "pythonIndentUnit": 4
   },
   "notebookName": "00_validate_raw_patients_CSV",
   "widgets": {}
  },
  "language_info": {
   "name": "python"
  }
 },
 "nbformat": 4,
 "nbformat_minor": 0
}

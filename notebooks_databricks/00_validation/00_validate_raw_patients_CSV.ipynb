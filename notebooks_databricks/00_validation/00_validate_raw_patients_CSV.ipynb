{
 "cells": [
  {
   "cell_type": "code",
   "execution_count": 0,
   "metadata": {
    "application/vnd.databricks.v1+cell": {
     "cellMetadata": {
      "byteLimit": 2048000,
      "rowLimit": 10000
     },
     "inputWidgets": {},
     "nuid": "83185d9b-893d-4229-a73e-2d91382b83d1",
     "showTitle": false,
     "tableResultSettingsMap": {},
     "title": ""
    }
   },
   "outputs": [],
   "source": [
    "# Validate `patients_10.csv`  \n",
    "# Cheap 10-row slice sanity-check before Bronze ingest.\n",
    "\n",
    "from pyspark.sql import SparkSession, functions as F"
   ]
  },
  {
   "cell_type": "code",
   "execution_count": 0,
   "metadata": {
    "application/vnd.databricks.v1+cell": {
     "cellMetadata": {
      "byteLimit": 2048000,
      "rowLimit": 10000
     },
     "inputWidgets": {},
     "nuid": "30822a9e-e827-42e3-90d6-aa7407dbae84",
     "showTitle": false,
     "tableResultSettingsMap": {},
     "title": ""
    }
   },
   "outputs": [],
   "source": [
    "# Path config\n",
    "RAW_PATH = \"dbfs:/kardia/raw/patients/patients_10.csv\"\n",
    "\n",
    "# Initialize a Spark session with minimal shuffle partitions\n",
    "spark = (\n",
    "    SparkSession.builder\n",
    "    .appName(\"kardia_val_patients_10\")\n",
    "    .config(\"spark.sql.shuffle.partitions\", \"1\")\n",
    "    .getOrCreate()\n",
    ")\n",
    "spark.sparkContext.setLogLevel(\"ERROR\")"
   ]
  },
  {
   "cell_type": "code",
   "execution_count": 0,
   "metadata": {
    "application/vnd.databricks.v1+cell": {
     "cellMetadata": {
      "byteLimit": 2048000,
      "rowLimit": 10000
     },
     "inputWidgets": {},
     "nuid": "b1cf73f1-9812-4a2f-8edb-fea928844868",
     "showTitle": false,
     "tableResultSettingsMap": {},
     "title": ""
    }
   },
   "outputs": [],
   "source": [
    "# Read 10 rows, avoid schema inference\n",
    "df = (\n",
    "    spark.read\n",
    "         .option(\"header\", True)\n",
    "         .option(\"inferSchema\", False)\n",
    "         .csv(RAW_PATH)\n",
    "         .cache()\n",
    ")\n",
    "display(df)"
   ]
  },
  {
   "cell_type": "code",
   "execution_count": 0,
   "metadata": {
    "application/vnd.databricks.v1+cell": {
     "cellMetadata": {
      "byteLimit": 2048000,
      "rowLimit": 10000
     },
     "inputWidgets": {},
     "nuid": "d84eff8a-87e0-4aa1-b268-a77e3e7ea636",
     "showTitle": false,
     "tableResultSettingsMap": {},
     "title": ""
    }
   },
   "outputs": [],
   "source": [
    "# Aggregate key metrics in one pass and retrieve the results\n",
    "metrics = (\n",
    "    df\n",
    "    .agg(\n",
    "        F.count(F.lit(1)).alias(\"row_cnt\"),\n",
    "        F.sum((~F.col(\"GENDER\").isin(\"M\", \"F\")).cast(\"int\")).alias(\"bad_gender_n\"),\n",
    "        F.sum(F.col(\"ID\").isNull().cast(\"int\")).alias(\"null_id_n\")\n",
    "    )\n",
    "    .first()\n",
    ")\n",
    "\n",
    "# Extract metrics into Python variables\n",
    "row_cnt      = metrics.row_cnt\n",
    "bad_gender_n = metrics.bad_gender_n\n",
    "null_id_n    = metrics.null_id_n\n",
    "\n",
    "# Enforce data quality rules\n",
    "assert row_cnt      == 10, \"Expected 10 rows, found %d\" % row_cnt\n",
    "assert null_id_n    ==  0, \"ID column has NULLs\"\n",
    "assert bad_gender_n ==  0, \"GENDER contains values outside {M,F}\"\n",
    "\n",
    "print(\"All validation checks passed.\")\n"
   ]
  },
  {
   "cell_type": "code",
   "execution_count": 0,
   "metadata": {
    "application/vnd.databricks.v1+cell": {
     "cellMetadata": {
      "byteLimit": 2048000,
      "rowLimit": 10000
     },
     "inputWidgets": {},
     "nuid": "0d3cf461-43bc-4194-91d0-9302b0fedaed",
     "showTitle": false,
     "tableResultSettingsMap": {},
     "title": ""
    }
   },
   "outputs": [],
   "source": [
    "# Proceed to bronze_patients_ingest `01_bronze/bronze_patients`"
   ]
  }
 ],
 "metadata": {
  "application/vnd.databricks.v1+notebook": {
   "computePreferences": null,
   "dashboards": [],
   "environmentMetadata": {
    "base_environment": "",
    "environment_version": "2"
   },
   "inputWidgetPreferences": null,
   "language": "python",
   "notebookMetadata": {
    "pythonIndentUnit": 4
   },
   "notebookName": "00_validate_raw_patients_CSV",
   "widgets": {
    "env": {
     "currentValue": "prod",
     "nuid": "54201761-4ed5-4d07-a38e-6be378ff5769",
     "typedWidgetInfo": {
      "autoCreated": false,
      "defaultValue": "prod",
      "label": null,
      "name": "env",
      "options": {
       "widgetDisplayType": "Text",
       "validationRegex": null
      },
      "parameterDataType": "String"
     },
     "widgetInfo": {
      "widgetType": "text",
      "defaultValue": "prod",
      "label": null,
      "name": "env",
      "options": {
       "widgetType": "text",
       "autoCreated": null,
       "validationRegex": null
      }
     }
    }
   }
  },
  "language_info": {
   "name": "python"
  }
 },
 "nbformat": 4,
 "nbformat_minor": 0
}

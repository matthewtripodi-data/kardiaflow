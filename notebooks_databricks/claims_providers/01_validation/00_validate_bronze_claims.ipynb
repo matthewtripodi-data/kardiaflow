{
 "cells": [
  {
   "cell_type": "code",
   "execution_count": 0,
   "metadata": {
    "application/vnd.databricks.v1+cell": {
     "cellMetadata": {
      "byteLimit": 2048000,
      "rowLimit": 10000
     },
     "inputWidgets": {},
     "nuid": "7343ec46-ebb6-4b4f-ac1c-7a4c0c9826e6",
     "showTitle": false,
     "tableResultSettingsMap": {},
     "title": ""
    }
   },
   "outputs": [],
   "source": [
    "# 00_validate_bronze_claims.ipynb\n",
    "# SOURCE: Bronze Claims table\n",
    "# OUTPUT: N/A\n",
    "\n",
    "from pyspark.sql import functions as F\n",
    "\n",
    "BRONZE_PATH = \"dbfs:/kardia/bronze/bronze_claims\"\n",
    "df = spark.read.format(\"delta\").load(BRONZE_PATH)"
   ]
  },
  {
   "cell_type": "code",
   "execution_count": 0,
   "metadata": {
    "application/vnd.databricks.v1+cell": {
     "cellMetadata": {
      "byteLimit": 2048000,
      "rowLimit": 10000
     },
     "inputWidgets": {},
     "nuid": "a963ed19-d216-4eec-9e4c-4e37e12afec8",
     "showTitle": false,
     "tableResultSettingsMap": {},
     "title": ""
    }
   },
   "outputs": [],
   "source": [
    "# Check for NULLs and uniqueness after Bronze ingestion.\n",
    "stats = df.agg(\n",
    "    F.count(\"*\").alias(\"row_count\"),\n",
    "    F.countDistinct(\"ClaimID\").alias(\"distinct_ids\"),\n",
    "    F.sum(F.when(F.col(\"ClaimID\").isNull(), 1).otherwise(0)).alias(\"null_claimid\"),\n",
    "    F.sum(F.when(F.col(\"PatientID\").isNull(), 1).otherwise(0)).alias(\"null_patientid\"),\n",
    "    F.min(\"ClaimAmount\").alias(\"min_amount\"),\n",
    "    F.max(\"ClaimAmount\").alias(\"max_amount\")\n",
    ").first()\n",
    "print(\"Validation stats:\", stats.asDict())\n",
    "\n",
    "assert stats.null_claimid == 0, f\"{stats.null_claimid} null ClaimID(s)\"\n",
    "assert stats.null_patientid == 0, f\"{stats.null_patientid} null PatientID(s)\"\n",
    "assert stats.distinct_ids == stats.row_count, \"Duplicate ClaimID(s) found\"\n",
    "assert stats.min_amount >= 0, f\"Negative ClaimAmount: {stats.min_amount}\"\n",
    "print(\"Bronze Claims validation passed\")"
   ]
  }
 ],
 "metadata": {
  "application/vnd.databricks.v1+notebook": {
   "computePreferences": null,
   "dashboards": [],
   "environmentMetadata": {
    "base_environment": "",
    "environment_version": "2"
   },
   "inputWidgetPreferences": null,
   "language": "python",
   "notebookMetadata": {
    "pythonIndentUnit": 4
   },
   "notebookName": "00_validate_bronze_claims",
   "widgets": {}
  },
  "language_info": {
   "name": "python"
  }
 },
 "nbformat": 4,
 "nbformat_minor": 0
}

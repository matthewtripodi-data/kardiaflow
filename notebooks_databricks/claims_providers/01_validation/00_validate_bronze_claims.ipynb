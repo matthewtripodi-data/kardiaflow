{
 "cells": [
  {
   "cell_type": "code",
   "execution_count": 0,
   "metadata": {
    "application/vnd.databricks.v1+cell": {
     "cellMetadata": {
      "byteLimit": 2048000,
      "rowLimit": 10000
     },
     "inputWidgets": {},
     "nuid": "7343ec46-ebb6-4b4f-ac1c-7a4c0c9826e6",
     "showTitle": false,
     "tableResultSettingsMap": {},
     "title": ""
    }
   },
   "outputs": [],
   "source": [
    "# 00_validate_bronze_claims.ipynb\n",
    "# SOURCE: Bronze Claims table\n",
    "# OUTPUT: N/A\n",
    "\n",
    "from pyspark.sql import functions as F\n",
    "\n",
    "BRONZE_PATH = \"dbfs:/kardia/bronze/bronze_claims\"\n",
    "BRONZE_CLAIMS_TBL = \"bronze_claims\"\n",
    "\n",
    "claims_df = spark.read.format(\"delta\").load(BRONZE_PATH)"
   ]
  },
  {
   "cell_type": "code",
   "execution_count": 0,
   "metadata": {
    "application/vnd.databricks.v1+cell": {
     "cellMetadata": {
      "byteLimit": 2048000,
      "rowLimit": 10000
     },
     "inputWidgets": {},
     "nuid": "a963ed19-d216-4eec-9e4c-4e37e12afec8",
     "showTitle": false,
     "tableResultSettingsMap": {},
     "title": ""
    }
   },
   "outputs": [],
   "source": [
    "# 1. Check for NULLs and uniqueness after Bronze ingestion.\n",
    "stats_row = claims_df.agg(\n",
    "    F.count(\"*\").alias(\"row_count\"),\n",
    "    F.countDistinct(\"ClaimID\").alias(\"distinct_ids\"),\n",
    "    F.sum(F.when(F.col(\"ClaimID\").isNull(), 1).otherwise(0)).alias(\"null_claimid\"),\n",
    "    F.sum(F.when(F.col(\"PatientID\").isNull(), 1).otherwise(0)).alias(\"null_patientid\"),\n",
    "    F.min(\"ClaimAmount\").alias(\"min_amount\"),\n",
    "    F.max(\"ClaimAmount\").alias(\"max_amount\")\n",
    ").first()\n",
    "\n",
    "print(\"Validation stats:\", stats_row.asDict())"
   ]
  },
  {
   "metadata": {},
   "cell_type": "code",
   "outputs": [],
   "execution_count": null,
   "source": [
    "# 2. Run assertions to catch critical data quality issues\n",
    "assert stats_row.null_claimid == 0, f\"{stats_row.null_claimid} null ClaimID(s)\"\n",
    "assert stats_row.null_patientid == 0, f\"{stats_row.null_patientid} null PatientID(s)\"\n",
    "assert stats_row.distinct_ids == stats_row.row_count, \"Duplicate ClaimID(s) found\"\n",
    "assert stats_row.min_amount >= 0, f\"Negative ClaimAmount: {stats_row.min_amount}\"\n",
    "print(\"Bronze Claims validation passed\")"
   ]
  },
  {
   "metadata": {},
   "cell_type": "code",
   "outputs": [],
   "execution_count": null,
   "source": [
    "# 3. Append one-row summary to track record count (data quality check)\n",
    "spark.sql(\"CREATE DATABASE IF NOT EXISTS kardia_meta\")\n",
    "\n",
    "validation_summary_df = (spark.createDataFrame([stats_row.asDict()])\n",
    "                              .withColumn(\"table_name\", F.lit(BRONZE_CLAIMS_TBL))\n",
    "                              .withColumn(\"_run_ts\", F.current_timestamp()))\n",
    "\n",
    "(validation_summary_df\n",
    "        .write.mode(\"append\")\n",
    "        .saveAsTable(\"kardia_meta.bronze_qc\"))"
   ]
  }
 ],
 "metadata": {
  "application/vnd.databricks.v1+notebook": {
   "computePreferences": null,
   "dashboards": [],
   "environmentMetadata": {
    "base_environment": "",
    "environment_version": "2"
   },
   "inputWidgetPreferences": null,
   "language": "python",
   "notebookMetadata": {
    "pythonIndentUnit": 4
   },
   "notebookName": "00_validate_bronze_claims",
   "widgets": {}
  },
  "language_info": {
   "name": "python"
  }
 },
 "nbformat": 4,
 "nbformat_minor": 0
}

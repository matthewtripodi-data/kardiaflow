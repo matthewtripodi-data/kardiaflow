{
 "cells": [
  {
   "cell_type": "code",
   "execution_count": 0,
   "metadata": {
    "application/vnd.databricks.v1+cell": {
     "cellMetadata": {
      "byteLimit": 2048000,
      "rowLimit": 10000
     },
     "inputWidgets": {},
     "nuid": "706612bf-e17c-4af5-9dfb-810704feab29",
     "showTitle": false,
     "tableResultSettingsMap": {},
     "title": ""
    }
   },
   "outputs": [],
   "source": [
    "# 00_validate_bronze_providers.ipynb\n",
    "# SOURCE: Bronze Providers table\n",
    "# OUTPUT: N/A (side‑validation)\n",
    "\n",
    "from pyspark.sql import functions as F\n",
    "\n",
    "BRONZE_PATH = \"dbfs:/kardia/bronze/bronze_providers\"\n",
    "df = spark.read.format(\"delta\").load(BRONZE_PATH)"
   ]
  },
  {
   "cell_type": "code",
   "execution_count": 0,
   "metadata": {
    "application/vnd.databricks.v1+cell": {
     "cellMetadata": {
      "byteLimit": 2048000,
      "rowLimit": 10000
     },
     "inputWidgets": {},
     "nuid": "b215270f-0ebf-4e98-86a0-90ea2d223d94",
     "showTitle": false,
     "tableResultSettingsMap": {},
     "title": ""
    }
   },
   "outputs": [],
   "source": [
    "# Check for NULLs and uniqueness after Bronze ingestion.\n",
    "stats = df.agg(\n",
    "    F.count(\"*\").alias(\"row_count\"),\n",
    "    F.countDistinct(\"ProviderID\").alias(\"distinct_ids\"),\n",
    "    F.sum(F.when(F.col(\"ProviderID\").isNull(), 1).otherwise(0)).alias(\"null_ids\"),\n",
    "    F.sum(F.when(F.col(\"ProviderSpecialty\").isNull(), 1).otherwise(0)).alias(\"null_specialty\"),\n",
    "    F.sum(F.when(F.col(\"ProviderLocation\").isNull(), 1).otherwise(0)).alias(\"null_location\")\n",
    ").first()\n",
    "print(\"Validation stats:\", stats.asDict())\n",
    "\n",
    "assert stats.null_ids == 0, f\"{stats.null_ids} null ProviderID(s)\"\n",
    "assert stats.distinct_ids == stats.row_count, \"Duplicate ProviderID(s) found\"\n",
    "print(\"Bronze Providers validation passed\")"
   ]
  }
 ],
 "metadata": {
  "application/vnd.databricks.v1+notebook": {
   "computePreferences": null,
   "dashboards": [],
   "environmentMetadata": {
    "base_environment": "",
    "environment_version": "2"
   },
   "inputWidgetPreferences": null,
   "language": "python",
   "notebookMetadata": {
    "pythonIndentUnit": 4
   },
   "notebookName": "00_validate_bronze_providers",
   "widgets": {}
  },
  "language_info": {
   "name": "python"
  }
 },
 "nbformat": 4,
 "nbformat_minor": 0
}

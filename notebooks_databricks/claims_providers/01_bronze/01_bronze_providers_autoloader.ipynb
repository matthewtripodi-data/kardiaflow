{
 "cells": [
  {
   "metadata": {},
   "cell_type": "code",
   "outputs": [],
   "execution_count": null,
   "source": [
    "# 01_bronze_stream_providers_autoloader.ipynb\n",
    "# SOURCE: Ingest raw provider CSVs into the Bronze layer using Auto Loader.\n",
    "# OUTPUT: `kardia_bronze.bronze_providers` with Change Data Feed enabled.\n",
    "# TRIGGER: Incremental batch; append to Delta table with fixed schema.\n",
    "\n",
    "import pyspark.sql.functions as F\n",
    "from pyspark.sql.types import StructType, StructField, StringType\n",
    "\n",
    "# 0. Configure SAS auth via secret\n",
    "ADLS_ACCOUNT = \"kardiaadlsdemo\"\n",
    "SUFFIX       = \"core.windows.net\"\n",
    "\n",
    "# Retrieve your SAS token (no leading '?') from a secret\n",
    "sas = dbutils.secrets.get(\"kardia\", \"adls_raw_sas\").lstrip('?')\n",
    "\n",
    "spark.conf.set(\n",
    "    f\"fs.azure.account.auth.type.{ADLS_ACCOUNT}.dfs.{SUFFIX}\",\n",
    "    \"SAS\"\n",
    ")\n",
    "spark.conf.set(\n",
    "    f\"fs.azure.sas.token.provider.type.{ADLS_ACCOUNT}.dfs.{SUFFIX}\",\n",
    "    \"org.apache.hadoop.fs.azurebfs.sas.FixedSASTokenProvider\"\n",
    ")\n",
    "spark.conf.set(\n",
    "    f\"fs.azure.sas.fixed.token.{ADLS_ACCOUNT}.dfs.{SUFFIX}\", sas\n",
    ")\n",
    "\n",
    "# Then point Auto Loader at:\n",
    "SRC_PATH = f\"abfss://raw@{ADLS_ACCOUNT}.dfs.{SUFFIX}/providers/\""
   ]
  },
  {
   "metadata": {},
   "cell_type": "code",
   "outputs": [],
   "execution_count": null,
   "source": [
    "# ─── 2. Bronze Table Creation ───────────────────────────\n",
    "BRONZE_DB    = \"kardia_bronze\"\n",
    "BRONZE_TABLE = f\"{BRONZE_DB}.bronze_providers\"\n",
    "BRONZE_PATH  = \"dbfs:/kardia/bronze/bronze_providers\"\n",
    "\n",
    "spark.sql(f\"CREATE DATABASE IF NOT EXISTS {BRONZE_DB}\")\n",
    "spark.sql(f\"\"\"\n",
    "  CREATE TABLE IF NOT EXISTS {BRONZE_TABLE}\n",
    "  USING DELTA\n",
    "  LOCATION '{BRONZE_PATH}'\n",
    "  TBLPROPERTIES ('delta.enableChangeDataFeed'='true')\n",
    "  AS SELECT * FROM (SELECT NULL AS ProviderID) WHERE 1=0\n",
    "\"\"\")\n",
    "print(f\"Bronze table ready: {BRONZE_TABLE}\")"
   ]
  },
  {
   "metadata": {},
   "cell_type": "code",
   "outputs": [],
   "execution_count": null,
   "source": [
    "# ─── 3. Auto Loader from ADLS ──────────────────────────\n",
    "provider_schema = StructType([\n",
    "    StructField(\"ProviderID\",        StringType(), True),\n",
    "    StructField(\"ProviderName\",      StringType(), True),\n",
    "    StructField(\"ProviderSpecialty\", StringType(), True),\n",
    "    StructField(\"ProviderLocation\",  StringType(), True),\n",
    "])\n",
    "\n",
    "SRC_PATH       = f\"abfss://raw@{ADLS_ACCOUNT}.dfs.{SUFFIX}/providers/\"\n",
    "CHECKPOINT     = \"dbfs:/kardia/_checkpoints/bronze_providers\"\n",
    "SCHEMA_LOCATION= \"dbfs:/kardia/_schemas/bronze_providers\"\n",
    "\n",
    "stream = (\n",
    "    spark.readStream\n",
    "         .format(\"cloudFiles\")\n",
    "         .option(\"cloudFiles.format\", \"csv\")\n",
    "         .option(\"cloudFiles.includeExistingFiles\", \"true\")\n",
    "         .option(\"cloudFiles.schemaLocation\", SCHEMA_LOCATION)\n",
    "         .schema(provider_schema)\n",
    "         .load(SRC_PATH)\n",
    "         .withColumn(\"_ingest_ts\",   F.current_timestamp())\n",
    "         .withColumn(\"_source_file\", F.input_file_name())\n",
    "         .writeStream\n",
    "         .format(\"delta\")\n",
    "         .option(\"checkpointLocation\", CHECKPOINT)\n",
    "         .option(\"mergeSchema\",        \"true\")\n",
    "         .outputMode(\"append\")\n",
    "         .trigger(availableNow=True)\n",
    "         .toTable(BRONZE_TABLE)\n",
    ")\n",
    "stream.awaitTermination()"
   ]
  },
  {
   "metadata": {},
   "cell_type": "code",
   "outputs": [],
   "execution_count": null,
   "source": [
    "# ─── 4. Sanity Check ───────────────────────────────────\n",
    "df = spark.table(BRONZE_TABLE)\n",
    "print(f\"Rows in Bronze Providers: {df.count()}\")\n",
    "display(df.orderBy(F.col(\"_ingest_ts\").desc()).limit(10))\n",
    "display(spark.sql(f\"DESCRIBE HISTORY {BRONZE_TABLE}\"))"
   ]
  }
 ],
 "metadata": {
  "application/vnd.databricks.v1+notebook": {
   "computePreferences": null,
   "dashboards": [],
   "environmentMetadata": {
    "base_environment": "",
    "environment_version": "2"
   },
   "inputWidgetPreferences": null,
   "language": "python",
   "notebookMetadata": {
    "pythonIndentUnit": 4
   },
   "notebookName": "01_bronze_providers_jdbc",
   "widgets": {}
  },
  "language_info": {
   "name": "python"
  }
 },
 "nbformat": 4,
 "nbformat_minor": 0
}

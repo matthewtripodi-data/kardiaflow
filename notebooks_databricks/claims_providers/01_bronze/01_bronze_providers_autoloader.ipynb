{
 "cells": [
  {
   "cell_type": "code",
   "execution_count": 0,
   "metadata": {
    "application/vnd.databricks.v1+cell": {
     "cellMetadata": {
      "byteLimit": 2048000,
      "rowLimit": 10000
     },
     "inputWidgets": {},
     "nuid": "e992afae-c826-45bd-91c6-93f063c1f90c",
     "showTitle": false,
     "tableResultSettingsMap": {},
     "title": ""
    }
   },
   "outputs": [],
   "source": [
    "# 01_bronze_stream_providers_autoloader.ipynb\n",
    "# SOURCE: Ingest raw provider CSVs into the Bronze layer using Auto Loader.\n",
    "# OUTPUT: `kardia_bronze.bronze_providers` with Change Data Feed enabled.\n",
    "# TRIGGER: Incremental batch; append to Delta table with fixed schema.\n",
    "\n",
    "from pyspark.sql.types import StructType, StructField, StringType, TimestampType\n",
    "\n",
    "# Table paths\n",
    "BRONZE_DB                = \"kardia_bronze\"\n",
    "BRONZE_PROVIDERS_TABLE   = f\"{BRONZE_DB}.bronze_providers\"\n",
    "\n",
    "# ADLS raw CSV location (replace <your_adls_account> with your account name)\n",
    "ACCOUNT                  = \"<your_adls_account>\"\n",
    "RAW_PATH                 = f\"abfss://raw@{ACCOUNT}.dfs.core.windows.net/providers/\"\n",
    "\n",
    "BRONZE_PATH              = \"dbfs:/kardia/bronze/bronze_providers\"\n",
    "SCHEMA_PATH              = \"dbfs:/kardia/_schemas/bronze_providers\"\n",
    "CHECKPOINT_PATH          = \"dbfs:/kardia/_checkpoints/bronze_providers\"\n",
    "BAD_PATH                 = \"dbfs:/kardia/_quarantine/raw/bad_providers\""
   ]
  },
  {
   "cell_type": "code",
   "execution_count": 0,
   "metadata": {
    "application/vnd.databricks.v1+cell": {
     "cellMetadata": {
      "byteLimit": 2048000,
      "rowLimit": 10000
     },
     "inputWidgets": {},
     "nuid": "5b609a2f-04b6-4330-90da-f2534b9a8eda",
     "showTitle": false,
     "tableResultSettingsMap": {},
     "title": ""
    }
   },
   "outputs": [],
   "source": [
    "# Configure ADLS access via SAS token stored in the “kardia” secret scope\n",
    "SAS_TOKEN = dbutils.secrets.get(\"kardia\", \"adls_raw_sas\")\n",
    "spark.conf.set(f\"fs.azure.account.auth.type.{ACCOUNT}.dfs.core.windows.net\", \n",
    "               \"SAS\")\n",
    "spark.conf.set(f\"fs.azure.sas.token.provider.type.{ACCOUNT}.dfs.core.windows.net\",\n",
    "               \"org.apache.hadoop.fs.azurebfs.sas.FixedSASTokenProvider\")\n",
    "spark.conf.set(f\"fs.azure.sas.fixed.token.{ACCOUNT}.dfs.core.windows.net\", SAS_TOKEN)"
   ]
  },
  {
   "cell_type": "code",
   "execution_count": 0,
   "metadata": {
    "application/vnd.databricks.v1+cell": {
     "cellMetadata": {},
     "inputWidgets": {},
     "nuid": "8c732d38-9d94-4c09-8ad9-ed595ef38017",
     "showTitle": false,
     "tableResultSettingsMap": {},
     "title": ""
    }
   },
   "outputs": [],
   "source": [
    "# 1. Create database & Bronze Providers table (with CDF enabled)\n",
    "spark.sql(f\"CREATE DATABASE IF NOT EXISTS {BRONZE_DB}\")\n",
    "spark.sql(f\"\"\"\n",
    "  CREATE TABLE IF NOT EXISTS {BRONZE_PROVIDERS_TABLE}\n",
    "  USING DELTA\n",
    "  COMMENT 'Bronze Auto Loader ingest of provider reference data.'\n",
    "  LOCATION '{BRONZE_PATH}'\n",
    "  TBLPROPERTIES ('delta.enableChangeDataFeed' = 'true')\n",
    "\"\"\")"
   ]
  },
  {
   "cell_type": "code",
   "execution_count": 0,
   "metadata": {
    "application/vnd.databricks.v1+cell": {
     "cellMetadata": {
      "byteLimit": 2048000,
      "rowLimit": 10000
     },
     "inputWidgets": {},
     "nuid": "fb56413c-b1a6-4e72-ba58-5eb5f3566a51",
     "showTitle": false,
     "tableResultSettingsMap": {},
     "title": ""
    }
   },
   "outputs": [],
   "source": [
    "# 2. Define explicit schema for providers CSV\n",
    "providers_schema = StructType([\n",
    "    StructField(\"provider_id\", StringType(),    True),\n",
    "    StructField(\"name\",        StringType(),    True),\n",
    "    StructField(\"address\",     StringType(),    True),\n",
    "    StructField(\"updated_at\",  TimestampType(), True)\n",
    "])"
   ]
  },
  {
   "cell_type": "code",
   "execution_count": 0,
   "metadata": {
    "application/vnd.databricks.v1+cell": {
     "cellMetadata": {
      "byteLimit": 2048000,
      "rowLimit": 10000
     },
     "inputWidgets": {},
     "nuid": "52d79013-e055-4cce-a16d-234fa80c73a4",
     "showTitle": false,
     "tableResultSettingsMap": {},
     "title": ""
    }
   },
   "outputs": [],
   "source": [
    "# 3. Auto Loader incremental ingest (AvailableNow trigger for one‑time batch)\n",
    "stream = (\n",
    "    spark.readStream\n",
    "         .format(\"cloudFiles\")\n",
    "         .option(\"cloudFiles.format\",           \"csv\")\n",
    "         .option(\"cloudFiles.schemaLocation\",   SCHEMA_PATH)\n",
    "         .option(\"cloudFiles.includeExistingFiles\", \"true\")\n",
    "         .option(\"header\",                      \"true\")\n",
    "         .option(\"badRecordsPath\",              BAD_PATH)\n",
    "         .option(\"rescuedDataColumn\",           \"_rest\")\n",
    "         .schema(providers_schema)\n",
    "         .load(RAW_PATH)\n",
    "\n",
    "    .writeStream\n",
    "         .format(\"delta\")\n",
    "         .option(\"mergeSchema\",       \"true\")\n",
    "         .option(\"checkpointLocation\", CHECKPOINT_PATH)\n",
    "         .outputMode(\"append\")\n",
    "         .trigger(availableNow=True)\n",
    "         .start(BRONZE_PATH)\n",
    ")\n",
    "stream.awaitTermination()\n",
    "print(f\"Bronze ingest complete: from {RAW_PATH} to {BRONZE_PATH}\")"
   ]
  },
  {
   "cell_type": "code",
   "execution_count": 0,
   "metadata": {
    "application/vnd.databricks.v1+cell": {
     "cellMetadata": {},
     "inputWidgets": {},
     "nuid": "953132f6-264a-45c5-b918-dc452bd40430",
     "showTitle": false,
     "tableResultSettingsMap": {},
     "title": ""
    }
   },
   "outputs": [],
   "source": [
    "# 4. Verification\n",
    "print(f\"Loaded data from {RAW_PATH} to {BRONZE_PATH}\")\n",
    "df = spark.read.format(\"delta\").load(BRONZE_PATH)\n",
    "print(f\"Row count: {df.count()}\")\n",
    "display(df.limit(5))\n",
    "\n",
    "history_df = spark.sql(\n",
    "    f\"DESCRIBE HISTORY delta.`{BRONZE_PATH}`\"\n",
    ").select(\"version\", \"timestamp\", \"operation\", \"operationParameters\")\n",
    "display(history_df.limit(5))"
   ]
  }
 ],
 "metadata": {
  "application/vnd.databricks.v1+notebook": {
   "computePreferences": null,
   "dashboards": [],
   "environmentMetadata": {
    "base_environment": "",
    "environment_version": "2"
   },
   "inputWidgetPreferences": null,
   "language": "python",
   "notebookMetadata": {
    "pythonIndentUnit": 4
   },
   "notebookName": "01_bronze_providers_jdbc",
   "widgets": {}
  },
  "language_info": {
   "name": "python"
  }
 },
 "nbformat": 4,
 "nbformat_minor": 0
}

{
 "cells": [
  {
   "cell_type": "code",
   "execution_count": 0,
   "metadata": {
    "application/vnd.databricks.v1+cell": {
     "cellMetadata": {
      "byteLimit": 2048000,
      "rowLimit": 10000
     },
     "inputWidgets": {},
     "nuid": "3ed29e36-b52e-4acd-9700-b99e68da49eb",
     "showTitle": false,
     "tableResultSettingsMap": {},
     "title": ""
    }
   },
   "outputs": [],
   "source": [
    "# 01_bronze_stream_claims_autoloader.ipynb\n",
    "# SOURCE: Avro claim files in dbfs:/kardia/raw/claims/\n",
    "# OUTPUT: `kardia_bronze.bronze_claims` with Change Data Feed enabled\n",
    "# TRIGGER: Incremental batch; append to Delta table with fixed schema.\n",
    "\n",
    "from pyspark.sql.types import (StructType, StructField, StringType,\n",
    "                               DoubleType, DateType)\n",
    "\n",
    "# Table paths\n",
    "BRONZE_DB           = \"kardia_bronze\"\n",
    "BRONZE_CLAIMS_TABLE = f\"{BRONZE_DB}.bronze_claims\"\n",
    "\n",
    "RAW_PATH            = \"dbfs:/kardia/raw/claims/\"\n",
    "BRONZE_PATH         = \"dbfs:/kardia/bronze/bronze_claims\"\n",
    "\n",
    "SCHEMA_PATH         = \"dbfs:/kardia/_schemas/bronze_claims\"\n",
    "CHECKPOINT_PATH     = \"dbfs:/kardia/_checkpoints/bronze_claims\"\n",
    "BAD_PATH            = \"dbfs:/kardia/_quarantine/raw/bad_claims\""
   ]
  },
  {
   "cell_type": "code",
   "execution_count": 0,
   "metadata": {
    "application/vnd.databricks.v1+cell": {
     "cellMetadata": {
      "byteLimit": 2048000,
      "rowLimit": 10000
     },
     "inputWidgets": {},
     "nuid": "380f36a9-7d97-4762-8b19-17c8b7aacd2a",
     "showTitle": false,
     "tableResultSettingsMap": {},
     "title": ""
    }
   },
   "outputs": [],
   "source": [
    "claims_schema = StructType([\n",
    "    StructField(\"ClaimID\",               StringType(), True),\n",
    "    StructField(\"PatientID\",             StringType(), True),\n",
    "    StructField(\"ProviderID\",            StringType(), True),\n",
    "    StructField(\"ClaimAmount\",           DoubleType(), True),\n",
    "    StructField(\"ClaimDate\",             StringType(), True),\n",
    "    StructField(\"DiagnosisCode\",         StringType(), True),\n",
    "    StructField(\"ProcedureCode\",         StringType(), True),\n",
    "    StructField(\"ClaimStatus\",           StringType(), True),\n",
    "    StructField(\"ClaimType\",             StringType(), True),\n",
    "    StructField(\"ClaimSubmissionMethod\", StringType(), True)\n",
    "])"
   ]
  },
  {
   "cell_type": "code",
   "execution_count": 0,
   "metadata": {
    "application/vnd.databricks.v1+cell": {
     "cellMetadata": {
      "byteLimit": 2048000,
      "rowLimit": 10000
     },
     "inputWidgets": {},
     "nuid": "d6edbd19-5005-418b-a845-89109448398d",
     "showTitle": false,
     "tableResultSettingsMap": {},
     "title": ""
    }
   },
   "outputs": [],
   "source": [
    "# 1. Ensure database / table exist\n",
    "spark.sql(f\"CREATE DATABASE IF NOT EXISTS {BRONZE_DB}\")\n",
    "\n",
    "spark.sql(\n",
    "    f\"\"\"\n",
    "    CREATE TABLE IF NOT EXISTS {BRONZE_CLAIMS_TABLE}\n",
    "    USING DELTA\n",
    "    COMMENT 'Bronze Avro ingest of claim records.'\n",
    "    LOCATION '{BRONZE_PATH}'\n",
    "    TBLPROPERTIES ('delta.enableChangeDataFeed' = 'true')\n",
    "    \"\"\"\n",
    ")"
   ]
  },
  {
   "cell_type": "code",
   "execution_count": 0,
   "metadata": {
    "application/vnd.databricks.v1+cell": {
     "cellMetadata": {
      "byteLimit": 2048000,
      "rowLimit": 10000
     },
     "inputWidgets": {},
     "nuid": "db18fcf8-db65-4b9f-b735-c018c5f952f2",
     "showTitle": false,
     "tableResultSettingsMap": {},
     "title": ""
    }
   },
   "outputs": [],
   "source": [
    "# 2. Auto Loader incremental batch\n",
    "stream = (\n",
    "    spark.readStream\n",
    "         .format(\"cloudFiles\")\n",
    "         .option(\"cloudFiles.format\", \"avro\")\n",
    "         .option(\"cloudFiles.schemaLocation\", SCHEMA_PATH)\n",
    "         .option(\"cloudFiles.includeExistingFiles\", \"true\")\n",
    "         .option(\"badRecordsPath\", BAD_PATH)\n",
    "         .schema(claims_schema)\n",
    "         .load(RAW_PATH)\n",
    "\n",
    "         .writeStream\n",
    "         .format(\"delta\")\n",
    "         .option(\"checkpointLocation\", CHECKPOINT_PATH)\n",
    "         .option(\"mergeSchema\", \"true\")\n",
    "         .outputMode(\"append\")\n",
    "         .trigger(availableNow=True)\n",
    "         .start(BRONZE_PATH)\n",
    ")\n",
    "stream.awaitTermination()\n",
    "\n",
    "print(f\"Bronze ingest complete: from {RAW_PATH} to {BRONZE_CLAIMS_TABLE}\")"
   ]
  },
  {
   "cell_type": "code",
   "execution_count": 0,
   "metadata": {
    "application/vnd.databricks.v1+cell": {
     "cellMetadata": {
      "byteLimit": 2048000,
      "rowLimit": 10000
     },
     "inputWidgets": {},
     "nuid": "0ffc11ab-a814-411a-81e8-cf1853f57d37",
     "showTitle": false,
     "tableResultSettingsMap": {},
     "title": ""
    }
   },
   "outputs": [],
   "source": [
    "# 3. Quick sanity check\n",
    "df = spark.read.format(\"delta\").load(BRONZE_PATH)\n",
    "print(f\"Row count: {df.count()}\")\n",
    "display(df.limit(5))\n",
    "\n",
    "history_df = (spark.sql(f\"DESCRIBE HISTORY delta.`{BRONZE_PATH}`\")\n",
    "                   .select(\"version\",\"timestamp\",\"operation\"))\n",
    "display(history_df.limit(3))"
   ]
  }
 ],
 "metadata": {
  "application/vnd.databricks.v1+notebook": {
   "computePreferences": null,
   "dashboards": [],
   "environmentMetadata": {
    "base_environment": "",
    "environment_version": "2"
   },
   "inputWidgetPreferences": null,
   "language": "python",
   "notebookMetadata": {
    "mostRecentlyExecutedCommandWithImplicitDF": {
     "commandId": 4898618290950570,
     "dataframes": [
      "_sqldf"
     ]
    },
    "pythonIndentUnit": 4
   },
   "notebookName": "01_bronze_claims_autoloader.ipynb",
   "widgets": {}
  },
  "language_info": {
   "name": "python"
  }
 },
 "nbformat": 4,
 "nbformat_minor": 0
}

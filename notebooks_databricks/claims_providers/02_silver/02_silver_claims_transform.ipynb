{
 "cells": [
  {
   "cell_type": "code",
   "execution_count": 0,
   "metadata": {
    "application/vnd.databricks.v1+cell": {
     "cellMetadata": {
      "byteLimit": 2048000,
      "rowLimit": 10000
     },
     "inputWidgets": {},
     "nuid": "4f1c825f-436f-4956-8821-b42a05e210dd",
     "showTitle": false,
     "tableResultSettingsMap": {},
     "title": ""
    }
   },
   "outputs": [],
   "source": [
    "# 02_silver_claims_current_min.py\n",
    "# SOURCE : kardia_bronze.bronze_claims   (CDF ON)\n",
    "# TARGET : kardia_silver.silver_claims_current  (SCD‑1)\n",
    "# TRIGGER: availableNow (one‑shot incremental batch)\n",
    "\n",
    "from pyspark.sql import functions as F, Window\n",
    "from delta.tables import DeltaTable\n",
    "\n",
    "SILVER_CLAIMS_TBL = \"kardia_silver.silver_claims_current\"\n",
    "BRONZE_CLAIMS_TBL = \"kardia_bronze.bronze_claims\"\n",
    "\n",
    "CHECKPOINT_PATH = \"dbfs:/kardia/_checkpoints/silver_claims\""
   ]
  },
  {
   "cell_type": "code",
   "execution_count": 0,
   "metadata": {
    "application/vnd.databricks.v1+cell": {
     "cellMetadata": {
      "byteLimit": 2048000,
      "rowLimit": 10000
     },
     "inputWidgets": {},
     "nuid": "5d07f174-e9ea-4e48-b620-05d26ffcd8f9",
     "showTitle": false,
     "tableResultSettingsMap": {},
     "title": ""
    }
   },
   "outputs": [],
   "source": [
    "# 1. Ensure Silver DB & target table exist.\n",
    "#    We declare the Silver schema explicitly (adds _ingest_ts) so downstream\n",
    "#    code is stable even if Bronze evolves.\n",
    "\n",
    "spark.sql(\"CREATE DATABASE IF NOT EXISTS kardia_silver\")\n",
    "\n",
    "spark.sql(f\"\"\"\n",
    "CREATE TABLE IF NOT EXISTS {SILVER_CLAIMS_TBL} (\n",
    "  ClaimID               STRING,\n",
    "  PatientID             STRING,\n",
    "  ProviderID            STRING,\n",
    "  ClaimAmount           DOUBLE,\n",
    "  ClaimDate             DATE,\n",
    "  DiagnosisCode         STRING,\n",
    "  ProcedureCode         STRING,\n",
    "  ClaimStatus           STRING,\n",
    "  ClaimType             STRING,\n",
    "  ClaimSubmissionMethod STRING,\n",
    "  _ingest_ts            TIMESTAMP\n",
    ") USING DELTA\n",
    "\"\"\")\n"
   ]
  },
  {
   "cell_type": "code",
   "execution_count": 0,
   "metadata": {
    "application/vnd.databricks.v1+cell": {
     "cellMetadata": {
      "byteLimit": 2048000,
      "rowLimit": 10000
     },
     "inputWidgets": {},
     "nuid": "89369afa-d960-42cf-b49e-36569b28d896",
     "showTitle": false,
     "tableResultSettingsMap": {},
     "title": ""
    }
   },
   "outputs": [],
   "source": [
    "# 2.foreachBatch upsert\n",
    "def upsert(batch_df, _):\n",
    "    # keep only latest post‑image per ClaimID within this micro‑batch\n",
    "    w = Window.partitionBy(\"ClaimID\").orderBy(F.col(\"_commit_version\").desc())\n",
    "    latest = (batch_df\n",
    "              .filter(\"_change_type IN ('insert','update_postimage')\")\n",
    "              .withColumn(\"rn\", F.row_number().over(w))\n",
    "              .filter(\"rn = 1\")\n",
    "              .drop(\"rn\", \"_change_type\", \"_commit_version\", \"_commit_timestamp\")\n",
    "              .withColumn(\"ClaimDate\", F.to_date(\"ClaimDate\"))\n",
    "              .withColumn(\"_ingest_ts\", F.current_timestamp()))\n",
    "\n",
    "    (DeltaTable.forName(spark, SILVER_CLAIMS_TBL)\n",
    "       .alias(\"t\")\n",
    "       .merge(latest.alias(\"s\"), \"t.ClaimID = s.ClaimID\")\n",
    "       .whenMatchedUpdateAll()\n",
    "       .whenNotMatchedInsertAll()\n",
    "       .execute())"
   ]
  },
  {
   "cell_type": "code",
   "execution_count": 0,
   "metadata": {
    "application/vnd.databricks.v1+cell": {
     "cellMetadata": {
      "byteLimit": 2048000,
      "rowLimit": 10000
     },
     "inputWidgets": {},
     "nuid": "9546444d-3242-4497-8cc5-61f42353e373",
     "showTitle": false,
     "tableResultSettingsMap": {},
     "title": ""
    }
   },
   "outputs": [],
   "source": [
    "# 3. Kick off incremental batch run\n",
    "(spark.readStream\n",
    "       .format(\"delta\")\n",
    "       .option(\"readChangeFeed\", \"true\")\n",
    "       .table(BRONZE_CLAIMS_TBL)\n",
    "       \n",
    "       .writeStream\n",
    "       .foreachBatch(upsert)\n",
    "       .option(\"checkpointLocation\", CHECKPOINT_PATH)\n",
    "       .trigger(availableNow=True)\n",
    "       .start()\n",
    "       .awaitTermination())\n",
    "\n",
    "print(f\"Silver row count: {spark.table(SILVER_CLAIMS_TBL).count()}\")"
   ]
  }
 ],
 "metadata": {
  "application/vnd.databricks.v1+notebook": {
   "computePreferences": null,
   "dashboards": [],
   "environmentMetadata": {
    "base_environment": "",
    "environment_version": "2"
   },
   "inputWidgetPreferences": null,
   "language": "python",
   "notebookMetadata": {
    "pythonIndentUnit": 4
   },
   "notebookName": "02_silver_claims_transform",
   "widgets": {}
  },
  "language_info": {
   "name": "python"
  }
 },
 "nbformat": 4,
 "nbformat_minor": 0
}

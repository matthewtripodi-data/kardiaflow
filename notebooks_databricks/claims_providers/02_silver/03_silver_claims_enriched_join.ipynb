{
 "cells": [
  {
   "cell_type": "code",
   "execution_count": 0,
   "metadata": {
    "application/vnd.databricks.v1+cell": {
     "cellMetadata": {
      "byteLimit": 2048000,
      "implicitDf": true,
      "rowLimit": 10000
     },
     "inputWidgets": {},
     "nuid": "5732618a-c36b-464d-b862-66ce81f8f669",
     "showTitle": false,
     "tableResultSettingsMap": {},
     "title": ""
    }
   },
   "outputs": [],
   "source": [
    "%sql\n",
    "/* 03_silver_claims_enriched.ipynb\n",
    "SOURCE: Snapshot join of current claims and current provider attributes.\n",
    "OUTPUT: `kardia_silver.silver_claims_enriched`, used for Gold KPIs.\n",
    "PATTERN: Snapshot join with SCD-2 current-row filter\n",
    "TRIGGER: CTAS; rerun after each claims or provider dimension update */\n",
    "\n",
    "-- 1. make sure the DB exists\n",
    "CREATE DATABASE IF NOT EXISTS kardia_silver;\n",
    "\n",
    "-- 2. CTAS join\n",
    "CREATE OR REPLACE TABLE kardia_silver.silver_claims_enriched AS\n",
    "SELECT  c.*,                                       -- all claim cols incl. _ingest_ts\n",
    "        p.ProviderSpecialty,\n",
    "        p.ProviderLocation\n",
    "FROM    kardia_silver.silver_claims_current c\n",
    "LEFT JOIN kardia_silver.silver_providers_dim p\n",
    "     ON  c.ProviderID = p.ProviderID\n",
    "     AND p.is_current = true;                   -- SCD‑2 current‑row filter\n"
   ]
  }
 ],
 "metadata": {
  "application/vnd.databricks.v1+notebook": {
   "computePreferences": null,
   "dashboards": [],
   "environmentMetadata": {
    "base_environment": "",
    "environment_version": "2"
   },
   "inputWidgetPreferences": null,
   "language": "python",
   "notebookMetadata": {
    "mostRecentlyExecutedCommandWithImplicitDF": {
     "commandId": 7039510993649863,
     "dataframes": [
      "_sqldf"
     ]
    },
    "pythonIndentUnit": 4
   },
   "notebookName": "03_silver_claims_enriched_join",
   "widgets": {}
  },
  "language_info": {
   "name": "python"
  }
 },
 "nbformat": 4,
 "nbformat_minor": 0
}

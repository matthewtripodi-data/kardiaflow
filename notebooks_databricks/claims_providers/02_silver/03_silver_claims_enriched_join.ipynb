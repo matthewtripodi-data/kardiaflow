{
 "cells": [
  {
   "cell_type": "code",
   "execution_count": 0,
   "metadata": {
    "application/vnd.databricks.v1+cell": {
     "cellMetadata": {
      "byteLimit": 2048000,
      "rowLimit": 10000
     },
     "inputWidgets": {},
     "nuid": "98f7e77b-2913-4017-85b4-dc0342a3ebbf",
     "showTitle": false,
     "tableResultSettingsMap": {},
     "title": ""
    }
   },
   "outputs": [],
   "source": [
    "# 03_silver_claims_enriched.ipynb\n",
    "# SOURCE:  kardia_silver.silver_claims_current + kardia_silver.silver_providers_dim\n",
    "# OUTPUT:  kardia_silver.silver_claims_enriched  (snapshot join on ProviderID)\n",
    "# TRIGGER: Joins current claims with current provider attributes for Gold KPIs."
   ]
  },
  {
   "cell_type": "code",
   "execution_count": 0,
   "metadata": {
    "application/vnd.databricks.v1+cell": {
     "cellMetadata": {
      "byteLimit": 2048000,
      "rowLimit": 10000
     },
     "inputWidgets": {},
     "nuid": "5732618a-c36b-464d-b862-66ce81f8f669",
     "showTitle": false,
     "tableResultSettingsMap": {},
     "title": ""
    }
   },
   "outputs": [],
   "source": [
    "# 1. make sure the DB exists\n",
    "spark.sql(\"CREATE DATABASE IF NOT EXISTS kardia_silver\")\n",
    "\n",
    "# 2. CTAS join\n",
    "spark.sql(\"\"\"\n",
    "CREATE OR REPLACE TABLE kardia_silver.silver_claims_enriched AS\n",
    "SELECT  c.*,                             -- all claim cols incl. _ingest_ts\n",
    "        p.ProviderSpecialty,\n",
    "        p.ProviderLocation\n",
    "FROM    kardia_silver.silver_claims_current c\n",
    "LEFT    JOIN kardia_silver.silver_providers_dim p\n",
    "        ON  c.ProviderID = p.ProviderID\n",
    "        AND p.is_current = true          -- SCD‑2 current‑row filter\n",
    "\"\"\")\n"
   ]
  }
 ],
 "metadata": {
  "application/vnd.databricks.v1+notebook": {
   "computePreferences": null,
   "dashboards": [],
   "environmentMetadata": {
    "base_environment": "",
    "environment_version": "2"
   },
   "inputWidgetPreferences": null,
   "language": "python",
   "notebookMetadata": {
    "pythonIndentUnit": 4
   },
   "notebookName": "03_silver_claims_enriched_join",
   "widgets": {}
  },
  "language_info": {
   "name": "python"
  }
 },
 "nbformat": 4,
 "nbformat_minor": 0
}

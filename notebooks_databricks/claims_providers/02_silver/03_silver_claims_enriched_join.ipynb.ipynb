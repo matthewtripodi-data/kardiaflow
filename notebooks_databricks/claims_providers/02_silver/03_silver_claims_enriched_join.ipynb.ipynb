{
 "cells": [
  {
   "cell_type": "code",
   "execution_count": 0,
   "metadata": {
    "application/vnd.databricks.v1+cell": {
     "cellMetadata": {
      "byteLimit": 2048000,
      "rowLimit": 10000
     },
     "inputWidgets": {},
     "nuid": "98f7e77b-2913-4017-85b4-dc0342a3ebbf",
     "showTitle": false,
     "tableResultSettingsMap": {},
     "title": ""
    }
   },
   "outputs": [],
   "source": [
    "# 03_silver_claims_enriched.ipynb\n",
    "# SOURCE:  kardia_silver.silver_claims_current + kardia_silver.silver_providers_dim\n",
    "# OUTPUT:  kardia_silver.silver_claims_enriched  (snapshot join on ProviderID)\n",
    "# TRIGGER: Joins current claims with current provider attributes for Gold KPIs.\n",
    "\n",
    "CLAIMS_TABLE = \"kardia_silver.silver_claims_current\"\n",
    "PROV_DIM     = \"kardia_silver.silver_providers_dim\"\n",
    "ENRICH_TABLE = \"kardia_silver.silver_claims_enriched\""
   ]
  },
  {
   "cell_type": "code",
   "execution_count": 0,
   "metadata": {
    "application/vnd.databricks.v1+cell": {
     "cellMetadata": {
      "byteLimit": 2048000,
      "rowLimit": 10000
     },
     "inputWidgets": {},
     "nuid": "8ac40292-eae8-4a0c-bdc7-0397de53ad74",
     "showTitle": false,
     "tableResultSettingsMap": {},
     "title": ""
    }
   },
   "outputs": [],
   "source": [
    "spark.sql(\"CREATE DATABASE IF NOT EXISTS kardia_silver\")\n",
    "\n",
    "claims_df  = spark.table(CLAIMS_TABLE)\n",
    "prov_df    = (\n",
    "    spark.table(PROV_DIM)\n",
    "         .filter(\"is_current\")\n",
    "         .select(\"ProviderID\", \"ProviderSpecialty\", \"ProviderLocation\")\n",
    ")"
   ]
  },
  {
   "cell_type": "code",
   "execution_count": 0,
   "metadata": {
    "application/vnd.databricks.v1+cell": {
     "cellMetadata": {
      "byteLimit": 2048000,
      "rowLimit": 10000
     },
     "inputWidgets": {},
     "nuid": "4f8489bc-5dad-457d-9c1c-2484e75a64ac",
     "showTitle": false,
     "tableResultSettingsMap": {},
     "title": ""
    }
   },
   "outputs": [],
   "source": [
    "enriched_df = claims_df.join(prov_df, on=\"ProviderID\", how=\"left\")\n",
    "\n",
    "if not spark.catalog.tableExists(ENRICH_TABLE):\n",
    "    (enriched_df.limit(0).write\n",
    "                         .format(\"delta\")\n",
    "                         .saveAsTable(ENRICH_TABLE))\n",
    "\n",
    "(\n",
    "    enriched_df.write\n",
    "               .format(\"delta\")\n",
    "               .mode(\"overwrite\")\n",
    "               .option(\"overwriteSchema\", \"true\")\n",
    "               .option(\"mergeSchema\", \"true\") \n",
    "               .saveAsTable(ENRICH_TABLE)\n",
    ")\n",
    "\n",
    "print(\"Enriched snapshot overwritten.\")"
   ]
  }
 ],
 "metadata": {
  "application/vnd.databricks.v1+notebook": {
   "computePreferences": null,
   "dashboards": [],
   "environmentMetadata": {
    "base_environment": "",
    "environment_version": "2"
   },
   "inputWidgetPreferences": null,
   "language": "python",
   "notebookMetadata": {
    "pythonIndentUnit": 4
   },
   "notebookName": "03_silver_claims_enriched_join.ipynb",
   "widgets": {}
  },
  "language_info": {
   "name": "python"
  }
 },
 "nbformat": 4,
 "nbformat_minor": 0
}

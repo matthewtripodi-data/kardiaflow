{
 "cells": [
  {
   "metadata": {},
   "cell_type": "code",
   "outputs": [],
   "execution_count": null,
   "source": [
    "# 02_silver_providers_scd2_batch.ipynb\n",
    "# SOURCE: kardia_bronze.bronze_providers (daily snapshot w/ _ingest_ts)\n",
    "# OUTPUT: kardia_silver.silver_providers_dim (Type‑2 history, current‑flag)\n",
    "# PATTERN: Snapshot compare ➜ MERGE (close‑old / insert‑new)\n",
    "# NOTE: CDF not required; dataset is small and arrives as complete snapshots.\n",
    "\n",
    "from pyspark.sql import functions as F, Window\n",
    "from delta.tables import DeltaTable\n",
    "\n",
    "SILVER_DB = \"kardia_silver\"\n",
    "BRONZE_PROVIDERS_TBL = \"kardia_bronze.bronze_providers\"\n",
    "SILVER_PROVIDERS_TBL = f\"{SILVER_DB}.silver_providers_dim\"\n",
    "\n",
    "# Detect change in business columns; triggers a new dimension version\n",
    "PROVIDER_CHANGE_CONDITION = (\n",
    "    \"NOT (t.ProviderSpecialty <=> s.ProviderSpecialty) OR \"\n",
    "    \"NOT (t.ProviderLocation  <=> s.ProviderLocation)\"\n",
    ")"
   ]
  },
  {
   "metadata": {},
   "cell_type": "code",
   "outputs": [],
   "execution_count": null,
   "source": [
    "# 1. Ensure DB + Silver Providers table exist\n",
    "spark.sql(f\"CREATE DATABASE IF NOT EXISTS {SILVER_DB}\")\n",
    "\n",
    "spark.sql(\n",
    "    f\"\"\"\n",
    "    CREATE TABLE IF NOT EXISTS {SILVER_PROVIDERS_TBL} (\n",
    "        ProviderID        STRING,\n",
    "        ProviderSpecialty STRING,\n",
    "        ProviderLocation  STRING,\n",
    "        eff_start_ts      TIMESTAMP,\n",
    "        eff_end_ts        TIMESTAMP,\n",
    "        is_current        BOOLEAN,\n",
    "        CONSTRAINT providerid_nn CHECK (ProviderID IS NOT NULL)\n",
    "    ) USING DELTA\n",
    "    \"\"\"\n",
    ")"
   ]
  },
  {
   "metadata": {},
   "cell_type": "code",
   "outputs": [],
   "execution_count": null,
   "source": [
    "# 2. Build latest snapshot from Bronze\n",
    "bronze = spark.table(BRONZE_PROVIDERS_TBL)\n",
    "w_latest = Window.partitionBy(\"ProviderID\").orderBy(F.col(\"_ingest_ts\").desc())\n",
    "\n",
    "# Retain only the latest record per ProviderID from Bronze snapshot\n",
    "latest_src = (\n",
    "    bronze.withColumn(\"_rn\", F.row_number().over(w_latest))\n",
    "          .filter(\"_rn = 1\")\n",
    "          .drop(\"_rn\")\n",
    "          .withColumn(\"eff_start_ts\", F.col(\"_ingest_ts\").cast(\"timestamp\"))\n",
    "          .withColumn(\"eff_end_ts\", F.lit(None).cast(\"timestamp\"))\n",
    "          .withColumn(\"is_current\", F.lit(True))\n",
    ")"
   ]
  },
  {
   "metadata": {},
   "cell_type": "code",
   "outputs": [],
   "execution_count": null,
   "source": [
    "# 3. Apply SCD‑2 upsert to Silver dimension table\n",
    "dim = DeltaTable.forName(spark, SILVER_PROVIDERS_TBL)\n",
    "\n",
    "(dim.alias(\"t\")\n",
    "    .merge(\n",
    "        latest_src.alias(\"s\"),\n",
    "        \"t.ProviderID = s.ProviderID AND t.is_current = true\"\n",
    "    )\n",
    "    # Phase 1: Close the old version if key fields have changed\n",
    "    .whenMatchedUpdate(\n",
    "        condition=PROVIDER_CHANGE_CONDITION,\n",
    "        set={\n",
    "            \"eff_end_ts\": F.col(\"s.eff_start_ts\"),\n",
    "            \"is_current\": F.lit(False)\n",
    "        }\n",
    "    )\n",
    "    # Phase 2: Insert brand-new or changed versions\n",
    "    .whenNotMatchedInsertAll()\n",
    "    .execute())\n",
    "\n",
    "print(f\"Silver providers row count: {spark.table(SILVER_PROVIDERS_TBL).count()}\")"
   ]
  }
 ],
 "metadata": {
  "application/vnd.databricks.v1+notebook": {
   "computePreferences": null,
   "dashboards": [],
   "environmentMetadata": {
    "base_environment": "",
    "environment_version": "2"
   },
   "inputWidgetPreferences": null,
   "language": "python",
   "notebookMetadata": {
    "pythonIndentUnit": 4
   },
   "notebookName": "02_silver_providers_transform",
   "widgets": {}
  },
  "language_info": {
   "name": "python"
  }
 },
 "nbformat": 4,
 "nbformat_minor": 0
}

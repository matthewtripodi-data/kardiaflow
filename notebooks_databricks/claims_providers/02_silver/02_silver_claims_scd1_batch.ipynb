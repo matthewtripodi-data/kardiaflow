{
 "cells": [
  {
   "metadata": {},
   "cell_type": "code",
   "outputs": [],
   "execution_count": null,
   "source": [
    "# 02_silver_claims_scd1_batch.ipynb\n",
    "# SOURCE: kardia_bronze.bronze_claims (CDF ON)\n",
    "# TARGET: kardia_silver.silver_claims (SCD‑1)\n",
    "# TRIGGER: availableNow (one‑shot incremental batch)\n",
    "\n",
    "from pyspark.sql import functions as F, Window\n",
    "from delta.tables import DeltaTable\n",
    "\n",
    "SILVER_DB = \"kardia_silver\"\n",
    "SILVER_CLAIMS_TBL = \"kardia_silver.silver_claims\"\n",
    "BRONZE_CLAIMS_TBL = \"kardia_bronze.bronze_claims\"\n",
    "CHECKPOINT_PATH = \"dbfs:/kardia/_checkpoints/silver_claims\"\n",
    "\n",
    "# CDF event types we care about: insert and update_postimage only\n",
    "CHANGE_TYPES = (\"insert\", \"update_postimage\")"
   ]
  },
  {
   "metadata": {},
   "cell_type": "code",
   "outputs": [],
   "execution_count": null,
   "source": [
    "# 1. Ensure Silver DB & target table exist.\n",
    "#    We declare the Silver schema explicitly (add _ingest_ts) so downstream\n",
    "#    code is stable even if Bronze evolves.\n",
    "\n",
    "spark.sql(f\"CREATE DATABASE IF NOT EXISTS {SILVER_DB}\")\n",
    "\n",
    "spark.sql(\n",
    "    f\"\"\"\n",
    "    CREATE TABLE IF NOT EXISTS kardia_silver.silver_claims (\n",
    "        claim_id                STRING,\n",
    "        patient_id              STRING,\n",
    "        provider_id             STRING,\n",
    "        claim_amount            DOUBLE,\n",
    "        claim_date              DATE,\n",
    "        diagnosis_code          STRING,\n",
    "        procedure_code          STRING,\n",
    "        claim_status            STRING,\n",
    "        claim_type              STRING,\n",
    "        claim_submission_method STRING,\n",
    "        _ingest_ts              TIMESTAMP,\n",
    "        CONSTRAINT claimid_nn CHECK (claim_id IS NOT NULL),\n",
    "        CONSTRAINT claim_amount_nonneg CHECK (claim_amount >= 0)\n",
    "    ) USING DELTA\n",
    "    \"\"\"\n",
    ")\n"
   ]
  },
  {
   "metadata": {},
   "cell_type": "code",
   "outputs": [],
   "execution_count": null,
   "source": [
    "# 2.foreachBatch upsert\n",
    "def upsert_to_silver_claims(batch_df, _):\n",
    "    # keep only latest post‑image per claim_id within this micro‑batch\n",
    "    w_latest = Window.partitionBy(\"claim_id\").orderBy(F.col(\"_commit_version\").desc())\n",
    "    latest = (batch_df\n",
    "              .filter(F.col(\"_change_type\").isin(*CHANGE_TYPES))\n",
    "              .withColumn(\"rn\", F.row_number().over(w_latest))\n",
    "              .filter(\"rn = 1\")\n",
    "              .drop(\"rn\", \"_change_type\", \"_commit_version\", \"_commit_timestamp\")\n",
    "              .withColumn(\"claim_date\", F.to_date(\"claim_date\"))\n",
    "              .withColumn(\"_ingest_ts\", F.current_timestamp()))\n",
    "\n",
    "    (DeltaTable.forName(spark, SILVER_CLAIMS_TBL)\n",
    "       .alias(\"t\")\n",
    "       .merge(latest.alias(\"s\"), \"t.claim_id = s.claim_id\")\n",
    "       .whenMatchedUpdateAll()\n",
    "       .whenNotMatchedInsertAll()\n",
    "       .execute())"
   ]
  },
  {
   "metadata": {},
   "cell_type": "code",
   "outputs": [],
   "execution_count": null,
   "source": [
    "# 3. Run incremental batch stream\n",
    "(spark.readStream\n",
    "       .format(\"delta\")\n",
    "       .option(\"readChangeFeed\", \"true\")\n",
    "       .table(BRONZE_CLAIMS_TBL)\n",
    "       \n",
    "       .writeStream\n",
    "       .foreachBatch(upsert_to_silver_claims)\n",
    "       .option(\"checkpointLocation\", CHECKPOINT_PATH)\n",
    "       .trigger(availableNow=True)\n",
    "       .start()\n",
    "       .awaitTermination())\n",
    "\n",
    "print(f\"Silver claims row count: {spark.table(SILVER_CLAIMS_TBL).count()}\")"
   ]
  }
 ],
 "metadata": {
  "application/vnd.databricks.v1+notebook": {
   "computePreferences": null,
   "dashboards": [],
   "environmentMetadata": {
    "base_environment": "",
    "environment_version": "2"
   },
   "inputWidgetPreferences": null,
   "language": "python",
   "notebookMetadata": {
    "pythonIndentUnit": 4
   },
   "notebookName": "02_silver_claims_transform",
   "widgets": {}
  },
  "language_info": {
   "name": "python"
  }
 },
 "nbformat": 4,
 "nbformat_minor": 0
}

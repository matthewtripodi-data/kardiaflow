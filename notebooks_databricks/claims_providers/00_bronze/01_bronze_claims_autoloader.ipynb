{
 "cells": [
  {
   "metadata": {},
   "cell_type": "code",
   "outputs": [],
   "execution_count": null,
   "source": [
    "# 01_bronze_claims_autoloader.ipynb\n",
    "# SOURCE:  Avro claim files in dbfs:/kardia/raw/claims/\n",
    "# OUTPUT: `kardia_bronze.bronze_claims` with Change Data Feed enabled\n",
    "# TRIGGER: Incremental batch; append to Delta table with schema evolution enabled.\n",
    "\n",
    "# NOTE: For self-describing formats like Avro/Parquet, we let the file's embedded\n",
    "# schema drive the Bronze ingestion, and cast/enforce types later in Silver.\n",
    "\n",
    "BRONZE_DB = \"kardia_bronze\"\n",
    "BRONZE_CLAIMS_TABLE = f\"{BRONZE_DB}.bronze_claims\"\n",
    "\n",
    "RAW_PATH = \"dbfs:/kardia/raw/claims/\"\n",
    "BRONZE_PATH = \"dbfs:/kardia/bronze/bronze_claims\"\n",
    "\n",
    "SCHEMA_PATH = \"dbfs:/kardia/_schemas/bronze_claims\"\n",
    "CHECKPOINT_PATH = \"dbfs:/kardia/_checkpoints/bronze_claims\"\n",
    "BAD_PATH = \"dbfs:/kardia/_quarantine/raw/bad_claims\""
   ]
  },
  {
   "metadata": {},
   "cell_type": "code",
   "outputs": [],
   "execution_count": null,
   "source": [
    "# 2. Ensure database / table exist.\n",
    "spark.sql(f\"CREATE DATABASE IF NOT EXISTS {BRONZE_DB}\")\n",
    "\n",
    "spark.sql(\n",
    "    f\"\"\"\n",
    "    CREATE TABLE IF NOT EXISTS {BRONZE_CLAIMS_TABLE}\n",
    "    USING DELTA\n",
    "    COMMENT 'Bronze Avro ingest of claim records.'\n",
    "    LOCATION '{BRONZE_PATH}'\n",
    "    TBLPROPERTIES ('delta.enableChangeDataFeed' = 'true')\n",
    "    \"\"\"\n",
    ")"
   ]
  },
  {
   "metadata": {},
   "cell_type": "code",
   "outputs": [],
   "execution_count": null,
   "source": [
    "# 3. Define an incremental batch pipeline using Auto-loader.\n",
    "#    Auto-loader discovers new files in cloud storage and writes to a Delta table.\n",
    "stream = (\n",
    "    spark.readStream\n",
    "         .format(\"cloudFiles\")\n",
    "         .option(\"cloudFiles.format\", \"avro\")\n",
    "         .option(\"cloudFiles.schemaLocation\", SCHEMA_PATH)\n",
    "         .option(\"cloudFiles.includeExistingFiles\", \"true\")\n",
    "         .option(\"badRecordsPath\", BAD_PATH)\n",
    "         .load(RAW_PATH)\n",
    "\n",
    "         # Add audit columns\n",
    "         .withColumn(\"_ingest_ts\", F.current_timestamp())\n",
    "         .withColumn(\"_source_file\", F.input_file_name())\n",
    "         .withColumn(\"_batch_id\", F.lit(spark.conf.get(\"spark.databricks.job.runId\", \"manual\")))\n",
    "\n",
    "         .writeStream\n",
    "         .option(\"checkpointLocation\", CHECKPOINT_PATH)\n",
    "         .option(\"mergeSchema\", \"true\")\n",
    "         .trigger(availableNow=True)\n",
    "         .toTable(BRONZE_CLAIMS_TABLE)\n",
    ")\n",
    "stream.awaitTermination()\n",
    "\n",
    "print(f\"Bronze ingest complete: from {RAW_PATH} to {BRONZE_CLAIMS_TABLE}\")\n",
    "\n",
    "# NOTE:\n",
    "# Auto Loader handles the read-side logic, maintaining a file-discovery ledger.\n",
    "# Structured Streaming handles the write-side logic, using a WAL and offset tracking.\n",
    "# The ledger, WAL, offsets, and schema evolution log are all stored in the checkpoint directory.\n",
    "# `cloudFiles.schemaLocation` tells Auto Loader where to persist the evolving schema history."
   ]
  },
  {
   "metadata": {},
   "cell_type": "code",
   "outputs": [],
   "execution_count": null,
   "source": [
    "# 5. Stream finished - Verify Bronze table and ingestion history.\n",
    "\n",
    "# Read the Bronze Claims table into a DataFrame.\n",
    "df = spark.table(BRONZE_CLAIMS_TABLE)\n",
    "print(f\"Row count: {df.count()}\")\n",
    "display(df.limit(5))\n",
    "\n",
    "# Display Delta Lake history to verify CDF and ingest details.\n",
    "history_df = (spark.sql(f\"DESCRIBE HISTORY delta.`{BRONZE_PATH}`\")\n",
    "                   .select(\"version\",\"timestamp\",\"operation\"))\n",
    "display(history_df.limit(3))"
   ]
  }
 ],
 "metadata": {
  "application/vnd.databricks.v1+notebook": {
   "computePreferences": null,
   "dashboards": [],
   "environmentMetadata": {
    "base_environment": "",
    "environment_version": "2"
   },
   "inputWidgetPreferences": null,
   "language": "python",
   "notebookMetadata": {
    "mostRecentlyExecutedCommandWithImplicitDF": {
     "commandId": 4898618290950570,
     "dataframes": [
      "_sqldf"
     ]
    },
    "pythonIndentUnit": 4
   },
   "notebookName": "01_bronze_claims_autoloader",
   "widgets": {}
  },
  "language_info": {
   "name": "python"
  }
 },
 "nbformat": 4,
 "nbformat_minor": 0
}

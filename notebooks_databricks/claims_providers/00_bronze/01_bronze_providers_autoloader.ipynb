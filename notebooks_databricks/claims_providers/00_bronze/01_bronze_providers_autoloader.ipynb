{
 "cells": [
  {
   "cell_type": "code",
   "execution_count": 0,
   "metadata": {
    "application/vnd.databricks.v1+cell": {
     "cellMetadata": {
      "byteLimit": 2048000,
      "rowLimit": 10000
     },
     "inputWidgets": {},
     "nuid": "5d744b91-e319-4804-93b1-b4c079f21105",
     "showTitle": false,
     "tableResultSettingsMap": {},
     "title": ""
    }
   },
   "outputs": [],
   "source": [
    "# 01_bronze_providers_autoloader.ipynb\n",
    "# SOURCE:  Ingest raw provider TSVs into the Bronze layer using Auto Loader.\n",
    "# OUTPUT: `kardia_bronze.bronze_providers` with Change Data Feed enabled.\n",
    "# TRIGGER: Incremental batch; append to Delta table with schema evolution enabled.\n",
    "\n",
    "import pyspark.sql.functions as F\n",
    "from pyspark.sql.types import StructType, StructField, StringType\n",
    "\n",
    "# SAS auth via secret\n",
    "ADLS_ACCOUNT = \"kardiaadlsdemo\"\n",
    "SUFFIX = \"core.windows.net\"\n",
    "sas = dbutils.secrets.get(\"kardia\", \"adls_raw_sas\").lstrip('?')\n",
    "\n",
    "# Table paths\n",
    "BRONZE_DB = \"kardia_bronze\"\n",
    "BRONZE_PROVIDERS_TABLE = f\"{BRONZE_DB}.bronze_providers\"\n",
    "\n",
    "RAW_PATH = f\"abfss://raw@{ADLS_ACCOUNT}.dfs.{SUFFIX}/providers/\"\n",
    "BRONZE_PATH = \"dbfs:/kardia/bronze/bronze_providers\"\n",
    "\n",
    "CHECKPOINT_PATH = \"dbfs:/kardia/_checkpoints/bronze_providers\"\n",
    "BAD_PATH = \"dbfs:/kardia/_quarantine/raw/bad_providers\"\n",
    "\n",
    "spark.conf.set(f\"fs.azure.account.auth.type.{ADLS_ACCOUNT}.dfs.{SUFFIX}\", \"SAS\")\n",
    "spark.conf.set(f\"fs.azure.sas.token.provider.type.{ADLS_ACCOUNT}.dfs.{SUFFIX}\",\n",
    "               \"org.apache.hadoop.fs.azurebfs.sas.FixedSASTokenProvider\")\n",
    "spark.conf.set(f\"fs.azure.sas.fixed.token.{ADLS_ACCOUNT}.dfs.{SUFFIX}\", sas)"
   ]
  },
  {
   "cell_type": "code",
   "execution_count": 0,
   "metadata": {
    "application/vnd.databricks.v1+cell": {
     "cellMetadata": {
      "byteLimit": 2048000,
      "rowLimit": 10000
     },
     "inputWidgets": {},
     "nuid": "9e89a42a-d7ab-4223-8bc1-8d77768d03b8",
     "showTitle": false,
     "tableResultSettingsMap": {},
     "title": ""
    }
   },
   "outputs": [],
   "source": [
    "# 2. Define explicit schema to enforce structure and improve Auto-loader performance.\n",
    "provider_schema = StructType([\n",
    "    StructField(\"ProviderID\",        StringType(), True),\n",
    "    StructField(\"ProviderSpecialty\", StringType(), True),\n",
    "    StructField(\"ProviderLocation\",  StringType(), True),\n",
    "])"
   ]
  },
  {
   "cell_type": "code",
   "execution_count": 0,
   "metadata": {
    "application/vnd.databricks.v1+cell": {
     "cellMetadata": {
      "byteLimit": 2048000,
      "rowLimit": 10000
     },
     "inputWidgets": {},
     "nuid": "5f3e5ce8-b9e7-471e-bd90-736a7ebad2e8",
     "showTitle": false,
     "tableResultSettingsMap": {},
     "title": ""
    }
   },
   "outputs": [],
   "source": [
    "# 3. Ensure Bronze DB and table exist.\n",
    "spark.sql(f\"CREATE DATABASE IF NOT EXISTS {BRONZE_DB}\")\n",
    "\n",
    "spark.sql(\n",
    "    f\"\"\"\n",
    "    CREATE TABLE IF NOT EXISTS {BRONZE_PROVIDERS_TABLE} (\n",
    "        ProviderID        STRING,\n",
    "        ProviderSpecialty STRING,\n",
    "        ProviderLocation  STRING,\n",
    "        _ingest_ts        TIMESTAMP,\n",
    "        _source_file      STRING\n",
    "    )\n",
    "    USING DELTA\n",
    "    LOCATION '{BRONZE_PATH}'\n",
    "    TBLPROPERTIES ('delta.enableChangeDataFeed'='true')\n",
    "    \"\"\"\n",
    ")"
   ]
  },
  {
   "cell_type": "code",
   "execution_count": 0,
   "metadata": {
    "application/vnd.databricks.v1+cell": {
     "cellMetadata": {
      "byteLimit": 2048000,
      "rowLimit": 10000
     },
     "inputWidgets": {},
     "nuid": "71ab80d7-3287-4b38-aeb0-fa32adc0111a",
     "showTitle": false,
     "tableResultSettingsMap": {},
     "title": ""
    }
   },
   "outputs": [],
   "source": [
    "# 4. Define an incremental batch pipeline using Auto-loader.\n",
    "query = (\n",
    "    spark.readStream\n",
    "         .format(\"cloudFiles\")\n",
    "         .option(\"cloudFiles.format\", \"csv\")\n",
    "         .option(\"delimiter\", \"\\t\")\n",
    "         .option(\"cloudFiles.includeExistingFiles\", \"true\")\n",
    "         .option(\"header\", \"true\")\n",
    "         .option(\"badRecordsPath\", BAD_PATH)\n",
    "         .schema(provider_schema)\n",
    "         .load(RAW_PATH)\n",
    "\n",
    "         .withColumn(\"_ingest_ts\",   F.current_timestamp())\n",
    "         .withColumn(\"_source_file\", F.input_file_name())\n",
    "\n",
    "         .writeStream\n",
    "         .option(\"checkpointLocation\", CHECKPOINT_PATH)\n",
    "         .option(\"mergeSchema\", \"true\")\n",
    "         .trigger(availableNow=True)\n",
    "         .toTable(BRONZE_PROVIDERS_TABLE)\n",
    ")\n",
    "query.awaitTermination()\n",
    "\n",
    "print(f\"Bronze ingest complete: from {RAW_PATH} to {BRONZE_PATH}\")"
   ]
  },
  {
   "cell_type": "code",
   "execution_count": 0,
   "metadata": {
    "application/vnd.databricks.v1+cell": {
     "cellMetadata": {
      "byteLimit": 2048000,
      "rowLimit": 10000
     },
     "inputWidgets": {},
     "nuid": "eefd41f6-4cd3-4b06-a291-a42b193b439d",
     "showTitle": false,
     "tableResultSettingsMap": {},
     "title": ""
    }
   },
   "outputs": [],
   "source": [
    "# 5. Stream finished - Verify Bronze table and ingestion history.\n",
    "\n",
    "# Read the Bronze Encounters table into a DataFrame.\n",
    "df = spark.table(BRONZE_PROVIDERS_TABLE)\n",
    "print(f\"Rows in Bronze Providers: {df.count()}\")\n",
    "display(df.orderBy(F.col(\"_ingest_ts\").desc()).limit(10))\n",
    "\n",
    "# Display Delta Lake history to verify CDF and ingest details.\n",
    "history_df = spark.sql(f\"DESCRIBE HISTORY delta.`{BRONZE_PATH}`\") \\\n",
    "                  .select(\"version\", \"timestamp\", \"operation\")\n",
    "display(history_df.limit(5))"
   ]
  }
 ],
 "metadata": {
  "application/vnd.databricks.v1+notebook": {
   "computePreferences": null,
   "dashboards": [],
   "environmentMetadata": {
    "base_environment": "",
    "environment_version": "2"
   },
   "inputWidgetPreferences": null,
   "language": "python",
   "notebookMetadata": {
    "pythonIndentUnit": 4
   },
   "notebookName": "01_bronze_providers_autoloader",
   "widgets": {}
  },
  "language_info": {
   "name": "python"
  }
 },
 "nbformat": 4,
 "nbformat_minor": 0
}

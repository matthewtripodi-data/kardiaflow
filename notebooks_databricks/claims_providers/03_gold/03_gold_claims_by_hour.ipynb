{
 "cells": [
  {
   "cell_type": "code",
   "execution_count": 0,
   "metadata": {
    "application/vnd.databricks.v1+cell": {
     "cellMetadata": {
      "byteLimit": 2048000,
      "rowLimit": 10000
     },
     "inputWidgets": {},
     "nuid": "6f3e884d-5f23-4fff-a744-0aa355a43d49",
     "showTitle": false,
     "tableResultSettingsMap": {},
     "title": ""
    }
   },
   "outputs": [],
   "source": [
    "# 03_gold_claims_by_hour.ipynb\n",
    "# GOAL 1 : Hourly claim volume & spend  (count, sum, avg)\n",
    "# GOAL 2 : Provider daily spend + 7‑day rolling totals  (window fn demo)\n",
    "# GOAL 3 : QA view – hourly provider‑match rate  (no double computation)\n",
    "#\n",
    "# SOURCE : kardia_silver.silver_claims_enriched\n",
    "# OUTPUT :\n",
    "#          kardia_gold.gold_hourly_claim_metrics\n",
    "#          kardia_gold.gold_provider_7d_spend\n",
    "#          kardia_gold.gold_hourly_match_qc_vw   (view)\n",
    "#\n",
    "# TRIGGER: Batch job – full snapshot overwrite/MERGE each run"
   ]
  },
  {
   "cell_type": "code",
   "execution_count": 0,
   "metadata": {
    "application/vnd.databricks.v1+cell": {
     "cellMetadata": {
      "byteLimit": 2048000,
      "rowLimit": 10000
     },
     "inputWidgets": {},
     "nuid": "dec8fc62-fd95-423c-a4a9-8b3e0e393b8a",
     "showTitle": false,
     "tableResultSettingsMap": {},
     "title": ""
    }
   },
   "outputs": [],
   "source": [
    "# 1. Ensure database exists\n",
    "spark.sql(\"CREATE DATABASE IF NOT EXISTS kardia_gold\")\n",
    "\n",
    "# 2. Create hourly claim metrics table (CTAS)\n",
    "spark.sql(\"\"\"\n",
    "CREATE OR REPLACE TABLE kardia_gold.gold_hourly_claim_metrics AS\n",
    "SELECT\n",
    "    DATE_TRUNC('hour', _ingest_ts)                             AS hour_ts,\n",
    "    COUNT(*)                                                   AS claim_cnt,\n",
    "    SUM(ClaimAmount)                                           AS total_amount,\n",
    "    AVG(ClaimAmount)                                           AS avg_amount,\n",
    "    SUM(IF(ProviderSpecialty IS NULL, 1, 0))                   AS unmatched_cnt\n",
    "FROM kardia_silver.silver_claims_enriched\n",
    "GROUP BY DATE_TRUNC('hour', _ingest_ts)\n",
    "\"\"\")\n"
   ]
  },
  {
   "cell_type": "code",
   "execution_count": 0,
   "metadata": {
    "application/vnd.databricks.v1+cell": {
     "cellMetadata": {
      "byteLimit": 2048000,
      "rowLimit": 10000
     },
     "inputWidgets": {},
     "nuid": "93e6d3ec-af7f-42a8-9df4-d430ca92d81b",
     "showTitle": false,
     "tableResultSettingsMap": {},
     "title": ""
    }
   },
   "outputs": [],
   "source": [
    "# Aggregate claim amounts by provider and date,\n",
    "# then calculate 7-day rolling totals and averages using window functions.\n",
    "spark.sql(\"\"\"\n",
    "CREATE OR REPLACE TABLE kardia_gold.gold_provider_7d_spend AS\n",
    "SELECT claim_date,\n",
    "       ProviderID,\n",
    "       daily_amount,\n",
    "       SUM(daily_amount) OVER (\n",
    "           PARTITION BY ProviderID\n",
    "           ORDER BY claim_date\n",
    "           ROWS BETWEEN 6 PRECEDING AND CURRENT ROW\n",
    "       ) AS rolling_7d_total,\n",
    "       AVG(daily_amount) OVER (\n",
    "           PARTITION BY ProviderID\n",
    "           ORDER BY claim_date\n",
    "           ROWS BETWEEN 6 PRECEDING AND CURRENT ROW\n",
    "       ) AS rolling_7d_avg\n",
    "FROM (\n",
    "    SELECT TO_DATE(ClaimDate) AS claim_date,\n",
    "           ProviderID,\n",
    "           SUM(ClaimAmount)   AS daily_amount\n",
    "    FROM   kardia_silver.silver_claims_enriched\n",
    "    GROUP  BY claim_date, ProviderID\n",
    ") d\n",
    "\"\"\")\n"
   ]
  },
  {
   "cell_type": "code",
   "execution_count": 0,
   "metadata": {
    "application/vnd.databricks.v1+cell": {
     "cellMetadata": {
      "byteLimit": 2048000,
      "rowLimit": 10000
     },
     "inputWidgets": {},
     "nuid": "609ed2a3-3737-4e46-bb2d-2151f200e4a7",
     "showTitle": false,
     "tableResultSettingsMap": {},
     "title": ""
    }
   },
   "outputs": [],
   "source": [
    "# Define a QA view that calculates the hourly provider match rate\n",
    "# by dividing matched claims by total claims from the hourly metrics.\n",
    "spark.sql(\"\"\"\n",
    "CREATE OR REPLACE VIEW kardia_gold.gold_hourly_match_qc_vw AS\n",
    "SELECT hour_ts,\n",
    "       claim_cnt,\n",
    "       unmatched_cnt,\n",
    "       ROUND(1 - unmatched_cnt / claim_cnt, 4) AS match_rate\n",
    "FROM   kardia_gold.gold_hourly_claim_metrics\n",
    "\"\"\")\n"
   ]
  },
  {
   "cell_type": "code",
   "execution_count": 0,
   "metadata": {
    "application/vnd.databricks.v1+cell": {
     "cellMetadata": {
      "byteLimit": 2048000,
      "rowLimit": 10000
     },
     "inputWidgets": {},
     "nuid": "865a1f00-3f63-411c-be70-0b39ae00b001",
     "showTitle": false,
     "tableResultSettingsMap": {},
     "title": ""
    }
   },
   "outputs": [],
   "source": [
    "# List all Gold tables / views\n",
    "display(spark.sql(\"SHOW TABLES IN kardia_gold\"))\n",
    "\n",
    "# Preview each Gold asset (latest 10 rows)\n",
    "display(spark.sql(\"\"\"\n",
    "  SELECT * FROM kardia_gold.gold_hourly_claim_metrics\n",
    "  ORDER BY hour_ts DESC LIMIT 10\n",
    "\"\"\"))\n",
    "\n",
    "display(spark.sql(\"\"\"\n",
    "  SELECT * FROM kardia_gold.gold_provider_7d_spend\n",
    "  ORDER BY claim_date DESC, ProviderID LIMIT 10\n",
    "\"\"\"))\n",
    "\n",
    "display(spark.sql(\"\"\"\n",
    "  SELECT * FROM kardia_gold.gold_hourly_match_qc_vw\n",
    "  ORDER BY hour_ts DESC LIMIT 10\n",
    "\"\"\"))\n"
   ]
  }
 ],
 "metadata": {
  "application/vnd.databricks.v1+notebook": {
   "computePreferences": null,
   "dashboards": [],
   "environmentMetadata": {
    "base_environment": "",
    "environment_version": "2"
   },
   "inputWidgetPreferences": null,
   "language": "python",
   "notebookMetadata": {
    "pythonIndentUnit": 4
   },
   "notebookName": "03_gold_claims_by_hour",
   "widgets": {}
  },
  "language_info": {
   "name": "python"
  }
 },
 "nbformat": 4,
 "nbformat_minor": 0
}

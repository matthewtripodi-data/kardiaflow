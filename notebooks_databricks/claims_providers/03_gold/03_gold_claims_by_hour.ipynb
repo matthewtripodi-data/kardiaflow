{
 "cells": [
  {
   "cell_type": "code",
   "execution_count": 0,
   "metadata": {
    "application/vnd.databricks.v1+cell": {
     "cellMetadata": {
      "byteLimit": 2048000,
      "rowLimit": 10000
     },
     "inputWidgets": {},
     "nuid": "6f3e884d-5f23-4fff-a744-0aa355a43d49",
     "showTitle": false,
     "tableResultSettingsMap": {},
     "title": ""
    }
   },
   "outputs": [],
   "source": [
    "# 03_gold_claims_by_hour.ipynb\n",
    "# GOAL 1 : Hourly claim volume & spend  (count, sum, avg)\n",
    "# GOAL 2 : Provider daily spend + 7‑day rolling totals  (window fn demo)\n",
    "# GOAL 3 : QA view – hourly provider‑match rate  (no double computation)\n",
    "#\n",
    "# SOURCE : kardia_silver.silver_claims_enriched\n",
    "# OUTPUT :\n",
    "#          kardia_gold.gold_hourly_claim_metrics\n",
    "#          kardia_gold.gold_provider_7d_spend\n",
    "#          kardia_gold.gold_hourly_match_qc_vw   (view)\n",
    "#\n",
    "# TRIGGER: Batch job – full snapshot overwrite/MERGE each run"
   ]
  },
  {
   "cell_type": "code",
   "execution_count": 0,
   "metadata": {
    "application/vnd.databricks.v1+cell": {
     "cellMetadata": {
      "byteLimit": 2048000,
      "rowLimit": 10000
     },
     "inputWidgets": {},
     "nuid": "dec8fc62-fd95-423c-a4a9-8b3e0e393b8a",
     "showTitle": false,
     "tableResultSettingsMap": {},
     "title": ""
    }
   },
   "outputs": [],
   "source": [
    "# 0 ▸ Create Gold DB\n",
    "spark.sql(\"CREATE DATABASE IF NOT EXISTS kardia_gold\")"
   ]
  },
  {
   "cell_type": "code",
   "execution_count": 0,
   "metadata": {
    "application/vnd.databricks.v1+cell": {
     "cellMetadata": {
      "byteLimit": 2048000,
      "rowLimit": 10000
     },
     "inputWidgets": {},
     "nuid": "a0cfff03-aab6-441e-93da-dc4da9324856",
     "showTitle": false,
     "tableResultSettingsMap": {},
     "title": ""
    }
   },
   "outputs": [],
   "source": [
    "# 1 ▸ Hourly finance metrics (SQL only)\n",
    "spark.sql(\n",
    "    \"\"\"\n",
    "    CREATE OR REPLACE TABLE kardia_gold.gold_hourly_claim_metrics AS\n",
    "    SELECT\n",
    "        DATE_TRUNC('hour', _ingest_ts)                             AS hour_ts,\n",
    "        COUNT(*)                                                   AS claim_cnt,\n",
    "        SUM(ClaimAmount)                                           AS total_amount,\n",
    "        AVG(ClaimAmount)                                           AS avg_amount,\n",
    "        SUM(CASE WHEN ProviderSpecialty IS NULL THEN 1 ELSE 0 END) AS unmatched_cnt\n",
    "    FROM kardia_silver.silver_claims_enriched\n",
    "    GROUP BY DATE_TRUNC('hour', _ingest_ts)\n",
    "    \"\"\"\n",
    ")"
   ]
  },
  {
   "cell_type": "code",
   "execution_count": 0,
   "metadata": {
    "application/vnd.databricks.v1+cell": {
     "cellMetadata": {
      "byteLimit": 2048000,
      "rowLimit": 10000
     },
     "inputWidgets": {},
     "nuid": "5db99ec2-7786-4803-95bf-a50b02c848b3",
     "showTitle": false,
     "tableResultSettingsMap": {},
     "title": ""
    }
   },
   "outputs": [],
   "source": [
    "# 2 ▸ Provider daily spend + 7‑day rolling totals (SQL window)\n",
    "spark.sql(\n",
    "    \"\"\"\n",
    "    CREATE OR REPLACE TABLE kardia_gold.gold_provider_7d_spend AS\n",
    "    WITH daily AS (\n",
    "        SELECT\n",
    "            TO_DATE(ClaimDate) AS claim_date,\n",
    "            ProviderID,\n",
    "            SUM(ClaimAmount)   AS daily_amount\n",
    "        FROM kardia_silver.silver_claims_enriched\n",
    "        GROUP BY TO_DATE(ClaimDate), ProviderID\n",
    "    )\n",
    "    SELECT\n",
    "        claim_date,\n",
    "        ProviderID,\n",
    "        daily_amount,\n",
    "        SUM(daily_amount) OVER (\n",
    "            PARTITION BY ProviderID\n",
    "            ORDER BY     claim_date\n",
    "            ROWS BETWEEN 6 PRECEDING AND CURRENT ROW\n",
    "        )                         AS rolling_7d_total,\n",
    "        AVG(daily_amount) OVER (\n",
    "            PARTITION BY ProviderID\n",
    "            ORDER BY     claim_date\n",
    "            ROWS BETWEEN 6 PRECEDING AND CURRENT ROW\n",
    "        )                         AS rolling_7d_avg\n",
    "    FROM daily\n",
    "    \"\"\"\n",
    ")\n"
   ]
  },
  {
   "cell_type": "code",
   "execution_count": 0,
   "metadata": {
    "application/vnd.databricks.v1+cell": {
     "cellMetadata": {
      "byteLimit": 2048000,
      "rowLimit": 10000
     },
     "inputWidgets": {},
     "nuid": "4ce1e27f-30e3-4a3d-bf19-d2ab84705a23",
     "showTitle": false,
     "tableResultSettingsMap": {},
     "title": ""
    }
   },
   "outputs": [],
   "source": [
    "# 3 ▸ QA view – provider‑match rate (derived, zero extra compute)\n",
    "spark.sql(\n",
    "    \"\"\"\n",
    "    CREATE OR REPLACE VIEW kardia_gold.gold_hourly_match_qc_vw AS\n",
    "    SELECT hour_ts,\n",
    "           claim_cnt,\n",
    "           unmatched_cnt,\n",
    "           ROUND(1 - unmatched_cnt / claim_cnt, 4) AS match_rate\n",
    "    FROM kardia_gold.gold_hourly_claim_metrics\n",
    "    \"\"\"\n",
    ")\n"
   ]
  },
  {
   "cell_type": "code",
   "execution_count": 0,
   "metadata": {
    "application/vnd.databricks.v1+cell": {
     "cellMetadata": {
      "byteLimit": 2048000,
      "rowLimit": 10000
     },
     "inputWidgets": {},
     "nuid": "b5f9d5f7-88db-47c9-acbd-01647fce4f54",
     "showTitle": false,
     "tableResultSettingsMap": {},
     "title": ""
    }
   },
   "outputs": [],
   "source": [
    "# 4 ▸ Preview\n",
    "print(\"Hourly finance metrics:\")\n",
    "display(spark.sql(\n",
    "    \"\"\"\n",
    "    SELECT hour_ts,\n",
    "           claim_cnt,\n",
    "           ROUND(total_amount,2) AS total_amount,\n",
    "           ROUND(avg_amount,2)   AS avg_amount\n",
    "    FROM kardia_gold.gold_hourly_claim_metrics\n",
    "    ORDER BY hour_ts DESC\n",
    "    LIMIT 20\n",
    "    \"\"\"\n",
    "))\n",
    "\n",
    "print(\"Provider 7‑day rolling spend (latest 10 rows):\")\n",
    "display(spark.sql(\n",
    "    \"\"\"\n",
    "    SELECT *\n",
    "    FROM kardia_gold.gold_provider_7d_spend\n",
    "    ORDER BY claim_date DESC, ProviderID\n",
    "    LIMIT 10\n",
    "    \"\"\"\n",
    "))\n",
    "\n",
    "print(\"Provider‑match QA:\")\n",
    "display(spark.sql(\n",
    "    \"\"\"\n",
    "    SELECT hour_ts,\n",
    "           claim_cnt,\n",
    "           unmatched_cnt,\n",
    "           ROUND(match_rate*100,2) AS match_rate_pct\n",
    "    FROM kardia_gold.gold_hourly_match_qc_vw\n",
    "    ORDER BY hour_ts DESC\n",
    "    LIMIT 20\n",
    "    \"\"\"\n",
    "))"
   ]
  }
 ],
 "metadata": {
  "application/vnd.databricks.v1+notebook": {
   "computePreferences": null,
   "dashboards": [],
   "environmentMetadata": {
    "base_environment": "",
    "environment_version": "2"
   },
   "inputWidgetPreferences": null,
   "language": "python",
   "notebookMetadata": {
    "pythonIndentUnit": 4
   },
   "notebookName": "03_gold_claims_by_hour",
   "widgets": {}
  },
  "language_info": {
   "name": "python"
  }
 },
 "nbformat": 4,
 "nbformat_minor": 0
}

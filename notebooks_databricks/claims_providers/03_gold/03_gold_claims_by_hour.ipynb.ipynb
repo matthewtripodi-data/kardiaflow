{
 "cells": [
  {
   "cell_type": "code",
   "execution_count": 0,
   "metadata": {
    "application/vnd.databricks.v1+cell": {
     "cellMetadata": {},
     "inputWidgets": {},
     "nuid": "6f3e884d-5f23-4fff-a744-0aa355a43d49",
     "showTitle": false,
     "tableResultSettingsMap": {},
     "title": ""
    }
   },
   "outputs": [],
   "source": [
    "# 1.  Seed Avro claims into DBFS (one‑liner demo)\n",
    "spark.read\n",
    "     .option(\"header\", True) \\\n",
    "     .csv(\"dbfs:/FileStore/claims_sample.csv\") \\\n",
    "     .write.format(\"avro\") \\\n",
    "     .save(\"dbfs:/kardia/raw/claims/\")          # Auto Loader watches here\n",
    "\n",
    "# 2.  Copy your providers.csv seed\n",
    "databricks fs cp ./data/raw/providers/providers.csv dbfs:/FileStore/providers.csv\n"
   ]
  }
 ],
 "metadata": {
  "application/vnd.databricks.v1+notebook": {
   "computePreferences": null,
   "dashboards": [],
   "environmentMetadata": {
    "base_environment": "",
    "environment_version": "2"
   },
   "inputWidgetPreferences": null,
   "language": "python",
   "notebookMetadata": {
    "pythonIndentUnit": 4
   },
   "notebookName": "03_gold_claims_by_hour.ipynb",
   "widgets": {}
  },
  "language_info": {
   "name": "python"
  }
 },
 "nbformat": 4,
 "nbformat_minor": 0
}

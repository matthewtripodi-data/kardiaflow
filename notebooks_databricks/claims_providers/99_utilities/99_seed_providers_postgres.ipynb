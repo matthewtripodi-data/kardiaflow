{
 "cells": [
  {
   "cell_type": "code",
   "execution_count": 0,
   "metadata": {
    "application/vnd.databricks.v1+cell": {
     "cellMetadata": {
      "byteLimit": 2048000,
      "rowLimit": 10000
     },
     "inputWidgets": {},
     "nuid": "9c8cfd3c-6726-4275-9f7e-cdb982c88695",
     "showTitle": false,
     "tableResultSettingsMap": {},
     "title": ""
    }
   },
   "outputs": [],
   "source": [
    "# 00_seed_providers_postgres.ipynb\n",
    "# Goal: copy providers.csv into the local Postgres instance (table = providers).\n",
    "\n",
    "import os\n",
    "import socket, time\n",
    "\n",
    "HOST, PORT = \"localhost\", 5432\n",
    "CSV_PATH   = \"dbfs:/FileStore/tables/providers.csv\"\n",
    "PG_PW      = os.environ[\"POSTGRES_PW\"]"
   ]
  },
  {
   "cell_type": "code",
   "execution_count": 0,
   "metadata": {
    "application/vnd.databricks.v1+cell": {
     "cellMetadata": {
      "byteLimit": 2048000,
      "rowLimit": 10000
     },
     "inputWidgets": {},
     "nuid": "7021f8f0-4833-4f71-af5d-8fd5616cef4a",
     "showTitle": false,
     "tableResultSettingsMap": {},
     "title": ""
    }
   },
   "outputs": [],
   "source": [
    "# 1. Wait (< 60s) for Postgres to accept connections\n",
    "deadline = time.time() + 60\n",
    "while time.time() < deadline:\n",
    "    try:\n",
    "        socket.create_connection((HOST, PORT), timeout=2).close()\n",
    "        print(\"PostgreSQL is accepting connections.\")\n",
    "        break\n",
    "    except OSError:\n",
    "        time.sleep(2)\n",
    "else:\n",
    "    raise TimeoutError(\"PostgreSQL did not start within 60s. Check init logs.\")"
   ]
  },
  {
   "cell_type": "code",
   "execution_count": 0,
   "metadata": {
    "application/vnd.databricks.v1+cell": {
     "cellMetadata": {
      "byteLimit": 2048000,
      "rowLimit": 10000
     },
     "inputWidgets": {},
     "nuid": "6ebae4d6-136b-4d37-a6d0-75a58d0dd190",
     "showTitle": false,
     "tableResultSettingsMap": {},
     "title": ""
    }
   },
   "outputs": [],
   "source": [
    "# 2. Load the CSV in Spark\n",
    "df = spark.read.option(\"header\", True).csv(CSV_PATH)"
   ]
  },
  {
   "cell_type": "code",
   "execution_count": 0,
   "metadata": {
    "application/vnd.databricks.v1+cell": {
     "cellMetadata": {
      "byteLimit": 2048000,
      "rowLimit": 10000
     },
     "inputWidgets": {},
     "nuid": "1c2e757a-1680-4c07-a06f-32202cc7d82c",
     "showTitle": false,
     "tableResultSettingsMap": {},
     "title": ""
    }
   },
   "outputs": [],
   "source": [
    "# 3. Overwrite the Providers table in Postgres\n",
    "(df.write\n",
    "   .format(\"jdbc\")\n",
    "   .option(\"url\", f\"jdbc:postgresql://{HOST}:{PORT}/postgres\")\n",
    "   .option(\"dbtable\", \"providers\")\n",
    "   .option(\"user\", \"postgres\")\n",
    "   .option(\"password\", PG_PW)\n",
    "   .option(\"driver\", \"org.postgresql.Driver\")\n",
    "   .mode(\"overwrite\")\n",
    "   .save())\n",
    "\n",
    "print(f\"Seeded {df.count()} provider rows into Postgres.\")"
   ]
  },
  {
   "cell_type": "code",
   "execution_count": 0,
   "metadata": {
    "application/vnd.databricks.v1+cell": {
     "cellMetadata": {
      "byteLimit": 2048000,
      "rowLimit": 10000
     },
     "inputWidgets": {},
     "nuid": "84715945-a67b-49cf-8e81-55a43227ba78",
     "showTitle": false,
     "tableResultSettingsMap": {},
     "title": ""
    }
   },
   "outputs": [],
   "source": [
    "# 4. Read back for sanity check\n",
    "providers_check_df = (spark.read\n",
    "                           .format(\"jdbc\")\n",
    "                           .option(\"url\", f\"jdbc:postgresql://{HOST}:{PORT}/postgres\")\n",
    "                           .option(\"dbtable\", \"providers\")\n",
    "                           .option(\"user\", \"postgres\")\n",
    "                           .option(\"password\", PG_PW)\n",
    "                           .option(\"driver\", \"org.postgresql.Driver\")\n",
    "                           .load())\n",
    "\n",
    "display(providers_check_df)"
   ]
  }
 ],
 "metadata": {
  "application/vnd.databricks.v1+notebook": {
   "computePreferences": null,
   "dashboards": [],
   "environmentMetadata": {
    "base_environment": "",
    "environment_version": "2"
   },
   "inputWidgetPreferences": null,
   "language": "python",
   "notebookMetadata": {
    "pythonIndentUnit": 4
   },
   "notebookName": "99_seed_providers_postgres",
   "widgets": {}
  },
  "language_info": {
   "name": "python"
  }
 },
 "nbformat": 4,
 "nbformat_minor": 0
}

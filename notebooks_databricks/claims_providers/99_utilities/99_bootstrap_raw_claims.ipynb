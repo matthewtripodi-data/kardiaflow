{
 "cells": [
  {
   "cell_type": "code",
   "execution_count": 0,
   "metadata": {
    "application/vnd.databricks.v1+cell": {
     "cellMetadata": {
      "byteLimit": 2048000,
      "rowLimit": 10000
     },
     "inputWidgets": {},
     "nuid": "c7588e88-c465-45f8-bf3e-dd2062fac2f9",
     "showTitle": false,
     "tableResultSettingsMap": {},
     "title": ""
    }
   },
   "outputs": [],
   "source": [
    "# 99_bootstrap_raw_claims.ipynb\n",
    "# Perform one-time setup for Claims data.\n",
    "# Creates the raw input folder and moves in the initial test file.\n",
    "\n",
    "# 1. Manually upload the test file `claims_part_1.avro` to DBFS.\n",
    "\n",
    "UPLOADS_DIR = \"dbfs:/FileStore/tables/\"\n",
    "RAW_CLAIMS_DIR = \"dbfs:/kardia/raw/claims/\"\n",
    "INITIAL_TEST_FILE = \"claims_part_1.avro\"\n",
    "\n",
    "# 2. Create destination folder for raw claims data\n",
    "dbutils.fs.mkdirs(RAW_CLAIMS_DIR)\n",
    "\n",
    "# 3. Copy the seed claims file into the raw folder\n",
    "src = UPLOADS_DIR + INITIAL_TEST_FILE\n",
    "dst = RAW_CLAIMS_DIR + INITIAL_TEST_FILE\n",
    "dbutils.fs.cp(src, dst)\n",
    "print(f\"Bootstrapped: {INITIAL_TEST_FILE} to {dst}\")"
   ]
  }
 ],
 "metadata": {
  "application/vnd.databricks.v1+notebook": {
   "computePreferences": null,
   "dashboards": [],
   "environmentMetadata": null,
   "inputWidgetPreferences": null,
   "language": "python",
   "notebookMetadata": {
    "pythonIndentUnit": 4
   },
   "notebookName": "99_bootstrap_raw_claims_dir",
   "widgets": {}
  },
  "language_info": {
   "name": "python"
  }
 },
 "nbformat": 4,
 "nbformat_minor": 0
}

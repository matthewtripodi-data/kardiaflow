{
 "cells": [
  {
   "cell_type": "code",
   "execution_count": 0,
   "metadata": {
    "application/vnd.databricks.v1+cell": {
     "cellMetadata": {
      "byteLimit": 2048000,
      "rowLimit": 10000
     },
     "inputWidgets": {},
     "nuid": "c7588e88-c465-45f8-bf3e-dd2062fac2f9",
     "showTitle": false,
     "tableResultSettingsMap": {},
     "title": ""
    }
   },
   "outputs": [],
   "source": [
    "# 99_bootstrap_raw_dirs_and_files.ipynb\n",
    "# One-time setup script for a fresh Databricks workspace.\n",
    "# Run immediately after starting the cluster (no init script yet).\n",
    "#\n",
    "# - Verifies presence of test files\n",
    "# - Copies claims_10.avro into the raw ingestion directory\n",
    "# - Saves Postgres password to DBFS for use in init script and JDBC\n",
    "\n",
    "RAW_CLAIMS             = \"dbfs:/kardia/raw/claims/\"\n",
    "UPLOADS                = \"dbfs:/FileStore/tables/\"\n",
    "UPLOADS_CLAIMS_AVRO    = f\"{UPLOADS}claims_10.avro\"\n",
    "UPLOADS_PROVIDERS_CSV  = f\"{UPLOADS}providers_10.csv\"\n",
    "DBFS_SECRET_DIR        = \"dbfs:/secrets\"\n",
    "DBFS_PW_FILE           = f\"{DBFS_SECRET_DIR}/pg_pw\"\n",
    "DEMO_PASSWORD          = \"demo123\"\n",
    "\n",
    "# 1. Copy claims Avro into raw folder\n",
    "dbutils.fs.mkdirs(RAW_CLAIMS)\n",
    "dbutils.fs.cp(UPLOADS_CLAIMS_AVRO, f\"{RAW_CLAIMS}claims_10.avro\", recurse=True)\n",
    "print(f\"Copied: {UPLOADS_CLAIMS_AVRO} → {RAW_CLAIMS}claims_10.avro\")\n",
    "\n",
    "# 2. Verify providers CSV exists\n",
    "if not any(f.name == \"providers_10.csv\" for f in dbutils.fs.ls(UPLOADS)):\n",
    "    raise FileNotFoundError(\"providers_10.csv not found in /FileStore/tables/\")\n",
    "print(f\"providers_10.csv found at {UPLOADS_PROVIDERS_CSV}\")\n",
    "\n",
    "# 3. Save password to DBFS secret file\n",
    "dbutils.fs.mkdirs(DBFS_SECRET_DIR)\n",
    "dbutils.fs.put(DBFS_PW_FILE, DEMO_PASSWORD, overwrite=True)\n",
    "print(f\"Password saved to: {DBFS_PW_FILE}\")\n"
   ]
  }
 ],
 "metadata": {
  "application/vnd.databricks.v1+notebook": {
   "computePreferences": null,
   "dashboards": [],
   "environmentMetadata": null,
   "inputWidgetPreferences": null,
   "language": "python",
   "notebookMetadata": {
    "pythonIndentUnit": 4
   },
   "notebookName": "99_bootstrap_raw_dirs_and_files",
   "widgets": {}
  },
  "language_info": {
   "name": "python"
  }
 },
 "nbformat": 4,
 "nbformat_minor": 0
}

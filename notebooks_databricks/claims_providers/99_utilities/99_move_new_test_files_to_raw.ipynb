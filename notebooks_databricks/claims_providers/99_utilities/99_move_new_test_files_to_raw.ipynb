{
 "cells": [
  {
   "cell_type": "code",
   "execution_count": 0,
   "metadata": {
    "application/vnd.databricks.v1+cell": {
     "cellMetadata": {
      "byteLimit": 2048000,
      "rowLimit": 10000
     },
     "inputWidgets": {},
     "nuid": "37dfb562-a2f8-4cb9-bfd2-2b2f0747a3e4",
     "showTitle": false,
     "tableResultSettingsMap": {},
     "title": ""
    }
   },
   "outputs": [],
   "source": [
    "# 99_move_new_test_files_to_raw.ipynb\n",
    "# Purpose: Move any *.avro files you just uploaded in FileStore to the raw/claims folder.\n",
    "\n",
    "UPLOADS_DIR = \"dbfs:/FileStore/tables/\"\n",
    "RAW_CLAIMS  = \"dbfs:/kardia/raw/claims/\"\n",
    "\n",
    "# List *.avro files in the upload directory\n",
    "for f in dbutils.fs.ls(UPLOADS_DIR):\n",
    "    if f.path.endswith(\".avro\"):\n",
    "        dest = RAW_CLAIMS + f.name\n",
    "        dbutils.fs.cp(f.path, dest)\n",
    "        print(f\"Moved {f.name} to {dest}\")\n"
   ]
  }
 ],
 "metadata": {
  "application/vnd.databricks.v1+notebook": {
   "computePreferences": null,
   "dashboards": [],
   "environmentMetadata": null,
   "inputWidgetPreferences": null,
   "language": "python",
   "notebookMetadata": {
    "pythonIndentUnit": 4
   },
   "notebookName": "99_move_new_test_files_to_raw",
   "widgets": {}
  },
  "language_info": {
   "name": "python"
  }
 },
 "nbformat": 4,
 "nbformat_minor": 0
}

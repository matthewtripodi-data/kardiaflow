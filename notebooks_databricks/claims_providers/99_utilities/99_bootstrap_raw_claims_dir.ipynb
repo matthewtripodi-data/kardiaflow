{
 "cells": [
  {
   "cell_type": "code",
   "execution_count": 0,
   "metadata": {
    "application/vnd.databricks.v1+cell": {
     "cellMetadata": {
      "byteLimit": 2048000,
      "rowLimit": 10000
     },
     "inputWidgets": {},
     "nuid": "c7588e88-c465-45f8-bf3e-dd2062fac2f9",
     "showTitle": false,
     "tableResultSettingsMap": {},
     "title": ""
    }
   },
   "outputs": [],
   "source": [
    "# 99_bootstrap_raw_dirs_and_files.ipynb\n",
    "# One‑time setup for raw claims ingestion\n",
    "\n",
    "RAW_DIR     = \"dbfs:/kardia/raw/claims/\"\n",
    "SOURCE_FILE = \"dbfs:/FileStore/tables/claims_part_1.avro\"\n",
    "TARGET_FILE = f\"{RAW_DIR}claims.avro\"\n",
    "\n",
    "# 1. Ensure the raw directory exists\n",
    "dbutils.fs.mkdirs(RAW_DIR)\n",
    "\n",
    "# 2. Copy the Avro into the watch folder (will error if missing)\n",
    "dbutils.fs.cp(SOURCE_FILE, TARGET_FILE)\n",
    "print(f\"Bootstrapped: {SOURCE_FILE} to {TARGET_FILE}\")"
   ]
  }
 ],
 "metadata": {
  "application/vnd.databricks.v1+notebook": {
   "computePreferences": null,
   "dashboards": [],
   "environmentMetadata": null,
   "inputWidgetPreferences": null,
   "language": "python",
   "notebookMetadata": {
    "pythonIndentUnit": 4
   },
   "notebookName": "99_bootstrap_raw_claims_dir",
   "widgets": {}
  },
  "language_info": {
   "name": "python"
  }
 },
 "nbformat": 4,
 "nbformat_minor": 0
}

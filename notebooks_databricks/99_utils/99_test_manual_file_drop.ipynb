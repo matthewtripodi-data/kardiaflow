{
 "cells": [
  {
   "cell_type": "code",
   "execution_count": 0,
   "metadata": {
    "application/vnd.databricks.v1+cell": {
     "cellMetadata": {},
     "inputWidgets": {},
     "nuid": "3dd0a983-bb68-4d3a-a236-21ca994ff084",
     "showTitle": false,
     "tableResultSettingsMap": {},
     "title": ""
    }
   },
   "outputs": [],
   "source": [
    "# Manually test new file ingestion by copying uploaded file to the raw landing zone\n",
    "\n",
    "# Example: after uploading to /FileStore/tables/\n",
    "src = \"dbfs:/FileStore/tables/patients_more_10.csv\"\n",
    "dst = \"dbfs:/kardia/raw/patients/\"\n",
    "\n",
    "dbutils.fs.cp(src, dst, recurse=True)\n",
    "print(f\"Copied {src} → {dst}\")\n",
    "\n",
    "# Confirm it landed\n",
    "display(dbutils.fs.ls(dst))"
   ]
  }
 ],
 "metadata": {
  "application/vnd.databricks.v1+notebook": {
   "computePreferences": null,
   "dashboards": [],
   "environmentMetadata": {
    "base_environment": "",
    "environment_version": "2"
   },
   "inputWidgetPreferences": null,
   "language": "python",
   "notebookMetadata": {
    "pythonIndentUnit": 4
   },
   "notebookName": "99_test_manual_file_drop",
   "widgets": {}
  },
  "language_info": {
   "name": "python"
  }
 },
 "nbformat": 4,
 "nbformat_minor": 0
}

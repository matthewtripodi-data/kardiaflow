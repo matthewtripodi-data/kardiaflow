{
 "cells": [
  {
   "cell_type": "code",
   "execution_count": 0,
   "metadata": {
    "application/vnd.databricks.v1+cell": {
     "cellMetadata": {
      "byteLimit": 2048000,
      "rowLimit": 10000
     },
     "inputWidgets": {},
     "nuid": "33f4b7bc-5267-48b9-8952-4ab9bb91a08d",
     "showTitle": false,
     "tableResultSettingsMap": {},
     "title": ""
    }
   },
   "outputs": [],
   "source": [
    "# Databricks Notebook: 99_utils/setup_kardia_autoloader_env.ipynb\n",
    "# --------------------------------------------------------------\n",
    "# Purpose: one-time workspace bootstrap\n",
    "#   • Creates DBFS folder structure expected by Auto Loader\n",
    "#   • Optionally seeds tiny CSVs for smoke testing\n",
    "# Run only when you spin up a brand-new Databricks workspace.\n",
    "\n",
    "# ───────────────────────────────────────────────────────────────\n",
    "# USER CONFIG – tweak paths or skip seed files\n",
    "seed_patients    = True          # set False if you don’t need the seed file\n",
    "seed_encounters  = True\n",
    "repo_base        = \"/Workspace/Users/matthew.databrickslab2@outlook.com/kardiaflow/data/raw\"\n",
    "\n",
    "# ───────────────────────────────────────────────────────────────\n",
    "from pyspark.sql import SparkSession, functions as F\n",
    "\n",
    "# 1️. Core folder tree  (idempotent)\n",
    "for p in [\n",
    "    \"dbfs:/kardia/raw/patients/\",\n",
    "    \"dbfs:/kardia/raw/encounters/\",\n",
    "    \"dbfs:/kardia/_schemas/\",\n",
    "    \"dbfs:/kardia/_checkpoints/\"\n",
    "]:\n",
    "    dbutils.fs.mkdirs(p)\n",
    "\n",
    "# 2️. Seed smoke-test files  (≲ 10 rows each)\n",
    "def safe_copy(src, dst):\n",
    "    try:\n",
    "        dbutils.fs.cp(src, dst, recurse=True)\n",
    "        print(f\"Copied {src} → {dst}\")\n",
    "    except Exception as e:\n",
    "        print(f\"Skipped {src}: {e}\")\n",
    "\n",
    "if seed_patients:\n",
    "    safe_copy(f\"file:{repo_base}/ehr/patients_10.csv\",\n",
    "              \"dbfs:/kardia/raw/patients/\")\n",
    "if seed_encounters:\n",
    "    safe_copy(f\"file:{repo_base}/ehr/encounters_10.csv\",\n",
    "              \"dbfs:/kardia/raw/encounters/\")\n",
    "\n",
    "# 3️. Quick inventory (non-interactive; prints only counts)\n",
    "for entity in [\"patients\", \"encounters\"]:\n",
    "    cnt = len(dbutils.fs.ls(f\"dbfs:/kardia/raw/{entity}/\"))\n",
    "    print(f\"{entity.capitalize()} landing files: {cnt}\")\n",
    "\n",
    "print(\"\\nEnvironment bootstrap complete\")\n"
   ]
  }
 ],
 "metadata": {
  "application/vnd.databricks.v1+notebook": {
   "computePreferences": null,
   "dashboards": [],
   "environmentMetadata": {
    "base_environment": "",
    "environment_version": "2"
   },
   "inputWidgetPreferences": null,
   "language": "python",
   "notebookMetadata": {
    "pythonIndentUnit": 4
   },
   "notebookName": "99_setup_kardia_autoloader_env",
   "widgets": {}
  },
  "language_info": {
   "name": "python"
  }
 },
 "nbformat": 4,
 "nbformat_minor": 0
}

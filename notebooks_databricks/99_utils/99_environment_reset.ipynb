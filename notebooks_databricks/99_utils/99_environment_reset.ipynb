{
 "cells": [
  {
   "cell_type": "code",
   "execution_count": 0,
   "metadata": {
    "application/vnd.databricks.v1+cell": {
     "cellMetadata": {
      "byteLimit": 2048000,
      "rowLimit": 10000
     },
     "inputWidgets": {},
     "nuid": "2df3e1cd-0bb3-4388-8546-d5ccaa504cfd",
     "showTitle": false,
     "tableResultSettingsMap": {},
     "title": ""
    }
   },
   "outputs": [],
   "source": [
    "# Hard-reset for the Kardia demo environment\n",
    "from pyspark.sql import SparkSession\n",
    "from pyspark.sql.utils import AnalysisException\n",
    "import re, time\n",
    "\n",
    "spark = SparkSession.builder.getOrCreate()\n",
    "\n",
    "# 0️. Stop any streaming queries\n",
    "for q in spark.streams.active:\n",
    "    print(f\"Stopping stream {q.id} …\")\n",
    "    q.stop()\n",
    "    q.awaitTermination(30)\n",
    "\n",
    "# 1️. Drop databases that belong to the project\n",
    "for db in spark.catalog.listDatabases():\n",
    "    if re.match(r\"kardia_\", db.name):\n",
    "        print(f\"Dropping DB: {db.name}\")\n",
    "        spark.sql(f\"DROP DATABASE {db.name} CASCADE\")\n",
    "\n",
    "# 2️. Delete DBFS folders (brutal but quick)\n",
    "paths_to_wipe = [\n",
    "    \"dbfs:/kardia/raw/\",\n",
    "    \"dbfs:/kardia/bronze/\",\n",
    "    \"dbfs:/kardia/silver/\",\n",
    "    \"dbfs:/kardia/gold/\",\n",
    "    \"dbfs:/kardia/_schemas/\",\n",
    "    \"dbfs:/kardia/_checkpoints/\",\n",
    "    \"dbfs:/kardia/_quarantine/\",\n",
    "    \"dbfs:/kardia/_state/\",\n",
    "]\n",
    "\n",
    "for p in paths_to_wipe:\n",
    "    try:\n",
    "        dbutils.fs.rm(p, recurse=True)\n",
    "        print(f\"Deleted {p}\")\n",
    "    except Exception as e:\n",
    "        print(f\"✗ Could not delete {p} – {e}\")\n",
    "\n",
    "# 3️. House-keeping pause so the metastore & filesystem settle\n",
    "time.sleep(2)\n",
    "print(\"\\nKardia environment fully reset.\")\n"
   ]
  }
 ],
 "metadata": {
  "application/vnd.databricks.v1+notebook": {
   "computePreferences": null,
   "dashboards": [],
   "environmentMetadata": {
    "base_environment": "",
    "environment_version": "2"
   },
   "inputWidgetPreferences": null,
   "language": "python",
   "notebookMetadata": {
    "pythonIndentUnit": 4
   },
   "notebookName": "99_environment_reset",
   "widgets": {}
  },
  "language_info": {
   "name": "python"
  }
 },
 "nbformat": 4,
 "nbformat_minor": 0
}

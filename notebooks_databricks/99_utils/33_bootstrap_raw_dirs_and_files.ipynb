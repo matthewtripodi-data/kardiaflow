{
 "cells": [
  {
   "metadata": {},
   "cell_type": "code",
   "outputs": [],
   "execution_count": null,
   "source": [
    "# 99_bootstrap_raw_dirs_and_files.ipynb\n",
    "# Create raw input folders and move initial test files.\n",
    "# One-time setup for a new Databricks workspace.\n",
    "\n",
    "# Define target raw directories\n",
    "RAW_PATIENTS   = \"dbfs:/kardia/raw/patients/\"\n",
    "RAW_ENCOUNTERS = \"dbfs:/kardia/raw/encounters/\"\n",
    "UPLOADS        = \"dbfs:/FileStore/tables/\"\n",
    "\n",
    "# 1. Create raw input folders.\n",
    "for path in (RAW_PATIENTS, RAW_ENCOUNTERS):\n",
    "    dbutils.fs.mkdirs(path)\n",
    "\n",
    "# 2️. Upload test files to DBFS using the Databricks UI.\n",
    "\n",
    "# 3️. Move uploaded test files into the raw folders.\n",
    "test_files = [\n",
    "    (\"patients_10.csv\",   RAW_PATIENTS),\n",
    "    (\"encounters_10.csv\", RAW_ENCOUNTERS)\n",
    "]\n",
    "\n",
    "for fname, dst in test_files:\n",
    "    dbutils.fs.cp(f\"{UPLOADS}{fname}\", f\"{dst}{fname}\", recurse=True)\n",
    "    print(f\"Copied: from {fname} to {dst}\")"
   ],
   "id": "d8cfece20764b1db"
  }
 ],
 "metadata": {},
 "nbformat": 4,
 "nbformat_minor": 5
}

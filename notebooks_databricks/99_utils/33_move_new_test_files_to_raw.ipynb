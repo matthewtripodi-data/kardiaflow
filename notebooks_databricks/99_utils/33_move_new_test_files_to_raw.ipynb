{
 "cells": [
  {
   "metadata": {},
   "cell_type": "code",
   "outputs": [],
   "execution_count": null,
   "source": [
    "# 99_move_new_test_files_to_raw.ipynb\n",
    "# Move manually uploaded test files into raw folders for Auto Loader.\n",
    "\n",
    "# Define the target raw directories\n",
    "RAW_PATIENTS   = \"dbfs:/kardia/raw/patients/\"\n",
    "RAW_ENCOUNTERS = \"dbfs:/kardia/raw/encounters/\"\n",
    "\n",
    "# Define the test files and their destinations\n",
    "test_files = {\n",
    "    \"patients_additional_40.csv\":   RAW_PATIENTS,\n",
    "    \"encounters_additional_40.csv\": RAW_ENCOUNTERS\n",
    "}\n",
    "\n",
    "# Move each test file from DBFS into the appropriate raw folder\n",
    "for filename, destination_dir in test_files.items():\n",
    "    source_path      = f\"dbfs:/FileStore/tables/{filename}\"\n",
    "    destination_path = f\"{destination_dir}{filename}\"\n",
    "\n",
    "    dbutils.fs.cp(source_path, destination_path, recurse=True)\n",
    "    print(f\"Copied: from {source_path} to {destination_path}\")"
   ],
   "id": "19344cfc604c2d90"
  }
 ],
 "metadata": {},
 "nbformat": 4,
 "nbformat_minor": 5
}

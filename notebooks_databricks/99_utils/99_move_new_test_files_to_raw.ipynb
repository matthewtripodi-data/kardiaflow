{
 "cells": [
  {
   "cell_type": "code",
   "execution_count": 0,
   "metadata": {
    "application/vnd.databricks.v1+cell": {
     "cellMetadata": {
      "byteLimit": 2048000,
      "rowLimit": 10000
     },
     "inputWidgets": {},
     "nuid": "ee4db494-cfd4-4995-924f-5c77f66fb05a",
     "showTitle": false,
     "tableResultSettingsMap": {},
     "title": ""
    }
   },
   "outputs": [],
   "source": [
    "# 99_utils/move_test_files_to_raw.ipynb\n",
    "# Moves manually uploaded test files into the raw folders for Auto Loader.\n",
    "\n",
    "from pyspark.dbutils import DBUtils\n",
    "\n",
    "dbutils = DBUtils(spark)\n",
    "\n",
    "UPLOADS = \"dbfs:/FileStore/tables/\"\n",
    "RAW_PATIENTS = \"dbfs:/kardia/raw/patients/\"\n",
    "RAW_ENCOUNTERS = \"dbfs:/kardia/raw/encounters/\"\n",
    "\n",
    "files = [\n",
    "    (\"encounters_additional_40.csv\", RAW_ENCOUNTERS),\n",
    "    (\"patients_additional_40.csv\", RAW_PATIENTS)\n",
    "]\n",
    "\n",
    "for fname, dest_dir in files:\n",
    "    src = f\"{UPLOADS}{fname}\"\n",
    "    dst = f\"{dest_dir}{fname}\"\n",
    "    try:\n",
    "        dbutils.fs.cp(src, dst, recurse=True)\n",
    "        print(f\"Copied {fname} to {dest_dir}\")\n",
    "    except Exception as e:\n",
    "        print(f\"Could not copy {fname}: {e}\")"
   ]
  }
 ],
 "metadata": {
  "application/vnd.databricks.v1+notebook": {
   "computePreferences": null,
   "dashboards": [],
   "environmentMetadata": {
    "base_environment": "",
    "environment_version": "2"
   },
   "inputWidgetPreferences": null,
   "language": "python",
   "notebookMetadata": {
    "pythonIndentUnit": 4
   },
   "notebookName": "99_move_new_test_files_to_raw",
   "widgets": {}
  },
  "language_info": {
   "name": "python"
  }
 },
 "nbformat": 4,
 "nbformat_minor": 0
}

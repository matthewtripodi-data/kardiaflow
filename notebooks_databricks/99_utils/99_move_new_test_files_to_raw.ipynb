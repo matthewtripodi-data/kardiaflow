{
 "cells": [
  {
   "cell_type": "code",
   "execution_count": 0,
   "metadata": {
    "application/vnd.databricks.v1+cell": {
     "cellMetadata": {
      "byteLimit": 2048000,
      "rowLimit": 10000
     },
     "inputWidgets": {},
     "nuid": "ee4db494-cfd4-4995-924f-5c77f66fb05a",
     "showTitle": false,
     "tableResultSettingsMap": {},
     "title": ""
    }
   },
   "outputs": [],
   "source": [
    "from pyspark.sql import SparkSession\n",
    "\n",
    "spark = SparkSession.builder.getOrCreate()\n",
    "dbutils = spark._jvm.dbutils\n",
    "\n",
    "UPLOADS_PATH = \"dbfs:/FileStore/uploads/\"\n",
    "RAW_PATIENTS = \"dbfs:/kardia/raw/patients/\"\n",
    "RAW_ENCOUNTERS = \"dbfs:/kardia/raw/encounters/\"\n",
    "\n",
    "files_to_copy = [\n",
    "    (\"patients_additional_10.csv\", RAW_PATIENTS),\n",
    "    (\"encounters_additional_10.csv\", RAW_ENCOUNTERS),\n",
    "]\n",
    "\n",
    "# Copy files\n",
    "for fname, dest in files_to_copy:\n",
    "    src = f\"{UPLOADS_PATH}{fname}\"\n",
    "    dst = f\"{dest}{fname}\"\n",
    "    try:\n",
    "        dbutils.fs.cp(src, dst)\n",
    "        print(f\"Copied {fname} → {dest}\")\n",
    "    except Exception as e:\n",
    "        print(f\"Failed to copy {fname}: {e}\")\n"
   ]
  }
 ],
 "metadata": {
  "application/vnd.databricks.v1+notebook": {
   "computePreferences": null,
   "dashboards": [],
   "environmentMetadata": {
    "base_environment": "",
    "environment_version": "2"
   },
   "inputWidgetPreferences": null,
   "language": "python",
   "notebookMetadata": {
    "pythonIndentUnit": 4
   },
   "notebookName": "99_move_new_test_files_to_raw",
   "widgets": {}
  },
  "language_info": {
   "name": "python"
  }
 },
 "nbformat": 4,
 "nbformat_minor": 0
}

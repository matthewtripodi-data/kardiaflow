{
 "cells": [
  {
   "cell_type": "code",
   "execution_count": 0,
   "metadata": {
    "application/vnd.databricks.v1+cell": {
     "cellMetadata": {
      "byteLimit": 2048000,
      "rowLimit": 10000
     },
     "inputWidgets": {},
     "nuid": "33f4b7bc-5267-48b9-8952-4ab9bb91a08d",
     "showTitle": false,
     "tableResultSettingsMap": {},
     "title": ""
    }
   },
   "outputs": [],
   "source": [
    "# Databricks Notebook: setup_kardia_autoloader_env.ipynb\n",
    "# -------------------------------------------------------\n",
    "# Manual setup script — not part of the automated Bronze–Silver–Gold pipeline.\n",
    "#\n",
    "# Creates required DBFS folders for Auto Loader:\n",
    "# - Raw landing zones: /kardia/raw/patients/, /kardia/raw/encounters/\n",
    "# - Schema tracking:   /kardia/_schemas/\n",
    "# - Stream checkpoints: /kardia/_checkpoints/\n",
    "#\n",
    "# Copies small test files from the Git-backed Repos directory into DBFS.\n",
    "# Optionally moves uploaded files (e.g., from /FileStore) into raw folders.\n",
    "#\n",
    "# Run after deploying a new workspace or when testing ingestion locally.\n",
    "\n",
    "# 1. Create raw landing folders\n",
    "dbutils.fs.mkdirs(\"dbfs:/kardia/raw/patients/\")\n",
    "dbutils.fs.mkdirs(\"dbfs:/kardia/raw/encounters/\")\n",
    "\n",
    "# 2. Copy test files from your Repos-mapped local Git repo into DBFS\n",
    "repo_base = \"file:/Workspace/Users/matthew.databrickslab2@outlook.com/kardiaflow/data/raw\"\n",
    "\n",
    "dbutils.fs.cp(f\"{repo_base}/ehr/patients_10.csv\",   \"dbfs:/kardia/raw/patients/\", recurse=True)\n",
    "dbutils.fs.cp(f\"{repo_base}/ehr/encounters_10.csv\", \"dbfs:/kardia/raw/encounters/\", recurse=True)\n",
    "\n",
    "# 3. Create schema + checkpoint roots\n",
    "dbutils.fs.mkdirs(\"dbfs:/kardia/_schemas/\")\n",
    "dbutils.fs.mkdirs(\"dbfs:/kardia/_checkpoints/\")\n",
    "\n",
    "# 4. Confirm file uploads worked\n",
    "print(\"Patients test files:\")\n",
    "display(dbutils.fs.ls(\"dbfs:/kardia/raw/patients/\"))\n",
    "\n",
    "print(\"Encounters test files:\")\n",
    "display(dbutils.fs.ls(\"dbfs:/kardia/raw/encounters/\"))\n"
   ]
  },
  {
   "cell_type": "code",
   "execution_count": 0,
   "metadata": {
    "application/vnd.databricks.v1+cell": {
     "cellMetadata": {
      "byteLimit": 2048000,
      "rowLimit": 10000
     },
     "inputWidgets": {},
     "nuid": "e3db7a5c-44da-4851-888b-107e240b2deb",
     "showTitle": false,
     "tableResultSettingsMap": {},
     "title": ""
    }
   },
   "outputs": [],
   "source": [
    "# Step 1: Upload a new file via UI (e.g., patients_11.csv)\n",
    "\n",
    "# Step 2: Copy it into the Auto Loader landing folder\n",
    "dbutils.fs.cp(\"dbfs:/FileStore/tables/patients_more_10.csv\", \"dbfs:/kardia/raw/patients/\", recurse=True)\n",
    "\n",
    "# Confirm the file is now in the right place\n",
    "display(dbutils.fs.ls(\"dbfs:/kardia/raw/patients/\"))\n"
   ]
  }
 ],
 "metadata": {
  "application/vnd.databricks.v1+notebook": {
   "computePreferences": null,
   "dashboards": [],
   "environmentMetadata": {
    "base_environment": "",
    "environment_version": "2"
   },
   "inputWidgetPreferences": null,
   "language": "python",
   "notebookMetadata": {
    "pythonIndentUnit": 4
   },
   "notebookName": "setup_kardia_autoloader_env",
   "widgets": {}
  },
  "language_info": {
   "name": "python"
  }
 },
 "nbformat": 4,
 "nbformat_minor": 0
}

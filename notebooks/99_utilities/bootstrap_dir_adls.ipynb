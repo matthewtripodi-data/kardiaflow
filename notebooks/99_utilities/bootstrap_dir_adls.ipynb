{
 "cells": [
  {
   "metadata": {},
   "cell_type": "code",
   "outputs": [],
   "execution_count": null,
   "source": [
    "# bootstrap_dir_adls.ipynb\n",
    "# Create /kardia/{bronze|silver|gold} in the ADLS lake container.\n",
    "from pyspark.dbutils import DBUtils\n",
    "dbutils = DBUtils(spark)\n",
    "\n",
    "base = \"abfss://lake@kardiaadlsdemo.dfs.core.windows.net\"\n",
    "for d in (\"bronze\", \"silver\", \"gold\"):\n",
    "    path = f\"{base}/kardia/{d}\"\n",
    "    dbutils.fs.mkdirs(path)\n",
    "    print(\"Created\", path)"
   ],
   "id": "7752474d7e6e8a98"
  }
 ],
 "metadata": {},
 "nbformat": 4,
 "nbformat_minor": 5
}

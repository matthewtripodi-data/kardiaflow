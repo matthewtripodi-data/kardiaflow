{
 "cells": [
  {
   "cell_type": "code",
   "execution_count": 0,
   "metadata": {
    "application/vnd.databricks.v1+cell": {
     "cellMetadata": {
      "byteLimit": 2048000,
      "implicitDf": true,
      "rowLimit": 10000
     },
     "inputWidgets": {},
     "nuid": "4a7dca6f-c8a7-4643-81c1-f63ec3569f3c",
     "showTitle": false,
     "tableResultSettingsMap": {},
     "title": ""
    }
   },
   "outputs": [],
   "source": [
    "%sql\n",
    "/* 04_gold_claim_anomalies.ipynb  \n",
    "GOAL 1: Approval rates by specialty  \n",
    "GOAL 2: Denial breakdown by specialty & diagnosis  \n",
    "GOAL 3: Top high‑cost procedures  \n",
    "GOAL 4: Rapid‑fire patient claim bursts  \n",
    "\n",
    "SOURCE: kardia_silver.silver_claims_enriched  \n",
    "OUTPUT: TABLE: gold_claim_approval_by_specialty\n",
    "        TABLE: gold_claim_denial_breakdown\n",
    "        TABLE: gold_high_cost_procedures\n",
    "        TABLE: gold_rapid_fire_claims\n",
    "\n",
    "TRIGGER: Full snapshot overwrite each run — simple for small datasets. */\n",
    "\n",
    "USE kardia_gold;\n",
    "\n",
    "-- Config\n",
    "SET kflow.rapid_fire.threshold = 5;"
   ]
  },
  {
   "cell_type": "code",
   "execution_count": 0,
   "metadata": {
    "application/vnd.databricks.v1+cell": {
     "cellMetadata": {
      "byteLimit": 2048000,
      "implicitDf": true,
      "rowLimit": 10000
     },
     "inputWidgets": {},
     "nuid": "9df868cd-35d0-46f5-befd-84a3bd3a3898",
     "showTitle": false,
     "tableResultSettingsMap": {},
     "title": ""
    }
   },
   "outputs": [],
   "source": [
    "%sql  \n",
    "-- Approval rates by specialty  \n",
    "CREATE OR REPLACE TABLE gold_claim_approval_by_specialty AS\n",
    "SELECT\n",
    "  COALESCE(provider_specialty, 'Unknown') AS provider_specialty,\n",
    "  COUNT(*)                                 AS total_claims,\n",
    "  SUM(CASE WHEN claim_status = 'Approved' THEN 1 ELSE 0 END) AS approved_count,\n",
    "  ROUND(SUM(CASE WHEN claim_status = 'Approved' THEN 1 ELSE 0 END) / COUNT(*), 4) AS approval_rate\n",
    "FROM kardia_silver.silver_claims_enriched\n",
    "GROUP BY COALESCE(provider_specialty, 'Unknown');"
   ]
  },
  {
   "cell_type": "code",
   "execution_count": 0,
   "metadata": {
    "application/vnd.databricks.v1+cell": {
     "cellMetadata": {
      "byteLimit": 2048000,
      "implicitDf": true,
      "rowLimit": 10000
     },
     "inputWidgets": {},
     "nuid": "109816ac-80f8-44a0-bd5f-01c03da146d6",
     "showTitle": false,
     "tableResultSettingsMap": {},
     "title": ""
    }
   },
   "outputs": [],
   "source": [
    "%sql  \n",
    "-- Denial breakdown by specialty\n",
    "CREATE OR REPLACE TABLE gold_claim_denial_breakdown AS\n",
    "WITH d AS (\n",
    "  SELECT\n",
    "    COALESCE(provider_specialty, 'Unknown') AS provider_specialty,\n",
    "    diagnosis_code,\n",
    "    COUNT(*) AS denial_count\n",
    "  FROM kardia_silver.silver_claims_enriched\n",
    "  WHERE claim_status = 'Denied'\n",
    "  GROUP BY COALESCE(provider_specialty, 'Unknown'), diagnosis_code\n",
    ")\n",
    "SELECT\n",
    "  provider_specialty,\n",
    "  diagnosis_code,\n",
    "  denial_count,\n",
    "  ROUND(\n",
    "    denial_count / SUM(denial_count) OVER (PARTITION BY provider_specialty),\n",
    "    4\n",
    "  ) AS denial_pct\n",
    "FROM d;"
   ]
  },
  {
   "cell_type": "code",
   "execution_count": 0,
   "metadata": {
    "application/vnd.databricks.v1+cell": {
     "cellMetadata": {
      "byteLimit": 2048000,
      "implicitDf": true,
      "rowLimit": 10000
     },
     "inputWidgets": {},
     "nuid": "0d60ce34-041d-4153-b479-c37eea268e55",
     "showTitle": false,
     "tableResultSettingsMap": {},
     "title": ""
    }
   },
   "outputs": [],
   "source": [
    "%sql  \n",
    "-- Top 10 high‑cost procedures by avg claim amount  \n",
    "CREATE OR REPLACE TABLE gold_high_cost_procedures AS\n",
    "SELECT\n",
    "  procedure_code,\n",
    "  ROUND(AVG(claim_amount), 2) AS avg_claim_amount,\n",
    "  COUNT(*)                    AS procedure_count\n",
    "FROM kardia_silver.silver_claims_enriched\n",
    "GROUP BY procedure_code\n",
    "ORDER BY avg_claim_amount DESC\n",
    "LIMIT 10;"
   ]
  },
  {
   "cell_type": "code",
   "execution_count": 0,
   "metadata": {
    "application/vnd.databricks.v1+cell": {
     "cellMetadata": {
      "byteLimit": 2048000,
      "implicitDf": true,
      "rowLimit": 10000
     },
     "inputWidgets": {},
     "nuid": "08291219-0432-4d7f-babf-cb898dc622d2",
     "showTitle": false,
     "tableResultSettingsMap": {},
     "title": ""
    }
   },
   "outputs": [],
   "source": [
    "%sql  \n",
    "-- Rapid‑fire patient claim bursts (>5 claims/day)  \n",
    "CREATE OR REPLACE TABLE gold_rapid_fire_claims AS\n",
    "WITH daily_counts AS (\n",
    "  SELECT\n",
    "    patient_id,\n",
    "    CAST(claim_date AS DATE) AS claim_day,\n",
    "    COUNT(*)                 AS daily_count\n",
    "  FROM kardia_silver.silver_claims_enriched\n",
    "  GROUP BY patient_id, CAST(claim_date AS DATE)\n",
    ")\n",
    "SELECT *\n",
    "FROM daily_counts\n",
    "WHERE daily_count > ${kflow.rapid_fire.threshold};"
   ]
  },
  {
   "cell_type": "code",
   "execution_count": 0,
   "metadata": {
    "application/vnd.databricks.v1+cell": {
     "cellMetadata": {
      "byteLimit": 2048000,
      "implicitDf": true,
      "rowLimit": 10000
     },
     "inputWidgets": {},
     "nuid": "8764d646-2677-4289-9602-988e685785fe",
     "showTitle": false,
     "tableResultSettingsMap": {},
     "title": ""
    }
   },
   "outputs": [],
   "source": [
    "%sql  \n",
    "-- Preview: approval rates by specialty  \n",
    "SELECT *\n",
    "FROM gold_claim_approval_by_specialty\n",
    "ORDER BY approval_rate DESC\n",
    "LIMIT 10;"
   ]
  },
  {
   "cell_type": "code",
   "execution_count": 0,
   "metadata": {
    "application/vnd.databricks.v1+cell": {
     "cellMetadata": {
      "byteLimit": 2048000,
      "implicitDf": true,
      "rowLimit": 10000
     },
     "inputWidgets": {},
     "nuid": "88488586-c8fc-499f-8208-e3fc9199c115",
     "showTitle": false,
     "tableResultSettingsMap": {},
     "title": ""
    }
   },
   "outputs": [],
   "source": [
    "%sql  \n",
    "-- Preview: denial breakdown  \n",
    "SELECT * FROM gold_claim_denial_breakdown LIMIT 10;"
   ]
  },
  {
   "cell_type": "code",
   "execution_count": 0,
   "metadata": {
    "application/vnd.databricks.v1+cell": {
     "cellMetadata": {
      "byteLimit": 2048000,
      "implicitDf": true,
      "rowLimit": 10000
     },
     "inputWidgets": {},
     "nuid": "def99c48-2a20-42c0-a0e3-b026728724b2",
     "showTitle": false,
     "tableResultSettingsMap": {},
     "title": ""
    }
   },
   "outputs": [],
   "source": [
    "%sql  \n",
    "-- Preview: high‑cost procedures  \n",
    "SELECT * FROM gold_high_cost_procedures LIMIT 10;"
   ]
  },
  {
   "cell_type": "code",
   "execution_count": 0,
   "metadata": {
    "application/vnd.databricks.v1+cell": {
     "cellMetadata": {
      "byteLimit": 2048000,
      "implicitDf": true,
      "rowLimit": 10000
     },
     "inputWidgets": {},
     "nuid": "8d7e3911-b9cb-4548-835d-6884a8441cdb",
     "showTitle": false,
     "tableResultSettingsMap": {},
     "title": ""
    }
   },
   "outputs": [],
   "source": [
    "%sql  \n",
    "-- Preview: rapid‑fire claims  \n",
    "SELECT * FROM gold_rapid_fire_claims LIMIT 10;"
   ]
  }
 ],
 "metadata": {
  "application/vnd.databricks.v1+notebook": {
   "computePreferences": null,
   "dashboards": [],
   "environmentMetadata": {
    "base_environment": "",
    "environment_version": "2"
   },
   "inputWidgetPreferences": null,
   "language": "python",
   "notebookMetadata": {
    "mostRecentlyExecutedCommandWithImplicitDF": {
     "commandId": 5549892236114621,
     "dataframes": [
      "_sqldf"
     ]
    },
    "pythonIndentUnit": 4
   },
   "notebookName": "03_gold_claim_anomalies",
   "widgets": {}
  },
  "language_info": {
   "name": "python"
  }
 },
 "nbformat": 4,
 "nbformat_minor": 0
}

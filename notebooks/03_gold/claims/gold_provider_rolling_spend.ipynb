{
 "cells": [
  {
   "metadata": {},
   "cell_type": "code",
   "outputs": [],
   "execution_count": null,
   "source": [
    "# gold_provider_rolling_spend.ipynb\n",
    "# GOAL 1: Daily provider spend\n",
    "# GOAL 2: 7‑day rolling spend & avg per provider\n",
    "# SOURCE: kardia_silver.silver_claims_enriched\n",
    "# TARGET: TABLE - gold_provider_daily_spend\n",
    "#         TABLE - gold_provider_7d_spend\n",
    "# TRIGGER: Full snapshot overwrite each run — simple for small datasets.\n",
    "# NOTE: Demonstrates window functions for rolling KPI calculations. */\n",
    "\n",
    "# Install kflow from local wheel for use during job execution\n",
    "%pip install -q --no-deps --no-index --find-links=/dbfs/Shared/libs kflow\n",
    "\n",
    "from kflow.auth_adls import ensure_adls_oauth\n",
    "\n",
    "# Configure Spark with ADLS OAuth credentials and return base ABFS path\n",
    "abfss_base = ensure_adls_oauth()"
   ]
  },
  {
   "metadata": {},
   "cell_type": "code",
   "outputs": [],
   "execution_count": 0,
   "source": [
    "%sql\n",
    "-- Ensure Gold DB exists\n",
    "CREATE DATABASE IF NOT EXISTS kardia_gold;\n",
    "USE kardia_gold;"
   ]
  },
  {
   "cell_type": "code",
   "execution_count": 0,
   "metadata": {
    "application/vnd.databricks.v1+cell": {
     "cellMetadata": {
      "byteLimit": 2048000,
      "implicitDf": true,
      "rowLimit": 10000
     },
     "inputWidgets": {},
     "nuid": "f3f0f6e3-bea0-41ef-bfcd-bf8845d4d73f",
     "showTitle": false,
     "tableResultSettingsMap": {},
     "title": ""
    }
   },
   "outputs": [],
   "source": [
    "%sql  \n",
    "-- Daily provider spend  \n",
    "CREATE OR REPLACE TABLE gold_provider_daily_spend AS\n",
    "SELECT\n",
    "  provider_id,\n",
    "  CAST(claim_date AS DATE) AS spend_date,\n",
    "  SUM(claim_amount)        AS daily_spend\n",
    "FROM kardia_silver.silver_claims_enriched\n",
    "GROUP BY provider_id, CAST(claim_date AS DATE);"
   ]
  },
  {
   "cell_type": "code",
   "execution_count": 0,
   "metadata": {
    "application/vnd.databricks.v1+cell": {
     "cellMetadata": {
      "byteLimit": 2048000,
      "implicitDf": true,
      "rowLimit": 10000
     },
     "inputWidgets": {},
     "nuid": "30df1d8d-580e-4882-92e2-5a56ff9cba6e",
     "showTitle": false,
     "tableResultSettingsMap": {},
     "title": ""
    }
   },
   "outputs": [],
   "source": [
    "%sql  \n",
    "-- 7‑day rolling spend & average per provider  \n",
    "CREATE OR REPLACE TABLE gold_provider_7d_spend AS\n",
    "WITH daily AS (\n",
    "  SELECT\n",
    "    provider_id,\n",
    "    CAST(claim_date AS DATE) AS spend_date,\n",
    "    SUM(claim_amount)        AS daily_spend\n",
    "  FROM kardia_silver.silver_claims_enriched\n",
    "  GROUP BY provider_id, CAST(claim_date AS DATE)\n",
    ")\n",
    "SELECT\n",
    "  provider_id,\n",
    "  spend_date,\n",
    "  daily_spend,\n",
    "  SUM(daily_spend) OVER (\n",
    "    PARTITION BY provider_id\n",
    "    ORDER BY spend_date\n",
    "    ROWS BETWEEN 6 PRECEDING AND CURRENT ROW\n",
    "  ) AS rolling_7d_spend,\n",
    "  ROUND(\n",
    "    AVG(daily_spend) OVER (\n",
    "      PARTITION BY provider_id\n",
    "      ORDER BY spend_date\n",
    "      ROWS BETWEEN 6 PRECEDING AND CURRENT ROW\n",
    "    ), 2\n",
    "  ) AS rolling_7d_avg\n",
    "FROM daily;"
   ]
  },
  {
   "cell_type": "code",
   "execution_count": 0,
   "metadata": {
    "application/vnd.databricks.v1+cell": {
     "cellMetadata": {
      "byteLimit": 2048000,
      "implicitDf": true,
      "rowLimit": 10000
     },
     "inputWidgets": {},
     "nuid": "32a4edff-331b-4441-83f0-ac69fee5bae5",
     "showTitle": false,
     "tableResultSettingsMap": {},
     "title": ""
    }
   },
   "outputs": [],
   "source": [
    "%sql  \n",
    "-- Preview: daily spend  \n",
    "SELECT *  \n",
    "FROM gold_provider_daily_spend\n",
    "ORDER BY spend_date DESC  \n",
    "LIMIT 10;  "
   ]
  },
  {
   "cell_type": "code",
   "execution_count": 0,
   "metadata": {
    "application/vnd.databricks.v1+cell": {
     "cellMetadata": {
      "byteLimit": 2048000,
      "implicitDf": true,
      "rowLimit": 10000
     },
     "inputWidgets": {},
     "nuid": "704a879b-5916-42e5-afb8-b2919c992b2a",
     "showTitle": false,
     "tableResultSettingsMap": {},
     "title": ""
    }
   },
   "outputs": [],
   "source": [
    "%sql  \n",
    "-- Preview: 7‑day rolling spend  \n",
    "SELECT *  \n",
    "FROM gold_provider_7d_spend\n",
    "ORDER BY spend_date DESC  \n",
    "LIMIT 10;"
   ]
  }
 ],
 "metadata": {
  "application/vnd.databricks.v1+notebook": {
   "computePreferences": null,
   "dashboards": [],
   "environmentMetadata": {
    "base_environment": "",
    "environment_version": "2"
   },
   "inputWidgetPreferences": null,
   "language": "python",
   "notebookMetadata": {
    "mostRecentlyExecutedCommandWithImplicitDF": {
     "commandId": 6557084226338580,
     "dataframes": [
      "_sqldf"
     ]
    },
    "pythonIndentUnit": 4
   },
   "notebookName": "gold_provider_rolling_spend",
   "widgets": {}
  },
  "language_info": {
   "name": "python"
  }
 },
 "nbformat": 4,
 "nbformat_minor": 0
}

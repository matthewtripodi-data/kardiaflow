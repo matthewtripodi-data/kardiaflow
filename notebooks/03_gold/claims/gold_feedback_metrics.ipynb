{
 "cells": [
  {
   "cell_type": "code",
   "execution_count": 0,
   "metadata": {
    "application/vnd.databricks.v1+cell": {
     "cellMetadata": {
      "byteLimit": 2048000,
      "implicitDf": true,
      "rowLimit": 10000
     },
     "inputWidgets": {},
     "nuid": "d20c1aae-2977-440e-a56e-dc640a264466",
     "showTitle": false,
     "tableResultSettingsMap": {},
     "title": ""
    }
   },
   "outputs": [],
   "source": [
    "%sql  \n",
    "/* gold_feedback_metrics.ipynb\n",
    "\n",
    "GOAL 1: Satisfaction score metrics (avg, counts, comment stats) by specialty & source  \n",
    "GOAL 2: Tag usage and average satisfaction per tag  \n",
    "GOAL 3: Encounter–feedback match rate  \n",
    "\n",
    "SOURCE: kardia_silver.silver_feedback_enriched  \n",
    "OUTPUT:  \n",
    "  TABLE: gold_feedback_satisfaction\n",
    "  TABLE: gold_feedback_tag_analysis\n",
    "  TABLE: gold_feedback_encounter_match\n",
    "\n",
    "TRIGGER: Full snapshot overwrite each run — simple for small datasets. */\n",
    "\n",
    "-- Ensure Gold GB exists\n",
    "CREATE DATABASE IF NOT EXISTS kardia_gold;\n",
    "USE kardia_gold;"
   ]
  },
  {
   "cell_type": "code",
   "execution_count": 0,
   "metadata": {
    "application/vnd.databricks.v1+cell": {
     "cellMetadata": {
      "byteLimit": 2048000,
      "implicitDf": true,
      "rowLimit": 10000
     },
     "inputWidgets": {},
     "nuid": "20b25ead-1558-466b-b989-a27896774d41",
     "showTitle": false,
     "tableResultSettingsMap": {},
     "title": ""
    }
   },
   "outputs": [],
   "source": [
    "%sql\n",
    "-- 2. Enhanced satisfaction metrics by provider_specialty & source\n",
    "CREATE OR REPLACE TABLE gold_feedback_satisfaction AS\n",
    "SELECT\n",
    "  COALESCE(provider_specialty, 'Unknown') AS provider_specialty,\n",
    "  COALESCE(provider_id, 'Unknown')       AS provider_id,\n",
    "  COALESCE(source, 'Unknown')             AS source,\n",
    "  COUNT(*)                                AS feedback_count,\n",
    "  ROUND(AVG(satisfaction_score), 2)       AS avg_score,\n",
    "  ROUND(STDDEV_POP(satisfaction_score), 2) AS stddev_score,\n",
    "  PERCENTILE_APPROX(satisfaction_score, 0.5) AS median_score,\n",
    "  SUM(CASE WHEN comments IS NOT NULL THEN 1 ELSE 0 END) AS comments_count,\n",
    "  ROUND(100.0 * SUM(CASE WHEN comments IS NOT NULL THEN 1 ELSE 0 END) / COUNT(*), 2) AS pct_with_comments,\n",
    "  ROUND(AVG(LENGTH(comments)), 2)         AS avg_comment_length\n",
    "FROM kardia_silver.silver_feedback_enriched\n",
    "GROUP BY COALESCE(provider_specialty, 'Unknown'),\n",
    "         COALESCE(provider_id, 'Unknown'),\n",
    "         COALESCE(source, 'Unknown');"
   ]
  },
  {
   "cell_type": "code",
   "execution_count": 0,
   "metadata": {
    "application/vnd.databricks.v1+cell": {
     "cellMetadata": {
      "byteLimit": 2048000,
      "implicitDf": true,
      "rowLimit": 10000
     },
     "inputWidgets": {},
     "nuid": "fcea538a-a635-4b5a-ae14-5d97d8341f4b",
     "showTitle": false,
     "tableResultSettingsMap": {},
     "title": ""
    }
   },
   "outputs": [],
   "source": [
    "%sql  \n",
    "-- 3. Tag usage and average satisfaction per tag  \n",
    "CREATE OR REPLACE TABLE gold_feedback_tag_analysis AS\n",
    "WITH exploded AS (\n",
    "  SELECT satisfaction_score, EXPLODE(tags) AS tag\n",
    "  FROM   kardia_silver.silver_feedback_enriched\n",
    ")\n",
    "SELECT\n",
    "  tag,\n",
    "  COUNT(*) AS feedback_count,\n",
    "  ROUND(AVG(satisfaction_score), 2) AS avg_score\n",
    "FROM exploded\n",
    "GROUP BY tag\n",
    "ORDER BY feedback_count DESC;"
   ]
  },
  {
   "cell_type": "code",
   "execution_count": 0,
   "metadata": {
    "application/vnd.databricks.v1+cell": {
     "cellMetadata": {
      "byteLimit": 2048000,
      "implicitDf": true,
      "rowLimit": 10000
     },
     "inputWidgets": {},
     "nuid": "7ca8608b-b284-4110-abb3-c7341ce1c2a0",
     "showTitle": false,
     "tableResultSettingsMap": {},
     "title": ""
    }
   },
   "outputs": [],
   "source": [
    "%sql  \n",
    "-- 4. Encounter–feedback match rate (has valid visit_id?)  \n",
    "CREATE OR REPLACE TABLE gold_feedback_encounter_match AS\n",
    "SELECT\n",
    "  COUNT(*) AS total_feedback_submissions,\n",
    "  SUM(CASE WHEN visit_id IS NOT NULL THEN 1 ELSE 0 END) AS matched_to_encounter_count,\n",
    "  ROUND(100.0 * SUM(CASE WHEN visit_id IS NOT NULL THEN 1 ELSE 0 END) / COUNT(*), 2) AS match_rate_percent\n",
    "FROM kardia_silver.silver_feedback_enriched;"
   ]
  },
  {
   "cell_type": "code",
   "execution_count": 0,
   "metadata": {
    "application/vnd.databricks.v1+cell": {
     "cellMetadata": {
      "byteLimit": 2048000,
      "implicitDf": true,
      "rowLimit": 10000
     },
     "inputWidgets": {},
     "nuid": "84b32967-698d-4e2c-a2e6-5dcb93782f2e",
     "showTitle": false,
     "tableResultSettingsMap": {},
     "title": ""
    }
   },
   "outputs": [],
   "source": [
    "%sql  \n",
    "-- 5. Preview: satisfaction metrics  \n",
    "SELECT *  \n",
    "FROM gold_feedback_satisfaction\n",
    "ORDER BY provider_specialty, source  \n",
    "LIMIT 20;"
   ]
  },
  {
   "cell_type": "code",
   "execution_count": 0,
   "metadata": {
    "application/vnd.databricks.v1+cell": {
     "cellMetadata": {
      "byteLimit": 2048000,
      "implicitDf": true,
      "rowLimit": 10000
     },
     "inputWidgets": {},
     "nuid": "637ea887-6124-4539-a2da-69800b2351d0",
     "showTitle": false,
     "tableResultSettingsMap": {},
     "title": ""
    }
   },
   "outputs": [],
   "source": [
    "%sql  \n",
    "-- Preview: tag analysis  \n",
    "SELECT * FROM gold_feedback_tag_analysis LIMIT 10;"
   ]
  },
  {
   "cell_type": "code",
   "execution_count": 0,
   "metadata": {
    "application/vnd.databricks.v1+cell": {
     "cellMetadata": {
      "byteLimit": 2048000,
      "implicitDf": true,
      "rowLimit": 10000
     },
     "inputWidgets": {},
     "nuid": "a6b52055-a534-40fe-84db-2003c3633904",
     "showTitle": false,
     "tableResultSettingsMap": {},
     "title": ""
    }
   },
   "outputs": [],
   "source": [
    "%sql  \n",
    "-- Preview: encounter–feedback match rate  \n",
    "SELECT * FROM gold_feedback_encounter_match LIMIT 10;"
   ]
  }
 ],
 "metadata": {
  "application/vnd.databricks.v1+notebook": {
   "computePreferences": null,
   "dashboards": [],
   "environmentMetadata": {
    "base_environment": "",
    "environment_version": "2"
   },
   "inputWidgetPreferences": null,
   "language": "python",
   "notebookMetadata": {
    "mostRecentlyExecutedCommandWithImplicitDF": {
     "commandId": 6557084226338572,
     "dataframes": [
      "_sqldf"
     ]
    },
    "pythonIndentUnit": 4
   },
   "notebookName": "gold_feedback_metrics",
   "widgets": {}
  },
  "language_info": {
   "name": "python"
  }
 },
 "nbformat": 4,
 "nbformat_minor": 0
}

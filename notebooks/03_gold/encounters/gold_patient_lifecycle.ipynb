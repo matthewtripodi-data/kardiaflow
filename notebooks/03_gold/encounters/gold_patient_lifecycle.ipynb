{
 "cells": [
  {
   "cell_type": "code",
   "execution_count": 0,
   "metadata": {
    "application/vnd.databricks.v1+cell": {
     "cellMetadata": {
      "byteLimit": 2048000,
      "implicitDf": true,
      "rowLimit": 10000
     },
     "inputWidgets": {},
     "nuid": "426a9a4f-13bc-491d-a222-2583f98793b1",
     "showTitle": false,
     "tableResultSettingsMap": {},
     "title": ""
    }
   },
   "outputs": [],
   "source": [
    "%sql\n",
    "/* gold_patient_lifecycle.ipynb\n",
    " GOAL 1: gold_patient_lifecycle — time between visits, patient lifetime span, new/returning classification, age‑band utilization\n",
    "\n",
    " SOURCE: kardia_silver.silver_encounters_enriched\n",
    " OUTPUT: TABLE: gold_patient_lifecycle\n",
    "\n",
    " TRIGGER: Full snapshot overwrite each run — fast and simple for small datasets.\n",
    "          In production, switch to foreachBatch + MERGE to only update changed patients.\n",
    "\n",
    " NOTE:\n",
    "  - lifetime_days = days between first and last visit  \n",
    "  - classification = 'new' if only one visit, else 'returning'  \n",
    "  - age_band buckets based on current_date() – birth_year  \n",
    "  - avg_days_between_visits = lifetime_days ÷ (visit_count–1) \n",
    "  - Current dataset has 2,565 distinct patient_id. */\n",
    "\n",
    "-- Ensure Gold DB exists\n",
    "CREATE DATABASE IF NOT EXISTS kardia_gold LOCATION 'abfss://raw@kardiaadlsdemo.dfs.core.windows.net/kardia/gold';\n",
    "\n",
    "ALTER DATABASE kardia_gold SET LOCATION 'abfss://raw@kardiaadlsdemo.dfs.core.windows.net/kardia/gold';\n",
    "\n",
    "USE kardia_gold;"
   ]
  },
  {
   "cell_type": "code",
   "execution_count": 0,
   "metadata": {
    "application/vnd.databricks.v1+cell": {
     "cellMetadata": {
      "byteLimit": 2048000,
      "implicitDf": true,
      "rowLimit": 10000
     },
     "inputWidgets": {},
     "nuid": "a4025731-b797-4792-bea8-ddc44ded3fc3",
     "showTitle": false,
     "tableResultSettingsMap": {},
     "title": ""
    }
   },
   "outputs": [],
   "source": [
    "%sql\n",
    "CREATE OR REPLACE TABLE kardia_gold.gold_patient_lifecycle AS\n",
    "WITH base AS (\n",
    "  SELECT patient_id, start_ts\n",
    "  FROM   kardia_silver.silver_encounters_enriched\n",
    "  -- birth_year intentionally not used\n",
    "),\n",
    "agg AS (\n",
    "  SELECT\n",
    "    patient_id,\n",
    "    MIN(start_ts) AS first_visit_ts,\n",
    "    MAX(start_ts) AS last_visit_ts,\n",
    "    DATEDIFF(MAX(start_ts), MIN(start_ts)) AS lifetime_days,\n",
    "    COUNT(*) AS visit_count,\n",
    "    CASE WHEN COUNT(*) = 1 THEN 'new' ELSE 'returning' END AS classification,\n",
    "    CASE WHEN COUNT(*) > 1\n",
    "      THEN ROUND(DATEDIFF(MAX(start_ts), MIN(start_ts)) / (COUNT(*) - 1), 2)\n",
    "    END AS avg_days_between_visits\n",
    "  FROM base\n",
    "  GROUP BY patient_id\n",
    ")\n",
    "SELECT\n",
    "  a.*,\n",
    "  CASE\n",
    "    WHEN lifetime_days < 30  THEN '0–29d'\n",
    "    WHEN lifetime_days < 90  THEN '30–89d'\n",
    "    WHEN lifetime_days < 365 THEN '90–364d'\n",
    "    WHEN lifetime_days < 1095 THEN '1–2y'\n",
    "    WHEN lifetime_days < 1825 THEN '3–4y'\n",
    "    ELSE '5y+'\n",
    "  END AS tenure_band,\n",
    "  CASE\n",
    "    WHEN visit_count = 1 THEN '1'\n",
    "    WHEN visit_count BETWEEN 2 AND 3 THEN '2–3'\n",
    "    WHEN visit_count BETWEEN 4 AND 6 THEN '4–6'\n",
    "    WHEN visit_count BETWEEN 7 AND 10 THEN '7–10'\n",
    "    ELSE '11+'\n",
    "  END AS visit_frequency_band,\n",
    "  DATEDIFF(CURRENT_DATE(), DATE(last_visit_ts)) AS recency_days,\n",
    "  CASE\n",
    "    WHEN DATEDIFF(CURRENT_DATE(), DATE(last_visit_ts)) <= 30  THEN '≤30d'\n",
    "    WHEN DATEDIFF(CURRENT_DATE(), DATE(last_visit_ts)) <= 90  THEN '31–90d'\n",
    "    WHEN DATEDIFF(CURRENT_DATE(), DATE(last_visit_ts)) <= 365 THEN '91–365d'\n",
    "    ELSE '>365d'\n",
    "  END AS recency_band\n",
    "FROM agg a;"
   ]
  },
  {
   "cell_type": "code",
   "execution_count": 0,
   "metadata": {
    "application/vnd.databricks.v1+cell": {
     "cellMetadata": {
      "byteLimit": 2048000,
      "implicitDf": true,
      "rowLimit": 10000
     },
     "inputWidgets": {},
     "nuid": "bae87730-fa99-404f-ab8f-350290e19205",
     "showTitle": false,
     "tableResultSettingsMap": {},
     "title": ""
    }
   },
   "outputs": [],
   "source": [
    "%sql\n",
    "-- 3. Preview: Top 10 patients by visit_count\n",
    "SELECT *\n",
    "FROM gold_patient_lifecycle\n",
    "ORDER BY visit_count DESC\n",
    "LIMIT 10;"
   ]
  }
 ],
 "metadata": {
  "application/vnd.databricks.v1+notebook": {
   "computePreferences": null,
   "dashboards": [],
   "environmentMetadata": {
    "base_environment": "",
    "environment_version": "2"
   },
   "inputWidgetPreferences": null,
   "language": "python",
   "notebookMetadata": {
    "mostRecentlyExecutedCommandWithImplicitDF": {
     "commandId": 6557084226338584,
     "dataframes": [
      "_sqldf"
     ]
    },
    "pythonIndentUnit": 4
   },
   "notebookName": "gold_patient_lifecycle",
   "widgets": {}
  },
  "language_info": {
   "name": "python"
  }
 },
 "nbformat": 4,
 "nbformat_minor": 0
}

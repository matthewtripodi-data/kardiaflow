{
 "cells": [
  {
   "cell_type": "code",
   "execution_count": 0,
   "metadata": {
    "application/vnd.databricks.v1+cell": {
     "cellMetadata": {
      "byteLimit": 2048000,
      "implicitDf": true,
      "rowLimit": 10000
     },
     "inputWidgets": {},
     "nuid": "426a9a4f-13bc-491d-a222-2583f98793b1",
     "showTitle": false,
     "tableResultSettingsMap": {},
     "title": ""
    }
   },
   "outputs": [],
   "source": [
    "%sql\n",
    "/* gold_patient_lifecycle.ipynb\n",
    " GOAL 1: gold_patient_lifecycle — time between visits, patient lifetime span, new/returning classification, age‑band utilization\n",
    "\n",
    " SOURCE: kardia_silver.silver_encounters_enriched\n",
    " OUTPUT: TABLE: gold_patient_lifecycle\n",
    "\n",
    " TRIGGER: Full snapshot overwrite each run — fast and simple for small datasets.\n",
    "          In production, switch to foreachBatch + MERGE to only update changed patients.\n",
    "\n",
    " NOTE:\n",
    "  - lifetime_days = days between first and last visit  \n",
    "  - classification = 'new' if only one visit, else 'returning'  \n",
    "  - age_band buckets based on current_date() – birth_year  \n",
    "  - avg_days_between_visits = lifetime_days ÷ (visit_count–1) \n",
    "  - Current dataset has 2,565 distinct patient_id. */\n",
    "\n",
    "-- Ensure Gold GB exists\n",
    "CREATE DATABASE IF NOT EXISTS kardia_gold;\n",
    "USE kardia_gold;"
   ]
  },
  {
   "cell_type": "code",
   "execution_count": 0,
   "metadata": {
    "application/vnd.databricks.v1+cell": {
     "cellMetadata": {
      "byteLimit": 2048000,
      "implicitDf": true,
      "rowLimit": 10000
     },
     "inputWidgets": {},
     "nuid": "a4025731-b797-4792-bea8-ddc44ded3fc3",
     "showTitle": false,
     "tableResultSettingsMap": {},
     "title": ""
    }
   },
   "outputs": [],
   "source": [
    "%sql\n",
    "CREATE OR REPLACE TABLE gold_patient_lifecycle AS\n",
    "WITH base AS (\n",
    "  SELECT patient_id, start_ts, birth_year\n",
    "  FROM   kardia_silver.silver_encounters_enriched\n",
    "  WHERE  birth_year IS NOT NULL\n",
    ")\n",
    "SELECT\n",
    "  patient_id,\n",
    "  MIN(start_ts) AS first_visit_ts,\n",
    "  MAX(start_ts) AS last_visit_ts,\n",
    "  DATEDIFF(MAX(start_ts), MIN(start_ts)) AS lifetime_days,\n",
    "  COUNT(*) AS visit_count,\n",
    "  CASE WHEN COUNT(*) = 1 THEN 'new' ELSE 'returning' END AS classification,\n",
    "  CASE\n",
    "    WHEN YEAR(CURRENT_DATE()) - MAX(birth_year) < 20               THEN '<20'\n",
    "    WHEN YEAR(CURRENT_DATE()) - MAX(birth_year) BETWEEN 20 AND 39  THEN '20-39'\n",
    "    WHEN YEAR(CURRENT_DATE()) - MAX(birth_year) BETWEEN 40 AND 59  THEN '40-59'\n",
    "    ELSE '60+'\n",
    "  END AS age_band,\n",
    "  CASE WHEN COUNT(*) > 1\n",
    "       THEN ROUND(DATEDIFF(MAX(start_ts), MIN(start_ts)) / (COUNT(*) - 1), 2)\n",
    "  END AS avg_days_between_visits\n",
    "FROM base\n",
    "GROUP BY patient_id;"
   ]
  },
  {
   "cell_type": "code",
   "execution_count": 0,
   "metadata": {
    "application/vnd.databricks.v1+cell": {
     "cellMetadata": {
      "byteLimit": 2048000,
      "implicitDf": true,
      "rowLimit": 10000
     },
     "inputWidgets": {},
     "nuid": "bae87730-fa99-404f-ab8f-350290e19205",
     "showTitle": false,
     "tableResultSettingsMap": {},
     "title": ""
    }
   },
   "outputs": [],
   "source": [
    "%sql\n",
    "-- 3. Preview: Top 10 patients by visit_count\n",
    "SELECT *\n",
    "FROM gold_patient_lifecycle\n",
    "ORDER BY visit_count DESC\n",
    "LIMIT 10;"
   ]
  }
 ],
 "metadata": {
  "application/vnd.databricks.v1+notebook": {
   "computePreferences": null,
   "dashboards": [],
   "environmentMetadata": {
    "base_environment": "",
    "environment_version": "2"
   },
   "inputWidgetPreferences": null,
   "language": "python",
   "notebookMetadata": {
    "mostRecentlyExecutedCommandWithImplicitDF": {
     "commandId": 6557084226338584,
     "dataframes": [
      "_sqldf"
     ]
    },
    "pythonIndentUnit": 4
   },
   "notebookName": "gold_patient_lifecycle",
   "widgets": {}
  },
  "language_info": {
   "name": "python"
  }
 },
 "nbformat": 4,
 "nbformat_minor": 0
}

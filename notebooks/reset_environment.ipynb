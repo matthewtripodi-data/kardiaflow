{
 "cells": [
  {
   "cell_type": "code",
   "execution_count": 0,
   "metadata": {
    "application/vnd.databricks.v1+cell": {
     "cellMetadata": {
      "byteLimit": 2048000,
      "rowLimit": 10000
     },
     "inputWidgets": {},
     "nuid": "524416a9-7d56-455b-bb5a-59363f4cde6b",
     "showTitle": false,
     "tableResultSettingsMap": {},
     "title": ""
    }
   },
   "outputs": [],
   "source": [
    "# reset_environment.ipynb\n",
    "# Reset Spark/Delta state without touching ADLS raw.\n",
    "#\n",
    "# - Stops all active Structured Streaming queries\n",
    "# - Drops all kardia_* databases\n",
    "# - Deletes DBFS /kardia/* (checkpoints, schemas, bronze/silver/gold, bad records, etc.)\n",
    "# - Leaves ADLS raw container intact\n",
    "\n",
    "from kflow.config import ensure_adls_auth\n",
    "import re\n",
    "\n",
    "# 1) Stop all active Structured Streaming queries\n",
    "for stream in spark.streams.active:\n",
    "    print(f\"Stopping stream: {stream.id}\")\n",
    "    stream.stop()\n",
    "    stream.awaitTermination(timeout=30)\n",
    "\n",
    "# 2) Drop all user-created databases prefixed with 'kardia_'\n",
    "for db in spark.catalog.listDatabases():\n",
    "    if db.name.startswith(\"kardia_\"):\n",
    "        print(f\"Dropping database: {db.name}\")\n",
    "        spark.sql(f\"DROP DATABASE {db.name} CASCADE\")\n",
    "\n",
    "# 3) Delete DBFS subtrees for pipeline state\n",
    "dbfs_dirs = [\n",
    "    \"dbfs:/kardia/bronze\",\n",
    "    \"dbfs:/kardia/silver\",\n",
    "    \"dbfs:/kardia/gold\",\n",
    "    \"dbfs:/kardia/checkpoints\",\n",
    "    \"dbfs:/kardia/schemas\",\n",
    "    \"dbfs:/kardia/bad\",\n",
    "]\n",
    "\n",
    "for path in dbfs_dirs:\n",
    "    try:\n",
    "        dbutils.fs.rm(path, recurse=True)\n",
    "        print(f\"Deleted DBFS path: {path}\")\n",
    "    except Exception as e:\n",
    "        print(f\"DBFS cleanup warning for {path}: {e}\")\n",
    "\n",
    "print(\"Kardia environment reset complete (ADLS raw untouched).\")"
   ]
  }
 ],
 "metadata": {
  "application/vnd.databricks.v1+notebook": {
   "computePreferences": null,
   "dashboards": [],
   "environmentMetadata": null,
   "inputWidgetPreferences": null,
   "language": "python",
   "notebookMetadata": {
    "pythonIndentUnit": 4
   },
   "notebookName": "reset_kardia_environment",
   "widgets": {}
  },
  "language_info": {
   "name": "python"
  }
 },
 "nbformat": 4,
 "nbformat_minor": 0
}

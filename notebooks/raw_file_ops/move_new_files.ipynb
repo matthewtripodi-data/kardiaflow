{
 "cells": [
  {
   "metadata": {},
   "cell_type": "code",
   "outputs": [],
   "execution_count": null,
   "source": [
    "# raw_file_ops/move_new_files.ipynb\n",
    "# 1. Install helpers once per cluster/session (Option A)\n",
    "%pip install -q git+https://github.com/okv627/KardiaFlow@main#subdirectory=src\n",
    "\n",
    "from kflow.config import raw_path, adls_raw_path\n",
    "from kflow.display_utils import banner\n",
    "from kflow.adls import set_sas\n",
    "\n",
    "# ADLS auth\n",
    "ADLS_ACCOUNT = \"kardiaadlsdemo\"\n",
    "sas_token    = dbutils.secrets.get(\"kardia\",\"adls_raw_sas\")\n",
    "set_sas(ADLS_ACCOUNT, sas_token)"
   ],
   "id": "6b3343a5a52877f6"
  },
  {
   "metadata": {},
   "cell_type": "code",
   "outputs": [],
   "execution_count": null,
   "source": [
    "# 3. Config\n",
    "UPLOADS_DIR = \"dbfs:/FileStore/tables/\"\n",
    "\n",
    "# prefix : (destination_dir, allowed_suffixes)\n",
    "PREFIX_MAP = {\n",
    "    \"patients_part_\":   (raw_path(\"patients\"),    (\".csv\",)),\n",
    "    \"encounters_part_\": (raw_path(\"encounters\"),  (\".avro\",)),\n",
    "    \"claims_part_\":     (raw_path(\"claims\"),      (\".parquet\",)),\n",
    "    \"providers_part_\":  (adls_raw_path(\"providers\"), (\".tsv\", \".avro\")),\n",
    "    \"feedback_part_\":   (adls_raw_path(\"feedback\"),  (\".jsonl\",)),\n",
    "}"
   ],
   "id": "eacae37b17d456b1"
  },
  {
   "metadata": {},
   "cell_type": "code",
   "outputs": [],
   "execution_count": null,
   "source": [
    "# 4. Helpers\n",
    "def _exists(dir_path: str, fname: str) -> bool:\n",
    "    try:\n",
    "        return fname in [f.name for f in dbutils.fs.ls(dir_path)]\n",
    "    except Exception:\n",
    "        return False"
   ],
   "id": "d94c0cca547ee5f9"
  },
  {
   "metadata": {},
   "cell_type": "code",
   "outputs": [],
   "execution_count": null,
   "source": [
    "# 5. Execution\n",
    "moved = skipped = 0\n",
    "for obj in dbutils.fs.ls(UPLOADS_DIR):\n",
    "    fname = obj.name\n",
    "    target_dir = None\n",
    "    for prefix, (dest, exts) in PREFIX_MAP.items():\n",
    "        if fname.startswith(prefix) and fname.lower().endswith(exts):\n",
    "            target_dir = dest\n",
    "            break\n",
    "    if not target_dir:\n",
    "        continue\n",
    "    if _exists(target_dir, fname):\n",
    "        skipped += 1\n",
    "        print(f\"Skipped (already exists): {fname}\")\n",
    "    else:\n",
    "        dbutils.fs.cp(obj.path, target_dir + fname)\n",
    "        moved += 1\n",
    "        print(f\"Moved: {fname} to {target_dir}\")\n",
    "\n",
    "banner(f\"Move complete. Moved: {moved}, skipped: {skipped}\", ok=True)"
   ],
   "id": "32788b7c729735aa"
  }
 ],
 "metadata": {},
 "nbformat": 4,
 "nbformat_minor": 5
}

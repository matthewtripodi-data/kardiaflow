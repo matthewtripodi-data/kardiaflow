{
 "cells": [
  {
   "cell_type": "code",
   "execution_count": 0,
   "metadata": {
    "application/vnd.databricks.v1+cell": {
     "cellMetadata": {
      "byteLimit": 2048000,
      "rowLimit": 10000
     },
     "inputWidgets": {},
     "nuid": "5eef2467-d581-452e-8f3c-c9f297338bf5",
     "showTitle": false,
     "tableResultSettingsMap": {},
     "title": ""
    },
    "jupyter": {
     "is_executing": true
    }
   },
   "outputs": [],
   "source": [
    "# bronze_claims_autoloader.ipynb\n",
    "# SOURCE:  Parquet claim files in abfss://raw@kardiaadlsdemo.dfs.core.windows.net/claims/\n",
    "# OUTPUT: `kardia_bronze.bronze_claims` with Change Data Feed enabled\n",
    "# TRIGGER: Incremental batch; append to Delta table with schema evolution enabled.\n",
    "\n",
    "# NOTE: For self‑describing formats like Parquet, we let the file’s embedded\n",
    "# schema drive the Bronze ingestion, and cast/enforce types later in Silver.\n",
    "\n",
    "# ───── DEBUG: Confirm wheel exists in DBFS ─────\n",
    "display(dbutils.fs.ls(\"dbfs:/Shared/libs\"))\n",
    "\n",
    "import os\n",
    "print(\"wheel exists?\", os.path.exists(\"/dbfs/Shared/libs/kflow-0.2.4-py3-none-any.whl\"))\n",
    "\n",
    "# ───── INSTALL: Use local offline wheel ─────\n",
    "%pip install -q --no-deps --no-index --find-links=/dbfs/Shared/libs kflow\n",
    "\n",
    "import kflow, importlib\n",
    "importlib.reload(kflow)\n",
    "print(\"kflow version:\", getattr(kflow, \"__version__\", \"unknown\"))\n",
    "\n",
    "from kflow.config import BRONZE_DB, bronze_paths, ensure_adls_auth\n",
    "from kflow.display_utils import show_history\n",
    "from kflow.etl_utils import add_audit_cols\n",
    "\n",
    "import pyspark.sql.functions as F\n",
    "\n",
    "ensure_adls_auth()\n",
    "\n",
    "# Load Bronze paths\n",
    "P = bronze_paths(\"claims\")\n",
    "BRONZE_TABLE = P.table"
   ]
  },
  {
   "cell_type": "code",
   "execution_count": 0,
   "metadata": {
    "application/vnd.databricks.v1+cell": {
     "cellMetadata": {
      "byteLimit": 2048000,
      "rowLimit": 10000
     },
     "inputWidgets": {},
     "nuid": "436b2360-2660-4618-a2ae-c5d25bf2f29d",
     "showTitle": false,
     "tableResultSettingsMap": {},
     "title": ""
    }
   },
   "outputs": [],
   "source": [
    "# 2. Ensure Bronze DB and Claims table exists\n",
    "spark.sql(f\"CREATE DATABASE IF NOT EXISTS {BRONZE_DB}\")\n",
    "\n",
    "spark.sql(\n",
    "    f\"\"\"\n",
    "    CREATE TABLE IF NOT EXISTS {BRONZE_TABLE}\n",
    "    USING DELTA\n",
    "    COMMENT 'Bronze Parquet ingest of claim records.'\n",
    "    LOCATION '{P.bronze}'\n",
    "    TBLPROPERTIES (delta.enableChangeDataFeed = true)\n",
    "    \"\"\"\n",
    ")"
   ]
  },
  {
   "cell_type": "code",
   "execution_count": 0,
   "metadata": {
    "application/vnd.databricks.v1+cell": {
     "cellMetadata": {
      "byteLimit": 2048000,
      "rowLimit": 10000
     },
     "inputWidgets": {},
     "nuid": "5ccd7019-4e27-4d05-a90f-b1595faab7dd",
     "showTitle": false,
     "tableResultSettingsMap": {},
     "title": ""
    }
   },
   "outputs": [],
   "source": [
    "# 3. Define an incremental batch pipeline using Auto-loader.\n",
    "#    Auto Loader discovers new files in cloud storage and writes to a Delta table.\n",
    "stream = (\n",
    "    spark.readStream\n",
    "         .format(\"cloudFiles\")\n",
    "         .option(\"cloudFiles.format\", \"parquet\")\n",
    "         .option(\"cloudFiles.schemaLocation\", P.schema)\n",
    "         .option(\"cloudFiles.includeExistingFiles\", \"true\")\n",
    "         .option(\"badRecordsPath\", P.bad)\n",
    "         .load(P.raw)\n",
    "         .transform(add_audit_cols)\n",
    "         \n",
    "         .writeStream\n",
    "         .option(\"checkpointLocation\", P.checkpoint)\n",
    "         .option(\"mergeSchema\", \"true\")\n",
    "         .trigger(availableNow=True)\n",
    "         .toTable(BRONZE_TABLE)\n",
    ")\n",
    "stream.awaitTermination()\n",
    "\n",
    "# NOTE:\n",
    "# Auto Loader handles the read-side logic, maintaining a file-discovery ledger.\n",
    "# Structured Streaming handles the write-side logic, using a WAL and offset tracking.\n",
    "# The ledger, WAL, offsets, and schema evolution log are all stored in the checkpoint directory.\n",
    "# `cloudFiles.schemaLocation` tells Auto Loader where to persist the evolving schema history."
   ]
  },
  {
   "cell_type": "code",
   "execution_count": 0,
   "metadata": {
    "application/vnd.databricks.v1+cell": {
     "cellMetadata": {
      "byteLimit": 2048000,
      "rowLimit": 10000
     },
     "inputWidgets": {},
     "nuid": "622a42d7-59cd-4d82-a246-a4606a6908e0",
     "showTitle": false,
     "tableResultSettingsMap": {},
     "title": ""
    }
   },
   "outputs": [],
   "source": [
    "# 5. Batch finished - Verify Bronze Claims table and ingestion history.\n",
    "df = spark.table(BRONZE_TABLE)\n",
    "print(f\"Bronze Claims row count: {df.count():,}\")\n",
    "display(df.limit(5))\n",
    "show_history(P.bronze)"
   ]
  }
 ],
 "metadata": {
  "application/vnd.databricks.v1+notebook": {
   "computePreferences": null,
   "dashboards": [],
   "environmentMetadata": {
    "base_environment": "",
    "environment_version": "2"
   },
   "inputWidgetPreferences": null,
   "language": "python",
   "notebookMetadata": {
    "mostRecentlyExecutedCommandWithImplicitDF": {
     "commandId": 4898618290950570,
     "dataframes": [
      "_sqldf"
     ]
    },
    "pythonIndentUnit": 4
   },
   "notebookName": "bronze_claims_autoloader",
   "widgets": {}
  },
  "language_info": {
   "name": "python"
  }
 },
 "nbformat": 4,
 "nbformat_minor": 0
}

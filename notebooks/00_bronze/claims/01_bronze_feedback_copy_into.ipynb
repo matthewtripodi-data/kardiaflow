{
 "cells": [
  {
   "cell_type": "code",
   "execution_count": 0,
   "metadata": {
    "application/vnd.databricks.v1+cell": {
     "cellMetadata": {
      "byteLimit": 2048000,
      "rowLimit": 10000
     },
     "inputWidgets": {},
     "nuid": "2d614158-1333-4b94-a244-a813b3a226f9",
     "showTitle": false,
     "tableResultSettingsMap": {},
     "title": ""
    }
   },
   "outputs": [],
   "source": [
    "# 01_bronze_feedback_copy_into.ipynb\n",
    "# SOURCE:  JSON‑lines feedback files in ADLS at abfss://raw@kardiaadlsdemo.dfs.core.windows.net/feedback/  \n",
    "# OUTPUT: `kardia_bronze.bronze_feedback` with Change Data Feed enabled  \n",
    "# TRIGGER: Incremental batch; append to Delta table with schema evolution enabled  \n",
    "\n",
    "# NOTE: Using Auto Loader for JSONL; schema evolves automatically via schemaLocation.\n",
    "\n",
    "from kflow.adls import set_sas\n",
    "from kflow.config import bronze_paths, adls_raw_path\n",
    "from kflow.display_utils import banner, show_history, show_head\n",
    "from kflow.etl_utils import add_audit_cols\n",
    "\n",
    "import pyspark.sql.functions as F\n",
    "from pyspark.sql.types import (StructType, StructField, StringType, IntegerType,\n",
    "                               ArrayType, MapType)\n",
    "\n",
    "# Auth to ADLS\n",
    "ACCOUNT = \"kardiaadlsdemo\"\n",
    "sas = dbutils.secrets.get(\"kardia\", \"adls_raw_sas\")\n",
    "set_sas(ACCOUNT, sas)\n",
    "\n",
    "# Load Bronze paths\n",
    "P            = bronze_paths(\"feedback\")\n",
    "BRONZE_TABLE = P.table\n",
    "RAW_PATH     = adls_raw_path(\"feedback\")"
   ]
  },
  {
   "cell_type": "code",
   "execution_count": 0,
   "metadata": {
    "application/vnd.databricks.v1+cell": {
     "cellMetadata": {
      "byteLimit": 2048000,
      "implicitDf": true,
      "rowLimit": 10000
     },
     "inputWidgets": {},
     "nuid": "98374570-c52d-45ab-abb4-8bba09a205d0",
     "showTitle": false,
     "tableResultSettingsMap": {},
     "title": ""
    }
   },
   "outputs": [],
   "source": [
    "# 2. Define explicit JSON schema for performance & type safety.\n",
    "feedback_schema = StructType([\n",
    "    StructField(\"feedback_id\",        StringType(), True),\n",
    "    StructField(\"provider_id\",        StringType(), True),\n",
    "    StructField(\"timestamp\",          StringType(), True),\n",
    "    StructField(\"visit_id\",           StringType(), True),\n",
    "    StructField(\"satisfaction_score\", IntegerType(), True),\n",
    "    StructField(\"comments\",           StringType(), True),\n",
    "    StructField(\"source\",             StringType(), True),\n",
    "    StructField(\"tags\",               ArrayType(StringType()), True),\n",
    "    StructField(\"metadata\",           MapType(StringType(), StringType()), True),\n",
    "])"
   ]
  },
  {
   "cell_type": "code",
   "execution_count": 0,
   "metadata": {
    "application/vnd.databricks.v1+cell": {
     "cellMetadata": {
      "byteLimit": 2048000,
      "rowLimit": 10000
     },
     "inputWidgets": {},
     "nuid": "e8c70107-3a47-4370-8544-61951271be67",
     "showTitle": false,
     "tableResultSettingsMap": {},
     "title": ""
    }
   },
   "outputs": [],
   "source": [
    "# 3. Ensure Bronze Feedback table exists\n",
    "spark.sql(\n",
    "    f\"\"\"\n",
    "    CREATE TABLE IF NOT EXISTS {BRONZE_TABLE} (\n",
    "      feedback_id        STRING,\n",
    "      provider_id        STRING,\n",
    "      timestamp          STRING,\n",
    "      visit_id           STRING,\n",
    "      satisfaction_score INT,\n",
    "      comments           STRING,\n",
    "      source             STRING,\n",
    "      tags               ARRAY<STRING>,\n",
    "      metadata           MAP<STRING,STRING>,\n",
    "      _ingest_ts         TIMESTAMP,\n",
    "      _source_file       STRING,\n",
    "      _batch_id          STRING\n",
    "    )\n",
    "    USING DELTA\n",
    "    LOCATION '{P.bronze}'\n",
    "    TBLPROPERTIES (delta.enableChangeDataFeed = true)\n",
    "    \"\"\"\n",
    ")"
   ]
  },
  {
   "cell_type": "code",
   "execution_count": 0,
   "metadata": {
    "application/vnd.databricks.v1+cell": {
     "cellMetadata": {
      "byteLimit": 2048000,
      "rowLimit": 10000
     },
     "inputWidgets": {},
     "nuid": "8efecbe3-b7a2-4bab-a34e-716df374e3a4",
     "showTitle": false,
     "tableResultSettingsMap": {},
     "title": ""
    }
   },
   "outputs": [],
   "source": [
    "# 4. Define incremental Auto-loader stream for JSONL files.\n",
    "stream = (\n",
    "    spark.readStream\n",
    "         .format(\"cloudFiles\")\n",
    "         .option(\"cloudFiles.format\", \"json\")\n",
    "         .option(\"cloudFiles.schemaLocation\", P.schema)\n",
    "         .option(\"cloudFiles.includeExistingFiles\", \"true\")\n",
    "         .option(\"badRecordsPath\", P.bad)\n",
    "         .schema(feedback_schema)\n",
    "         .load(RAW_PATH)\n",
    "         .transform(add_audit_cols)\n",
    "         \n",
    "         .writeStream\n",
    "         .option(\"checkpointLocation\", P.checkpoint)\n",
    "         .option(\"mergeSchema\", \"true\")\n",
    "         .trigger(availableNow=True)\n",
    "         .toTable(BRONZE_TABLE)\n",
    ")\n",
    "stream.awaitTermination()"
   ]
  },
  {
   "cell_type": "code",
   "execution_count": 0,
   "metadata": {
    "application/vnd.databricks.v1+cell": {
     "cellMetadata": {
      "byteLimit": 2048000,
      "rowLimit": 10000
     },
     "inputWidgets": {},
     "nuid": "90ffa34e-9070-4f25-b4cb-f28df3fed62f",
     "showTitle": false,
     "tableResultSettingsMap": {},
     "title": ""
    }
   },
   "outputs": [],
   "source": [
    "# 5. Batch finished – Verify Bronze Feedback table and ingestion history.\n",
    "df = spark.table(BRONZE_TABLE)\n",
    "banner(f\"Bronze Feedback row count: {df.count()}\", ok=True)\n",
    "show_head(df, 5)\n",
    "show_history(P.bronze, 5)"
   ]
  }
 ],
 "metadata": {
  "application/vnd.databricks.v1+notebook": {
   "computePreferences": null,
   "dashboards": [],
   "environmentMetadata": {
    "base_environment": "",
    "environment_version": "2"
   },
   "inputWidgetPreferences": null,
   "language": "python",
   "notebookMetadata": {
    "mostRecentlyExecutedCommandWithImplicitDF": {
     "commandId": -1,
     "dataframes": [
      "_sqldf"
     ]
    },
    "pythonIndentUnit": 4
   },
   "notebookName": "01_bronze_feedback_copy_into",
   "widgets": {}
  },
  "language_info": {
   "name": "python"
  }
 },
 "nbformat": 4,
 "nbformat_minor": 0
}

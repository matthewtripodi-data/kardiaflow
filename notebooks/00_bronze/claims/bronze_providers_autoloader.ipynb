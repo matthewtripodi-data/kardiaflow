{
 "cells": [
  {
   "metadata": {},
   "cell_type": "code",
   "outputs": [],
   "execution_count": null,
   "source": [
    "# bronze_providers_autoloader.ipynb\n",
    "# SOURCE:  Ingest raw provider TSVs into the Bronze layer using Auto Loader.\n",
    "# OUTPUT: `kardia_bronze.bronze_providers` with Change Data Feed enabled.\n",
    "# TRIGGER: Incremental batch; append to Delta table with schema evolution enabled.\n",
    "\n",
    "from kflow.adls import set_sas\n",
    "from kflow.config import BRONZE_DB, bronze_paths, current_batch_id, adls_raw_path\n",
    "from kflow.display_utils import show_history\n",
    "from kflow.etl_utils import add_audit_cols\n",
    "\n",
    "import pyspark.sql.functions as F\n",
    "from pyspark.sql.types import StructType, StructField, StringType\n",
    "\n",
    "# Auth to ADLS\n",
    "ACCOUNT = \"kardiaadlsdemo\"\n",
    "sas = dbutils.secrets.get(\"kardia\", \"adls_raw_sas\")\n",
    "set_sas(ACCOUNT, sas)\n",
    "\n",
    "# Load Bronze paths\n",
    "P            = bronze_paths(\"providers\")\n",
    "BRONZE_TABLE = P.table\n",
    "RAW_PATH     = adls_raw_path(\"providers\")"
   ]
  },
  {
   "metadata": {},
   "cell_type": "code",
   "outputs": [],
   "execution_count": null,
   "source": [
    "# 2. Define explicit schema to enforce structure and improve Auto-loader performance\n",
    "provider_schema = StructType([\n",
    "    StructField(\"ProviderID\",        StringType(), True),\n",
    "    StructField(\"ProviderSpecialty\", StringType(), True),\n",
    "    StructField(\"ProviderLocation\",  StringType(), True),\n",
    "])"
   ]
  },
  {
   "metadata": {},
   "cell_type": "code",
   "outputs": [],
   "execution_count": null,
   "source": [
    "# 3. Ensure Bronze Providers table exists\n",
    "spark.sql(\n",
    "    f\"\"\"\n",
    "    CREATE TABLE IF NOT EXISTS {BRONZE_TABLE} (\n",
    "        ProviderID        STRING,\n",
    "        ProviderSpecialty STRING,\n",
    "        ProviderLocation  STRING,\n",
    "        _ingest_ts        TIMESTAMP,\n",
    "        _source_file      STRING\n",
    "    )\n",
    "    USING DELTA\n",
    "    LOCATION '{P.bronze}'\n",
    "    TBLPROPERTIES (delta.enableChangeDataFeed = true)\n",
    "    \"\"\"\n",
    ")"
   ]
  },
  {
   "metadata": {},
   "cell_type": "code",
   "outputs": [],
   "execution_count": null,
   "source": [
    "# 4. Define an incremental batch pipeline using Auto Loader\n",
    "stream = (\n",
    "    spark.readStream\n",
    "         .format(\"cloudFiles\")\n",
    "         .option(\"cloudFiles.format\", \"csv\")\n",
    "         .option(\"delimiter\", \"\\t\")\n",
    "         .option(\"cloudFiles.includeExistingFiles\", \"true\")\n",
    "         .option(\"header\", \"true\")\n",
    "         .option(\"badRecordsPath\", P.bad)\n",
    "         .option(\"rescuedDataColumn\", \"_rescued_data\")\n",
    "         .schema(provider_schema)\n",
    "         .load(RAW_PATH)\n",
    "         .transform(add_audit_cols)\n",
    "\n",
    "         .writeStream\n",
    "         .option(\"checkpointLocation\", P.checkpoint)\n",
    "         .option(\"mergeSchema\", \"true\")\n",
    "         .trigger(availableNow=True)\n",
    "         .toTable(BRONZE_TABLE)\n",
    ")\n",
    "stream.awaitTermination()"
   ]
  },
  {
   "metadata": {},
   "cell_type": "code",
   "outputs": [],
   "execution_count": null,
   "source": [
    "# 5. Batch finished - Verify Bronze Providers table and ingestion history.\n",
    "df = spark.table(BRONZE_TABLE)\n",
    "print(f\"Bronze Providers row count: {df.count():,}\")\n",
    "display(df.limit(5))\n",
    "show_history(P.bronze)"
   ]
  }
 ],
 "metadata": {
  "application/vnd.databricks.v1+notebook": {
   "computePreferences": null,
   "dashboards": [],
   "environmentMetadata": {
    "base_environment": "",
    "environment_version": "2"
   },
   "inputWidgetPreferences": null,
   "language": "python",
   "notebookMetadata": {
    "pythonIndentUnit": 4
   },
   "notebookName": "01_bronze_providers_autoloader",
   "widgets": {}
  },
  "language_info": {
   "name": "python"
  }
 },
 "nbformat": 4,
 "nbformat_minor": 0
}

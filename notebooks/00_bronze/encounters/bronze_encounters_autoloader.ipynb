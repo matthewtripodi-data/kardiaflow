{
 "cells": [
  {
   "metadata": {
    "jupyter": {
     "is_executing": true
    }
   },
   "cell_type": "code",
   "source": [
    "# bronze_encounters_autoloader.ipynb\n",
    "# SOURCE: Ingest raw encounter Avro files into the Bronze layer using Auto Loader.\n",
    "# OUTPUT: `kardia_bronze.bronze_encounters` with CDF enabled.\n",
    "# TRIGGER: Continuous stream; append to Delta table with schema evolution enabled.\n",
    "\n",
    "from kflow.config import BRONZE_DB, bronze_paths, current_batch_id\n",
    "from kflow.etl_utils import add_audit_cols\n",
    "\n",
    "import pyspark.sql.functions as F\n",
    "\n",
    "# Load Bronze paths\n",
    "P = bronze_paths(\"encounters\")\n",
    "BRONZE_TABLE = P.table"
   ],
   "outputs": [],
   "execution_count": null
  },
  {
   "metadata": {},
   "cell_type": "code",
   "outputs": [],
   "execution_count": null,
   "source": [
    "# 1. Ensure Bronze Encounters table exists\n",
    "spark.sql(\n",
    "    f\"\"\"\n",
    "    CREATE TABLE IF NOT EXISTS {P.table}\n",
    "    USING DELTA\n",
    "    COMMENT 'Bronze table for batch Auto Loader ingest of patient records.'\n",
    "    LOCATION '{P.bronze}'\n",
    "    TBLPROPERTIES (delta.enableChangeDataFeed = true)\n",
    "    \"\"\"\n",
    ")"
   ]
  },
  {
   "metadata": {},
   "cell_type": "code",
   "outputs": [],
   "execution_count": null,
   "source": [
    "# 2. Define a streaming pipeline using Auto Loader\n",
    "stream = (\n",
    "    spark.readStream.format(\"cloudFiles\")\n",
    "         .option(\"cloudFiles.format\", \"avro\")\n",
    "         .option(\"cloudFiles.schemaLocation\", P.schema)\n",
    "         .option(\"cloudFiles.includeExistingFiles\", \"true\")\n",
    "         .option(\"badRecordsPath\", P.bad)\n",
    "         .load(P.raw)\n",
    "         .transform(add_audit_cols)\n",
    "\n",
    "         .writeStream\n",
    "         .option(\"checkpointLocation\", P.checkpoint)\n",
    "         .option(\"mergeSchema\", \"true\")\n",
    "         .trigger(processingTime=\"30 seconds\")\n",
    "         .toTable(P.table)\n",
    ")\n",
    "\n",
    "print(f\"Stream bronze_encounters started. Source: raw/encounters, Sink: {P.table}\")"
   ]
  }
 ],
 "metadata": {
  "application/vnd.databricks.v1+notebook": {
   "computePreferences": null,
   "dashboards": [],
   "environmentMetadata": {
    "base_environment": "",
    "environment_version": "2"
   },
   "inputWidgetPreferences": null,
   "language": "python",
   "notebookMetadata": {
    "mostRecentlyExecutedCommandWithImplicitDF": {
     "commandId": 6336542656291775,
     "dataframes": [
      "_sqldf"
     ]
    },
    "pythonIndentUnit": 4
   },
   "notebookName": "01_bronze_encounters_autoloader",
   "widgets": {}
  },
  "language_info": {
   "name": "python"
  }
 },
 "nbformat": 4,
 "nbformat_minor": 0
}

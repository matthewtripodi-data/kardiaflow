{
 "cells": [
  {
   "cell_type": "code",
   "execution_count": 0,
   "metadata": {
    "application/vnd.databricks.v1+cell": {
     "cellMetadata": {
      "byteLimit": 2048000,
      "rowLimit": 10000
     },
     "inputWidgets": {},
     "nuid": "7ef4e400-f2e5-4cd5-87fd-ec449a6ad4a4",
     "showTitle": false,
     "tableResultSettingsMap": {},
     "title": ""
    },
    "jupyter": {
     "is_executing": true
    }
   },
   "outputs": [],
   "source": [
    "# bronze_encounters_autoloader.ipynb\n",
    "# SOURCE:  Ingests raw Avro files from ADLS using Auto Loader.\n",
    "# OUTPUT:  `kardia_bronze.bronze_encounters` (Delta with CDF enabled).\n",
    "# TRIGGER:\n",
    "# In batch mode: Reads available data and exits.\n",
    "# In stream mode: Runs continuous 30s micro-batches.\n",
    "\n",
    "%pip install -q --no-deps --no-index --find-links=/dbfs/Shared/libs kflow\n",
    "from kflow.config import BRONZE_DB, bronze_paths, ensure_adls_auth\n",
    "from kflow.etl_utils import add_audit_cols\n",
    "\n",
    "import pyspark.sql.functions as F\n",
    "\n",
    "ensure_adls_auth()\n",
    "\n",
    "# Load Bronze paths\n",
    "P = bronze_paths(\"encounters\")\n",
    "BRONZE_TABLE = P.table"
   ]
  },
  {
   "metadata": {},
   "cell_type": "code",
   "outputs": [],
   "execution_count": null,
   "source": [
    "# Mode widget & flags (batch = drain & stop; stream = continuous)\n",
    "try:\n",
    "    dbutils.widgets.dropdown(\"mode\", \"batch\", [\"batch\", \"stream\"])\n",
    "except:\n",
    "    pass\n",
    "MODE = dbutils.widgets.get(\"mode\") if \"dbutils\" in globals() else \"batch\"\n",
    "IS_BATCH = (MODE == \"batch\")\n",
    "\n",
    "# Use a mode-suffixed checkpoint to avoid clobbering state\n",
    "CHECKPOINT = f\"{P.checkpoint}/{MODE}\""
   ]
  },
  {
   "cell_type": "code",
   "execution_count": 0,
   "metadata": {
    "application/vnd.databricks.v1+cell": {
     "cellMetadata": {
      "byteLimit": 2048000,
      "rowLimit": 10000
     },
     "inputWidgets": {},
     "nuid": "9c0259c7-a143-4079-ad8c-8fcf639121bd",
     "showTitle": false,
     "tableResultSettingsMap": {},
     "title": ""
    }
   },
   "outputs": [],
   "source": [
    "# 1. Ensure Bronze DB and Encounters table exists\n",
    "spark.sql(f\"CREATE DATABASE IF NOT EXISTS {BRONZE_DB}\")\n",
    "\n",
    "spark.sql(\n",
    "    f\"\"\"\n",
    "    CREATE TABLE IF NOT EXISTS {P.table}\n",
    "    USING DELTA\n",
    "    COMMENT 'Bronze table for batch Auto Loader ingest of patient records.'\n",
    "    LOCATION '{P.bronze}'\n",
    "    TBLPROPERTIES (delta.enableChangeDataFeed = true)\n",
    "    \"\"\"\n",
    ")"
   ]
  },
  {
   "cell_type": "code",
   "execution_count": 0,
   "metadata": {
    "application/vnd.databricks.v1+cell": {
     "cellMetadata": {
      "byteLimit": 2048000,
      "rowLimit": 10000
     },
     "inputWidgets": {},
     "nuid": "d6aefc57-ee55-433a-89e7-2d2945f63119",
     "showTitle": false,
     "tableResultSettingsMap": {},
     "title": ""
    }
   },
   "outputs": [],
   "source": [
    "# 2. Define a streaming pipeline using Auto Loader\n",
    "reader = (\n",
    "    spark.readStream.format(\"cloudFiles\")\n",
    "         .option(\"cloudFiles.format\", \"avro\")\n",
    "         .option(\"cloudFiles.schemaLocation\", P.schema)\n",
    "         .option(\"cloudFiles.includeExistingFiles\", \"true\")\n",
    "         .option(\"badRecordsPath\", P.bad)\n",
    "         .load(P.raw)\n",
    "         .transform(add_audit_cols)\n",
    ")\n",
    "\n",
    "writer = (\n",
    "    reader.writeStream\n",
    "          .option(\"checkpointLocation\", CHECKPOINT)\n",
    "          .option(\"mergeSchema\", \"true\")\n",
    ")\n",
    "\n",
    "if IS_BATCH:\n",
    "    # Drain all available input and stop so the job can finish\n",
    "    q = writer.trigger(availableNow=True).toTable(P.table)\n",
    "    print(f\"[demo] Draining to {P.table} with checkpoint={CHECKPOINT} …\")\n",
    "    q.awaitTermination()\n",
    "else:\n",
    "    # Continuous 30s micro-batches; no awaitTermination() here\n",
    "    q = writer.trigger(processingTime=\"30 seconds\").toTable(P.table)\n",
    "    print(f\"[live] Continuous 30s micro-batches to {P.table} with checkpoint={CHECKPOINT}\")"
   ]
  }
 ],
 "metadata": {
  "application/vnd.databricks.v1+notebook": {
   "computePreferences": null,
   "dashboards": [],
   "environmentMetadata": {
    "base_environment": "",
    "environment_version": "2"
   },
   "inputWidgetPreferences": null,
   "language": "python",
   "notebookMetadata": {
    "mostRecentlyExecutedCommandWithImplicitDF": {
     "commandId": 6336542656291775,
     "dataframes": [
      "_sqldf"
     ]
    },
    "pythonIndentUnit": 4
   },
   "notebookName": "bronze_encounters_autoloader",
   "widgets": {}
  },
  "language_info": {
   "name": "python"
  }
 },
 "nbformat": 4,
 "nbformat_minor": 0
}

{
 "cells": [
  {
   "cell_type": "code",
   "execution_count": 0,
   "metadata": {
    "application/vnd.databricks.v1+cell": {
     "cellMetadata": {
      "byteLimit": 2048000,
      "rowLimit": 10000
     },
     "inputWidgets": {},
     "nuid": "c2c9c89f-9933-498b-a2a3-d9152e973c22",
     "showTitle": false,
     "tableResultSettingsMap": {},
     "title": ""
    }
   },
   "outputs": [],
   "source": [
    "# bronze_patients_autoloader.ipynb\n",
    "# SOURCE: Ingest raw patient CSVs into Bronze using Auto Loader.\n",
    "# OUTPUT: `kardia_bronze.bronze_patients` with Change Data Feed enabled.\n",
    "# PATTERN: CSV to Auto Loader (incremental batch)\n",
    "# TRIGGER: Incremental batch; append to Delta table with schema evolution enabled.\n",
    "\n",
    "%pip install -q /dbfs/Shared/libs/kflow-latest.whl\n",
    "from kflow.config import BRONZE_DB, bronze_paths, ensure_adls_auth\n",
    "from kflow.display_utils import show_history\n",
    "from kflow.etl_utils import add_audit_cols\n",
    "\n",
    "import pyspark.sql.functions as F\n",
    "from pyspark.sql.types import StructType, StructField, StringType\n",
    "\n",
    "ensure_adls_auth()\n",
    "\n",
    "# Load Bronze paths\n",
    "P = bronze_paths(\"patients\")\n",
    "BRONZE_TABLE = P.table"
   ]
  },
  {
   "cell_type": "code",
   "execution_count": 0,
   "metadata": {
    "application/vnd.databricks.v1+cell": {
     "cellMetadata": {
      "byteLimit": 2048000,
      "rowLimit": 10000
     },
     "inputWidgets": {},
     "nuid": "5b413bc8-9e0d-45c4-9f9f-286653520c90",
     "showTitle": false,
     "tableResultSettingsMap": {},
     "title": ""
    }
   },
   "outputs": [],
   "source": [
    "# Define explicit schema to enforce structure and improve Auto-loader performance.\n",
    "patients_schema = StructType([\n",
    "    StructField(\"ID\",         StringType(),  False),\n",
    "    StructField(\"BIRTHDATE\",  StringType(),  True),\n",
    "    StructField(\"DEATHDATE\",  StringType(),  True),\n",
    "    StructField(\"SSN\",        StringType(),  True),\n",
    "    StructField(\"DRIVERS\",    StringType(),  True),\n",
    "    StructField(\"PASSPORT\",   StringType(),  True),\n",
    "    StructField(\"PREFIX\",     StringType(),  True),\n",
    "    StructField(\"FIRST\",      StringType(),  True),\n",
    "    StructField(\"LAST\",       StringType(),  True),\n",
    "    StructField(\"SUFFIX\",     StringType(),  True),\n",
    "    StructField(\"MAIDEN\",     StringType(),  True),\n",
    "    StructField(\"MARITAL\",    StringType(),  True),\n",
    "    StructField(\"RACE\",       StringType(),  True),\n",
    "    StructField(\"ETHNICITY\",  StringType(),  True),\n",
    "    StructField(\"GENDER\",     StringType(),  True),\n",
    "    StructField(\"BIRTHPLACE\", StringType(),  True),\n",
    "    StructField(\"ADDRESS\",    StringType(),  True)\n",
    "])"
   ]
  },
  {
   "cell_type": "code",
   "execution_count": 0,
   "metadata": {
    "application/vnd.databricks.v1+cell": {
     "cellMetadata": {
      "byteLimit": 2048000,
      "rowLimit": 10000
     },
     "inputWidgets": {},
     "nuid": "e2e96d5d-a9d2-43ba-94f7-7d3dd390bce6",
     "showTitle": false,
     "tableResultSettingsMap": {},
     "title": ""
    }
   },
   "outputs": [],
   "source": [
    "# 1. Ensure Bronze DB and Patients table exists\n",
    "spark.sql(f\"CREATE DATABASE IF NOT EXISTS {BRONZE_DB}\")\n",
    "\n",
    "spark.sql(\n",
    "    f\"\"\"\n",
    "    CREATE TABLE IF NOT EXISTS {BRONZE_TABLE}\n",
    "    USING DELTA\n",
    "    COMMENT 'Bronze table for batch Auto Loader ingest of patient records.'\n",
    "    LOCATION '{P.bronze}'\n",
    "    TBLPROPERTIES (delta.enableChangeDataFeed = true)\n",
    "    \"\"\"\n",
    ")"
   ]
  },
  {
   "cell_type": "code",
   "execution_count": 0,
   "metadata": {
    "application/vnd.databricks.v1+cell": {
     "cellMetadata": {
      "byteLimit": 2048000,
      "rowLimit": 10000
     },
     "inputWidgets": {},
     "nuid": "b3a56cdc-896f-44bb-a43b-9af18dbe93df",
     "showTitle": false,
     "tableResultSettingsMap": {},
     "title": ""
    }
   },
   "outputs": [],
   "source": [
    "# 2. Define an incremental batch pipeline using Auto Loader\n",
    "stream = (\n",
    "  spark.readStream.format(\"cloudFiles\")\n",
    "       .option(\"cloudFiles.format\", \"csv\")\n",
    "       .option(\"cloudFiles.schemaLocation\", P.schema)\n",
    "       .option(\"cloudFiles.includeExistingFiles\", \"true\")\n",
    "       .option(\"header\", \"true\")\n",
    "       .schema(patients_schema)\n",
    "       .load(P.raw)\n",
    "       .transform(add_audit_cols)\n",
    "\n",
    "       .writeStream\n",
    "       .option(\"checkpointLocation\", P.checkpoint)\n",
    "       .option(\"mergeSchema\", \"true\")\n",
    "       .trigger(availableNow=True)\n",
    "       .toTable(BRONZE_TABLE)\n",
    ")\n",
    "stream.awaitTermination()"
   ]
  },
  {
   "cell_type": "code",
   "execution_count": 0,
   "metadata": {
    "application/vnd.databricks.v1+cell": {
     "cellMetadata": {
      "byteLimit": 2048000,
      "rowLimit": 10000
     },
     "inputWidgets": {},
     "nuid": "c8d983fb-5f9a-4fc6-8b04-559d3496f5b5",
     "showTitle": false,
     "tableResultSettingsMap": {},
     "title": ""
    }
   },
   "outputs": [],
   "source": [
    "# 5. Batch finished - Verify Bronze Patients table and ingestion history.\n",
    "df = spark.table(BRONZE_TABLE)\n",
    "print(f\"Bronze Patients row count: {df.count():,}\")\n",
    "display(df.limit(5))\n",
    "show_history(P.bronze)"
   ]
  }
 ],
 "metadata": {
  "application/vnd.databricks.v1+notebook": {
   "computePreferences": null,
   "dashboards": [],
   "environmentMetadata": {
    "base_environment": "",
    "environment_version": "2"
   },
   "inputWidgetPreferences": null,
   "language": "python",
   "notebookMetadata": {
    "mostRecentlyExecutedCommandWithImplicitDF": {
     "commandId": -1,
     "dataframes": [
      "_sqldf"
     ]
    },
    "pythonIndentUnit": 4
   },
   "notebookName": "bronze_patients_autoloader",
   "widgets": {}
  },
  "language_info": {
   "name": "python"
  }
 },
 "nbformat": 4,
 "nbformat_minor": 0
}

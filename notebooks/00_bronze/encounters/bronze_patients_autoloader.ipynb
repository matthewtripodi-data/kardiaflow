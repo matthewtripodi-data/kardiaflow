{
 "cells": [
  {
   "metadata": {},
   "cell_type": "code",
   "outputs": [],
   "execution_count": null,
   "source": [
    "# bronze_patients_autoloader.ipynb\n",
    "# SOURCE: Ingest raw patient CSVs into Bronze using Auto Loader.\n",
    "# OUTPUT: `kardia_bronze.bronze_patients` with Change Data Feed enabled.\n",
    "# PATTERN: CSV to Auto Loader (incremental batch)\n",
    "# TRIGGER: Incremental batch; append to Delta table with schema evolution enabled.\n",
    "\n",
    "from kflow.config import BRONZE_DB, bronze_paths, current_batch_id\n",
    "from kflow.display_utils import show_history\n",
    "from kflow.etl_utils import add_audit_cols\n",
    "\n",
    "import pyspark.sql.functions as F\n",
    "from pyspark.sql.types import StructType, StructField, StringType\n",
    "\n",
    "# Load Bronze paths\n",
    "P = bronze_paths(\"patients\")\n",
    "BRONZE_TABLE = P.table"
   ]
  },
  {
   "metadata": {},
   "cell_type": "code",
   "outputs": [],
   "execution_count": null,
   "source": [
    "# Define explicit schema to enforce structure and improve Auto-loader performance.\n",
    "patients_schema = StructType([\n",
    "    StructField(\"ID\",         StringType(),  False),\n",
    "    StructField(\"BIRTHDATE\",  StringType(),  True),\n",
    "    StructField(\"DEATHDATE\",  StringType(),  True),\n",
    "    StructField(\"SSN\",        StringType(),  True),\n",
    "    StructField(\"DRIVERS\",    StringType(),  True),\n",
    "    StructField(\"PASSPORT\",   StringType(),  True),\n",
    "    StructField(\"PREFIX\",     StringType(),  True),\n",
    "    StructField(\"FIRST\",      StringType(),  True),\n",
    "    StructField(\"LAST\",       StringType(),  True),\n",
    "    StructField(\"SUFFIX\",     StringType(),  True),\n",
    "    StructField(\"MAIDEN\",     StringType(),  True),\n",
    "    StructField(\"MARITAL\",    StringType(),  True),\n",
    "    StructField(\"RACE\",       StringType(),  True),\n",
    "    StructField(\"ETHNICITY\",  StringType(),  True),\n",
    "    StructField(\"GENDER\",     StringType(),  True),\n",
    "    StructField(\"BIRTHPLACE\", StringType(),  True),\n",
    "    StructField(\"ADDRESS\",    StringType(),  True)\n",
    "])"
   ]
  },
  {
   "metadata": {},
   "cell_type": "code",
   "outputs": [],
   "execution_count": null,
   "source": [
    "# 1. Ensure Bronze Patients table exists\n",
    "spark.sql(\n",
    "    f\"\"\"\n",
    "    CREATE TABLE IF NOT EXISTS {BRONZE_TABLE}\n",
    "    USING DELTA\n",
    "    COMMENT 'Bronze table for batch Auto Loader ingest of patient records.'\n",
    "    LOCATION '{P.bronze}'\n",
    "    TBLPROPERTIES (delta.enableChangeDataFeed = true)\n",
    "    \"\"\"\n",
    ")"
   ]
  },
  {
   "metadata": {},
   "cell_type": "code",
   "outputs": [],
   "execution_count": null,
   "source": [
    "# 2. Define an incremental batch pipeline using Auto Loader\n",
    "stream = (\n",
    "  spark.readStream.format(\"cloudFiles\")\n",
    "       .option(\"cloudFiles.format\", \"csv\")\n",
    "       .option(\"cloudFiles.schemaLocation\", P.schema)\n",
    "       .option(\"cloudFiles.includeExistingFiles\", \"true\")\n",
    "       .option(\"header\", \"true\")\n",
    "       .schema(patients_schema)\n",
    "       .load(P.raw)\n",
    "       .transform(add_audit_cols)\n",
    "\n",
    "       .writeStream\n",
    "       .option(\"checkpointLocation\", P.checkpoint)\n",
    "       .option(\"mergeSchema\", \"true\")\n",
    "       .trigger(availableNow=True)\n",
    "       .toTable(BRONZE_TABLE)\n",
    ")\n",
    "stream.awaitTermination()"
   ]
  },
  {
   "metadata": {},
   "cell_type": "code",
   "outputs": [],
   "execution_count": null,
   "source": [
    "# 5. Batch finished - Verify Bronze Patients table and ingestion history.\n",
    "df = spark.table(BRONZE_TABLE)\n",
    "print(f\"Bronze Patients row count: {df.count():,}\")\n",
    "display(df.limit(5))\n",
    "show_history(P.bronze)"
   ]
  }
 ],
 "metadata": {
  "application/vnd.databricks.v1+notebook": {
   "computePreferences": null,
   "dashboards": [],
   "environmentMetadata": {
    "base_environment": "",
    "environment_version": "2"
   },
   "inputWidgetPreferences": null,
   "language": "python",
   "notebookMetadata": {
    "mostRecentlyExecutedCommandWithImplicitDF": {
     "commandId": -1,
     "dataframes": [
      "_sqldf"
     ]
    },
    "pythonIndentUnit": 4
   },
   "notebookName": "01_bronze_patients_autoloader",
   "widgets": {}
  },
  "language_info": {
   "name": "python"
  }
 },
 "nbformat": 4,
 "nbformat_minor": 0
}

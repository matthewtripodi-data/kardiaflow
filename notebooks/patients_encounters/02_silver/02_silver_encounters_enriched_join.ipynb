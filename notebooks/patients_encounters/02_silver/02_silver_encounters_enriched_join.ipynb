{
 "cells": [
  {
   "cell_type": "code",
   "execution_count": 0,
   "metadata": {
    "application/vnd.databricks.v1+cell": {
     "cellMetadata": {
      "byteLimit": 2048000,
      "rowLimit": 10000
     },
     "inputWidgets": {},
     "nuid": "56b58b98-9ddf-4073-9979-c2dbef2dd3f9",
     "showTitle": false,
     "tableResultSettingsMap": {},
     "title": ""
    }
   },
   "outputs": [],
   "source": [
    "# 02_silver_encounters_enriched_join.ipynb\n",
    "# SOURCE:  Joins streaming Silver encounters with static Silver patients for enrichment.\n",
    "# OUTPUT:  `kardia_silver.silver_encounters_enriched`, continuously upserted.\n",
    "# PATTERN: Stream–static left join (all encounters retained, even when patient is missing).\n",
    "# TRIGGER: Continuous micro‑batches; upsert into Delta table via MERGE.\n",
    "\n",
    "from pyspark.sql import functions as F\n",
    "from delta.tables import DeltaTable\n",
    "\n",
    "# Table + checkpoint\n",
    "SILVER_ENCOUNTERS_ENRICHED = \"kardia_silver.silver_encounters_enriched\"\n",
    "CHECKPOINT_PATH = \"dbfs:/kardia/_checkpoints/silver_encounters_enriched\""
   ]
  },
  {
   "cell_type": "code",
   "execution_count": 0,
   "metadata": {
    "application/vnd.databricks.v1+cell": {
     "cellMetadata": {
      "byteLimit": 2048000,
      "rowLimit": 10000
     },
     "inputWidgets": {},
     "nuid": "4c8ff28b-1aa4-406d-8015-584078d009b7",
     "showTitle": false,
     "tableResultSettingsMap": {},
     "title": ""
    }
   },
   "outputs": [],
   "source": [
    "# 1. Ensure the target Delta table exists (with the correct schema).\n",
    "spark.sql(\n",
    "    f\"\"\"\n",
    "    CREATE TABLE IF NOT EXISTS {SILVER_ENCOUNTERS_ENRICHED} (\n",
    "        encounter_id       STRING,\n",
    "        patient_id         STRING,\n",
    "        START_TS           TIMESTAMP,\n",
    "        CODE               STRING,\n",
    "        DESCRIPTION        STRING,\n",
    "        REASONCODE         STRING,\n",
    "        REASONDESCRIPTION  STRING,\n",
    "        gender             STRING,\n",
    "        birth_year         INT\n",
    "    ) USING DELTA\n",
    "    \"\"\"\n",
    ")"
   ]
  },
  {
   "cell_type": "code",
   "execution_count": 0,
   "metadata": {
    "application/vnd.databricks.v1+cell": {
     "cellMetadata": {
      "byteLimit": 2048000,
      "rowLimit": 10000
     },
     "inputWidgets": {},
     "nuid": "e8043799-541f-47c6-a6df-a55d0af8c61a",
     "showTitle": false,
     "tableResultSettingsMap": {},
     "title": ""
    }
   },
   "outputs": [],
   "source": [
    "# 2. Read the streaming and static inputs\n",
    "enc_stream  = spark.readStream.table(\"kardia_silver.silver_encounters\")\n",
    "patients_df = spark.table(\"kardia_silver.silver_patients\")"
   ]
  },
  {
   "cell_type": "code",
   "execution_count": 0,
   "metadata": {
    "application/vnd.databricks.v1+cell": {
     "cellMetadata": {
      "byteLimit": 2048000,
      "rowLimit": 10000
     },
     "inputWidgets": {},
     "nuid": "4e2079ec-f0d3-4cc4-a662-e1fecceae117",
     "showTitle": false,
     "tableResultSettingsMap": {},
     "title": ""
    }
   },
   "outputs": [],
   "source": [
    "# 3. Build the joined DataFrame\n",
    "joined = (\n",
    "    enc_stream.alias(\"e\")\n",
    "      .join(\n",
    "        patients_df.alias(\"p\"),\n",
    "        F.col(\"e.patient_id\") == F.col(\"p.id\"),\n",
    "        \"left\"\n",
    "      )\n",
    "      .select(\n",
    "        F.col(\"e.encounter_id\"),\n",
    "        F.col(\"e.patient_id\"),\n",
    "        F.col(\"e.START_TS\"),\n",
    "        F.col(\"e.CODE\"),\n",
    "        F.col(\"e.DESCRIPTION\"),\n",
    "        F.col(\"e.REASONCODE\"),\n",
    "        F.col(\"e.REASONDESCRIPTION\"),\n",
    "        F.col(\"p.gender\").alias(\"gender\"),\n",
    "        F.col(\"p.birth_year\").alias(\"birth_year\")\n",
    "      )\n",
    ")"
   ]
  },
  {
   "cell_type": "code",
   "execution_count": 0,
   "metadata": {
    "application/vnd.databricks.v1+cell": {
     "cellMetadata": {
      "byteLimit": 2048000,
      "rowLimit": 10000
     },
     "inputWidgets": {},
     "nuid": "8e9e8f4b-e00d-4e82-ab07-068fe203a3ac",
     "showTitle": false,
     "tableResultSettingsMap": {},
     "title": ""
    }
   },
   "outputs": [],
   "source": [
    "# 4. Define upsert logic for each micro‑batch\n",
    "def upsert_to_encounters_enriched(batch_df, _):\n",
    "    if batch_df.isEmpty():\n",
    "        return\n",
    "    (\n",
    "      DeltaTable.forName(spark, SILVER_ENCOUNTERS_ENRICHED)\n",
    "        .alias(\"t\")\n",
    "        .merge(batch_df.alias(\"s\"), \"t.encounter_id = s.encounter_id\")\n",
    "        .whenMatchedUpdateAll()\n",
    "        .whenNotMatchedInsertAll()\n",
    "        .execute()\n",
    "    )"
   ]
  },
  {
   "cell_type": "code",
   "execution_count": 0,
   "metadata": {
    "application/vnd.databricks.v1+cell": {
     "cellMetadata": {
      "byteLimit": 2048000,
      "rowLimit": 10000
     },
     "inputWidgets": {},
     "nuid": "89b43805-92bb-435e-8990-16d5539fb45d",
     "showTitle": false,
     "tableResultSettingsMap": {},
     "title": ""
    }
   },
   "outputs": [],
   "source": [
    "# 5. Start the continuous stream with a 30‑second trigger\n",
    "query = (\n",
    "    joined.writeStream\n",
    "          .foreachBatch(upsert_to_encounters_enriched)\n",
    "          .option(\"checkpointLocation\", CHECKPOINT_PATH)\n",
    "          .trigger(processingTime=\"30 seconds\")\n",
    "          .start()\n",
    ")\n",
    "\n",
    "displayHTML(\n",
    "    \"\"\"\n",
    "    <div style='color:green; font-weight:bold;'>\n",
    "        Stream started: silver_encounters_enriched<br>\n",
    "        Trigger: every 30 sec - Join: streaming encounters + static patients\n",
    "    </div>\n",
    "    \"\"\"\n",
    ")\n",
    "query.awaitTermination()"
   ]
  }
 ],
 "metadata": {
  "application/vnd.databricks.v1+notebook": {
   "computePreferences": null,
   "dashboards": [],
   "environmentMetadata": {
    "base_environment": "",
    "environment_version": "2"
   },
   "inputWidgetPreferences": null,
   "language": "python",
   "notebookMetadata": {
    "mostRecentlyExecutedCommandWithImplicitDF": {
     "commandId": 4880559092059786,
     "dataframes": [
      "_sqldf"
     ]
    },
    "pythonIndentUnit": 4
   },
   "notebookName": "02_silver_encounters_enriched_join",
   "widgets": {}
  },
  "language_info": {
   "name": "python"
  }
 },
 "nbformat": 4,
 "nbformat_minor": 0
}

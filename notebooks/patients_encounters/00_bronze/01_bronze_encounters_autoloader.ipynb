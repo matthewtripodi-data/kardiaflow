{
 "cells": [
  {
   "cell_type": "code",
   "execution_count": 0,
   "metadata": {
    "application/vnd.databricks.v1+cell": {
     "cellMetadata": {
      "byteLimit": 2048000,
      "rowLimit": 10000
     },
     "inputWidgets": {},
     "nuid": "df76baf4-d638-4d3e-acd5-071e5e265394",
     "showTitle": false,
     "tableResultSettingsMap": {},
     "title": ""
    }
   },
   "outputs": [],
   "source": [
    "# 01_bronze_encounters_autoloader.ipynb\n",
    "# SOURCE: Ingest raw encounter Avro files into the Bronze layer using Auto Loader.\n",
    "# OUTPUT: `kardia_bronze.bronze_encounters` with CDF enabled.\n",
    "# TRIGGER: Continuous stream; append to Delta table with schema evolution enabled.\n",
    "\n",
    "import pyspark.sql.functions as F\n",
    "\n",
    "BRONZE_DB = \"kardia_bronze\"\n",
    "BRONZE_ENCOUNTERS_TBL = f\"{BRONZE_DB}.bronze_encounters\"\n",
    "\n",
    "RAW_PATH = \"dbfs:/kardia/raw/encounters/\"\n",
    "BRONZE_PATH = \"dbfs:/kardia/bronze/bronze_encounters\"\n",
    "SCHEMA_PATH = \"dbfs:/kardia/_schemas/bronze_encounters\"\n",
    "CHECKPOINT_PATH = \"dbfs:/kardia/_checkpoints/bronze_encounters\"\n",
    "BAD_PATH = \"dbfs:/kardia/_quarantine/raw/bad_encounters\""
   ]
  },
  {
   "cell_type": "code",
   "execution_count": 0,
   "metadata": {
    "application/vnd.databricks.v1+cell": {
     "cellMetadata": {
      "byteLimit": 2048000,
      "rowLimit": 10000
     },
     "inputWidgets": {},
     "nuid": "58874d02-6a4a-47ca-827b-11273cf93550",
     "showTitle": false,
     "tableResultSettingsMap": {},
     "title": ""
    }
   },
   "outputs": [],
   "source": [
    "# 1. Ensure the Bronze DB and Bronze Encounters table exist.\n",
    "spark.sql(f\"CREATE DATABASE IF NOT EXISTS {BRONZE_DB}\")\n",
    "\n",
    "spark.sql(\n",
    "    f\"\"\"\n",
    "    CREATE TABLE IF NOT EXISTS {BRONZE_ENCOUNTERS_TBL}\n",
    "    USING DELTA\n",
    "    COMMENT 'Bronze Avro ingest of encounter records.'\n",
    "    LOCATION '{BRONZE_PATH}'\n",
    "    TBLPROPERTIES ('delta.enableChangeDataFeed' = 'true')\n",
    "    \"\"\"\n",
    ")"
   ]
  },
  {
   "cell_type": "code",
   "execution_count": 0,
   "metadata": {
    "application/vnd.databricks.v1+cell": {
     "cellMetadata": {
      "byteLimit": 2048000,
      "rowLimit": 10000
     },
     "inputWidgets": {},
     "nuid": "747e0497-cf49-4e6a-8667-9d960e97a0ce",
     "showTitle": false,
     "tableResultSettingsMap": {},
     "title": ""
    },
    "jupyter": {
     "is_executing": true
    }
   },
   "outputs": [],
   "source": [
    "# 2. Define a streaming pipeline using Auto‑loader.\n",
    "stream = (\n",
    "    spark.readStream\n",
    "         .format(\"cloudFiles\")\n",
    "         .option(\"cloudFiles.format\", \"avro\")\n",
    "         .option(\"cloudFiles.schemaLocation\", SCHEMA_PATH)\n",
    "         .option(\"cloudFiles.includeExistingFiles\",\"true\")\n",
    "         .option(\"badRecordsPath\", BAD_PATH)\n",
    "         .load(RAW_PATH)\n",
    "\n",
    "         # Add audit columns\n",
    "         .withColumn(\"_ingest_ts\", F.current_timestamp())\n",
    "         .withColumn(\"_source_file\", F.input_file_name())\n",
    "         .withColumn(\"_batch_id\", F.lit(spark.conf.get(\"spark.databricks.job.runId\", \"manual\")))\n",
    "\n",
    "         .writeStream\n",
    "         .option(\"checkpointLocation\", CHECKPOINT_PATH)\n",
    "         .option(\"mergeSchema\", \"true\")\n",
    "         .trigger(processingTime=\"30 seconds\")\n",
    "         .toTable(BRONZE_ENCOUNTERS_TBL)\n",
    ")\n",
    "stream.awaitTermination()"
   ]
  },
  {
   "cell_type": "code",
   "execution_count": 0,
   "metadata": {
    "application/vnd.databricks.v1+cell": {
     "cellMetadata": {
      "byteLimit": 2048000,
      "rowLimit": 10000
     },
     "inputWidgets": {},
     "nuid": "bc5375c2-9103-41b9-8c70-bce279c9b151",
     "showTitle": false,
     "tableResultSettingsMap": {},
     "title": ""
    }
   },
   "outputs": [],
   "source": [
    "# 3. Batch finished - Verify Bronze Encounters table and ingestion history.\n",
    "\n",
    "# Read the Bronze Encounters table into a DataFrame.\n",
    "df = spark.table(BRONZE_ENCOUNTERS_TBL)\n",
    "count = df.count()\n",
    "\n",
    "displayHTML(f\"<div style='color:green; font-weight:bold'>Bronze Encounters row count: {count}</div>\")\n",
    "display(df.limit(5))\n",
    "\n",
    "# Display Delta Lake history to verify CDF and ingest details.\n",
    "history = spark.sql(f\"DESCRIBE HISTORY delta.`{BRONZE_PATH}`\").select(\"version\", \"timestamp\", \"operation\",\n",
    "                                                                      \"operationParameters\")\n",
    "displayHTML(\"<div style='margin-top:10px; font-weight:bold'>Recent Delta History:</div>\")\n",
    "display(history.limit(5))"
   ]
  }
 ],
 "metadata": {
  "application/vnd.databricks.v1+notebook": {
   "computePreferences": null,
   "dashboards": [],
   "environmentMetadata": {
    "base_environment": "",
    "environment_version": "2"
   },
   "inputWidgetPreferences": null,
   "language": "python",
   "notebookMetadata": {
    "mostRecentlyExecutedCommandWithImplicitDF": {
     "commandId": 6336542656291775,
     "dataframes": [
      "_sqldf"
     ]
    },
    "pythonIndentUnit": 4
   },
   "notebookName": "01_bronze_encounters_autoloader",
   "widgets": {}
  },
  "language_info": {
   "name": "python"
  }
 },
 "nbformat": 4,
 "nbformat_minor": 0
}

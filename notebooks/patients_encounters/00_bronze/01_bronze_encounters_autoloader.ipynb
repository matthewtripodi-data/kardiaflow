{
 "cells": [
  {
   "cell_type": "code",
   "execution_count": 0,
   "metadata": {
    "application/vnd.databricks.v1+cell": {
     "cellMetadata": {
      "byteLimit": 2048000,
      "rowLimit": 10000
     },
     "inputWidgets": {},
     "nuid": "df76baf4-d638-4d3e-acd5-071e5e265394",
     "showTitle": false,
     "tableResultSettingsMap": {},
     "title": ""
    }
   },
   "outputs": [],
   "source": [
    "# 01_bronze_encounters_autoloader.ipynb\n",
    "# SOURCE: Ingest raw encounter Avro files into the Bronze layer using Auto Loader.\n",
    "# OUTPUT: `kardia_bronze.bronze_encounters` with CDF enabled.\n",
    "# TRIGGER: Continuous stream; append to Delta table with schema evolution enabled.\n",
    "\n",
    "from kflow.config import BRONZE_DB, bronze_paths, current_batch_id\n",
    "from kflow.display_utils import banner, banner_stream, show_history, show_head\n",
    "from kflow.etl_utils import add_audit_cols\n",
    "\n",
    "import pyspark.sql.functions as F\n",
    "\n",
    "# Load Bronze paths\n",
    "P = bronze_paths(\"encounters\")\n",
    "BRONZE_TABLE = P.table"
   ]
  },
  {
   "cell_type": "code",
   "execution_count": 0,
   "metadata": {
    "application/vnd.databricks.v1+cell": {
     "cellMetadata": {
      "byteLimit": 2048000,
      "rowLimit": 10000
     },
     "inputWidgets": {},
     "nuid": "58874d02-6a4a-47ca-827b-11273cf93550",
     "showTitle": false,
     "tableResultSettingsMap": {},
     "title": ""
    }
   },
   "outputs": [],
   "source": [
    "# 1. Ensure Bronze Encounters table exists\n",
    "spark.sql(\n",
    "    f\"\"\"\n",
    "    CREATE TABLE IF NOT EXISTS {BRONZE_TABLE}\n",
    "    USING DELTA\n",
    "    COMMENT 'Bronze Avro ingest of encounter records.'\n",
    "    LOCATION '{P.bronze}'\n",
    "    \"\"\"\n",
    ")"
   ]
  },
  {
   "cell_type": "code",
   "execution_count": 0,
   "metadata": {
    "application/vnd.databricks.v1+cell": {
     "cellMetadata": {
      "byteLimit": 2048000,
      "rowLimit": 10000
     },
     "inputWidgets": {},
     "nuid": "747e0497-cf49-4e6a-8667-9d960e97a0ce",
     "showTitle": false,
     "tableResultSettingsMap": {},
     "title": ""
    },
    "jupyter": {
     "is_executing": true
    }
   },
   "outputs": [],
   "source": [
    "# 2. Define a streaming pipeline using Auto Loader\n",
    "stream = (\n",
    "  spark.readStream.format(\"cloudFiles\")\n",
    "       .option(\"cloudFiles.format\", \"avro\")\n",
    "       .option(\"cloudFiles.schemaLocation\", P.schema)\n",
    "       .option(\"cloudFiles.includeExistingFiles\", \"true\")\n",
    "       .option(\"badRecordsPath\", P.bad)\n",
    "       .load(P.raw)\n",
    "       .transform(add_audit_cols)\n",
    "\n",
    "       .writeStream\n",
    "       .option(\"checkpointLocation\", P.checkpoint)\n",
    "       .option(\"mergeSchema\", \"true\")\n",
    "       .trigger(processingTime=\"30 seconds\")\n",
    "       .toTable(BRONZE_TABLE)\n",
    ")\n",
    "\n",
    "banner_stream(\n",
    "    name    = \"bronze_encounters\",\n",
    "    trigger = \"every 30 sec\",\n",
    "    source  = \"Auto Loader - raw/encounters (avro)\"\n",
    ")\n",
    "stream.awaitTermination()"
   ]
  }
 ],
 "metadata": {
  "application/vnd.databricks.v1+notebook": {
   "computePreferences": null,
   "dashboards": [],
   "environmentMetadata": {
    "base_environment": "",
    "environment_version": "2"
   },
   "inputWidgetPreferences": null,
   "language": "python",
   "notebookMetadata": {
    "mostRecentlyExecutedCommandWithImplicitDF": {
     "commandId": 6336542656291775,
     "dataframes": [
      "_sqldf"
     ]
    },
    "pythonIndentUnit": 4
   },
   "notebookName": "01_bronze_encounters_autoloader",
   "widgets": {}
  },
  "language_info": {
   "name": "python"
  }
 },
 "nbformat": 4,
 "nbformat_minor": 0
}

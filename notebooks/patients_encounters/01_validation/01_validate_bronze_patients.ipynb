{
 "cells": [
  {
   "cell_type": "code",
   "execution_count": 0,
   "metadata": {
    "application/vnd.databricks.v1+cell": {
     "cellMetadata": {
      "byteLimit": 2048000,
      "rowLimit": 10000
     },
     "inputWidgets": {},
     "nuid": "83185d9b-893d-4229-a73e-2d91382b83d1",
     "showTitle": false,
     "tableResultSettingsMap": {},
     "title": ""
    }
   },
   "outputs": [],
   "source": [
    "# 01_validate_bronze_patients.ipynb\n",
    "# SOURCE: Bronze Patients table\n",
    "# OUTPUT: N/A\n",
    "\n",
    "from pyspark.sql import functions as F\n",
    "\n",
    "BRONZE_PATH = \"dbfs:/kardia/bronze/bronze_patients\"\n",
    "BRONZE_PATIENTS_TBL = \"bronze_patients\"\n",
    "\n",
    "patients_df = spark.read.format(\"delta\").load(BRONZE_PATH)"
   ]
  },
  {
   "cell_type": "code",
   "execution_count": 0,
   "metadata": {
    "application/vnd.databricks.v1+cell": {
     "cellMetadata": {
      "byteLimit": 2048000,
      "rowLimit": 10000
     },
     "inputWidgets": {},
     "nuid": "b1cf73f1-9812-4a2f-8edb-fea928844868",
     "showTitle": false,
     "tableResultSettingsMap": {},
     "title": ""
    }
   },
   "outputs": [],
   "source": [
    "# 1. Check for NULLs and uniqueness after Bronze ingestion.\n",
    "stats_row = patients_df.agg(\n",
    "    F.count(\"*\").alias(\"row_count\"),\n",
    "    F.countDistinct(\"ID\").alias(\"distinct_ids\"),\n",
    "    F.sum(F.when(F.col(\"ID\").isNull(), 1).otherwise(0)).alias(\"null_id_count\"),\n",
    "    F.sum(F.when(~F.col(\"GENDER\").isin(\"M\",\"F\"), 1).otherwise(0)).alias(\"invalid_gender_count\")\n",
    ").first()\n",
    "\n",
    "# Track validation result\n",
    "validation_passed = True\n",
    "error_messages = []"
   ]
  },
  {
   "cell_type": "code",
   "execution_count": 0,
   "metadata": {
    "application/vnd.databricks.v1+cell": {
     "cellMetadata": {
      "byteLimit": 2048000,
      "rowLimit": 10000
     },
     "inputWidgets": {},
     "nuid": "da4e89ef-d4fb-47f0-b189-6541cb5cf1ce",
     "showTitle": false,
     "tableResultSettingsMap": {},
     "title": ""
    }
   },
   "outputs": [],
   "source": [
    "# 2. Run assertions to catch critical data quality issues\n",
    "if stats_row.null_id_count != 0:\n",
    "    validation_passed = False\n",
    "    error_messages.append(f\"{stats_row.null_id_count} null ID(s) found\")\n",
    "if stats_row.invalid_gender_count != 0:\n",
    "    validation_passed = False\n",
    "    error_messages.append(f\"{stats_row.invalid_gender_count} invalid GENDER values\")\n",
    "if stats_row.distinct_ids != stats_row.row_count:\n",
    "    validation_passed = False\n",
    "    error_messages.append(\"Duplicate Patient ID(s) detected\")\n",
    "\n",
    "# Optional printout\n",
    "print(\"Validation stats:\", stats_row.asDict())\n",
    "if validation_passed:\n",
    "    print(\"Bronze Patients validation passed\")\n",
    "else:\n",
    "    print(\"Bronze Patients validation failed:\", \"; \".join(error_messages))"
   ]
  },
  {
   "cell_type": "code",
   "execution_count": 0,
   "metadata": {
    "application/vnd.databricks.v1+cell": {
     "cellMetadata": {
      "byteLimit": 2048000,
      "rowLimit": 10000
     },
     "inputWidgets": {},
     "nuid": "035d8881-775f-400e-bab8-f73aebc355a5",
     "showTitle": false,
     "tableResultSettingsMap": {},
     "title": ""
    }
   },
   "outputs": [],
   "source": [
    "# 3. Append one-row summary to track record count (data quality check)\n",
    "spark.sql(\"CREATE DATABASE IF NOT EXISTS kardia_validation\")\n",
    "\n",
    "validation_summary_df = (\n",
    "    spark.createDataFrame([stats_row.asDict()])\n",
    "    .withColumn(\"table_name\", F.lit(BRONZE_PATIENTS_TBL))\n",
    "    .withColumn(\"passed\", F.lit(validation_passed))\n",
    "    .withColumn(\"errors\", F.lit(\", \".join(error_messages)))\n",
    "    .withColumn(\"_run_ts\", F.current_timestamp())\n",
    ")\n",
    "\n",
    "(validation_summary_df.write\n",
    "                      .mode(\"append\")\n",
    "                      .option(\"mergeSchema\", \"true\")\n",
    "                      .saveAsTable(\"kardia_validation.bronze_patients_summary\"))"
   ]
  },
  {
   "metadata": {},
   "cell_type": "code",
   "outputs": [],
   "execution_count": null,
   "source": [
    "# 4. Display Bronze Patients validation status\n",
    "if validation_passed:\n",
    "    displayHTML(f\"<div style='color:green; font-weight:bold'>Bronze Patients validation passed</div>\")\n",
    "else:\n",
    "    displayHTML(f\"<div style='color:red; font-weight:bold'>Validation failed: {'; '.join(error_messages)}</div>\")"
   ]
  }
 ],
 "metadata": {
  "application/vnd.databricks.v1+notebook": {
   "computePreferences": null,
   "dashboards": [],
   "environmentMetadata": {
    "base_environment": "",
    "environment_version": "2"
   },
   "inputWidgetPreferences": null,
   "language": "python",
   "notebookMetadata": {
    "pythonIndentUnit": 4
   },
   "notebookName": "01_validate_bronze_patients",
   "widgets": {}
  },
  "language_info": {
   "name": "python"
  }
 },
 "nbformat": 4,
 "nbformat_minor": 0
}

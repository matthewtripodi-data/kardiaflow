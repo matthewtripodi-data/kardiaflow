{
 "cells": [
  {
   "cell_type": "code",
   "execution_count": 0,
   "metadata": {
    "application/vnd.databricks.v1+cell": {
     "cellMetadata": {
      "byteLimit": 2048000,
      "rowLimit": 10000
     },
     "inputWidgets": {},
     "nuid": "7acaeb0d-6f12-4675-92f4-7df6a44b9fa4",
     "showTitle": false,
     "tableResultSettingsMap": {},
     "title": ""
    }
   },
   "outputs": [],
   "source": [
    "%sql\n",
    "/* 03_gold_patient_lifecycle.ipynb\n",
    " GOAL 1: gold_patient_lifecycle — time between visits, patient lifetime span, new/returning classification, age‑band utilization\n",
    "\n",
    " SOURCE: kardia_silver.silver_encounters_enriched\n",
    " OUTPUT: TABLE: kardia_gold.gold_patient_lifecycle\n",
    "\n",
    " TRIGGER: Full snapshot overwrite each run — fast and simple for small datasets.\n",
    "          In production, switch to foreachBatch + MERGE to only update changed patients.\n",
    "\n",
    " NOTE:\n",
    "  - lifetime_days = days between first and last visit  \n",
    "  - classification = 'new' if only one visit, else 'returning'  \n",
    "  - age_band buckets based on current_date() – birth_year  \n",
    "  - avg_days_between_visits = lifetime_days ÷ (visit_count–1) \n",
    "  - Current dataset has 2,565 distinct patient_id. */"
   ]
  },
  {
   "cell_type": "code",
   "execution_count": 0,
   "metadata": {
    "application/vnd.databricks.v1+cell": {
     "cellMetadata": {
      "byteLimit": 2048000,
      "implicitDf": true,
      "rowLimit": 10000
     },
     "inputWidgets": {},
     "nuid": "90b1bdfe-7c54-435d-b98f-4969df5ef26a",
     "showTitle": false,
     "tableResultSettingsMap": {},
     "title": ""
    }
   },
   "outputs": [],
   "source": [
    "%sql\n",
    "-- 1. Ensure Gold database exists\n",
    "CREATE DATABASE IF NOT EXISTS kardia_gold;\n",
    "\n",
    "-- 2. Patient lifecycle fact table (pure SQL overwrite)\n",
    "CREATE OR REPLACE TABLE kardia_gold.gold_patient_lifecycle\n",
    "TBLPROPERTIES (\n",
    "  'delta.autoOptimize.optimizeWrite' = 'true',\n",
    "  'delta.autoOptimize.autoCompact' = 'true'\n",
    ") AS\n",
    "SELECT\n",
    "  patient_id,\n",
    "  MIN(start_ts)                                   AS first_visit_ts,\n",
    "  MAX(start_ts)                                   AS last_visit_ts,\n",
    "  DATEDIFF(MAX(start_ts), MIN(start_ts))          AS lifetime_days,\n",
    "  COUNT(*)                                        AS visit_count,\n",
    "  CASE WHEN COUNT(*) = 1 THEN 'new' ELSE 'returning' END AS classification,\n",
    "  CASE\n",
    "    WHEN YEAR(current_date()) - birth_year < 20             THEN '<20'\n",
    "    WHEN YEAR(current_date()) - birth_year BETWEEN 20 AND 39 THEN '20-39'\n",
    "    WHEN YEAR(current_date()) - birth_year BETWEEN 40 AND 59 THEN '40-59'\n",
    "    ELSE '60+'\n",
    "  END AS age_band,\n",
    "  CASE\n",
    "    WHEN COUNT(*) > 1\n",
    "    THEN ROUND(DATEDIFF(MAX(start_ts), MIN(start_ts)) / (COUNT(*) - 1), 2)\n",
    "    ELSE NULL\n",
    "  END AS avg_days_between_visits\n",
    "FROM kardia_silver.silver_encounters_enriched\n",
    "WHERE birth_year IS NOT NULL\n",
    "GROUP BY patient_id, birth_year;"
   ]
  },
  {
   "cell_type": "code",
   "execution_count": 0,
   "metadata": {
    "application/vnd.databricks.v1+cell": {
     "cellMetadata": {
      "byteLimit": 2048000,
      "implicitDf": true,
      "rowLimit": 10000
     },
     "inputWidgets": {},
     "nuid": "5fd9c5ec-f81e-482c-9ba3-42b63a8bcfc6",
     "showTitle": false,
     "tableResultSettingsMap": {},
     "title": ""
    }
   },
   "outputs": [],
   "source": [
    "%sql\n",
    "-- 3. Preview: Top 10 patients by visit_count\n",
    "SELECT *\n",
    "FROM kardia_gold.gold_patient_lifecycle\n",
    "ORDER BY visit_count DESC\n",
    "LIMIT 10;"
   ]
  }
 ],
 "metadata": {
  "application/vnd.databricks.v1+notebook": {
   "computePreferences": null,
   "dashboards": [],
   "environmentMetadata": {
    "base_environment": "",
    "environment_version": "2"
   },
   "inputWidgetPreferences": null,
   "language": "python",
   "notebookMetadata": {
    "mostRecentlyExecutedCommandWithImplicitDF": {
     "commandId": 8656929829412858,
     "dataframes": [
      "_sqldf"
     ]
    },
    "pythonIndentUnit": 4
   },
   "notebookName": "03_gold_gender_breakdown",
   "widgets": {}
  },
  "language_info": {
   "name": "python"
  }
 },
 "nbformat": 4,
 "nbformat_minor": 0
}

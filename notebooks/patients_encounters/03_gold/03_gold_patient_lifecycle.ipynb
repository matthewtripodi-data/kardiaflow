{
 "cells": [
  {
   "metadata": {},
   "cell_type": "code",
   "outputs": [],
   "execution_count": null,
   "source": [
    "%sql\n",
    "/* 03_gold_patient_lifecycle.ipynb\n",
    " GOAL 1: gold_patient_lifecycle — time between visits, patient lifetime span, new/returning classification, age‑band utilization\n",
    "\n",
    " SOURCE: kardia_silver.silver_encounters_enriched\n",
    " OUTPUT: TABLE: gold_patient_lifecycle\n",
    "\n",
    " TRIGGER: Full snapshot overwrite each run — fast and simple for small datasets.\n",
    "          In production, switch to foreachBatch + MERGE to only update changed patients.\n",
    "\n",
    " NOTE:\n",
    "  - lifetime_days = days between first and last visit  \n",
    "  - classification = 'new' if only one visit, else 'returning'  \n",
    "  - age_band buckets based on current_date() – birth_year  \n",
    "  - avg_days_between_visits = lifetime_days ÷ (visit_count–1) \n",
    "  - Current dataset has 2,565 distinct patient_id. */\n",
    "\n",
    "USE kardia_gold;"
   ]
  },
  {
   "metadata": {},
   "cell_type": "code",
   "outputs": [],
   "execution_count": null,
   "source": [
    "%sql\n",
    "-- 2. Patient lifecycle fact table\n",
    "CREATE OR REPLACE TABLE gold_patient_lifecycle AS\n",
    "WITH src AS (\n",
    "  SELECT patient_id, start_ts, birth_year\n",
    "  FROM   kardia_silver.silver_encounters_enriched\n",
    "  WHERE  birth_year IS NOT NULL\n",
    "),\n",
    "agg AS (\n",
    "  SELECT\n",
    "    patient_id,\n",
    "    MIN(start_ts) AS first_visit_ts,\n",
    "    MAX(start_ts) AS last_visit_ts,\n",
    "    COUNT(*)      AS visit_count,\n",
    "    YEAR(CURRENT_DATE()) - MAX(birth_year) AS age_years\n",
    "  FROM src\n",
    "  GROUP BY patient_id\n",
    ")\n",
    "SELECT\n",
    "  patient_id,\n",
    "  first_visit_ts,\n",
    "  last_visit_ts,\n",
    "  DATEDIFF(last_visit_ts, first_visit_ts)                AS lifetime_days,\n",
    "  visit_count,\n",
    "  CASE WHEN visit_count = 1 THEN 'new' ELSE 'returning' END AS classification,\n",
    "  CASE\n",
    "    WHEN age_years < 20  THEN '<20'\n",
    "    WHEN age_years BETWEEN 20 AND 39 THEN '20-39'\n",
    "    WHEN age_years BETWEEN 40 AND 59 THEN '40-59'\n",
    "    ELSE '60+'\n",
    "  END AS age_band,\n",
    "  CASE\n",
    "    WHEN visit_count > 1\n",
    "    THEN ROUND(DATEDIFF(last_visit_ts, first_visit_ts) / (visit_count - 1), 2)\n",
    "    ELSE NULL\n",
    "  END AS avg_days_between_visits\n",
    "FROM agg;"
   ]
  },
  {
   "metadata": {},
   "cell_type": "code",
   "outputs": [],
   "execution_count": null,
   "source": [
    "%sql\n",
    "-- 3. Preview: Top 10 patients by visit_count\n",
    "SELECT *\n",
    "FROM gold_patient_lifecycle\n",
    "ORDER BY visit_count DESC\n",
    "LIMIT 10;"
   ]
  }
 ],
 "metadata": {
  "application/vnd.databricks.v1+notebook": {
   "computePreferences": null,
   "dashboards": [],
   "environmentMetadata": {
    "base_environment": "",
    "environment_version": "2"
   },
   "inputWidgetPreferences": null,
   "language": "python",
   "notebookMetadata": {
    "mostRecentlyExecutedCommandWithImplicitDF": {
     "commandId": 8656929829412858,
     "dataframes": [
      "_sqldf"
     ]
    },
    "pythonIndentUnit": 4
   },
   "notebookName": "03_gold_gender_breakdown",
   "widgets": {}
  },
  "language_info": {
   "name": "python"
  }
 },
 "nbformat": 4,
 "nbformat_minor": 0
}

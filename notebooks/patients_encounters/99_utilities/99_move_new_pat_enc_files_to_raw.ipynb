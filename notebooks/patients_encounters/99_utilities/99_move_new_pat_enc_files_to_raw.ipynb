{
 "cells": [
  {
   "cell_type": "code",
   "execution_count": 0,
   "metadata": {
    "application/vnd.databricks.v1+cell": {
     "cellMetadata": {
      "byteLimit": 2048000,
      "rowLimit": 10000
     },
     "inputWidgets": {},
     "nuid": "37dfb562-a2f8-4cb9-bfd2-2b2f0747a3e4",
     "showTitle": false,
     "tableResultSettingsMap": {},
     "title": ""
    }
   },
   "outputs": [],
   "source": [
    "# 99_move_new_patient_encounter_files_to_raw.ipynb\n",
    "# Move newly uploaded Patients and Encounters test files into their raw folders for Auto Loader.\n",
    "# Files already present in the destination folder will be skipped (idempotent).\n",
    "\n",
    "UPLOADS_DIR = \"dbfs:/FileStore/tables/\"\n",
    "RAW_PATIENTS_DIR = \"dbfs:/kardia/raw/patients/\"\n",
    "RAW_ENCOUNTERS_DIR  = \"dbfs:/kardia/raw/encounters/\"\n",
    "\n",
    "# Mapping from filename prefix to raw destination folder\n",
    "PREFIX_MAP = {\n",
    "    \"patients_part_\": RAW_PATIENTS_DIR,\n",
    "    \"encounters_part_\": RAW_ENCOUNTERS_DIR,\n",
    "}\n",
    "\n",
    "def _exists(dir_path: str, fname: str) -> bool:\n",
    "    \"\"\"Check if a file with the given name already exists in the destination directory.\"\"\"\n",
    "    return fname in [obj.name for obj in dbutils.fs.ls(dir_path)]\n",
    "\n",
    "# Move each matching uploaded file, skipping if it already exists\n",
    "for obj in dbutils.fs.ls(UPLOADS_DIR):\n",
    "    dest_dir = next((path for prefix, path in PREFIX_MAP.items()\n",
    "                     if obj.name.startswith(prefix)), None)\n",
    "\n",
    "    if not dest_dir:\n",
    "        continue  # Doesn't match expected prefixes\n",
    "\n",
    "    if _exists(dest_dir, obj.name):\n",
    "        print(f\"Skipped (already exists): {obj.name}\")\n",
    "    else:\n",
    "        dbutils.fs.cp(obj.path, dest_dir + obj.name)\n",
    "        print(f\"Moved: {obj.name} to {dest_dir}\")\n"
   ]
  }
 ],
 "metadata": {
  "application/vnd.databricks.v1+notebook": {
   "computePreferences": null,
   "dashboards": [],
   "environmentMetadata": null,
   "inputWidgetPreferences": null,
   "language": "python",
   "notebookMetadata": {
    "pythonIndentUnit": 4
   },
   "notebookName": "99_move_new_pat_enc_files_to_raw",
   "widgets": {}
  },
  "language_info": {
   "name": "python"
  }
 },
 "nbformat": 4,
 "nbformat_minor": 0
}

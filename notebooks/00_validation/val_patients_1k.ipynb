{
 "cells": [
  {
   "cell_type": "code",
   "execution_count": 0,
   "metadata": {
    "application/vnd.databricks.v1+cell": {
     "cellMetadata": {
      "byteLimit": 2048000,
      "rowLimit": 10000
     },
     "inputWidgets": {},
     "nuid": "d98531c8-d75e-4b1c-be8d-0c63633d0e16",
     "showTitle": false,
     "tableResultSettingsMap": {},
     "title": ""
    }
   },
   "outputs": [],
   "source": [
    "display(dbutils.fs.ls(\"dbfs:/kardia/raw/\"))\n"
   ]
  },
  {
   "cell_type": "code",
   "execution_count": 0,
   "metadata": {
    "application/vnd.databricks.v1+cell": {
     "cellMetadata": {
      "byteLimit": 2048000,
      "rowLimit": 10000
     },
     "inputWidgets": {},
     "nuid": "3942642b-2792-43f8-a751-75b3453ab1c8",
     "showTitle": false,
     "tableResultSettingsMap": {},
     "title": ""
    }
   },
   "outputs": [],
   "source": [
    "# ------------------------------------------------------------\n",
    "# KardiaFlow – micro-inspection of 1K-row CSV  (cost-safe)\n",
    "# ------------------------------------------------------------\n",
    "\n",
    "file_path = \"dbfs:/kardia/raw/patients_1k.csv\"  # <- Correct path format\n",
    "\n",
    "# Read with minimal options\n",
    "df = (\n",
    "    spark.read\n",
    "         .option(\"header\", \"true\")          # keep header\n",
    "         .option(\"inferSchema\", \"false\")    # fastest: treat all as strings\n",
    "         .csv(file_path)\n",
    "         .limit(5)                          # physical limit → Spark scans only what's needed\n",
    ")\n",
    "\n",
    "# Collect and print 5 rows (no fancy formatting)\n",
    "for row in df.collect():\n",
    "    print(row)\n",
    "\n",
    "# Dump schema cheaply (all StringType, no extra job)\n",
    "print(\"Columns:\", df.columns)\n",
    "print(\"Partitions:\", df.rdd.getNumPartitions())\n"
   ]
  },
  {
   "cell_type": "code",
   "execution_count": 0,
   "metadata": {
    "application/vnd.databricks.v1+cell": {
     "cellMetadata": {
      "byteLimit": 2048000,
      "rowLimit": 10000
     },
     "inputWidgets": {},
     "nuid": "60a72489-3e6f-4ef3-9006-a7ac1f3695e1",
     "showTitle": false,
     "tableResultSettingsMap": {},
     "title": ""
    }
   },
   "outputs": [],
   "source": [
    "from pyspark.sql.functions import current_date, lit\n",
    "\n",
    "# Path to the uploaded CSV file (DBFS mount, not local FS)\n",
    "file_path = \"dbfs:/kardia/raw/patients_1k.csv\"\n",
    "\n",
    "# Read the file as all strings — fastest, and avoids schema inference jobs\n",
    "df = (\n",
    "    spark.read\n",
    "         .option(\"header\", True)\n",
    "         .option(\"inferSchema\", False)\n",
    "         .csv(file_path)\n",
    ")\n",
    "\n",
    "# Add load_date column (cheap transformation)\n",
    "df = df.withColumn(\"load_date\", current_date())\n",
    "\n",
    "# Write as a small Delta table (safe overwrite, no partitioning)\n",
    "df.write.format(\"delta\") \\\n",
    "    .mode(\"overwrite\") \\\n",
    "    .option(\"overwriteSchema\", \"true\") \\\n",
    "    .saveAsTable(\"kardia_patients_stage\")\n"
   ]
  },
  {
   "cell_type": "code",
   "execution_count": 0,
   "metadata": {
    "application/vnd.databricks.v1+cell": {
     "cellMetadata": {
      "byteLimit": 2048000,
      "implicitDf": true,
      "rowLimit": 10000
     },
     "inputWidgets": {},
     "nuid": "a476d2bc-9360-4f43-8416-5fd0c508d6c6",
     "showTitle": false,
     "tableResultSettingsMap": {},
     "title": ""
    }
   },
   "outputs": [],
   "source": [
    "%sql SHOW TABLES"
   ]
  }
 ],
 "metadata": {
  "application/vnd.databricks.v1+notebook": {
   "computePreferences": null,
   "dashboards": [],
   "environmentMetadata": {
    "base_environment": "",
    "environment_version": "2"
   },
   "inputWidgetPreferences": null,
   "language": "python",
   "notebookMetadata": {
    "mostRecentlyExecutedCommandWithImplicitDF": {
     "commandId": 5957723912028818,
     "dataframes": [
      "_sqldf"
     ]
    },
    "pythonIndentUnit": 4
   },
   "notebookName": "00_data_validation_patients_1k",
   "widgets": {}
  },
  "language_info": {
   "name": "python"
  }
 },
 "nbformat": 4,
 "nbformat_minor": 0
}

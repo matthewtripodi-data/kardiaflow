{
 "cells": [
  {
   "cell_type": "code",
   "execution_count": 0,
   "metadata": {
    "application/vnd.databricks.v1+cell": {
     "cellMetadata": {
      "byteLimit": 2048000,
      "rowLimit": 10000
     },
     "inputWidgets": {},
     "nuid": "04ee6be9-aa8a-4f71-9c4c-fe806381b81d",
     "showTitle": false,
     "tableResultSettingsMap": {},
     "title": ""
    }
   },
   "outputs": [],
   "source": [
    "# 02_silver_patients_scd1_batch.py\n",
    "# SOURCE: kardia_bronze.bronze_patients (Delta CDF)\n",
    "# OUTPUT: `kardia_silver.silver_patients`, updated incrementally.\n",
    "# PATTERN: Read Change Data Feed from Bronze, mask PHI columns, derive `BIRTH_YEAR` from `BIRTHDATE`.\n",
    "# TRIGGER: Incremental batch job\n",
    "\n",
    "from kflow.config import CHANGE_TYPES, PHI_COLS_MASK, silver_paths, bronze_table\n",
    "from delta.tables import DeltaTable\n",
    "\n",
    "from pyspark.sql import functions as F, Window\n",
    "\n",
    "# Load Silver paths\n",
    "S = silver_paths(\"patients\")\n",
    "SRC_TABLE = bronze_table(\"patients\")\n",
    "TGT_TABLE = S.table"
   ]
  },
  {
   "cell_type": "code",
   "execution_count": 0,
   "metadata": {
    "application/vnd.databricks.v1+cell": {
     "cellMetadata": {
      "byteLimit": 2048000,
      "implicitDf": true,
      "rowLimit": 10000
     },
     "inputWidgets": {},
     "nuid": "8ceac8f3-eb38-484a-9c2b-fea93828f68c",
     "showTitle": false,
     "tableResultSettingsMap": {},
     "title": ""
    }
   },
   "outputs": [],
   "source": [
    "# 1. Ensure Silver Patients table exists\n",
    "spark.sql(\n",
    "    f\"\"\"\n",
    "    CREATE TABLE IF NOT EXISTS {TGT_TABLE} (\n",
    "        id           STRING  NOT NULL,\n",
    "        birth_year   INT,\n",
    "        deathdate    STRING,\n",
    "        first        STRING,\n",
    "        last         STRING,\n",
    "        ssn          STRING,\n",
    "        drivers      STRING,\n",
    "        passport     STRING,\n",
    "        birthplace   STRING,\n",
    "        marital      STRING,\n",
    "        race         STRING,\n",
    "        ethnicity    STRING,\n",
    "        gender       STRING\n",
    "    ) USING DELTA\n",
    "    \"\"\"\n",
    ")"
   ]
  },
  {
   "cell_type": "code",
   "execution_count": 0,
   "metadata": {
    "application/vnd.databricks.v1+cell": {
     "cellMetadata": {
      "byteLimit": 2048000,
      "rowLimit": 10000
     },
     "inputWidgets": {},
     "nuid": "593477bb-2fe1-418c-a7c3-1fa3bd4ca689",
     "showTitle": false,
     "tableResultSettingsMap": {},
     "title": ""
    }
   },
   "outputs": [],
   "source": [
    "# 2. Merge the latest version of each patient record into the Silver Patients table.\n",
    "#    `batch_df` is a static DF containing the latest new and updated rows from Bronze CDF.\n",
    "#    Use the `_commit_version` column from CDF to identify the most recent change per ID.\n",
    "def upsert_to_silver_patients(batch_df, _):\n",
    "    w_latest = Window.partitionBy(\"ID\").orderBy(F.col(\"_commit_version\").desc())\n",
    "\n",
    "    latest = (\n",
    "        batch_df\n",
    "          .filter(F.col(\"_change_type\").isin(*CHANGE_TYPES))\n",
    "          .filter(F.col(\"ID\").isNotNull())\n",
    "          .withColumn(\"rn\", F.row_number().over(w_latest))\n",
    "          .filter(\"rn = 1\")\n",
    "          .select(\n",
    "              F.col(\"ID\").alias(\"id\"),\n",
    "              F.year(\"BIRTHDATE\").alias(\"birth_year\"),\n",
    "              *[F.lit(None).cast(\"string\").alias(c.lower()) for c in PHI_COLS_MASK],\n",
    "              F.col(\"MARITAL\").alias(\"marital\"),\n",
    "              F.col(\"RACE\").alias(\"race\"),\n",
    "              F.col(\"ETHNICITY\").alias(\"ethnicity\"),\n",
    "              F.col(\"GENDER\").alias(\"gender\")\n",
    "          )\n",
    "    )\n",
    "\n",
    "    (DeltaTable.forName(spark, TGT_TABLE)\n",
    "               .alias(\"t\")\n",
    "               .merge(latest.alias(\"s\"), \"t.id = s.id\")\n",
    "               .whenMatchedUpdateAll()\n",
    "               .whenNotMatchedInsertAll()\n",
    "               .execute())"
   ]
  },
  {
   "cell_type": "code",
   "execution_count": 0,
   "metadata": {
    "application/vnd.databricks.v1+cell": {
     "cellMetadata": {
      "byteLimit": 2048000,
      "rowLimit": 10000
     },
     "inputWidgets": {},
     "nuid": "fada235f-9746-441d-ae9f-14b551702766",
     "showTitle": false,
     "tableResultSettingsMap": {},
     "title": ""
    }
   },
   "outputs": [],
   "source": [
    "# 3. Incremental batch run\n",
    "(spark.readStream\n",
    "      .format(\"delta\")\n",
    "      .option(\"readChangeFeed\", \"true\")\n",
    "      .table(SRC_TABLE)\n",
    "\n",
    "      .writeStream\n",
    "      .foreachBatch(upsert_to_silver_patients)\n",
    "      .option(\"checkpointLocation\", S.checkpoint)\n",
    "      .trigger(availableNow=True)\n",
    "      .start()\n",
    "      .awaitTermination())"
   ]
  },
  {
   "cell_type": "code",
   "execution_count": 0,
   "metadata": {
    "application/vnd.databricks.v1+cell": {
     "cellMetadata": {
      "byteLimit": 2048000,
      "rowLimit": 10000
     },
     "inputWidgets": {},
     "nuid": "f86f61b1-4569-4b5f-94a2-d617c8cc6e47",
     "showTitle": false,
     "tableResultSettingsMap": {},
     "title": ""
    }
   },
   "outputs": [],
   "source": [
    "# 4. Batch finished – Verify Silver Patients table row count and checkpoint path.\n",
    "df = spark.table(TGT_TABLE)\n",
    "print(f\"Silver Patients row count: {df.count():,}\")\n",
    "display(df.limit(5))\n",
    "\n",
    "# NOTE: A Delta Lake merge is not a join in the relational sense.\n",
    "# It is a mutation command where the source table drives the operation.\n",
    "#\n",
    "# Delta CDF emits all changes since the last checkpoint.\n",
    "# This may include multiple versions of the same ID across different commits.\n",
    "# We deduplicate using row_number() to keep only the latest version per patient ID."
   ]
  }
 ],
 "metadata": {
  "application/vnd.databricks.v1+notebook": {
   "computePreferences": null,
   "dashboards": [],
   "environmentMetadata": {
    "base_environment": "",
    "environment_version": "2"
   },
   "inputWidgetPreferences": null,
   "language": "python",
   "notebookMetadata": {
    "mostRecentlyExecutedCommandWithImplicitDF": {
     "commandId": 7461780133328275,
     "dataframes": [
      "_sqldf"
     ]
    },
    "pythonIndentUnit": 4
   },
   "notebookName": "02_silver_patients_scd1_batch",
   "widgets": {}
  },
  "language_info": {
   "name": "python"
  }
 },
 "nbformat": 4,
 "nbformat_minor": 0
}

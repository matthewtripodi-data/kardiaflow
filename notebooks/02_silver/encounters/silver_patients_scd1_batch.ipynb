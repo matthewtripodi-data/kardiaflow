{
 "cells": [
  {
   "cell_type": "code",
   "execution_count": 0,
   "metadata": {
    "application/vnd.databricks.v1+cell": {
     "cellMetadata": {
      "byteLimit": 2048000,
      "rowLimit": 10000
     },
     "inputWidgets": {},
     "nuid": "b71dfcc0-e6c6-4807-bfea-65c355532bd4",
     "showTitle": false,
     "tableResultSettingsMap": {},
     "title": ""
    }
   },
   "outputs": [],
   "source": [
    "# silver_patients_scd1_batch.ipynb\n",
    "# SOURCE: kardia_bronze.bronze_patients (Delta CDF)\n",
    "# OUTPUT: `kardia_silver.silver_patients`, updated incrementally.\n",
    "# PATTERN: Read Change Data Feed from Bronze, mask PHI columns, derive `BIRTH_YEAR` from `BIRTHDATE`.\n",
    "# TRIGGER: Incremental batch job\n",
    "\n",
    "%pip install -q --no-deps --no-index --find-links=/dbfs/Shared/libs kflow\n",
    "from kflow.config import CHANGE_TYPES, PHI_COLS_MASK, silver_paths, bronze_table\n",
    "\n",
    "from delta.tables import DeltaTable\n",
    "from pyspark.sql import functions as F, Window\n",
    "\n",
    "# Load Silver paths\n",
    "S = silver_paths(\"patients\")\n",
    "SRC_TABLE = bronze_table(\"patients\")\n",
    "TGT_TABLE = S.table"
   ]
  },
  {
   "cell_type": "code",
   "execution_count": 0,
   "metadata": {
    "application/vnd.databricks.v1+cell": {
     "cellMetadata": {
      "byteLimit": 2048000,
      "rowLimit": 10000
     },
     "inputWidgets": {},
     "nuid": "e2379f2f-d84d-4cb3-b233-8c5f4a943330",
     "showTitle": false,
     "tableResultSettingsMap": {},
     "title": ""
    }
   },
   "outputs": [],
   "source": [
    "# 1. Ensure Silver DB and Patients table exists\n",
    "spark.sql(f\"CREATE DATABASE IF NOT EXISTS {S.db}\")\n",
    "\n",
    "spark.sql(\n",
    "    f\"\"\"\n",
    "    CREATE TABLE IF NOT EXISTS {TGT_TABLE} (\n",
    "        id           STRING  NOT NULL,\n",
    "        birth_year   INT,\n",
    "        deathdate    STRING,\n",
    "        first        STRING,\n",
    "        last         STRING,\n",
    "        ssn          STRING,\n",
    "        drivers      STRING,\n",
    "        passport     STRING,\n",
    "        birthplace   STRING,\n",
    "        marital      STRING,\n",
    "        race         STRING,\n",
    "        ethnicity    STRING,\n",
    "        gender       STRING\n",
    "    ) USING DELTA\n",
    "    \"\"\"\n",
    ")"
   ]
  },
  {
   "cell_type": "code",
   "execution_count": 0,
   "metadata": {
    "application/vnd.databricks.v1+cell": {
     "cellMetadata": {
      "byteLimit": 2048000,
      "rowLimit": 10000
     },
     "inputWidgets": {},
     "nuid": "98924db2-31e3-4d0d-9519-43095900d7b2",
     "showTitle": false,
     "tableResultSettingsMap": {},
     "title": ""
    }
   },
   "outputs": [],
   "source": [
    "# 2. Merge the latest version of each patient record into the Silver Patients table.\n",
    "#    `batch_df` is a static DF containing the latest new and updated rows from Bronze CDF.\n",
    "#    Use the `_commit_version` column from CDF to identify the most recent change per ID.\n",
    "def upsert_to_silver(batch_df, _):\n",
    "    w_latest = Window.partitionBy(\"ID\").orderBy(F.col(\"_commit_version\").desc())\n",
    "\n",
    "    latest = (\n",
    "        batch_df\n",
    "          .filter(F.col(\"_change_type\").isin(*CHANGE_TYPES))\n",
    "          .filter(F.col(\"ID\").isNotNull())\n",
    "          .withColumn(\"rn\", F.row_number().over(w_latest))\n",
    "          .filter(\"rn = 1\")\n",
    "          .select(\n",
    "              F.col(\"ID\").alias(\"id\"),\n",
    "              F.year(\"BIRTHDATE\").alias(\"birth_year\"),\n",
    "              *[F.lit(None).cast(\"string\").alias(c.lower()) for c in PHI_COLS_MASK],\n",
    "              F.col(\"MARITAL\").alias(\"marital\"),\n",
    "              F.col(\"RACE\").alias(\"race\"),\n",
    "              F.col(\"ETHNICITY\").alias(\"ethnicity\"),\n",
    "              F.col(\"GENDER\").alias(\"gender\")\n",
    "          )\n",
    "    )\n",
    "\n",
    "    (DeltaTable.forName(spark, TGT_TABLE)\n",
    "               .alias(\"t\")\n",
    "               .merge(latest.alias(\"s\"), \"t.id = s.id\")\n",
    "               .whenMatchedUpdateAll()\n",
    "               .whenNotMatchedInsertAll()\n",
    "               .execute())"
   ]
  },
  {
   "cell_type": "code",
   "execution_count": 0,
   "metadata": {
    "application/vnd.databricks.v1+cell": {
     "cellMetadata": {
      "byteLimit": 2048000,
      "rowLimit": 10000
     },
     "inputWidgets": {},
     "nuid": "8ff4cd03-0b35-439f-b003-8f49a105188f",
     "showTitle": false,
     "tableResultSettingsMap": {},
     "title": ""
    }
   },
   "outputs": [],
   "source": [
    "# 3. Incremental batch run\n",
    "(spark.readStream\n",
    "      .format(\"delta\")\n",
    "      .option(\"readChangeFeed\", \"true\")\n",
    "      .table(SRC_TABLE)\n",
    "\n",
    "      .writeStream\n",
    "      .foreachBatch(upsert_to_silver)\n",
    "      .option(\"checkpointLocation\", S.checkpoint)\n",
    "      .trigger(availableNow=True)\n",
    "      .start()\n",
    "      .awaitTermination())"
   ]
  },
  {
   "cell_type": "code",
   "execution_count": 0,
   "metadata": {
    "application/vnd.databricks.v1+cell": {
     "cellMetadata": {
      "byteLimit": 2048000,
      "rowLimit": 10000
     },
     "inputWidgets": {},
     "nuid": "5b597cd5-61ce-41df-a85d-2347a6848a7b",
     "showTitle": false,
     "tableResultSettingsMap": {},
     "title": ""
    }
   },
   "outputs": [],
   "source": [
    "# 4. Batch finished – Verify Silver Patients table row count and checkpoint path.\n",
    "df = spark.table(TGT_TABLE)\n",
    "print(f\"Silver Patients row count: {df.count():,}\")\n",
    "display(df.limit(5))\n",
    "\n",
    "# NOTE: A Delta Lake merge is not a join in the relational sense.\n",
    "# It is a mutation command where the source table drives the operation.\n",
    "#\n",
    "# Delta CDF emits all changes since the last checkpoint.\n",
    "# This may include multiple versions of the same ID across different commits.\n",
    "# We deduplicate using row_number() to keep only the latest version per patient ID."
   ]
  }
 ],
 "metadata": {
  "application/vnd.databricks.v1+notebook": {
   "computePreferences": null,
   "dashboards": [],
   "environmentMetadata": {
    "base_environment": "",
    "environment_version": "2"
   },
   "inputWidgetPreferences": null,
   "language": "python",
   "notebookMetadata": {
    "mostRecentlyExecutedCommandWithImplicitDF": {
     "commandId": 7461780133328275,
     "dataframes": [
      "_sqldf"
     ]
    },
    "pythonIndentUnit": 4
   },
   "notebookName": "silver_patients_scd1_batch",
   "widgets": {}
  },
  "language_info": {
   "name": "python"
  }
 },
 "nbformat": 4,
 "nbformat_minor": 0
}

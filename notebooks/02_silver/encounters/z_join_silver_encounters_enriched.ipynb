{
 "cells": [
  {
   "cell_type": "code",
   "execution_count": 0,
   "metadata": {
    "application/vnd.databricks.v1+cell": {
     "cellMetadata": {
      "byteLimit": 2048000,
      "rowLimit": 10000
     },
     "inputWidgets": {},
     "nuid": "f5b2e0d6-780e-4291-a3fd-cb064a1e0ac9",
     "showTitle": false,
     "tableResultSettingsMap": {},
     "title": ""
    }
   },
   "outputs": [],
   "source": [
    "# join_silver_encounters_enriched.ipynb\n",
    "# SOURCE:  Joins streaming Silver encounters with static Silver patients for enrichment.\n",
    "# OUTPUT:  `kardia_silver.silver_encounters_enriched`, continuously upserted.\n",
    "# PATTERN: Stream–static left join (all encounters retained, even when patient is missing).\n",
    "# TRIGGER: Continuous micro‑batches; upsert into Delta table via MERGE.\n",
    "\n",
    "from kflow.config import silver_paths\n",
    "\n",
    "from delta.tables import DeltaTable\n",
    "from pyspark.sql import functions as F\n",
    "\n",
    "# Load Silver paths\n",
    "S = silver_paths(\"encounters_enriched\")\n",
    "TGT_TABLE = S.table"
   ]
  },
  {
   "cell_type": "code",
   "execution_count": 0,
   "metadata": {
    "application/vnd.databricks.v1+cell": {
     "cellMetadata": {
      "byteLimit": 2048000,
      "rowLimit": 10000
     },
     "inputWidgets": {},
     "nuid": "6002dfd1-23a2-4640-b76d-005c061a766c",
     "showTitle": false,
     "tableResultSettingsMap": {},
     "title": ""
    }
   },
   "outputs": [],
   "source": [
    "# 1. Ensure the target Delta table exists (with the correct schema).\n",
    "spark.sql(\n",
    "    f\"\"\"\n",
    "    CREATE TABLE IF NOT EXISTS {TGT_TABLE} (\n",
    "        encounter_id       STRING,\n",
    "        patient_id         STRING,\n",
    "        START_TS           TIMESTAMP,\n",
    "        CODE               STRING,\n",
    "        DESCRIPTION        STRING,\n",
    "        REASONCODE         STRING,\n",
    "        REASONDESCRIPTION  STRING,\n",
    "        gender             STRING,\n",
    "        birth_year         INT\n",
    "    ) USING DELTA\n",
    "    \"\"\"\n",
    ")"
   ]
  },
  {
   "cell_type": "code",
   "execution_count": 0,
   "metadata": {
    "application/vnd.databricks.v1+cell": {
     "cellMetadata": {
      "byteLimit": 2048000,
      "rowLimit": 10000
     },
     "inputWidgets": {},
     "nuid": "b60a8fbb-607a-4956-8280-884b7ccb6c61",
     "showTitle": false,
     "tableResultSettingsMap": {},
     "title": ""
    }
   },
   "outputs": [],
   "source": [
    "# 2. Read the streaming and static inputs\n",
    "enc_stream  = spark.readStream.table(\"kardia_silver.silver_encounters\")\n",
    "patients_df = spark.table(\"kardia_silver.silver_patients\")"
   ]
  },
  {
   "cell_type": "code",
   "execution_count": 0,
   "metadata": {
    "application/vnd.databricks.v1+cell": {
     "cellMetadata": {
      "byteLimit": 2048000,
      "rowLimit": 10000
     },
     "inputWidgets": {},
     "nuid": "4e2079ec-f0d3-4cc4-a662-e1fecceae117",
     "showTitle": false,
     "tableResultSettingsMap": {},
     "title": ""
    }
   },
   "outputs": [],
   "source": [
    "# 3. Build the joined DataFrame\n",
    "joined = (\n",
    "    enc_stream.alias(\"e\")\n",
    "      .join(\n",
    "        patients_df.alias(\"p\"),\n",
    "        F.col(\"e.patient_id\") == F.col(\"p.id\"),\n",
    "        \"left\"\n",
    "      )\n",
    "      .select(\n",
    "        F.col(\"e.encounter_id\"),\n",
    "        F.col(\"e.patient_id\"),\n",
    "        F.col(\"e.START_TS\"),\n",
    "        F.col(\"e.CODE\"),\n",
    "        F.col(\"e.DESCRIPTION\"),\n",
    "        F.col(\"e.REASONCODE\"),\n",
    "        F.col(\"e.REASONDESCRIPTION\"),\n",
    "        F.col(\"p.gender\").alias(\"gender\"),\n",
    "        F.col(\"p.birth_year\").alias(\"birth_year\")\n",
    "      )\n",
    ")"
   ]
  },
  {
   "cell_type": "code",
   "execution_count": 0,
   "metadata": {
    "application/vnd.databricks.v1+cell": {
     "cellMetadata": {
      "byteLimit": 2048000,
      "rowLimit": 10000
     },
     "inputWidgets": {},
     "nuid": "bd6d7d08-790b-4765-a20e-815023c77370",
     "showTitle": false,
     "tableResultSettingsMap": {},
     "title": ""
    }
   },
   "outputs": [],
   "source": [
    "# 4. Define upsert logic for each micro‑batch\n",
    "def upsert_to_encounters(batch_df, batch_id):\n",
    "    if batch_df.isEmpty():\n",
    "        return\n",
    "\n",
    "    (DeltaTable.forName(spark, TGT_TABLE)\n",
    "               .alias(\"t\")\n",
    "               .merge(batch_df.alias(\"s\"), \"t.encounter_id = s.encounter_id\")\n",
    "               .whenMatchedUpdateAll()\n",
    "               .whenNotMatchedInsertAll()\n",
    "               .execute())"
   ]
  },
  {
   "cell_type": "code",
   "execution_count": 0,
   "metadata": {
    "application/vnd.databricks.v1+cell": {
     "cellMetadata": {
      "byteLimit": 2048000,
      "rowLimit": 10000
     },
     "inputWidgets": {},
     "nuid": "e5e85498-522d-4f89-a3ea-f0bfaf06d8f3",
     "showTitle": false,
     "tableResultSettingsMap": {},
     "title": ""
    }
   },
   "outputs": [],
   "source": [
    "# 5. Start the continuous stream with a 30‑second trigger\n",
    "query = (\n",
    "    joined.writeStream\n",
    "          .foreachBatch(upsert_to_encounters)\n",
    "          .option(\"checkpointLocation\", S.checkpoint)\n",
    "          .trigger(processingTime=\"30 seconds\")\n",
    "          .start()\n",
    ")\n",
    "print(f\"Stream silver_encounters_enriched started. Source: stream(encounters) + static(patients), Sink: {TGT_TABLE}\")"
   ]
  }
 ],
 "metadata": {
  "application/vnd.databricks.v1+notebook": {
   "computePreferences": null,
   "dashboards": [],
   "environmentMetadata": {
    "base_environment": "",
    "environment_version": "2"
   },
   "inputWidgetPreferences": null,
   "language": "python",
   "notebookMetadata": {
    "mostRecentlyExecutedCommandWithImplicitDF": {
     "commandId": 5549892236114566,
     "dataframes": [
      "_sqldf"
     ]
    },
    "pythonIndentUnit": 4
   },
   "notebookName": "z_join_silver_encounters_enriched",
   "widgets": {}
  },
  "language_info": {
   "name": "python"
  }
 },
 "nbformat": 4,
 "nbformat_minor": 0
}

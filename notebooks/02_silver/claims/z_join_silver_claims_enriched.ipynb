{
 "cells": [
  {
   "cell_type": "code",
   "execution_count": 0,
   "metadata": {
    "application/vnd.databricks.v1+cell": {
     "cellMetadata": {
      "byteLimit": 2048000,
      "implicitDf": true,
      "rowLimit": 10000
     },
     "inputWidgets": {},
     "nuid": "5732618a-c36b-464d-b862-66ce81f8f669",
     "showTitle": false,
     "tableResultSettingsMap": {},
     "title": ""
    }
   },
   "outputs": [],
   "source": [
    "%sql\n",
    "/* join_silver_claims_enriched.ipynb\n",
    "\n",
    "SOURCE: Snapshot join of current claims and current provider attributes\n",
    "OUTPUT: kardia_silver.silver_claims_enriched (for Gold KPIs)\n",
    "\n",
    "PATTERN: LEFT JOIN from claims to SCD‑2 providers, keeping only the current row\n",
    "TRIGGER: CTAS; rerun after any update to claims or providers\n",
    "\n",
    "NOTE:\n",
    " - LEFT JOIN preserves all claims\n",
    " - IS_CURRENT = TRUE ensures only the current provider row is used\n",
    "*/\n",
    "\n",
    "USE kardia_silver;\n",
    "\n",
    "-- 2. Join claims to current provider attributes (no CTE – inline subquery)\n",
    "CREATE OR REPLACE TABLE silver_claims_enriched AS\n",
    "WITH current_providers AS (\n",
    "  SELECT provider_id,\n",
    "         provider_specialty,\n",
    "         provider_location\n",
    "  FROM   kardia_silver.silver_providers\n",
    "  WHERE  is_current = TRUE\n",
    ")\n",
    "SELECT\n",
    "    c.claim_id,\n",
    "    c.patient_id,\n",
    "    c.provider_id,\n",
    "    c.claim_amount,\n",
    "    c.claim_date,\n",
    "    c.diagnosis_code,\n",
    "    c.procedure_code,\n",
    "    c.claim_status,\n",
    "    c.claim_type,\n",
    "    c.claim_submission_method,\n",
    "    c._ingest_ts,\n",
    "    cp.provider_specialty,\n",
    "    cp.provider_location\n",
    "FROM kardia_silver.silver_claims c\n",
    "LEFT JOIN current_providers cp\n",
    "  ON c.provider_id = cp.provider_id;"
   ]
  },
  {
   "cell_type": "code",
   "execution_count": 0,
   "metadata": {
    "application/vnd.databricks.v1+cell": {
     "cellMetadata": {
      "byteLimit": 2048000,
      "implicitDf": true,
      "rowLimit": 10000
     },
     "inputWidgets": {},
     "nuid": "b3cdfe10-ac59-4e52-ab44-294374411183",
     "showTitle": false,
     "tableResultSettingsMap": {},
     "title": ""
    }
   },
   "outputs": [],
   "source": [
    "%sql\n",
    "-- 3. Preview: Top 5 enriched claims\n",
    "SELECT *\n",
    "FROM kardia_silver.silver_claims_enriched\n",
    "ORDER BY claim_date DESC\n",
    "LIMIT 5;"
   ]
  }
 ],
 "metadata": {
  "application/vnd.databricks.v1+notebook": {
   "computePreferences": null,
   "dashboards": [],
   "environmentMetadata": {
    "base_environment": "",
    "environment_version": "2"
   },
   "inputWidgetPreferences": null,
   "language": "python",
   "notebookMetadata": {
    "mostRecentlyExecutedCommandWithImplicitDF": {
     "commandId": 6557084226338545,
     "dataframes": [
      "_sqldf"
     ]
    },
    "pythonIndentUnit": 4
   },
   "notebookName": "z_join_silver_claims_enriched",
   "widgets": {}
  },
  "language_info": {
   "name": "python"
  }
 },
 "nbformat": 4,
 "nbformat_minor": 0
}

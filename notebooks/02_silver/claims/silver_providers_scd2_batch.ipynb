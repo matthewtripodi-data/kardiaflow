{
 "cells": [
  {
   "cell_type": "code",
   "execution_count": 0,
   "metadata": {
    "application/vnd.databricks.v1+cell": {
     "cellMetadata": {
      "byteLimit": 2048000,
      "rowLimit": 10000
     },
     "inputWidgets": {},
     "nuid": "af991508-bd26-4bdc-9074-b51ce140566c",
     "showTitle": false,
     "tableResultSettingsMap": {},
     "title": ""
    }
   },
   "outputs": [],
   "source": [
    "# silver_providers_scd2_batch.ipynb\n",
    "# SOURCE: `kardia_bronze.bronze_providers` (daily snapshot with `_ingest_ts`)\n",
    "# OUTPUT: `kardia_silver.silver_providers` (SCD2 with current flag)\n",
    "# PATTERN: Compare latest snapshot to current; MERGE by closing changed rows and inserting new versions\n",
    "# TRIGGER: Incremental batch (full snapshot; CDF not required)\n",
    "\n",
    "# Install kflow from local wheel for use during job execution\n",
    "%pip install -q --no-deps --no-index --find-links=/dbfs/Shared/libs kflow\n",
    "\n",
    "from pyspark.sql import functions as F, Window\n",
    "from delta.tables import DeltaTable\n",
    "\n",
    "from kflow.config import bronze_table, silver_paths\n",
    "\n",
    "# Load Silver config for Providers dataset\n",
    "S = silver_paths(\"providers\")\n",
    "SRC_TABLE = bronze_table(\"providers\")\n",
    "TGT_TABLE = S.table\n",
    "\n",
    "# Business change logic: triggers a new version if specialty or location changes\n",
    "PROVIDER_CHANGE_CONDITION = (\n",
    "    \"NOT (t.provider_specialty <=> s.provider_specialty) OR \"\n",
    "    \"NOT (t.provider_location  <=> s.provider_location)\"\n",
    ")"
   ]
  },
  {
   "cell_type": "code",
   "execution_count": 0,
   "metadata": {
    "application/vnd.databricks.v1+cell": {
     "cellMetadata": {
      "byteLimit": 2048000,
      "rowLimit": 10000
     },
     "inputWidgets": {},
     "nuid": "547797b1-0ae0-426b-9bc5-e9948b3acf17",
     "showTitle": false,
     "tableResultSettingsMap": {},
     "title": ""
    }
   },
   "outputs": [],
   "source": [
    "# 1. Ensure Silver DB and Providers table exists\n",
    "spark.sql(f\"CREATE DATABASE IF NOT EXISTS {S.db}\")\n",
    "\n",
    "spark.sql(\n",
    "    f\"\"\"\n",
    "    CREATE TABLE IF NOT EXISTS {TGT_TABLE} (\n",
    "        provider_id         STRING  NOT NULL,\n",
    "        provider_specialty  STRING,\n",
    "        provider_location   STRING,\n",
    "        eff_start_ts        TIMESTAMP,\n",
    "        eff_end_ts          TIMESTAMP,\n",
    "        is_current          BOOLEAN\n",
    "    ) USING DELTA\n",
    "    LOCATION '{S.path}'\n",
    "    \"\"\"\n",
    ")"
   ]
  },
  {
   "cell_type": "code",
   "execution_count": 0,
   "metadata": {
    "application/vnd.databricks.v1+cell": {
     "cellMetadata": {
      "byteLimit": 2048000,
      "rowLimit": 10000
     },
     "inputWidgets": {},
     "nuid": "3574ce08-e4d3-4084-9790-e95ebc96d917",
     "showTitle": false,
     "tableResultSettingsMap": {},
     "title": ""
    }
   },
   "outputs": [],
   "source": [
    "# 2. Load the latest snapshot from Bronze and prepare for SCD2\n",
    "bronze = (\n",
    "    spark.table(SRC_TABLE)\n",
    "         .filter(F.col(\"ProviderID\").isNotNull())\n",
    ")\n",
    "\n",
    "w_latest_per_provider = Window.partitionBy(\"ProviderID\").orderBy(F.col(\"_ingest_ts\").desc())\n",
    "\n",
    "# Retain only the latest record per provider_id from Bronze snapshot\n",
    "latest_src = (\n",
    "    bronze\n",
    "      .withColumn(\"_rn\", F.row_number().over(w_latest_per_provider))\n",
    "      .filter(\"_rn = 1\")\n",
    "      .drop(\"_rn\")\n",
    "      .select(\n",
    "          F.col(\"ProviderID\").alias(\"provider_id\"),\n",
    "          F.col(\"ProviderSpecialty\").alias(\"provider_specialty\"),\n",
    "          F.col(\"ProviderLocation\").alias(\"provider_location\"),\n",
    "          F.col(\"_ingest_ts\")\n",
    "      )\n",
    "      .withColumn(\"eff_start_ts\", F.col(\"_ingest_ts\"))\n",
    "      .withColumn(\"eff_end_ts\",   F.lit(None).cast(\"timestamp\"))\n",
    "      .withColumn(\"is_current\",   F.lit(True))\n",
    ")"
   ]
  },
  {
   "cell_type": "code",
   "execution_count": 0,
   "metadata": {
    "application/vnd.databricks.v1+cell": {
     "cellMetadata": {
      "byteLimit": 2048000,
      "rowLimit": 10000
     },
     "inputWidgets": {},
     "nuid": "ee6e793f-56e2-4032-9598-80f0a4a47784",
     "showTitle": false,
     "tableResultSettingsMap": {},
     "title": ""
    }
   },
   "outputs": [],
   "source": [
    "# 3. Apply SCD‑2 MERGE to Silver Providers table\n",
    "(DeltaTable.forName(spark, TGT_TABLE)\n",
    "           .alias(\"t\")\n",
    "           .merge(\n",
    "               latest_src.alias(\"s\"),\n",
    "               \"t.provider_id = s.provider_id AND t.is_current = TRUE\"\n",
    "           )\n",
    "\n",
    "    # Phase 1: Close the old version if key fields changed\n",
    "    .whenMatchedUpdate(\n",
    "        condition=PROVIDER_CHANGE_CONDITION,\n",
    "        set={\n",
    "            \"eff_end_ts\": F.col(\"s.eff_start_ts\"),\n",
    "            \"is_current\": F.lit(False)\n",
    "        }\n",
    "    )\n",
    "\n",
    "    # Phase 2: Insert new or changed records\n",
    "    .whenNotMatchedInsertAll()\n",
    "    .execute())"
   ]
  },
  {
   "cell_type": "code",
   "execution_count": 0,
   "metadata": {
    "application/vnd.databricks.v1+cell": {
     "cellMetadata": {
      "byteLimit": 2048000,
      "rowLimit": 10000
     },
     "inputWidgets": {},
     "nuid": "328d38cf-8186-4559-9ca0-beabe448e213",
     "showTitle": false,
     "tableResultSettingsMap": {},
     "title": ""
    }
   },
   "outputs": [],
   "source": [
    "# 3. Verify Silver Providers SCD2 output.\n",
    "df = spark.table(TGT_TABLE)\n",
    "print(f\"Silver Providers row count: {df.count():,}\")\n",
    "display(df.orderBy(F.col(\"eff_start_ts\").desc()).limit(5))"
   ]
  }
 ],
 "metadata": {
  "application/vnd.databricks.v1+notebook": {
   "computePreferences": null,
   "dashboards": [],
   "environmentMetadata": {
    "base_environment": "",
    "environment_version": "2"
   },
   "inputWidgetPreferences": null,
   "language": "python",
   "notebookMetadata": {
    "mostRecentlyExecutedCommandWithImplicitDF": {
     "commandId": 4880559092059771,
     "dataframes": [
      "_sqldf"
     ]
    },
    "pythonIndentUnit": 4
   },
   "notebookName": "silver_providers_scd2_batch",
   "widgets": {}
  },
  "language_info": {
   "name": "python"
  }
 },
 "nbformat": 4,
 "nbformat_minor": 0
}

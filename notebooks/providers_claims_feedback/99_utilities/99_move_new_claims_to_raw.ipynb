{
 "cells": [
  {
   "cell_type": "code",
   "execution_count": 0,
   "metadata": {
    "application/vnd.databricks.v1+cell": {
     "cellMetadata": {
      "byteLimit": 2048000,
      "rowLimit": 10000
     },
     "inputWidgets": {},
     "nuid": "37dfb562-a2f8-4cb9-bfd2-2b2f0747a3e4",
     "showTitle": false,
     "tableResultSettingsMap": {},
     "title": ""
    }
   },
   "outputs": [],
   "source": [
    "# 99_move_new_claims_to_raw.ipynb\n",
    "# Move newly uploaded Claims test files into the raw folder for Auto Loader.\n",
    "# Matches any file that begins with 'claims_part_' and ends in '.avro'.\n",
    "# Files already present in the destination folder will be skipped.\n",
    "\n",
    "UPLOADS_DIR = \"dbfs:/FileStore/tables/\"\n",
    "RAW_CLAIMS_DIR = \"dbfs:/kardia/raw/claims/\"\n",
    "\n",
    "def _exists(dir_path: str, fname: str) -> bool:\n",
    "    \"\"\"Check if a file with the given name already exists in the destination directory.\"\"\"\n",
    "    return fname in [obj.name for obj in dbutils.fs.ls(dir_path)]\n",
    "\n",
    "# Move each matching uploaded file, skipping if it already exists\n",
    "for obj in dbutils.fs.ls(UPLOADS_DIR):\n",
    "    if not (obj.name.startswith(\"claims_part_\") and obj.name.endswith(\".avro\")):\n",
    "        continue  # Skip files that don’t match expected pattern\n",
    "\n",
    "    if _exists(RAW_CLAIMS_DIR, obj.name):\n",
    "        print(f\"Skipped (already exists): {obj.name}\")\n",
    "    else:\n",
    "        dbutils.fs.cp(obj.path, RAW_CLAIMS_DIR + obj.name)\n",
    "        print(f\"Moved: {obj.name} to {RAW_CLAIMS_DIR}\")\n"
   ]
  }
 ],
 "metadata": {
  "application/vnd.databricks.v1+notebook": {
   "computePreferences": null,
   "dashboards": [],
   "environmentMetadata": null,
   "inputWidgetPreferences": null,
   "language": "python",
   "notebookMetadata": {
    "pythonIndentUnit": 4
   },
   "notebookName": "99_move_new_claim_files_to_raw",
   "widgets": {}
  },
  "language_info": {
   "name": "python"
  }
 },
 "nbformat": 4,
 "nbformat_minor": 0
}

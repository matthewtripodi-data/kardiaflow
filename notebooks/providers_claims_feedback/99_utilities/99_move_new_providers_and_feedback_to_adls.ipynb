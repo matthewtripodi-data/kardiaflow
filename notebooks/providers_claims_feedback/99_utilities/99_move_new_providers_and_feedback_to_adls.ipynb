{
 "cells": [
  {
   "cell_type": "code",
   "execution_count": 0,
   "metadata": {
    "application/vnd.databricks.v1+cell": {
     "cellMetadata": {},
     "inputWidgets": {},
     "nuid": "c3368557-209d-448f-8500-faff17f1c50b",
     "showTitle": false,
     "tableResultSettingsMap": {},
     "title": ""
    }
   },
   "outputs": [],
   "source": [
    "# 99_move_new_providers_and_feedback_to_adls.ipynb\n",
    "# Move newly uploaded Providers and Feedback test files into their respective raw folders for Auto Loader.\n",
    "# Matches:\n",
    "#   - 'providers_part_*.avro' → dbfs:/kardia/raw/providers/\n",
    "#   - 'feedback_part_*.jsonl' → dbfs:/kardia/raw/feedback/\n",
    "# Files already present in the destination folders will be skipped.\n",
    "\n",
    "UPLOADS_DIR = \"dbfs:/FileStore/tables/\"\n",
    "RAW_PROVIDERS_DIR = \"dbfs:/kardia/raw/providers/\"\n",
    "RAW_FEEDBACK_DIR = \"dbfs:/kardia/raw/feedback/\"\n",
    "\n",
    "def _exists(dir_path: str, fname: str) -> bool:\n",
    "    \"\"\"Check if a file with the given name already exists in the destination directory.\"\"\"\n",
    "    return fname in [obj.name for obj in dbutils.fs.ls(dir_path)]\n",
    "\n",
    "# Move new provider and feedback files from uploads\n",
    "for obj in dbutils.fs.ls(UPLOADS_DIR):\n",
    "    fname = obj.name\n",
    "\n",
    "    if fname.startswith(\"providers_part_\") and fname.endswith(\".avro\"):\n",
    "        if _exists(RAW_PROVIDERS_DIR, fname):\n",
    "            print(f\"Skipped (already exists): {fname}\")\n",
    "        else:\n",
    "            dbutils.fs.cp(obj.path, RAW_PROVIDERS_DIR + fname)\n",
    "            print(f\"Moved: {fname} to {RAW_PROVIDERS_DIR}\")\n",
    "\n",
    "    elif fname.startswith(\"feedback_part_\") and fname.endswith(\".jsonl\"):\n",
    "        if _exists(RAW_FEEDBACK_DIR, fname):\n",
    "            print(f\"Skipped (already exists): {fname}\")\n",
    "        else:\n",
    "            dbutils.fs.cp(obj.path, RAW_FEEDBACK_DIR + fname)\n",
    "            print(f\"Moved: {fname} to {RAW_FEEDBACK_DIR}\")\n"
   ]
  }
 ],
 "metadata": {
  "application/vnd.databricks.v1+notebook": {
   "computePreferences": null,
   "dashboards": [],
   "environmentMetadata": {
    "base_environment": "",
    "environment_version": "2"
   },
   "inputWidgetPreferences": null,
   "language": "python",
   "notebookMetadata": {
    "pythonIndentUnit": 4
   },
   "notebookName": "99_move_new_feedback_to_raw",
   "widgets": {}
  },
  "language_info": {
   "name": "python"
  }
 },
 "nbformat": 4,
 "nbformat_minor": 0
}

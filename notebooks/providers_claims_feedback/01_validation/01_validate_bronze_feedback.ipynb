{
 "cells": [
  {
   "cell_type": "code",
   "execution_count": 0,
   "metadata": {
    "application/vnd.databricks.v1+cell": {
     "cellMetadata": {
      "byteLimit": 2048000,
      "rowLimit": 10000
     },
     "inputWidgets": {},
     "nuid": "f1705681-735a-4793-bac1-5e6d702cf03a",
     "showTitle": false,
     "tableResultSettingsMap": {},
     "title": ""
    }
   },
   "outputs": [],
   "source": [
    "# 01_validate_bronze_feedback.ipynb\n",
    "# SOURCE: Bronze Feedback table\n",
    "# OUTPUT: N/A\n",
    "\n",
    "from kflow.config import bronze_paths\n",
    "from kflow.validation_utils import validate_and_log\n",
    "from kflow.display_utils import banner\n",
    "\n",
    "from pyspark.sql import functions as F\n",
    "\n",
    "# Load Bronze paths\n",
    "P = bronze_paths(\"feedback\")"
   ]
  },
  {
   "metadata": {},
   "cell_type": "code",
   "outputs": [],
   "execution_count": null,
   "source": [
    "# 1. Load Bronze Feedback Delta table from DBFS\n",
    "df = spark.table(P.table)"
   ]
  },
  {
   "cell_type": "code",
   "execution_count": 0,
   "metadata": {
    "application/vnd.databricks.v1+cell": {
     "cellMetadata": {
      "byteLimit": 2048000,
      "rowLimit": 10000
     },
     "inputWidgets": {},
     "nuid": "63f3faee-e5c7-4d0d-8723-55a954cae867",
     "showTitle": false,
     "tableResultSettingsMap": {},
     "title": ""
    }
   },
   "outputs": [],
   "source": [
    "# 2. Define extra metrics to compute\n",
    "extra = {\n",
    "    \"null_scores\": F.sum(F.col(\"satisfaction_score\").isNull()).alias(\"null_scores\")\n",
    "}"
   ]
  },
  {
   "cell_type": "code",
   "execution_count": 0,
   "metadata": {
    "application/vnd.databricks.v1+cell": {
     "cellMetadata": {
      "byteLimit": 2048000,
      "rowLimit": 10000
     },
     "inputWidgets": {},
     "nuid": "ff4285a4-37f3-4d70-9df2-975808fcfde8",
     "showTitle": false,
     "tableResultSettingsMap": {},
     "title": ""
    }
   },
   "outputs": [],
   "source": [
    "# 3. Run validation and append summary to kardia_validation.bronze_feedback_summary\n",
    "validate_and_log(df,\n",
    "                 table_name=\"bronze_feedback\",\n",
    "                 pk_col=\"feedback_id\",\n",
    "                 extra_metrics=extra,\n",
    "                 assertions=None)\n",
    "\n",
    "banner(\"Bronze Feedback validation complete\", ok=True)"
   ]
  }
 ],
 "metadata": {
  "application/vnd.databricks.v1+notebook": {
   "computePreferences": null,
   "dashboards": [],
   "environmentMetadata": {
    "base_environment": "",
    "environment_version": "2"
   },
   "inputWidgetPreferences": null,
   "language": "python",
   "notebookMetadata": {
    "pythonIndentUnit": 4
   },
   "notebookName": "01_validate_bronze_feedback",
   "widgets": {}
  },
  "language_info": {
   "name": "python"
  }
 },
 "nbformat": 4,
 "nbformat_minor": 0
}

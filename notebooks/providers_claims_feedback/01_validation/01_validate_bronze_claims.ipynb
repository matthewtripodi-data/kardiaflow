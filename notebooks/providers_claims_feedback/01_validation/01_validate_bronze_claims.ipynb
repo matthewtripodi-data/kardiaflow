{
 "cells": [
  {
   "cell_type": "code",
   "execution_count": 0,
   "metadata": {
    "application/vnd.databricks.v1+cell": {
     "cellMetadata": {
      "byteLimit": 2048000,
      "rowLimit": 10000
     },
     "inputWidgets": {},
     "nuid": "7343ec46-ebb6-4b4f-ac1c-7a4c0c9826e6",
     "showTitle": false,
     "tableResultSettingsMap": {},
     "title": ""
    }
   },
   "outputs": [],
   "source": [
    "# 01_validate_bronze_claims.ipynb\n",
    "# SOURCE: Bronze Claims table\n",
    "# OUTPUT: N/A\n",
    "\n",
    "from pyspark.sql import functions as F\n",
    "\n",
    "BRONZE_PATH = \"dbfs:/kardia/bronze/bronze_claims\"\n",
    "BRONZE_CLAIMS_TBL = \"bronze_claims\""
   ]
  },
  {
   "cell_type": "code",
   "execution_count": 0,
   "metadata": {
    "application/vnd.databricks.v1+cell": {
     "cellMetadata": {
      "byteLimit": 2048000,
      "rowLimit": 10000
     },
     "inputWidgets": {},
     "nuid": "985cb6e0-46b1-4a35-9a29-69a3b0c67d6c",
     "showTitle": false,
     "tableResultSettingsMap": {},
     "title": ""
    }
   },
   "outputs": [],
   "source": [
    "# Read Bronze table\n",
    "claims_df = spark.read.format(\"delta\").load(BRONZE_PATH)\n",
    "\n",
    "# Cast ClaimAmount to double for validation purposes only\n",
    "claims_df = claims_df.withColumn(\"ClaimAmount\", F.col(\"ClaimAmount\").cast(\"double\"))"
   ]
  },
  {
   "cell_type": "code",
   "execution_count": 0,
   "metadata": {
    "application/vnd.databricks.v1+cell": {
     "cellMetadata": {
      "byteLimit": 2048000,
      "rowLimit": 10000
     },
     "inputWidgets": {},
     "nuid": "a963ed19-d216-4eec-9e4c-4e37e12afec8",
     "showTitle": false,
     "tableResultSettingsMap": {},
     "title": ""
    }
   },
   "outputs": [],
   "source": [
    "# 1. Check for NULLs and uniqueness after Bronze ingestion.\n",
    "stats_row = claims_df.agg(\n",
    "    F.count(\"*\").alias(\"row_count\"),\n",
    "    F.countDistinct(\"ClaimID\").alias(\"distinct_ids\"),\n",
    "    F.sum(F.when(F.col(\"ClaimID\").isNull(), 1).otherwise(0)).alias(\"null_claimid\"),\n",
    "    F.sum(F.when(F.col(\"PatientID\").isNull(), 1).otherwise(0)).alias(\"null_patientid\"),\n",
    "    F.min(\"ClaimAmount\").alias(\"min_amount\"),\n",
    "    F.max(\"ClaimAmount\").alias(\"max_amount\")\n",
    ").first()\n",
    "\n",
    "# Track validation status\n",
    "validation_passed = True\n",
    "error_messages = []"
   ]
  },
  {
   "cell_type": "code",
   "execution_count": 0,
   "metadata": {
    "application/vnd.databricks.v1+cell": {
     "cellMetadata": {
      "byteLimit": 2048000,
      "rowLimit": 10000
     },
     "inputWidgets": {},
     "nuid": "64b5ce42-edf6-4196-bcf0-0b3d5addfc83",
     "showTitle": false,
     "tableResultSettingsMap": {},
     "title": ""
    }
   },
   "outputs": [],
   "source": [
    "# 2. Run assertions to catch critical data quality issues\n",
    "try:\n",
    "    if stats_row.null_claimid != 0:\n",
    "        raise ValueError(f\"{stats_row.null_claimid} null ClaimID(s)\")\n",
    "\n",
    "    if stats_row.null_patientid != 0:\n",
    "        raise ValueError(f\"{stats_row.null_patientid} null PatientID(s)\")\n",
    "\n",
    "    if stats_row.distinct_ids != stats_row.row_count:\n",
    "        raise ValueError(\"Duplicate ClaimID(s) found\")\n",
    "\n",
    "    if stats_row.min_amount is not None and stats_row.min_amount < 0:\n",
    "        raise ValueError(f\"Negative ClaimAmount: {stats_row.min_amount}\")\n",
    "\n",
    "    print(\"Bronze Claims validation passed\")\n",
    "\n",
    "except ValueError as e:\n",
    "    validation_passed = False\n",
    "    error_messages.append(str(e))\n",
    "    print(\"Bronze Claims validation failed:\", e)"
   ]
  },
  {
   "cell_type": "code",
   "execution_count": 0,
   "metadata": {
    "application/vnd.databricks.v1+cell": {
     "cellMetadata": {
      "byteLimit": 2048000,
      "rowLimit": 10000
     },
     "inputWidgets": {},
     "nuid": "be195708-ac46-4314-a2ac-d898d380e7db",
     "showTitle": false,
     "tableResultSettingsMap": {},
     "title": ""
    }
   },
   "outputs": [],
   "source": [
    "# 3. Append one-row summary to track record count (data quality check)\n",
    "spark.sql(\"CREATE DATABASE IF NOT EXISTS kardia_validation\")\n",
    "\n",
    "validation_summary_df = (\n",
    "    spark.createDataFrame([stats_row.asDict()])\n",
    "    .withColumn(\"table_name\", F.lit(BRONZE_CLAIMS_TBL))\n",
    "    .withColumn(\"passed\", F.lit(validation_passed))\n",
    "    .withColumn(\"errors\", F.lit(\", \".join(error_messages)))\n",
    "    .withColumn(\"_run_ts\", F.current_timestamp())\n",
    ")\n",
    "\n",
    "(validation_summary_df.write\n",
    "                      .mode(\"append\")\n",
    "                      .option(\"mergeSchema\", \"true\")\n",
    "                      .saveAsTable(\"kardia_validation.bronze_claims_summary\"))"
   ]
  },
  {
   "metadata": {},
   "cell_type": "code",
   "outputs": [],
   "execution_count": null,
   "source": [
    "# 4. Display Bronze Claims validation status\n",
    "if validation_passed:\n",
    "    displayHTML(f\"<div style='color:green; font-weight:bold'>Bronze Claims validation passed</div>\")\n",
    "else:\n",
    "    displayHTML(f\"<div style='color:red; font-weight:bold'>Validation failed: {'; '.join(error_messages)}</div>\")"
   ]
  }
 ],
 "metadata": {
  "application/vnd.databricks.v1+notebook": {
   "computePreferences": null,
   "dashboards": [],
   "environmentMetadata": {
    "base_environment": "",
    "environment_version": "2"
   },
   "inputWidgetPreferences": null,
   "language": "python",
   "notebookMetadata": {
    "pythonIndentUnit": 4
   },
   "notebookName": "01_validate_bronze_claims",
   "widgets": {}
  },
  "language_info": {
   "name": "python"
  }
 },
 "nbformat": 4,
 "nbformat_minor": 0
}

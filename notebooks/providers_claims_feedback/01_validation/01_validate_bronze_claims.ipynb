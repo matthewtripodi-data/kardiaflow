{
 "cells": [
  {
   "cell_type": "code",
   "execution_count": 0,
   "metadata": {
    "application/vnd.databricks.v1+cell": {
     "cellMetadata": {
      "byteLimit": 2048000,
      "rowLimit": 10000
     },
     "inputWidgets": {},
     "nuid": "7343ec46-ebb6-4b4f-ac1c-7a4c0c9826e6",
     "showTitle": false,
     "tableResultSettingsMap": {},
     "title": ""
    }
   },
   "outputs": [],
   "source": [
    "# 01_validate_bronze_claims.ipynb\n",
    "# SOURCE: Bronze Claims table\n",
    "# OUTPUT: N/A\n",
    "\n",
    "from kflow.config import bronze_paths\n",
    "from kflow.validation_utils import validate_and_log\n",
    "from kflow.display_utils import banner\n",
    "\n",
    "from pyspark.sql import functions as F\n",
    "\n",
    "# Load Bronze paths\n",
    "P = bronze_paths(\"claims\")"
   ]
  },
  {
   "cell_type": "code",
   "execution_count": 0,
   "metadata": {
    "application/vnd.databricks.v1+cell": {
     "cellMetadata": {
      "byteLimit": 2048000,
      "rowLimit": 10000
     },
     "inputWidgets": {},
     "nuid": "985cb6e0-46b1-4a35-9a29-69a3b0c67d6c",
     "showTitle": false,
     "tableResultSettingsMap": {},
     "title": ""
    }
   },
   "outputs": [],
   "source": [
    "# 1. Load Bronze Claims Delta table from DBFS\n",
    "df = spark.table(P.table).withColumn(\"ClaimAmount\", F.col(\"ClaimAmount\").cast(\"double\"))"
   ]
  },
  {
   "cell_type": "code",
   "execution_count": 0,
   "metadata": {
    "application/vnd.databricks.v1+cell": {
     "cellMetadata": {
      "byteLimit": 2048000,
      "rowLimit": 10000
     },
     "inputWidgets": {},
     "nuid": "a963ed19-d216-4eec-9e4c-4e37e12afec8",
     "showTitle": false,
     "tableResultSettingsMap": {},
     "title": ""
    }
   },
   "outputs": [],
   "source": [
    "# 2. Define extra metrics to compute\n",
    "extra = {\n",
    "    \"null_patientid\":        F.sum(F.col(\"PatientID\").isNull().cast(\"int\")).alias(\"null_patientid\"),\n",
    "    \"negative_amount_count\": F.sum((F.col(\"ClaimAmount\") < 0).cast(\"int\")).alias(\"negative_amount_count\"),\n",
    "    \"min_amount\":            F.min(\"ClaimAmount\").alias(\"min_amount\"),\n",
    "    \"max_amount\":            F.max(\"ClaimAmount\").alias(\"max_amount\")\n",
    "}"
   ]
  },
  {
   "cell_type": "code",
   "execution_count": 0,
   "metadata": {
    "application/vnd.databricks.v1+cell": {
     "cellMetadata": {
      "byteLimit": 2048000,
      "rowLimit": 10000
     },
     "inputWidgets": {},
     "nuid": "64b5ce42-edf6-4196-bcf0-0b3d5addfc83",
     "showTitle": false,
     "tableResultSettingsMap": {},
     "title": ""
    }
   },
   "outputs": [],
   "source": [
    "# 3. Run validation and append summary to kardia_validation.bronze_claims_summary\n",
    "validate_and_log(df,\n",
    "                 table_name=\"bronze_claims\",\n",
    "                 pk_col=\"ClaimID\",\n",
    "                 extra_metrics=extra,\n",
    "                 assertions=None)\n",
    "\n",
    "banner(\"Bronze Claims validation complete\", ok=True)"
   ]
  }
 ],
 "metadata": {
  "application/vnd.databricks.v1+notebook": {
   "computePreferences": null,
   "dashboards": [],
   "environmentMetadata": {
    "base_environment": "",
    "environment_version": "2"
   },
   "inputWidgetPreferences": null,
   "language": "python",
   "notebookMetadata": {
    "pythonIndentUnit": 4
   },
   "notebookName": "01_validate_bronze_claims",
   "widgets": {}
  },
  "language_info": {
   "name": "python"
  }
 },
 "nbformat": 4,
 "nbformat_minor": 0
}

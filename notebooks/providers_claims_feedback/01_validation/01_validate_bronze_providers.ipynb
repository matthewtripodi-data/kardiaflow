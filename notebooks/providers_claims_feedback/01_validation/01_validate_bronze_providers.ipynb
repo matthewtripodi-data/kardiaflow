{
 "cells": [
  {
   "cell_type": "code",
   "execution_count": 0,
   "metadata": {
    "application/vnd.databricks.v1+cell": {
     "cellMetadata": {},
     "inputWidgets": {},
     "nuid": "ec1fb5bd-55a7-4de8-9600-5304ce28c9e6",
     "showTitle": false,
     "tableResultSettingsMap": {},
     "title": ""
    }
   },
   "outputs": [],
   "source": [
    "# 01_validate_bronze_providers.ipynb\n",
    "# SOURCE: Bronze Providers table\n",
    "# OUTPUT: N/A\n",
    "\n",
    "from kflow.config import bronze_paths\n",
    "from kflow.display_utils import banner\n",
    "from kflow.validation_utils import validate_and_log\n",
    "\n",
    "from pyspark.sql import functions as F\n",
    "\n",
    "# Load Bronze paths\n",
    "P = bronze_paths(\"providers\")"
   ]
  },
  {
   "cell_type": "code",
   "execution_count": 0,
   "metadata": {
    "application/vnd.databricks.v1+cell": {
     "cellMetadata": {},
     "inputWidgets": {},
     "nuid": "4c9389fe-53b1-4332-a87b-32a36b34d490",
     "showTitle": false,
     "tableResultSettingsMap": {},
     "title": ""
    }
   },
   "outputs": [],
   "source": [
    "# 1. Load Bronze Claims Delta table from DBFS\n",
    "df = spark.table(P.table)"
   ]
  },
  {
   "cell_type": "code",
   "execution_count": 0,
   "metadata": {
    "application/vnd.databricks.v1+cell": {
     "cellMetadata": {},
     "inputWidgets": {},
     "nuid": "fc1da33c-97f1-430b-9905-29cc7004dcfe",
     "showTitle": false,
     "tableResultSettingsMap": {},
     "title": ""
    }
   },
   "outputs": [],
   "source": [
    "# 2. Define extra metrics to compute\n",
    "extra = {\n",
    "    \"null_specialty\": F.sum(F.col(\"ProviderSpecialty\").isNull().cast(\"int\")).alias(\"null_specialty\"),\n",
    "    \"null_location\":  F.sum(F.col(\"ProviderLocation\").isNull().cast(\"int\")).alias(\"null_location\")\n",
    "}"
   ]
  },
  {
   "cell_type": "code",
   "execution_count": 0,
   "metadata": {
    "application/vnd.databricks.v1+cell": {
     "cellMetadata": {},
     "inputWidgets": {},
     "nuid": "a8e15284-d66f-4625-a897-150e75aec608",
     "showTitle": false,
     "tableResultSettingsMap": {},
     "title": ""
    }
   },
   "outputs": [],
   "source": [
    "# 3. Run validation and append summary to kardia_validation.bronze_patients_summary\n",
    "validate_and_log(df,\n",
    "                 table_name=\"bronze_providers\",\n",
    "                 pk_col=\"ProviderID\",\n",
    "                 extra_metrics=extra,\n",
    "                 assertions=None)\n",
    "\n",
    "banner(\"Bronze Providers validation complete\", ok=True)"
   ]
  }
 ],
 "metadata": {
  "application/vnd.databricks.v1+notebook": {
   "computePreferences": null,
   "dashboards": [],
   "environmentMetadata": {
    "base_environment": "",
    "environment_version": "2"
   },
   "inputWidgetPreferences": null,
   "language": "python",
   "notebookMetadata": {
    "pythonIndentUnit": 4
   },
   "notebookName": "01_validate_bronze_providers",
   "widgets": {}
  },
  "language_info": {
   "name": "python"
  }
 },
 "nbformat": 4,
 "nbformat_minor": 0
}

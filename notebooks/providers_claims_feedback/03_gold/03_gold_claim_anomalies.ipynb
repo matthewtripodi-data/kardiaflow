{
 "cells": [
  {
   "cell_type": "code",
   "execution_count": 0,
   "metadata": {
    "application/vnd.databricks.v1+cell": {
     "cellMetadata": {
      "byteLimit": 2048000,
      "implicitDf": true,
      "rowLimit": 10000
     },
     "inputWidgets": {},
     "nuid": "b74e507a-5853-4623-8fc6-7076fcf9be21",
     "showTitle": false,
     "tableResultSettingsMap": {},
     "title": ""
    }
   },
   "outputs": [],
   "source": [
    "%sql\n",
    "/* 04_gold_claim_anomalies.ipynb  \n",
    "GOAL 1: Approval rates by specialty  \n",
    "GOAL 2: Denial breakdown by specialty & diagnosis  \n",
    "GOAL 3: Top high‑cost procedures  \n",
    "GOAL 4: Rapid‑fire patient claim bursts  \n",
    "\n",
    "SOURCE: kardia_silver.silver_claims_enriched  \n",
    "OUTPUT: TABLE: kardia_gold.gold_claim_approval_by_specialty  \n",
    "        TABLE: kardia_gold.gold_claim_denial_breakdown  \n",
    "        TABLE: kardia_gold.gold_high_cost_procedures  \n",
    "        TABLE: kardia_gold.gold_rapid_fire_claims  \n",
    "\n",
    "TRIGGER: Full snapshot overwrite each run — simple for small datasets. */  \n",
    "\n",
    "-- 1. Ensure Gold database exists  \n",
    "CREATE DATABASE IF NOT EXISTS kardia_gold;  "
   ]
  },
  {
   "cell_type": "code",
   "execution_count": 0,
   "metadata": {
    "application/vnd.databricks.v1+cell": {
     "cellMetadata": {
      "byteLimit": 2048000,
      "implicitDf": true,
      "rowLimit": 10000
     },
     "inputWidgets": {},
     "nuid": "9cbfecbb-92f9-44b8-bfad-cf529475d5e7",
     "showTitle": false,
     "tableResultSettingsMap": {},
     "title": ""
    }
   },
   "outputs": [],
   "source": [
    "%sql  \n",
    "-- Approval rates by specialty  \n",
    "CREATE OR REPLACE TABLE kardia_gold.gold_claim_approval_by_specialty  \n",
    "TBLPROPERTIES (  \n",
    "  'delta.autoOptimize.optimizeWrite' = 'true',  \n",
    "  'delta.autoOptimize.autoCompact'  = 'true'  \n",
    ") AS  \n",
    "SELECT  \n",
    "  provider_specialty,  \n",
    "  COUNT(*)                                        AS total_claims,  \n",
    "  SUM(CASE WHEN claim_status = 'Approved' THEN 1 ELSE 0 END) AS approved_count,  \n",
    "  ROUND(SUM(CASE WHEN claim_status = 'Approved' THEN 1 ELSE 0 END) / COUNT(*), 4) AS approval_rate  \n",
    "FROM kardia_silver.silver_claims_enriched  \n",
    "GROUP BY provider_specialty;  "
   ]
  },
  {
   "cell_type": "code",
   "execution_count": 0,
   "metadata": {
    "application/vnd.databricks.v1+cell": {
     "cellMetadata": {
      "byteLimit": 2048000,
      "implicitDf": true,
      "rowLimit": 10000
     },
     "inputWidgets": {},
     "nuid": "109816ac-80f8-44a0-bd5f-01c03da146d6",
     "showTitle": false,
     "tableResultSettingsMap": {},
     "title": ""
    }
   },
   "outputs": [],
   "source": [
    "%sql  \n",
    "-- Denial breakdown by specialty & diagnosis  \n",
    "CREATE OR REPLACE TABLE kardia_gold.gold_claim_denial_breakdown  \n",
    "TBLPROPERTIES (  \n",
    "  'delta.autoOptimize.optimizeWrite' = 'true',  \n",
    "  'delta.autoOptimize.autoCompact'  = 'true'  \n",
    ") AS  \n",
    "SELECT  \n",
    "  provider_specialty,  \n",
    "  diagnosis_code,  \n",
    "  COUNT(*)                                        AS denial_count,  \n",
    "  ROUND(COUNT(*) / SUM(COUNT(*)) OVER (PARTITION BY provider_specialty), 4) AS denial_pct  \n",
    "FROM kardia_silver.silver_claims_enriched  \n",
    "WHERE claim_status = 'Denied'  \n",
    "GROUP BY provider_specialty, diagnosis_code; "
   ]
  },
  {
   "cell_type": "code",
   "execution_count": 0,
   "metadata": {
    "application/vnd.databricks.v1+cell": {
     "cellMetadata": {
      "byteLimit": 2048000,
      "implicitDf": true,
      "rowLimit": 10000
     },
     "inputWidgets": {},
     "nuid": "0d60ce34-041d-4153-b479-c37eea268e55",
     "showTitle": false,
     "tableResultSettingsMap": {},
     "title": ""
    }
   },
   "outputs": [],
   "source": [
    "%sql  \n",
    "-- Top 10 high‑cost procedures by avg claim amount  \n",
    "CREATE OR REPLACE TABLE kardia_gold.gold_high_cost_procedures  \n",
    "TBLPROPERTIES (  \n",
    "  'delta.autoOptimize.optimizeWrite' = 'true',  \n",
    "  'delta.autoOptimize.autoCompact'  = 'true'  \n",
    ") AS  \n",
    "SELECT  \n",
    "  procedure_code,  \n",
    "  ROUND(AVG(claim_amount), 2)       AS avg_claim_amount,  \n",
    "  COUNT(*)                AS procedure_count  \n",
    "FROM kardia_silver.silver_claims_enriched  \n",
    "GROUP BY procedure_code  \n",
    "ORDER BY avg_claim_amount DESC  \n",
    "LIMIT 10;  "
   ]
  },
  {
   "cell_type": "code",
   "execution_count": 0,
   "metadata": {
    "application/vnd.databricks.v1+cell": {
     "cellMetadata": {
      "byteLimit": 2048000,
      "implicitDf": true,
      "rowLimit": 10000
     },
     "inputWidgets": {},
     "nuid": "08291219-0432-4d7f-babf-cb898dc622d2",
     "showTitle": false,
     "tableResultSettingsMap": {},
     "title": ""
    }
   },
   "outputs": [],
   "source": [
    "%sql  \n",
    "-- Rapid‑fire patient claim bursts (>5 claims/day)  \n",
    "CREATE OR REPLACE TABLE kardia_gold.gold_rapid_fire_claims  \n",
    "TBLPROPERTIES (  \n",
    "  'delta.autoOptimize.optimizeWrite' = 'true',  \n",
    "  'delta.autoOptimize.autoCompact'  = 'true'  \n",
    ") AS  \n",
    "WITH daily_counts AS (  \n",
    "  SELECT  \n",
    "    patient_id,  \n",
    "    CAST(claim_date AS DATE) AS claim_day,  \n",
    "    COUNT(*)                AS daily_count  \n",
    "  FROM kardia_silver.silver_claims_enriched  \n",
    "  GROUP BY patient_id, CAST(claim_date AS DATE)  \n",
    ")  \n",
    "SELECT  \n",
    "  patient_id,  \n",
    "  claim_day,  \n",
    "  daily_count  \n",
    "FROM daily_counts  \n",
    "WHERE daily_count > 5;  "
   ]
  },
  {
   "cell_type": "code",
   "execution_count": 0,
   "metadata": {
    "application/vnd.databricks.v1+cell": {
     "cellMetadata": {
      "byteLimit": 2048000,
      "implicitDf": true,
      "rowLimit": 10000
     },
     "inputWidgets": {},
     "nuid": "8764d646-2677-4289-9602-988e685785fe",
     "showTitle": false,
     "tableResultSettingsMap": {},
     "title": ""
    }
   },
   "outputs": [],
   "source": [
    "%sql  \n",
    "-- Preview: approval rates by specialty  \n",
    "SELECT *  \n",
    "FROM kardia_gold.gold_claim_approval_by_specialty  \n",
    "ORDER BY approval_rate DESC  \n",
    "LIMIT 10;  "
   ]
  },
  {
   "cell_type": "code",
   "execution_count": 0,
   "metadata": {
    "application/vnd.databricks.v1+cell": {
     "cellMetadata": {
      "byteLimit": 2048000,
      "implicitDf": true,
      "rowLimit": 10000
     },
     "inputWidgets": {},
     "nuid": "88488586-c8fc-499f-8208-e3fc9199c115",
     "showTitle": false,
     "tableResultSettingsMap": {},
     "title": ""
    }
   },
   "outputs": [],
   "source": [
    "%sql  \n",
    "-- Preview: denial breakdown  \n",
    "SELECT *  \n",
    "FROM kardia_gold.gold_claim_denial_breakdown  \n",
    "LIMIT 10;  "
   ]
  },
  {
   "cell_type": "code",
   "execution_count": 0,
   "metadata": {
    "application/vnd.databricks.v1+cell": {
     "cellMetadata": {
      "byteLimit": 2048000,
      "implicitDf": true,
      "rowLimit": 10000
     },
     "inputWidgets": {},
     "nuid": "def99c48-2a20-42c0-a0e3-b026728724b2",
     "showTitle": false,
     "tableResultSettingsMap": {},
     "title": ""
    }
   },
   "outputs": [],
   "source": [
    "%sql  \n",
    "-- Preview: high‑cost procedures  \n",
    "SELECT *  \n",
    "FROM kardia_gold.gold_high_cost_procedures  \n",
    "LIMIT 10;  "
   ]
  },
  {
   "cell_type": "code",
   "execution_count": 0,
   "metadata": {
    "application/vnd.databricks.v1+cell": {
     "cellMetadata": {
      "byteLimit": 2048000,
      "implicitDf": true,
      "rowLimit": 10000
     },
     "inputWidgets": {},
     "nuid": "8d7e3911-b9cb-4548-835d-6884a8441cdb",
     "showTitle": false,
     "tableResultSettingsMap": {},
     "title": ""
    }
   },
   "outputs": [],
   "source": [
    "%sql  \n",
    "-- Preview: rapid‑fire claims  \n",
    "SELECT *  \n",
    "FROM kardia_gold.gold_rapid_fire_claims  \n",
    "LIMIT 10;  "
   ]
  }
 ],
 "metadata": {
  "application/vnd.databricks.v1+notebook": {
   "computePreferences": null,
   "dashboards": [],
   "environmentMetadata": {
    "base_environment": "",
    "environment_version": "2"
   },
   "inputWidgetPreferences": null,
   "language": "python",
   "notebookMetadata": {
    "mostRecentlyExecutedCommandWithImplicitDF": {
     "commandId": 7196175606010578,
     "dataframes": [
      "_sqldf"
     ]
    },
    "pythonIndentUnit": 4
   },
   "notebookName": "03_gold_claim_anomalies",
   "widgets": {}
  },
  "language_info": {
   "name": "python"
  }
 },
 "nbformat": 4,
 "nbformat_minor": 0
}

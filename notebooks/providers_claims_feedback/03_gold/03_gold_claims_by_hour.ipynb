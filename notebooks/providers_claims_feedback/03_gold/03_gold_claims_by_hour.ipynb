{
 "cells": [
  {
   "cell_type": "code",
   "execution_count": 0,
   "metadata": {
    "application/vnd.databricks.v1+cell": {
     "cellMetadata": {
      "byteLimit": 2048000,
      "rowLimit": 10000
     },
     "inputWidgets": {},
     "nuid": "6f3e884d-5f23-4fff-a744-0aa355a43d49",
     "showTitle": false,
     "tableResultSettingsMap": {},
     "title": ""
    }
   },
   "outputs": [],
   "source": [
    "%sql\n",
    "/* 03_gold_claims_by_hour.ipynb\n",
    "GOAL 1: Hourly claim volume and spend (count, sum, avg)\n",
    "GOAL 2: Daily provider spend with 7-day rolling totals (window function demo)\n",
    "GOAL 3: QA view — hourly provider match rate\n",
    "\n",
    "SOURCE: kardia_silver.silver_claims_enriched\n",
    "OUTPUT: TABLE: gold_hourly_claim_metrics\n",
    "        TABLE: gold_provider_7d_spend\n",
    "        VIEW : gold_hourly_match_qc_vw\n",
    "\n",
    "TRIGGER: Full snapshot overwrite each run — fast and simple for small datasets.\n",
    "         Use foreachBatch and MERGE in production to avoid rewriting unchanged data.\n",
    "\n",
    "NOTE: The Gold Claims/Providers tables use Delta Liquid Clustering and Predictive Optimization\n",
    "      to reduce small files and maintain layout efficiency without manual OPTIMIZE or ZORDER. */\n",
    "\n",
    "USE kardia_gold;\n",
    "\n",
    "-- Config\n",
    "SET kflow.claims.hourly.time_col = _ingest_ts;"
   ]
  },
  {
   "cell_type": "code",
   "execution_count": 0,
   "metadata": {
    "application/vnd.databricks.v1+cell": {
     "cellMetadata": {
      "byteLimit": 2048000,
      "implicitDf": true,
      "rowLimit": 10000
     },
     "inputWidgets": {},
     "nuid": "dec8fc62-fd95-423c-a4a9-8b3e0e393b8a",
     "showTitle": false,
     "tableResultSettingsMap": {},
     "title": ""
    }
   },
   "outputs": [],
   "source": [
    "%sql\n",
    "-- 2. Create hourly claim metrics table (CTAS)\n",
    "CREATE OR REPLACE TABLE gold_hourly_claim_metrics AS\n",
    "WITH base AS (\n",
    "  SELECT\n",
    "    DATE_TRUNC('HOUR', ${kflow.claims.hourly.time_col}) AS hour_ts,\n",
    "    claim_amount,\n",
    "    provider_specialty\n",
    "  FROM kardia_silver.silver_claims_enriched\n",
    ")\n",
    "SELECT\n",
    "  hour_ts,\n",
    "  COUNT(*)                              AS claim_cnt,\n",
    "  SUM(claim_amount)                     AS total_amount,\n",
    "  AVG(claim_amount)                     AS avg_amount,\n",
    "  SUM(CASE WHEN provider_specialty IS NULL THEN 1 ELSE 0 END) AS unmatched_cnt\n",
    "FROM base\n",
    "GROUP BY hour_ts;"
   ]
  },
  {
   "cell_type": "code",
   "execution_count": 0,
   "metadata": {
    "application/vnd.databricks.v1+cell": {
     "cellMetadata": {
      "byteLimit": 2048000,
      "implicitDf": true,
      "rowLimit": 10000
     },
     "inputWidgets": {},
     "nuid": "609ed2a3-3737-4e46-bb2d-2151f200e4a7",
     "showTitle": false,
     "tableResultSettingsMap": {},
     "title": ""
    }
   },
   "outputs": [],
   "source": [
    "%sql\n",
    "/* Define a QA view that calculates the hourly provider match rate\n",
    "   by dividing matched claims by total claims from the hourly metrics. */\n",
    "   \n",
    "CREATE OR REPLACE VIEW gold_hourly_match_qc_vw AS\n",
    "SELECT\n",
    "  hour_ts,\n",
    "  claim_cnt,\n",
    "  unmatched_cnt,\n",
    "  ROUND(1 - unmatched_cnt / claim_cnt, 4) AS match_rate\n",
    "FROM gold_hourly_claim_metrics;\n"
   ]
  },
  {
   "cell_type": "code",
   "execution_count": 0,
   "metadata": {
    "application/vnd.databricks.v1+cell": {
     "cellMetadata": {
      "byteLimit": 2048000,
      "implicitDf": true,
      "rowLimit": 10000
     },
     "inputWidgets": {},
     "nuid": "865a1f00-3f63-411c-be70-0b39ae00b001",
     "showTitle": false,
     "tableResultSettingsMap": {},
     "title": ""
    }
   },
   "outputs": [],
   "source": [
    "%sql\n",
    "-- Preview: Top 10 rows from hourly claim metrics\n",
    "SELECT * FROM gold_hourly_claim_metrics\n",
    "ORDER BY hour_ts DESC\n",
    "LIMIT 10;"
   ]
  },
  {
   "cell_type": "code",
   "execution_count": 0,
   "metadata": {
    "application/vnd.databricks.v1+cell": {
     "cellMetadata": {},
     "inputWidgets": {},
     "nuid": "e6027fa4-9b69-4dca-a206-90305bd4d5e0",
     "showTitle": false,
     "tableResultSettingsMap": {},
     "title": ""
    }
   },
   "outputs": [],
   "source": [
    "%sql\n",
    "-- Preview: Top 10 rows from provider 7-day spend\n",
    "SELECT * FROM gold_provider_7d_spend\n",
    "ORDER BY claim_date DESC, provider_id\n",
    "LIMIT 10;"
   ]
  },
  {
   "cell_type": "code",
   "execution_count": 0,
   "metadata": {
    "application/vnd.databricks.v1+cell": {
     "cellMetadata": {},
     "inputWidgets": {},
     "nuid": "075a13eb-e0e9-4348-8857-fa994646de5f",
     "showTitle": false,
     "tableResultSettingsMap": {},
     "title": ""
    }
   },
   "outputs": [],
   "source": [
    "%sql\n",
    "-- Preview: Top 10 rows from hourly provider match QA view\n",
    "SELECT * FROM gold_hourly_match_qc_vw\n",
    "ORDER BY hour_ts DESC\n",
    "LIMIT 10;"
   ]
  }
 ],
 "metadata": {
  "application/vnd.databricks.v1+notebook": {
   "computePreferences": null,
   "dashboards": [],
   "environmentMetadata": {
    "base_environment": "",
    "environment_version": "2"
   },
   "inputWidgetPreferences": null,
   "language": "python",
   "notebookMetadata": {
    "mostRecentlyExecutedCommandWithImplicitDF": {
     "commandId": 4880559092059820,
     "dataframes": [
      "_sqldf"
     ]
    },
    "pythonIndentUnit": 4
   },
   "notebookName": "03_gold_claims_by_hour",
   "widgets": {}
  },
  "language_info": {
   "name": "python"
  }
 },
 "nbformat": 4,
 "nbformat_minor": 0
}

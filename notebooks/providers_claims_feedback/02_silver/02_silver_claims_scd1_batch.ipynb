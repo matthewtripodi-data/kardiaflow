{
 "cells": [
  {
   "cell_type": "code",
   "execution_count": 0,
   "metadata": {
    "application/vnd.databricks.v1+cell": {
     "cellMetadata": {
      "byteLimit": 2048000,
      "rowLimit": 10000
     },
     "inputWidgets": {},
     "nuid": "4cba3fd4-16a4-483d-9624-26750d37f270",
     "showTitle": false,
     "tableResultSettingsMap": {},
     "title": ""
    }
   },
   "outputs": [],
   "source": [
    "# 02_silver_claims_scd1_batch.ipynb\n",
    "# SOURCE: kardia_bronze.bronze_claims (CDF ON)\n",
    "# TARGET: kardia_silver.silver_claims (SCD‑1)\n",
    "# TRIGGER: availableNow (one‑shot incremental batch)\n",
    "\n",
    "from pyspark.sql import functions as F, Window\n",
    "from delta.tables import DeltaTable\n",
    "\n",
    "SILVER_DB = \"kardia_silver\"\n",
    "SILVER_CLAIMS_TBL = \"kardia_silver.silver_claims\"\n",
    "BRONZE_CLAIMS_TBL = \"kardia_bronze.bronze_claims\"\n",
    "CHECKPOINT_PATH = \"dbfs:/kardia/_checkpoints/silver_claims\"\n",
    "\n",
    "# CDF event types we care about: insert and update_postimage only\n",
    "CHANGE_TYPES = (\"insert\", \"update_postimage\")"
   ]
  },
  {
   "cell_type": "code",
   "execution_count": 0,
   "metadata": {
    "application/vnd.databricks.v1+cell": {
     "cellMetadata": {
      "byteLimit": 2048000,
      "rowLimit": 10000
     },
     "inputWidgets": {},
     "nuid": "63cde7ff-e054-4b1f-8f57-b38c2b32abf9",
     "showTitle": false,
     "tableResultSettingsMap": {},
     "title": ""
    }
   },
   "outputs": [],
   "source": [
    "# 1. Ensure Silver DB & target table exist.\n",
    "#    We declare the Silver schema explicitly (add _ingest_ts) so downstream\n",
    "#    code is stable even if Bronze evolves.\n",
    "\n",
    "spark.sql(f\"CREATE DATABASE IF NOT EXISTS {SILVER_DB}\")\n",
    "\n",
    "spark.sql(\n",
    "    \"\"\"\n",
    "    CREATE TABLE IF NOT EXISTS kardia_silver.silver_claims (\n",
    "        claim_id                STRING  NOT NULL,\n",
    "        patient_id              STRING,\n",
    "        provider_id             STRING,\n",
    "        claim_amount            DOUBLE,\n",
    "        claim_date              DATE,\n",
    "        diagnosis_code          STRING,\n",
    "        procedure_code          STRING,\n",
    "        claim_status            STRING,\n",
    "        claim_type              STRING,\n",
    "        claim_submission_method STRING,\n",
    "        _ingest_ts              TIMESTAMP\n",
    "    ) USING DELTA\n",
    "    \"\"\"\n",
    ")"
   ]
  },
  {
   "cell_type": "code",
   "execution_count": 0,
   "metadata": {
    "application/vnd.databricks.v1+cell": {
     "cellMetadata": {
      "byteLimit": 2048000,
      "rowLimit": 10000
     },
     "inputWidgets": {},
     "nuid": "31674ed9-1250-4a8a-886f-741b99e3fb58",
     "showTitle": false,
     "tableResultSettingsMap": {},
     "title": ""
    }
   },
   "outputs": [],
   "source": [
    "# 2. foreachBatch upsert (rename to snake_case and cast types)\n",
    "def upsert_to_silver_claims(batch_df, _):\n",
    "\n",
    "    # Keep only inserts & update_postimage rows from the change feed\n",
    "    filtered = batch_df.filter(F.col(\"_change_type\").isin(*CHANGE_TYPES))\n",
    "\n",
    "    # Rename columns + cast\n",
    "    renamed = (\n",
    "        filtered.select(                      # one rename / cast selector\n",
    "            F.col(\"ClaimID\").alias(\"claim_id\"),\n",
    "            F.col(\"PatientID\").alias(\"patient_id\"),\n",
    "            F.col(\"ProviderID\").alias(\"provider_id\"),\n",
    "            F.col(\"ClaimAmount\").cast(\"double\").alias(\"claim_amount\"),\n",
    "            F.to_date(\"ClaimDate\").alias(\"claim_date\"),\n",
    "            F.col(\"DiagnosisCode\").alias(\"diagnosis_code\"),\n",
    "            F.col(\"ProcedureCode\").alias(\"procedure_code\"),\n",
    "            F.col(\"ClaimStatus\").alias(\"claim_status\"),\n",
    "            F.col(\"ClaimType\").alias(\"claim_type\"),\n",
    "            F.col(\"ClaimSubmissionMethod\").alias(\"claim_submission_method\"),\n",
    "            F.col(\"_ingest_ts\"),\n",
    "            F.col(\"_commit_version\"),\n",
    "            F.col(\"_commit_timestamp\"),\n",
    "            F.col(\"_change_type\")\n",
    "        )\n",
    "    )\n",
    "\n",
    "    # keep latest post‑image per claim_id in this micro‑batch\n",
    "    w_latest = Window.partitionBy(\"claim_id\").orderBy(F.col(\"_commit_version\").desc())\n",
    "\n",
    "    latest = (renamed\n",
    "              .withColumn(\"rn\", F.row_number().over(w_latest))\n",
    "              .filter(\"rn = 1\")\n",
    "              .drop(\"rn\", \"_change_type\", \"_commit_version\", \"_commit_timestamp\"))\n",
    "    \n",
    "    # Merge into Silver\n",
    "    (DeltaTable.forName(spark, SILVER_CLAIMS_TBL)\n",
    "       .alias(\"t\")\n",
    "       .merge(latest.alias(\"s\"), \"t.claim_id = s.claim_id\")\n",
    "       .whenMatchedUpdateAll()\n",
    "       .whenNotMatchedInsertAll()\n",
    "       .execute())"
   ]
  },
  {
   "cell_type": "code",
   "execution_count": 0,
   "metadata": {
    "application/vnd.databricks.v1+cell": {
     "cellMetadata": {
      "byteLimit": 2048000,
      "rowLimit": 10000
     },
     "inputWidgets": {},
     "nuid": "4c8e6def-a545-488d-bf64-c7179ebe80d1",
     "showTitle": false,
     "tableResultSettingsMap": {},
     "title": ""
    }
   },
   "outputs": [],
   "source": [
    "# 3. Run incremental batch stream\n",
    "(spark.readStream\n",
    "       .format(\"delta\")\n",
    "       .option(\"readChangeFeed\", \"true\")\n",
    "       .table(BRONZE_CLAIMS_TBL)\n",
    "       \n",
    "       .writeStream\n",
    "       .foreachBatch(upsert_to_silver_claims)\n",
    "       .option(\"checkpointLocation\", CHECKPOINT_PATH)\n",
    "       .trigger(availableNow=True)\n",
    "       .start()\n",
    "       .awaitTermination())"
   ]
  },
  {
   "metadata": {},
   "cell_type": "code",
   "outputs": [],
   "execution_count": null,
   "source": [
    "# 4. Stream finished – Verify Silver Claims table row count and checkpoint path.\n",
    "\n",
    "silver_df = spark.table(SILVER_CLAIMS_TBL)\n",
    "count = silver_df.count()\n",
    "\n",
    "displayHTML(f\"<div style='color:green; font-weight:bold'>Silver row count: {count}</div>\")\n",
    "displayHTML(f\"<div style='color:gray'>Checkpoint: {CHECKPOINT_PATH}</div>\")\n",
    "display(silver_df.limit(5))"
   ]
  }
 ],
 "metadata": {
  "application/vnd.databricks.v1+notebook": {
   "computePreferences": null,
   "dashboards": [],
   "environmentMetadata": {
    "base_environment": "",
    "environment_version": "2"
   },
   "inputWidgetPreferences": null,
   "language": "python",
   "notebookMetadata": {
    "mostRecentlyExecutedCommandWithImplicitDF": {
     "commandId": 4880559092059772,
     "dataframes": [
      "_sqldf"
     ]
    },
    "pythonIndentUnit": 4
   },
   "notebookName": "02_silver_claims_scd1_batch",
   "widgets": {}
  },
  "language_info": {
   "name": "python"
  }
 },
 "nbformat": 4,
 "nbformat_minor": 0
}

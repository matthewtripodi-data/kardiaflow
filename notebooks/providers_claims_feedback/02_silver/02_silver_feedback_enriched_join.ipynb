{
 "cells": [
  {
   "cell_type": "code",
   "execution_count": 0,
   "metadata": {
    "application/vnd.databricks.v1+cell": {
     "cellMetadata": {},
     "inputWidgets": {},
     "nuid": "3887fb68-b5f3-4a2c-8fd2-b4d2c64165b3",
     "showTitle": false,
     "tableResultSettingsMap": {},
     "title": ""
    }
   },
   "outputs": [],
   "source": [
    "%sql  \n",
    "/* 03_silver_feedback_enriched_join.ipynb\n",
    "\n",
    "SOURCE: Snapshot join of Bronze feedback and current provider attributes.  \n",
    "OUTPUT: kardia_silver.silver_feedback_enriched\n",
    "\n",
    "PATTERN: LEFT JOIN from feedback to SCD‑2 providers, keeping only the current provider row.  \n",
    "TRIGGER: CTAS; rerun after any update to feedback or providers.\n",
    "\n",
    "NOTE:\n",
    "- LEFT JOIN preserves all feedback records  \n",
    "- is_current = true ensures only the current provider info is used\n",
    "*/\n",
    "\n",
    "-- 1. Ensure Silver database exists\n",
    "CREATE DATABASE IF NOT EXISTS kardia_silver;"
   ]
  },
  {
   "cell_type": "code",
   "execution_count": 0,
   "metadata": {
    "application/vnd.databricks.v1+cell": {
     "cellMetadata": {
      "byteLimit": 2048000,
      "implicitDf": true,
      "rowLimit": 10000
     },
     "inputWidgets": {},
     "nuid": "9f73a614-a9eb-4918-aca5-b4cc16681789",
     "showTitle": false,
     "tableResultSettingsMap": {},
     "title": ""
    }
   },
   "outputs": [],
   "source": [
    "%sql\n",
    "-- 2. Join feedback to current provider attributes (no CTE – inline subquery)\n",
    "CREATE OR REPLACE TABLE kardia_silver.silver_feedback_enriched AS\n",
    "WITH current_providers AS (\n",
    "    SELECT\n",
    "      provider_id,\n",
    "      provider_specialty,\n",
    "      provider_location\n",
    "    FROM kardia_silver.silver_providers\n",
    "    WHERE is_current = true\n",
    ")\n",
    "SELECT\n",
    "    f.feedback_id,\n",
    "    f.provider_id,\n",
    "    cp.provider_specialty,\n",
    "    cp.provider_location,\n",
    "    f.timestamp,\n",
    "    f.visit_id,\n",
    "    f.satisfaction_score,\n",
    "    f.comments,\n",
    "    f.source,\n",
    "    f.tags,\n",
    "    f.metadata,\n",
    "    f._ingest_ts,\n",
    "    f._source_file,\n",
    "    f._batch_id\n",
    "FROM kardia_silver.silver_feedback f\n",
    "LEFT JOIN current_providers cp\n",
    "  ON f.provider_id = cp.provider_id;"
   ]
  },
  {
   "metadata": {},
   "cell_type": "code",
   "outputs": [],
   "execution_count": null,
   "source": [
    "--%%\n",
    "-- 3. Preview: Most recent 5 feedback records\n",
    "SELECT *\n",
    "FROM kardia_silver.silver_feedback_enriched\n",
    "ORDER BY timestamp DESC\n",
    "LIMIT 5;"
   ]
  }
 ],
 "metadata": {
  "application/vnd.databricks.v1+notebook": {
   "computePreferences": null,
   "dashboards": [],
   "environmentMetadata": {
    "base_environment": "",
    "environment_version": "2"
   },
   "inputWidgetPreferences": null,
   "language": "python",
   "notebookMetadata": {
    "mostRecentlyExecutedCommandWithImplicitDF": {
     "commandId": 8171698997916641,
     "dataframes": [
      "_sqldf"
     ]
    },
    "pythonIndentUnit": 4
   },
   "notebookName": "02_silver_feedback_enriched_join",
   "widgets": {}
  },
  "language_info": {
   "name": "python"
  }
 },
 "nbformat": 4,
 "nbformat_minor": 0
}

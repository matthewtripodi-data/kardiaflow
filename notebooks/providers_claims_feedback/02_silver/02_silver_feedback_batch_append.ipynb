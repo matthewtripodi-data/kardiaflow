{
 "cells": [
  {
   "cell_type": "code",
   "execution_count": 0,
   "metadata": {
    "application/vnd.databricks.v1+cell": {
     "cellMetadata": {
      "byteLimit": 2048000,
      "rowLimit": 10000
     },
     "inputWidgets": {},
     "nuid": "67a363bd-2c6c-4a78-b3d1-4545843d8ef9",
     "showTitle": false,
     "tableResultSettingsMap": {},
     "title": ""
    }
   },
   "outputs": [],
   "source": [
    "# 02_silver_feedback_batch_append.ipynb\n",
    "# SOURCE: kardia_bronze.bronze_feedback (batch JSONL ingest with audit metadata)\n",
    "# OUTPUT: kardia_silver.silver_feedback (append-only deduplicated)\n",
    "# PATTERN: Batch MERGE to prevent duplicate feedback_id entries\n",
    "# NOTE: Feedback is append-only; users don’t update prior records, so SCD1 isn’t needed.\n",
    "\n",
    "from pyspark.sql import functions as F\n",
    "from delta.tables import DeltaTable\n",
    "\n",
    "SILVER_DB             = \"kardia_silver\"\n",
    "BRONZE_FEEDBACK_TBL   = \"kardia_bronze.bronze_feedback\"\n",
    "SILVER_FEEDBACK_TBL   = f\"{SILVER_DB}.silver_feedback\""
   ]
  },
  {
   "cell_type": "code",
   "execution_count": 0,
   "metadata": {
    "application/vnd.databricks.v1+cell": {
     "cellMetadata": {
      "byteLimit": 2048000,
      "rowLimit": 10000
     },
     "inputWidgets": {},
     "nuid": "b6d756b0-011c-4939-b16c-13f5bf831d55",
     "showTitle": false,
     "tableResultSettingsMap": {},
     "title": ""
    }
   },
   "outputs": [],
   "source": [
    "# 1. Ensure Silver database and table exist\n",
    "spark.sql(f\"CREATE DATABASE IF NOT EXISTS {SILVER_DB}\")\n",
    "\n",
    "spark.sql(f\"\"\"\n",
    "CREATE TABLE IF NOT EXISTS {SILVER_FEEDBACK_TBL} (\n",
    "  feedback_id        STRING  NOT NULL,\n",
    "  provider_id        STRING,\n",
    "  timestamp          TIMESTAMP,\n",
    "  visit_id           STRING,\n",
    "  satisfaction_score INT,\n",
    "  comments           STRING,\n",
    "  source             STRING,\n",
    "  tags               ARRAY<STRING>,\n",
    "  metadata           MAP<STRING,STRING>,\n",
    "  _ingest_ts         TIMESTAMP,\n",
    "  _source_file       STRING,\n",
    "  _batch_id          STRING\n",
    ") USING DELTA\n",
    "\"\"\")"
   ]
  },
  {
   "cell_type": "code",
   "execution_count": 0,
   "metadata": {
    "application/vnd.databricks.v1+cell": {
     "cellMetadata": {
      "byteLimit": 2048000,
      "rowLimit": 10000
     },
     "inputWidgets": {},
     "nuid": "f21887b4-9439-46c6-bb01-81eb494af005",
     "showTitle": false,
     "tableResultSettingsMap": {},
     "title": ""
    }
   },
   "outputs": [],
   "source": [
    "# 2. Load Bronze feedback records and prepare for Silver\n",
    "bronze_df = spark.table(BRONZE_FEEDBACK_TBL)\n",
    "\n",
    "silver_src = (\n",
    "  bronze_df\n",
    "    # parse ISO timestamp into proper TIMESTAMP type\n",
    "    .withColumn(\"timestamp\", F.to_timestamp(\"timestamp\"))\n",
    "    # select only the columns needed in Silver\n",
    "    .select(\n",
    "      \"feedback_id\",\n",
    "      \"provider_id\",\n",
    "      \"timestamp\",\n",
    "      \"visit_id\",\n",
    "      \"satisfaction_score\",\n",
    "      \"comments\",\n",
    "      \"source\",\n",
    "      \"tags\",\n",
    "      \"metadata\",\n",
    "      \"_ingest_ts\",\n",
    "      \"_source_file\",\n",
    "      \"_batch_id\"\n",
    "    )\n",
    ")"
   ]
  },
  {
   "cell_type": "code",
   "execution_count": 0,
   "metadata": {
    "application/vnd.databricks.v1+cell": {
     "cellMetadata": {
      "byteLimit": 2048000,
      "rowLimit": 10000
     },
     "inputWidgets": {},
     "nuid": "34535a61-fe5d-4291-80cb-d190de993263",
     "showTitle": false,
     "tableResultSettingsMap": {},
     "title": ""
    }
   },
   "outputs": [],
   "source": [
    "# 3. Merge Bronze into Silver to append new feedback only\n",
    "delta_tbl = DeltaTable.forName(spark, SILVER_FEEDBACK_TBL)\n",
    "\n",
    "(delta_tbl.alias(\"t\")\n",
    "  .merge(\n",
    "    silver_src.alias(\"s\"),\n",
    "    \"t.feedback_id = s.feedback_id\"\n",
    "  )\n",
    "  # insert only if not already present\n",
    "  .whenNotMatchedInsertAll()\n",
    "  .execute()\n",
    ")"
   ]
  },
  {
   "cell_type": "code",
   "execution_count": 0,
   "metadata": {
    "application/vnd.databricks.v1+cell": {
     "cellMetadata": {
      "byteLimit": 2048000,
      "rowLimit": 10000
     },
     "inputWidgets": {},
     "nuid": "d346df86-4858-46a2-9bb1-18ec025a444f",
     "showTitle": false,
     "tableResultSettingsMap": {},
     "title": ""
    }
   },
   "outputs": [],
   "source": [
    "# 4. Validation: print resulting Silver row count\n",
    "silver_count = spark.table(SILVER_FEEDBACK_TBL).count()\n",
    "print(f\"Silver feedback record count: {silver_count}\")"
   ]
  }
 ],
 "metadata": {
  "application/vnd.databricks.v1+notebook": {
   "computePreferences": null,
   "dashboards": [],
   "environmentMetadata": {
    "base_environment": "",
    "environment_version": "2"
   },
   "inputWidgetPreferences": null,
   "language": "python",
   "notebookMetadata": {
    "pythonIndentUnit": 4
   },
   "notebookName": "02_silver_feedback_batch_append",
   "widgets": {}
  },
  "language_info": {
   "name": "python"
  }
 },
 "nbformat": 4,
 "nbformat_minor": 0
}
